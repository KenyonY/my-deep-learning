{
 "cells": [
  {
   "cell_type": "code",
   "execution_count": 2,
   "metadata": {},
   "outputs": [],
   "source": [
    "import numpy as np\n",
    "def loadfile(fileName,delimiter):\n",
    "    '''载入文件，转换为矩阵（数组）'''\n",
    "    outlist = []\n",
    "    with open(fileName) as fr:\n",
    "        for line in fr.readlines():\n",
    "            s = line.strip().split(delimiter) # 以delimiter为分隔标志\n",
    "            outlist.append(list(map(float,s)))# list(map(func,iter))才能读取到map()内存的数\n",
    "    return np.array(outlist)\n",
    "\n",
    "# path = r'C:\\Users\\beidongjiedeguang\\Documents\\machinelearninginaction\\Ch10'\n",
    "path = '/run/media/kunyuan/30DC8CBBDC8C7D3A/Documents and Settings/beidongjiedeguang/My Documents/machinelearninginaction/Ch10'\n",
    "fileName = path +'/testSet2.txt'\n",
    "data = loadfile(fileName,'\\t')"
   ]
  },
  {
   "cell_type": "code",
   "execution_count": 5,
   "metadata": {},
   "outputs": [
    {
     "data": {
      "image/png": "[encoded data removed]",
      "text/plain": [
       "<Figure size 432x288 with 1 Axes>"
      ]
     },
     "metadata": {
      "needs_background": "light"
     },
     "output_type": "display_data"
    }
   ],
   "source": [
    "import matplotlib.pyplot as plt\n",
    "from sklearn.cluster import k_means \n",
    "from sklearn.neighbors import KNeighborsClassifier as knn\n",
    "k = 3\n",
    "res= k_means(data,k)\n",
    "res\n",
    "center = res[0]\n",
    "subcenter = res[1]\n",
    "subcenter\n",
    "#---------------------------------\n",
    "plt.figure()\n",
    "for cent in range(k):\n",
    "    plt.scatter(data[np.nonzero(subcenter==cent)[0],0],data[np.nonzero(subcenter==cent)[0],1])\n",
    "    plt.scatter(center[:,0][cent],center[:,1][cent],linewidths=5)\n",
    "plt.show()"
   ]
  },
  {
   "cell_type": "code",
   "execution_count": 6,
   "metadata": {},
   "outputs": [
    {
     "data": {
      "text/plain": [
       "KNeighborsClassifier(algorithm='auto', leaf_size=30, metric='minkowski',\n",
       "           metric_params=None, n_jobs=None, n_neighbors=5, p=2,\n",
       "           weights='uniform')"
      ]
     },
     "execution_count": 6,
     "metadata": {},
     "output_type": "execute_result"
    }
   ],
   "source": [
    "model = knn(n_neighbors=5)\n",
    "model.fit(data,subcenter)"
   ]
  },
  {
   "cell_type": "code",
   "execution_count": 9,
   "metadata": {},
   "outputs": [
    {
     "data": {
      "image/png": "[encoded data removed]",
      "text/plain": [
       "<Figure size 432x288 with 1 Axes>"
      ]
     },
     "metadata": {
      "needs_background": "light"
     },
     "output_type": "display_data"
    }
   ],
   "source": [
    "point = np.array([[1,0.5]])\n",
    "predict = model.predict(point)\n",
    "# ----------------------------------\n",
    "for cent in range(k):\n",
    "    plt.scatter(data[np.nonzero(subcenter==cent)[0],0],data[np.nonzero(subcenter==cent)[0],1])\n",
    "    plt.scatter(center[:,0][cent],center[:,1][cent],linewidths=5)\n",
    "    plt.text(center[:,0][cent],center[:,1][cent],'{}'.format(cent),fontsize=25)\n",
    "\n",
    "plt.scatter(point[0][0],point[0][1],linewidths=6)\n",
    "plt.text(point[0][0],point[0][1],'predict:{}'.format(predict),fontsize=16)\n",
    "plt.show()"
   ]
  },
  {
   "cell_type": "code",
   "execution_count": null,
   "metadata": {},
   "outputs": [],
   "source": []
  }
 ],
 "metadata": {
  "kernelspec": {
   "display_name": "Python 3",
   "language": "python",
   "name": "python3"
  },
  "language_info": {
   "codemirror_mode": {
    "name": "ipython",
    "version": 3
   },
   "file_extension": ".py",
   "mimetype": "text/x-python",
   "name": "python",
   "nbconvert_exporter": "python",
   "pygments_lexer": "ipython3",
   "version": "3.7.3"
  },
  "latex_envs": {
   "LaTeX_envs_menu_present": true,
   "autoclose": false,
   "autocomplete": true,
   "bibliofile": "biblio.bib",
   "cite_by": "apalike",
   "current_citInitial": 1,
   "eqLabelWithNumbers": true,
   "eqNumInitial": 1,
   "hotkeys": {
    "equation": "Ctrl-E",
    "itemize": "Ctrl-I"
   },
   "labels_anchors": false,
   "latex_user_defs": false,
   "report_style_numbering": false,
   "user_envs_cfg": false
  },
  "toc": {
   "base_numbering": 1,
   "nav_menu": {},
   "number_sections": true,
   "sideBar": true,
   "skip_h1_title": false,
   "title_cell": "Table of Contents",
   "title_sidebar": "Contents",
   "toc_cell": false,
   "toc_position": {},
   "toc_section_display": true,
   "toc_window_display": false
  },
  "varInspector": {
   "cols": {
    "lenName": 16,
    "lenType": 16,
    "lenVar": 40
   },
   "kernels_config": {
    "python": {
     "delete_cmd_postfix": "",
     "delete_cmd_prefix": "del ",
     "library": "var_list.py",
     "varRefreshCmd": "print(var_dic_list())"
    },
    "r": {
     "delete_cmd_postfix": ") ",
     "delete_cmd_prefix": "rm(",
     "library": "var_list.r",
     "varRefreshCmd": "cat(var_dic_list()) "
    }
   },
   "types_to_exclude": [
    "module",
    "function",
    "builtin_function_or_method",
    "instance",
    "_Feature"
   ],
   "window_display": false
  }
 },
 "nbformat": 4,
 "nbformat_minor": 2
}
