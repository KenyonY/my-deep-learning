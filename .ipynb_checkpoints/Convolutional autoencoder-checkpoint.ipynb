{
 "cells": [
  {
   "cell_type": "code",
   "execution_count": 1,
   "metadata": {},
   "outputs": [
    {
     "name": "stdout",
     "output_type": "stream",
     "text": [
      "(60000, 28, 28, 1)\n",
      "(10000, 28, 28, 1)\n"
     ]
    }
   ],
   "source": [
    "# tensorflow2.0\n",
    "import tensorflow as tf\n",
    "from tensorflow.keras import Input,Model\n",
    "from tensorflow.keras import layers\n",
    "from tensorflow.keras.layers import Flatten,Dense,Dropout,Conv2D,MaxPooling2D, UpSampling2D\n",
    "from tensorflow.keras.datasets import mnist\n",
    "from tensorflow.keras import regularizers\n",
    "(x_train, _), (x_test, _) = mnist.load_data()\n",
    "\n",
    "x_train = x_train.astype('float32') / 255.\n",
    "x_test = x_test.astype('float32') / 255.\n",
    "x_train = np.reshape(x_train, (len(x_train), 28, 28, 1))  # adapt this if using `channels_first` image data format\n",
    "x_test = np.reshape(x_test, (len(x_test), 28, 28, 1))  # adapt this if using `channels_first` image data format\n",
    "\n",
    "print( x_train.shape)\n",
    "print( x_test.shape)"
   ]
  },
  {
   "cell_type": "code",
   "execution_count": 2,
   "metadata": {},
   "outputs": [],
   "source": [
    "input_img = Input(shape=(28, 28, 1))  # adapt this if using `channels_first` image data format\n",
    "\n",
    "x = Conv2D(16, (3, 3), activation='relu', padding='same')(input_img)\n",
    "x = MaxPooling2D((2, 2), padding='same')(x)\n",
    "x = Conv2D(8, (3, 3), activation='relu', padding='same')(x)\n",
    "x = MaxPooling2D((2, 2), padding='same')(x)\n",
    "x = Conv2D(8, (3, 3), activation='relu', padding='same')(x)\n",
    "encoded = MaxPooling2D((2, 2), padding='same')(x)\n",
    "\n",
    "# at this point the representation is (4, 4, 8) i.e. 128-dimensional\n",
    "\n",
    "x = Conv2D(8, (3, 3), activation='relu', padding='same')(encoded)\n",
    "x = UpSampling2D((2, 2))(x)\n",
    "x = Conv2D(8, (3, 3), activation='relu', padding='same')(x)\n",
    "x = UpSampling2D((2, 2))(x)\n",
    "x = Conv2D(16, (3, 3), activation='relu')(x)\n",
    "x = UpSampling2D((2, 2))(x)\n",
    "decoded = Conv2D(1, (3, 3), activation='sigmoid', padding='same')(x)\n",
    "\n",
    "autoencoder = Model(input_img, decoded)\n",
    "autoencoder.compile(optimizer='adadelta', loss='binary_crossentropy')"
   ]
  },
  {
   "cell_type": "code",
   "execution_count": 3,
   "metadata": {},
   "outputs": [],
   "source": [
    "# !tensorboard --logdir=/tmp/autoencoder"
   ]
  },
  {
   "cell_type": "code",
   "execution_count": 5,
   "metadata": {},
   "outputs": [
    {
     "name": "stdout",
     "output_type": "stream",
     "text": [
      "Train on 60000 samples, validate on 10000 samples\n",
      "Epoch 1/50\n",
      "60000/60000 [==============================] - 11s 186us/sample - loss: 0.6904 - val_loss: 0.6892\n",
      "Epoch 2/50\n",
      "60000/60000 [==============================] - 5s 86us/sample - loss: 0.6876 - val_loss: 0.6858\n",
      "Epoch 3/50\n",
      "60000/60000 [==============================] - 5s 86us/sample - loss: 0.6831 - val_loss: 0.6802\n",
      "Epoch 4/50\n",
      "60000/60000 [==============================] - 5s 83us/sample - loss: 0.6753 - val_loss: 0.6696\n",
      "Epoch 5/50\n",
      "60000/60000 [==============================] - 5s 83us/sample - loss: 0.6592 - val_loss: 0.6462\n",
      "Epoch 6/50\n",
      "60000/60000 [==============================] - 5s 84us/sample - loss: 0.6197 - val_loss: 0.5847\n",
      "Epoch 7/50\n",
      "60000/60000 [==============================] - 5s 84us/sample - loss: 0.5376 - val_loss: 0.5069\n",
      "Epoch 8/50\n",
      "60000/60000 [==============================] - 5s 83us/sample - loss: 0.4968 - val_loss: 0.4960\n",
      "Epoch 9/50\n",
      "60000/60000 [==============================] - 5s 85us/sample - loss: 0.4902 - val_loss: 0.4912\n",
      "Epoch 10/50\n",
      "60000/60000 [==============================] - 5s 84us/sample - loss: 0.4857 - val_loss: 0.4870\n",
      "Epoch 11/50\n",
      "60000/60000 [==============================] - 5s 84us/sample - loss: 0.4818 - val_loss: 0.4833\n",
      "Epoch 12/50\n",
      "60000/60000 [==============================] - 5s 84us/sample - loss: 0.4781 - val_loss: 0.4797\n",
      "Epoch 13/50\n",
      "60000/60000 [==============================] - 5s 88us/sample - loss: 0.4746 - val_loss: 0.4762\n",
      "Epoch 14/50\n",
      "60000/60000 [==============================] - 5s 84us/sample - loss: 0.4710 - val_loss: 0.4726\n",
      "Epoch 15/50\n",
      "60000/60000 [==============================] - 5s 83us/sample - loss: 0.4676 - val_loss: 0.4692\n",
      "Epoch 16/50\n",
      "60000/60000 [==============================] - 5s 83us/sample - loss: 0.4642 - val_loss: 0.4658\n",
      "Epoch 17/50\n",
      "60000/60000 [==============================] - 5s 87us/sample - loss: 0.4608 - val_loss: 0.4624\n",
      "Epoch 18/50\n",
      "60000/60000 [==============================] - 5s 84us/sample - loss: 0.4573 - val_loss: 0.4588\n",
      "Epoch 19/50\n",
      "60000/60000 [==============================] - 5s 83us/sample - loss: 0.4537 - val_loss: 0.4551\n",
      "Epoch 20/50\n",
      "60000/60000 [==============================] - 5s 85us/sample - loss: 0.4499 - val_loss: 0.4513\n",
      "Epoch 21/50\n",
      "60000/60000 [==============================] - 5s 85us/sample - loss: 0.4460 - val_loss: 0.4473\n",
      "Epoch 22/50\n",
      "60000/60000 [==============================] - 5s 83us/sample - loss: 0.4420 - val_loss: 0.4431\n",
      "Epoch 23/50\n",
      "60000/60000 [==============================] - 5s 82us/sample - loss: 0.4377 - val_loss: 0.4388\n",
      "Epoch 24/50\n",
      "60000/60000 [==============================] - 5s 84us/sample - loss: 0.4332 - val_loss: 0.4341\n",
      "Epoch 25/50\n",
      "60000/60000 [==============================] - 5s 84us/sample - loss: 0.4285 - val_loss: 0.4291\n",
      "Epoch 26/50\n",
      "60000/60000 [==============================] - 5s 83us/sample - loss: 0.4233 - val_loss: 0.4236\n",
      "Epoch 27/50\n",
      "60000/60000 [==============================] - 5s 84us/sample - loss: 0.4175 - val_loss: 0.4173\n",
      "Epoch 28/50\n",
      "60000/60000 [==============================] - 5s 83us/sample - loss: 0.4108 - val_loss: 0.4099\n",
      "Epoch 29/50\n",
      "60000/60000 [==============================] - 5s 83us/sample - loss: 0.4027 - val_loss: 0.4007\n",
      "Epoch 30/50\n",
      "60000/60000 [==============================] - 5s 83us/sample - loss: 0.3924 - val_loss: 0.3889\n",
      "Epoch 31/50\n",
      "60000/60000 [==============================] - 5s 85us/sample - loss: 0.3791 - val_loss: 0.3733\n",
      "Epoch 32/50\n",
      "60000/60000 [==============================] - 5s 83us/sample - loss: 0.3624 - val_loss: 0.3562\n",
      "Epoch 33/50\n",
      "60000/60000 [==============================] - 5s 83us/sample - loss: 0.3473 - val_loss: 0.3429\n",
      "Epoch 34/50\n",
      "60000/60000 [==============================] - 5s 83us/sample - loss: 0.3353 - val_loss: 0.3317\n",
      "Epoch 35/50\n",
      "60000/60000 [==============================] - 5s 83us/sample - loss: 0.3247 - val_loss: 0.3216\n",
      "Epoch 36/50\n",
      "60000/60000 [==============================] - 5s 83us/sample - loss: 0.3150 - val_loss: 0.3121\n",
      "Epoch 37/50\n",
      "60000/60000 [==============================] - 5s 83us/sample - loss: 0.3059 - val_loss: 0.3029\n",
      "Epoch 38/50\n",
      "60000/60000 [==============================] - 5s 83us/sample - loss: 0.2970 - val_loss: 0.2941\n",
      "Epoch 39/50\n",
      "60000/60000 [==============================] - 5s 83us/sample - loss: 0.2887 - val_loss: 0.2859\n",
      "Epoch 40/50\n",
      "60000/60000 [==============================] - 5s 83us/sample - loss: 0.2810 - val_loss: 0.2784\n",
      "Epoch 41/50\n",
      "60000/60000 [==============================] - 5s 83us/sample - loss: 0.2742 - val_loss: 0.2720\n",
      "Epoch 42/50\n",
      "60000/60000 [==============================] - 5s 83us/sample - loss: 0.2685 - val_loss: 0.2668\n",
      "Epoch 43/50\n",
      "60000/60000 [==============================] - 5s 83us/sample - loss: 0.2640 - val_loss: 0.2626\n",
      "Epoch 44/50\n",
      "60000/60000 [==============================] - 5s 83us/sample - loss: 0.2604 - val_loss: 0.2593\n",
      "Epoch 45/50\n",
      "60000/60000 [==============================] - 5s 83us/sample - loss: 0.2573 - val_loss: 0.2563\n",
      "Epoch 46/50\n",
      "60000/60000 [==============================] - 5s 83us/sample - loss: 0.2546 - val_loss: 0.2536\n",
      "Epoch 47/50\n",
      "60000/60000 [==============================] - 5s 83us/sample - loss: 0.2520 - val_loss: 0.2510\n",
      "Epoch 48/50\n",
      "60000/60000 [==============================] - 5s 83us/sample - loss: 0.2496 - val_loss: 0.2485\n",
      "Epoch 49/50\n",
      "60000/60000 [==============================] - 5s 84us/sample - loss: 0.2472 - val_loss: 0.2462\n",
      "Epoch 50/50\n",
      "60000/60000 [==============================] - 5s 83us/sample - loss: 0.2451 - val_loss: 0.2441\n"
     ]
    },
    {
     "data": {
      "text/plain": [
       "<tensorflow.python.keras.callbacks.History at 0x1b5aa8c5bc8>"
      ]
     },
     "execution_count": 5,
     "metadata": {},
     "output_type": "execute_result"
    }
   ],
   "source": [
    "\n",
    "# from tensorflow.keras.callbacks import TensorBoard\n",
    "\n",
    "autoencoder.fit(x_train, x_train,\n",
    "                epochs=10,\n",
    "                batch_size=128,\n",
    "                shuffle=True,\n",
    "                validation_data=(x_test, x_test),\n",
    "#                 callbacks=[TensorBoard(log_dir='/tmp/autoencoder')]\n",
    "               )"
   ]
  },
  {
   "cell_type": "code",
   "execution_count": null,
   "metadata": {},
   "outputs": [],
   "source": []
  }
 ],
 "metadata": {
  "kernelspec": {
   "display_name": "Python [conda env:tf2]",
   "language": "python",
   "name": "conda-env-tf2-py"
  },
  "language_info": {
   "codemirror_mode": {
    "name": "ipython",
    "version": 3
   },
   "file_extension": ".py",
   "mimetype": "text/x-python",
   "name": "python",
   "nbconvert_exporter": "python",
   "pygments_lexer": "ipython3",
   "version": "3.7.4"
  }
 },
 "nbformat": 4,
 "nbformat_minor": 4
}
