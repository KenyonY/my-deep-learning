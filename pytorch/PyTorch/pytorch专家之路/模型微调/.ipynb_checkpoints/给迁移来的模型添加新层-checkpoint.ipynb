{
 "cells": [
  {
   "cell_type": "markdown",
   "metadata": {},
   "source": [
    "迁移学习模型添加新层\n",
    "通常在迁移学习中，都是直接将最后一层的全连接层大小换成自己数据集类的大小，  \n",
    "然后finetune，在这次比赛中，我发现这样的精度并不能提升到最大，因此，采用迁移的base模型来叠加MLP的获取更高的精度，如何在base模型之后，叠加MLP？代码如下：\n"
   ]
  },
  {
   "cell_type": "code",
   "execution_count": null,
   "metadata": {},
   "outputs": [],
   "source": [
    "\n",
    "class model_bn(nn.Module):\n",
    "    def __init__(self, model, feature_size):\n",
    "\n",
    "        super(model_bn, self).__init__() \n",
    "        self.features = nn.Sequential(*list(model.children())[:-1])\n",
    "        self.num_ftrs = model.fc.in_features\n",
    "        self.classifier = nn.Sequential(\n",
    "            nn.BatchNorm1d(self.num_ftrs),\n",
    "            nn.Dropout(0.5),\n",
    "            nn.Linear(self.num_ftrs, feature_size),\n",
    "            nn.BatchNorm1d(feature_size),\n",
    "            nn.ELU(inplace=True),\n",
    "            nn.Dropout(0.5),\n",
    "            nn.Linear(feature_size, classes_num),\n",
    "        )\n",
    "    def forward(self, x):\n",
    "        x = self.features(x)\n",
    "        x = x.view(x.size(0), -1)\n",
    "        x = self.classifier(x)\n",
    "        return x"
   ]
  },
  {
   "cell_type": "markdown",
   "metadata": {},
   "source": [
    "在上述代码中，self.features = nn.Sequential(*list(model.children())[:-1]) 直接将全base模型中的最后一层全连接层去除，*是解包的操作，将list类型以元组的方式传递给nn.Sequential对象，之后添加dropout和bn层来获取更高的精度，这里还要注意view函数相当于numpy中的reshape函数，在这里的作用就是keras中的Flatten层，将输出从二维压成一维，在这过程中发现，貌似pytorch没有直接的全局池化层，需要自己定义操作，可以通过以下方式来进行：\n"
   ]
  },
  {
   "cell_type": "code",
   "execution_count": null,
   "metadata": {},
   "outputs": [],
   "source": [
    "import torch.nn.functional as F\n",
    "output = F.average_pool2d(input, kernel_size=input.size()[2:])\n"
   ]
  }
 ],
 "metadata": {
  "kernelspec": {
   "display_name": "Python 3",
   "language": "python",
   "name": "python3"
  },
  "language_info": {
   "codemirror_mode": {
    "name": "ipython",
    "version": 3
   },
   "file_extension": ".py",
   "mimetype": "text/x-python",
   "name": "python",
   "nbconvert_exporter": "python",
   "pygments_lexer": "ipython3",
   "version": "3.6.8"
  },
  "latex_envs": {
   "LaTeX_envs_menu_present": true,
   "autoclose": false,
   "autocomplete": true,
   "bibliofile": "biblio.bib",
   "cite_by": "apalike",
   "current_citInitial": 1,
   "eqLabelWithNumbers": true,
   "eqNumInitial": 1,
   "hotkeys": {
    "equation": "Ctrl-E",
    "itemize": "Ctrl-I"
   },
   "labels_anchors": false,
   "latex_user_defs": false,
   "report_style_numbering": false,
   "user_envs_cfg": false
  },
  "toc": {
   "base_numbering": 1,
   "nav_menu": {},
   "number_sections": true,
   "sideBar": true,
   "skip_h1_title": false,
   "title_cell": "Table of Contents",
   "title_sidebar": "Contents",
   "toc_cell": false,
   "toc_position": {},
   "toc_section_display": true,
   "toc_window_display": false
  },
  "varInspector": {
   "cols": {
    "lenName": 16,
    "lenType": 16,
    "lenVar": 40
   },
   "kernels_config": {
    "python": {
     "delete_cmd_postfix": "",
     "delete_cmd_prefix": "del ",
     "library": "var_list.py",
     "varRefreshCmd": "print(var_dic_list())"
    },
    "r": {
     "delete_cmd_postfix": ") ",
     "delete_cmd_prefix": "rm(",
     "library": "var_list.r",
     "varRefreshCmd": "cat(var_dic_list()) "
    }
   },
   "types_to_exclude": [
    "module",
    "function",
    "builtin_function_or_method",
    "instance",
    "_Feature"
   ],
   "window_display": false
  }
 },
 "nbformat": 4,
 "nbformat_minor": 2
}
