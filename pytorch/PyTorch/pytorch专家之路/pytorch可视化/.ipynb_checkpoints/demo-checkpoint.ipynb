{
 "cells": [
  {
   "cell_type": "code",
   "execution_count": 1,
   "metadata": {},
   "outputs": [
    {
     "name": "stdout",
     "output_type": "stream",
     "text": [
      "1.1.0\n"
     ]
    },
    {
     "ename": "ImportError",
     "evalue": "TensorBoard logging requires TensorBoard with Python summary writer installed. This should be available in 1.14 or above.",
     "output_type": "error",
     "traceback": [
      "\u001b[1;31m---------------------------------------------------------------------------\u001b[0m",
      "\u001b[1;31mModuleNotFoundError\u001b[0m                       Traceback (most recent call last)",
      "\u001b[1;32mc:\\python3\\lib\\site-packages\\torch\\utils\\tensorboard\\__init__.py\u001b[0m in \u001b[0;36m<module>\u001b[1;34m\u001b[0m\n\u001b[0;32m      1\u001b[0m \u001b[1;32mtry\u001b[0m\u001b[1;33m:\u001b[0m\u001b[1;33m\u001b[0m\u001b[1;33m\u001b[0m\u001b[0m\n\u001b[1;32m----> 2\u001b[1;33m     \u001b[1;32mfrom\u001b[0m \u001b[0mtensorboard\u001b[0m\u001b[1;33m.\u001b[0m\u001b[0msummary\u001b[0m\u001b[1;33m.\u001b[0m\u001b[0mwriter\u001b[0m\u001b[1;33m.\u001b[0m\u001b[0mrecord_writer\u001b[0m \u001b[1;32mimport\u001b[0m \u001b[0mRecordWriter\u001b[0m  \u001b[1;31m# noqa F401\u001b[0m\u001b[1;33m\u001b[0m\u001b[1;33m\u001b[0m\u001b[0m\n\u001b[0m\u001b[0;32m      3\u001b[0m \u001b[1;32mexcept\u001b[0m \u001b[0mImportError\u001b[0m\u001b[1;33m:\u001b[0m\u001b[1;33m\u001b[0m\u001b[1;33m\u001b[0m\u001b[0m\n",
      "\u001b[1;31mModuleNotFoundError\u001b[0m: No module named 'tensorboard.summary.writer'",
      "\nDuring handling of the above exception, another exception occurred:\n",
      "\u001b[1;31mImportError\u001b[0m                               Traceback (most recent call last)",
      "\u001b[1;32m<ipython-input-1-ff63fbebdd7e>\u001b[0m in \u001b[0;36m<module>\u001b[1;34m\u001b[0m\n\u001b[0;32m      7\u001b[0m \u001b[1;32mfrom\u001b[0m \u001b[0mtorchvision\u001b[0m \u001b[1;32mimport\u001b[0m \u001b[0mdatasets\u001b[0m\u001b[1;33m\u001b[0m\u001b[1;33m\u001b[0m\u001b[0m\n\u001b[0;32m      8\u001b[0m \u001b[1;31m# from tensorboardX import SummaryWriter\u001b[0m\u001b[1;33m\u001b[0m\u001b[1;33m\u001b[0m\u001b[1;33m\u001b[0m\u001b[0m\n\u001b[1;32m----> 9\u001b[1;33m \u001b[1;32mfrom\u001b[0m \u001b[0mtorch\u001b[0m\u001b[1;33m.\u001b[0m\u001b[0mutils\u001b[0m\u001b[1;33m.\u001b[0m\u001b[0mtensorboard\u001b[0m \u001b[1;32mimport\u001b[0m \u001b[0mSummaryWriter\u001b[0m\u001b[1;33m\u001b[0m\u001b[1;33m\u001b[0m\u001b[0m\n\u001b[0m",
      "\u001b[1;32mc:\\python3\\lib\\site-packages\\torch\\utils\\tensorboard\\__init__.py\u001b[0m in \u001b[0;36m<module>\u001b[1;34m\u001b[0m\n\u001b[0;32m      2\u001b[0m     \u001b[1;32mfrom\u001b[0m \u001b[0mtensorboard\u001b[0m\u001b[1;33m.\u001b[0m\u001b[0msummary\u001b[0m\u001b[1;33m.\u001b[0m\u001b[0mwriter\u001b[0m\u001b[1;33m.\u001b[0m\u001b[0mrecord_writer\u001b[0m \u001b[1;32mimport\u001b[0m \u001b[0mRecordWriter\u001b[0m  \u001b[1;31m# noqa F401\u001b[0m\u001b[1;33m\u001b[0m\u001b[1;33m\u001b[0m\u001b[0m\n\u001b[0;32m      3\u001b[0m \u001b[1;32mexcept\u001b[0m \u001b[0mImportError\u001b[0m\u001b[1;33m:\u001b[0m\u001b[1;33m\u001b[0m\u001b[1;33m\u001b[0m\u001b[0m\n\u001b[1;32m----> 4\u001b[1;33m     raise ImportError('TensorBoard logging requires TensorBoard with Python summary writer installed. '\n\u001b[0m\u001b[0;32m      5\u001b[0m                       'This should be available in 1.14 or above.')\n\u001b[0;32m      6\u001b[0m \u001b[1;32mfrom\u001b[0m \u001b[1;33m.\u001b[0m\u001b[0mwriter\u001b[0m \u001b[1;32mimport\u001b[0m \u001b[0mFileWriter\u001b[0m\u001b[1;33m,\u001b[0m \u001b[0mSummaryWriter\u001b[0m  \u001b[1;31m# noqa F401\u001b[0m\u001b[1;33m\u001b[0m\u001b[1;33m\u001b[0m\u001b[0m\n",
      "\u001b[1;31mImportError\u001b[0m: TensorBoard logging requires TensorBoard with Python summary writer installed. This should be available in 1.14 or above."
     ]
    }
   ],
   "source": [
    "# coding: utf-8\n",
    "import torch\n",
    "print(torch.__version__)\n",
    "import torchvision.utils as vutils\n",
    "import numpy as np\n",
    "import torchvision.models as models\n",
    "from torchvision import datasets\n",
    "# from tensorboardX import SummaryWriter\n",
    "from torch.utils.tensorboard import SummaryWriter"
   ]
  },
  {
   "cell_type": "markdown",
   "metadata": {},
   "source": [
    "`tensorboard --logdir runs` 即可启动，默认的端口是 6006,在浏览器中打开 http://localhost:6006/ 即可看到web页面。"
   ]
  },
  {
   "cell_type": "code",
   "execution_count": 4,
   "metadata": {},
   "outputs": [
    {
     "name": "stdout",
     "output_type": "stream",
     "text": [
      "C:\\Users\\beidongjiedeguang\\Documents\\a_download\\PyTorch_Tutorial-master\\Code\\4_viewer\n"
     ]
    }
   ],
   "source": [
    "!cd"
   ]
  },
  {
   "cell_type": "code",
   "execution_count": 2,
   "metadata": {},
   "outputs": [],
   "source": [
    "resnet18 = models.resnet18(False)\n",
    "writer = SummaryWriter('./runs')\n",
    "sample_rate = 44100\n",
    "freqs = [262, 294, 330, 349, 392, 440, 440, 440, 440, 440, 440]"
   ]
  },
  {
   "cell_type": "code",
   "execution_count": 4,
   "metadata": {},
   "outputs": [],
   "source": [
    "true_positive_counts = [75, 64, 21, 5, 0]\n",
    "false_positive_counts = [150, 105, 18, 0, 0]\n",
    "true_negative_counts = [0, 45, 132, 150, 150]\n",
    "false_negative_counts = [0, 11, 54, 70, 75]\n",
    "precision = [0.3333333, 0.3786982, 0.5384616, 1.0, 0.0]\n",
    "recall = [1.0, 0.8533334, 0.28, 0.0666667, 0.0]\n",
    "\n",
    "\n",
    "for n_iter in range(100):\n",
    "    s1 = torch.rand(1)  # value to keep\n",
    "    s2 = torch.rand(1)\n",
    "    # data grouping by `slash`\n",
    "    writer.add_scalar('data/scalar_systemtime', s1[0], n_iter)\n",
    "    # data grouping by `slash`\n",
    "    writer.add_scalar('data/scalar_customtime', s1[0], n_iter, walltime=n_iter)\n",
    "    writer.add_scalars('data/scalar_group', {\"xsinx\": n_iter * np.sin(n_iter),\n",
    "                                             \"xcosx\": n_iter * np.cos(n_iter),\n",
    "                                             \"arctanx\": np.arctan(n_iter)}, n_iter)\n",
    "    \n",
    "    x = torch.rand(32, 3, 64, 64)  # output from network\n",
    "    if n_iter % 10 == 0:\n",
    "        x = vutils.make_grid(x, normalize=True, scale_each=True)\n",
    "        writer.add_image('Image', x, n_iter)  # Tensor\n",
    "        # writer.add_image('astronaut', skimage.data.astronaut(), n_iter) # numpy\n",
    "        # writer.add_image('imread',\n",
    "        # skimage.io.imread('screenshots/audio.png'), n_iter) # numpy\n",
    "        x = torch.zeros(sample_rate * 2)\n",
    "        for i in range(x.size(0)):\n",
    "            # sound amplitude should in [-1, 1]\n",
    "            x[i] = np.cos(freqs[n_iter // 10] * np.pi *\n",
    "                          float(i) / float(sample_rate))\n",
    "        writer.add_audio('myAudio', x, n_iter)\n",
    "        writer.add_text('Text', 'text logged at step:' + str(n_iter), n_iter)\n",
    "        writer.add_text('markdown Text', '''a|b\\n-|-\\nc|d''', n_iter)\n",
    "        for name, param in resnet18.named_parameters():\n",
    "            if 'bn' not in name:\n",
    "                writer.add_histogram(name, param, n_iter)\n",
    "        writer.add_pr_curve('xoxo', np.random.randint(2, size=100), np.random.rand(\n",
    "            100), n_iter)  # needs tensorboard 0.4RC or later\n",
    "        writer.add_pr_curve_raw('prcurve with raw data', true_positive_counts,\n",
    "                                false_positive_counts,\n",
    "                                true_negative_counts,\n",
    "                                false_negative_counts,\n",
    "                                precision,\n",
    "                                recall, n_iter)\n",
    "        writer.close()\n"
   ]
  },
  {
   "cell_type": "code",
   "execution_count": 6,
   "metadata": {},
   "outputs": [
    {
     "name": "stdout",
     "output_type": "stream",
     "text": [
      "warning: Embedding dir exists, did you set global_step for add_embedding()?\n",
      "warning: Embedding dir exists, did you set global_step for add_embedding()?\n",
      "warning: Embedding dir exists, did you set global_step for add_embedding()?\n",
      "MoviePy - Building file C:\\Users\\Public\\Documents\\Wondershare\\CreatorTemp\\tmpq7kdksep.gif with imageio.\n"
     ]
    },
    {
     "name": "stderr",
     "output_type": "stream",
     "text": [
      "                                                                                                                                     \r"
     ]
    },
    {
     "name": "stdout",
     "output_type": "stream",
     "text": [
      "MoviePy - Building file C:\\Users\\Public\\Documents\\Wondershare\\CreatorTemp\\tmpusqio6xu.gif with imageio.\n"
     ]
    },
    {
     "name": "stderr",
     "output_type": "stream",
     "text": [
      "                                                                                                                                     \r"
     ]
    }
   ],
   "source": [
    "# export scalar data to JSON for external processing\n",
    "# writer.export_scalars_to_json(\"./all_scalars.json\")\n",
    "\n",
    "dataset = datasets.MNIST('../../Data/mnist', train=False, download=True)\n",
    "images = dataset.test_data[:100].float()\n",
    "label = dataset.test_labels[:100]\n",
    "features = images.view(100, 784)\n",
    "\n",
    "writer.add_embedding(features, metadata=label, label_img=images.unsqueeze(1))\n",
    "writer.add_embedding(features, global_step=1, tag='noMetadata')\n",
    "dataset = datasets.MNIST('../../Data/mnist', train=True, download=True)\n",
    "images_train = dataset.data[:100].float()\n",
    "labels_train = dataset.targets[:100]\n",
    "features_train = images_train.view(100, 784)\n",
    "\n",
    "all_features = torch.cat((features, features_train))\n",
    "all_labels = torch.cat((label, labels_train))\n",
    "all_images = torch.cat((images, images_train))\n",
    "dataset_label = ['test'] * 100 + ['train'] * 100\n",
    "all_labels = list(zip(all_labels, dataset_label))\n",
    "\n",
    "writer.add_embedding(all_features, metadata=all_labels, label_img=all_images.unsqueeze(1),\n",
    "                     metadata_header=['digit', 'dataset'], global_step=2)\n",
    "\n",
    "# VIDEO\n",
    "vid_images = dataset.data[:16 * 48]\n",
    "vid = vid_images.view(16, 1, 48, 28, 28)  # B C T H W\n",
    "\n",
    "writer.add_video('video', vid_tensor=vid)\n",
    "writer.add_video('video_1_fps', vid_tensor=vid, fps=1)\n",
    "\n",
    "writer.close()"
   ]
  },
  {
   "cell_type": "code",
   "execution_count": null,
   "metadata": {},
   "outputs": [],
   "source": []
  }
 ],
 "metadata": {
  "kernelspec": {
   "display_name": "Python 3",
   "language": "python",
   "name": "python3"
  },
  "latex_envs": {
   "LaTeX_envs_menu_present": true,
   "autoclose": false,
   "autocomplete": true,
   "bibliofile": "biblio.bib",
   "cite_by": "apalike",
   "current_citInitial": 1,
   "eqLabelWithNumbers": true,
   "eqNumInitial": 1,
   "hotkeys": {
    "equation": "Ctrl-E",
    "itemize": "Ctrl-I"
   },
   "labels_anchors": false,
   "latex_user_defs": false,
   "report_style_numbering": false,
   "user_envs_cfg": false
  },
  "toc": {
   "base_numbering": 1,
   "nav_menu": {},
   "number_sections": true,
   "sideBar": true,
   "skip_h1_title": false,
   "title_cell": "Table of Contents",
   "title_sidebar": "Contents",
   "toc_cell": false,
   "toc_position": {},
   "toc_section_display": true,
   "toc_window_display": false
  },
  "varInspector": {
   "cols": {
    "lenName": 16,
    "lenType": 16,
    "lenVar": 40
   },
   "kernels_config": {
    "python": {
     "delete_cmd_postfix": "",
     "delete_cmd_prefix": "del ",
     "library": "var_list.py",
     "varRefreshCmd": "print(var_dic_list())"
    },
    "r": {
     "delete_cmd_postfix": ") ",
     "delete_cmd_prefix": "rm(",
     "library": "var_list.r",
     "varRefreshCmd": "cat(var_dic_list()) "
    }
   },
   "types_to_exclude": [
    "module",
    "function",
    "builtin_function_or_method",
    "instance",
    "_Feature"
   ],
   "window_display": false
  }
 },
 "nbformat": 4,
 "nbformat_minor": 2
}
