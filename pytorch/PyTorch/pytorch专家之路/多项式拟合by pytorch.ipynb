{
 "cells": [
  {
   "cell_type": "code",
   "execution_count": 1,
   "metadata": {},
   "outputs": [],
   "source": [
    "import torch\n",
    "import numpy as np\n",
    "import torch.nn as nn\n",
    "import torch.utils.data as Data\n",
    "import matplotlib.pyplot as plt\n",
    "import time"
   ]
  },
  {
   "cell_type": "markdown",
   "metadata": {},
   "source": [
    "数据的形状：$$x=\\left( \\begin{array}{c}{x_{0}} \\\\ {x_{1}} \\\\ {\\vdots} \\\\ {x_{m}}\\end{array}\\right)$$\n",
    "\n",
    "拼接完成后数据的形状：$$X=\\left( \\begin{array}{ccc}{x_{0}} & {x_{0}^{2}} & \\cdots & {x_{0}^{n}} \\\\ {x_{1}} & {x_{1}^{2}} & \\cdots & {x_{1}^{n}} \\\\ {\\vdots} & {\\vdots} & {\\ddots} & {\\vdots}\\\\ {x_{m}} & {x_{m}^{2}} &\\cdots & {x_{m}^{n}}\\end{array}\\right)$$"
   ]
  },
  {
   "cell_type": "code",
   "execution_count": 3,
   "metadata": {},
   "outputs": [
    {
     "name": "stdout",
     "output_type": "stream",
     "text": [
      "torch.Size([3000])\n"
     ]
    },
    {
     "data": {
      "text/plain": [
       "tensor([[  1.0000],\n",
       "        [  1.0330],\n",
       "        [  1.0660],\n",
       "        ...,\n",
       "        [ 99.9340],\n",
       "        [ 99.9670],\n",
       "        [100.0000]])"
      ]
     },
     "execution_count": 3,
     "metadata": {},
     "output_type": "execute_result"
    },
    {
     "name": "stdout",
     "output_type": "stream",
     "text": [
      "torch.Size([3000, 1])\n"
     ]
    },
    {
     "data": {
      "text/plain": [
       "[<matplotlib.lines.Line2D at 0x224b849b438>]"
      ]
     },
     "execution_count": 3,
     "metadata": {},
     "output_type": "execute_result"
    },
    {
     "data": {
      "image/png": "[encoded data removed]",
      "text/plain": [
       "<Figure size 432x288 with 1 Axes>"
      ]
     },
     "metadata": {
      "needs_background": "light"
     },
     "output_type": "display_data"
    }
   ],
   "source": [
    "m = 3000 # m:数据个数,i.e. batch size   \n",
    "\n",
    "BATCH_SIZE = 100 # 每一批有多少个数据\n",
    "x = torch.linspace(1,100,m)\n",
    "print(x.shape)\n",
    "x.unsqueeze_(1)\n",
    "print(x.shape)\n",
    "randomdata = torch.randn(m,1)*0.01\n",
    "##############################################################\n",
    "y = 10+ 0.5*x + 0.2*x**2 + 0.1* x**3 #+ randomdata\n",
    "n = 4 #n：多项式系数个数\n",
    "##############################################################\n",
    "plt.plot(np.array(x),np.array(y))\n",
    "\n",
    "def make_features(x,n):\n",
    "#     x.unsqueeze_(0)# 所谓解压缩，就是阔维，添加将现有的数据放入到指定的新维度上去\n",
    "    print(x.shape) \n",
    "\n",
    "    # 这里我们以m所在的维度进行拼接：\n",
    "    X= torch.cat([x**i for i in range(1,n)],1) # 实现tensor的拼接\n",
    "    print(X.shape)\n",
    "    return X"
   ]
  },
  {
   "cell_type": "markdown",
   "metadata": {},
   "source": [
    "Feature engineering!!! 这必不可少，尤其是针对梯度下降算法  \n",
    "Normalization "
   ]
  },
  {
   "cell_type": "markdown",
   "metadata": {},
   "source": [
    "由公式\n",
    "  $$ \\theta_0 x_0^{(i)}+ \\theta_1 x_1^{(i)} + ... +\\theta_n x_n^{(i)} = y^{(i)}\\\\\\\\\n",
    "\\Rightarrow \\theta_0 + \\theta_1 x_1^{(i)} + ... +\\theta_n x_n^{(i)} = y^{(i)} \\\\\\\\\n",
    "\\Rightarrow\\theta_0 + \\theta_1( x_{1min}^{(i)}+ x_1^{(i)}-x_{1min}^{(i)})+ ... +\\theta_n( x_{nmin}^{(i)}+ x_n^{(i)}-x_{nmin}^{(i)})\n",
    "= y^{(i)}\\\\\\\\\n",
    "\\Rightarrow\\theta_0 +\\theta_1( x_{1min}^{(i)}) + ... + \\theta_n( x_{nmin}^{(i)})+\n",
    "\\theta_1 S_1 \\frac{( x_1^{(i)}-x_{1min}^{(i)})}{S_1}+ ... +\\theta_n S_n \\frac{( x_n^{(i)}-x_{nmin}^{(i)})}{S_n} = \n",
    "y^{(i)}\\\\\\\\\n",
    "\\left(\n",
    "  \\begin{matrix}\n",
    "    Original    &  Normalized\\\\\n",
    "   \\theta_0 &  \\theta_0 +\\theta_1( x_{1min}^{(i)}) + ... + \\theta_n( x_{nmin}^{(i)})\\\\\n",
    "   \\theta_j &  \\theta_j S_j\\\\\n",
    "       x_j&  \\frac{( x_j^{(i)}-x_{jmin}^{(i)})}{S_j}\n",
    "   \\end{matrix} \n",
    "  \\right)\\\\\\\\\n",
    "where \\qquad\n",
    "S_j = {Multiple}  \\\\\n",
    "\\qquad  x_{jmin} \\Leftrightarrow x_{jmean}, Multiple\\Leftrightarrow \\sigma\n",
    "$$\n"
   ]
  },
  {
   "cell_type": "code",
   "execution_count": 4,
   "metadata": {},
   "outputs": [
    {
     "name": "stdout",
     "output_type": "stream",
     "text": [
      "torch.Size([3000, 1])\n",
      "torch.Size([3000, 3])\n",
      "tensor([  10.9033,  118.8820, 1296.2061])\n",
      "tensor([2.8593e+01, 2.9790e+03, 2.8396e+05])\n",
      "tensor([5.0500e+01, 3.3675e+03, 2.5261e+05])\n",
      "tensor([1.6169, 2.0106, 2.2979])\n"
     ]
    }
   ],
   "source": [
    "X = make_features(x,n)\n",
    "\n",
    "print(X[300,:])\n",
    "print(X.std(0))\n",
    "print(X.mean(0))\n",
    "X_Normalized=torch.zeros(X.size())\n",
    "for _ in range(X.size(0)):\n",
    "    X_Normalized[_,:]=(X[_,:]-X.mean(0))/X.std(0) # 由公式11可知，这样变换之后，得到的权重theta 相应可以通过 theta_j/S_j\n",
    "                                        # theta_0 = theta_0 + sum(theta[i] * x_mean(i)) 变换回来\n",
    "\n",
    "print(X_Normalized[2900,:])"
   ]
  },
  {
   "cell_type": "code",
   "execution_count": 6,
   "metadata": {},
   "outputs": [
    {
     "name": "stdout",
     "output_type": "stream",
     "text": [
      "torch.Size([3000, 3]) torch.Size([3000, 1])\n"
     ]
    }
   ],
   "source": [
    "print(X_Normalized.shape,y.shape)\n",
    "dataset = Data.TensorDataset(X_Normalized,y)\n",
    "# 定义需要加载进去的模式\n",
    "loader = Data.DataLoader(dataset= dataset, batch_size= BATCH_SIZE, shuffle = True)"
   ]
  },
  {
   "cell_type": "code",
   "execution_count": 36,
   "metadata": {},
   "outputs": [
    {
     "data": {
      "text/plain": [
       "<torch.utils.data.dataloader._DataLoaderIter at 0x1be14ec79b0>"
      ]
     },
     "execution_count": 36,
     "metadata": {},
     "output_type": "execute_result"
    }
   ],
   "source": [
    "iter(loader)\n",
    "# bx,by=next(iter(loader))\n",
    "# (bx,by)\n",
    "# 每次调用loader时都将会产生不同的batch_x与batch_y\n",
    "# for step,(batch_x,batch_y) in enumerate(loader):    \n",
    "#     print(step,batch_x.shape,batch_y.shape,batch_x[1,:])"
   ]
  },
  {
   "cell_type": "code",
   "execution_count": 54,
   "metadata": {},
   "outputs": [
    {
     "name": "stdout",
     "output_type": "stream",
     "text": [
      "tensor([-2.7508, -2.7497, -2.7485, -2.7473, -2.7461, -2.7450, -2.7438, -2.7426,\n",
      "        -2.7414, -2.7402], grad_fn=<SelectBackward>)\n"
     ]
    }
   ],
   "source": [
    "\n",
    "w = torch.ones(n-1,1, requires_grad=True) # w的行应该等于X的列，这样才能保证矩阵相乘\n",
    "b = torch.ones(1,1, requires_grad=True)\n",
    "data_x = loader.dataset.tensors[0]\n",
    "data_y = loader.dataset.tensors[1]\n",
    "def y_pred(x):\n",
    "    '''predict function'''\n",
    "    return x.mm(w)+b\n",
    "\n",
    "print(y_pred(data_x)[:10,0])       "
   ]
  },
  {
   "cell_type": "markdown",
   "metadata": {},
   "source": [
    "关于pytorch梯度累加  \n",
    "https://www.zhihu.com/question/303070254  \n",
    "但它上面提的计算方式的效率似乎没有下面我这个好！"
   ]
  },
  {
   "cell_type": "code",
   "execution_count": 97,
   "metadata": {
    "scrolled": true
   },
   "outputs": [
    {
     "name": "stdout",
     "output_type": "stream",
     "text": [
      "0 0.07349200546741486\n",
      "10 0.057223930954933167\n",
      "20 0.06393042951822281\n",
      "30 0.0629267692565918\n",
      "40 0.057625286281108856\n",
      "tensor([[0.4916],\n",
      "        [0.2002],\n",
      "        [0.1000]], grad_fn=<DivBackward0>)\n",
      "tensor([[10.0762]], grad_fn=<SubBackward0>)\n",
      "time pass1.4736008644104004 s\n"
     ]
    }
   ],
   "source": [
    "learning_rate = 1e-4\n",
    "time0= time.time()\n",
    "for t in range(50):\n",
    "    \n",
    "#     (b_x,b_y)=next(iter(loader))\n",
    "    for (b_x,b_y) in loader:\n",
    "        # forword prop\n",
    "        y_pred = b_x.mm(w)+ b\n",
    "\n",
    "        # loss function\n",
    "        loss = (y_pred - b_y).pow(2).sum()\n",
    "\n",
    "        # 利用autograd去计算loss函数的反向传播中所有梯度\n",
    "        loss.backward()\n",
    "\n",
    "        # 更新权重\n",
    "        # 这里选择利用梯度下降手动更新权重，当然也可以使用torch.optim.SGD进行梯度下降\n",
    "        with torch.no_grad():\n",
    "            w -= learning_rate * w.grad #因为前面的.backward,所以这里w1.grad直接获取到w1的梯度\n",
    "            b -= learning_rate * b.grad\n",
    "\n",
    "    w.grad.zero_()# 手动将梯度归零,否则梯度会累积\n",
    "    b.grad.zero_()\n",
    "\n",
    "    if t % 10 == 0:\n",
    "        print(t, loss.item())\n",
    "\n",
    "        \n",
    "# 应用公式11 变换回来\n",
    "W = w/(X.std(0).unsqueeze(1))\n",
    "print(W)\n",
    "B = b-W.t().mm(X.mean(0).unsqueeze(1))\n",
    "print(B)\n",
    "print('time pass{} s'.format(time.time()-time0))"
   ]
  },
  {
   "cell_type": "markdown",
   "metadata": {},
   "source": [
    "对比下面的方式，这里发现一个比较奇怪的现象，上面使用DataLoader进行对数据批处理似乎非常耗时，不知是不是这个模块对并行运算比较快。  \n",
    "注意： 虽然上面用批处理的loss的值比下面的要小，这不意味着它的精度要更高，只是因为  \n",
    "它是一个批次的MSE\n"
   ]
  },
  {
   "cell_type": "code",
   "execution_count": 57,
   "metadata": {},
   "outputs": [],
   "source": [
    "w = torch.randn(n-1,1, requires_grad=True)\n",
    "b = torch.randn(1,1, requires_grad=True)\n",
    "data_x = loader.dataset.tensors[0]\n",
    "data_y = loader.dataset.tensors[1]"
   ]
  },
  {
   "cell_type": "code",
   "execution_count": 88,
   "metadata": {
    "scrolled": true
   },
   "outputs": [
    {
     "name": "stdout",
     "output_type": "stream",
     "text": [
      "0 1.867429494857788\n",
      "100 1.867429494857788\n",
      "200 1.867429494857788\n",
      "300 1.867429494857788\n",
      "400 1.867429494857788\n",
      "500 1.867429494857788\n",
      "600 1.867429494857788\n",
      "700 1.867429494857788\n",
      "800 1.867429494857788\n",
      "多项式为: 10.076+ 0.492 x^1 + 0.200 x^2 + 0.100 x^3\n",
      "time pass0.271728515625 s\n"
     ]
    }
   ],
   "source": [
    "learning_rate = 1e-4\n",
    "time0 = time.time()\n",
    "for t in range(801):    \n",
    "    # forword prop\n",
    "    y_pred = data_x.mm(w)+b\n",
    "\n",
    "    # loss function\n",
    "    loss = (y_pred - data_y).pow(2).sum()\n",
    "    \n",
    "    # 利用autograd去计算loss函数的反向传播中所有梯度\n",
    "    loss.backward()\n",
    "\n",
    "    # 更新权重\n",
    "    # 这里选择利用梯度下降手动更新权重，当然也可以使用torch.optim.SGD进行梯度下降\n",
    "    with torch.no_grad():\n",
    "        w -= learning_rate * w.grad #因为前面的.backward,所以这里w1.grad直接获取到w1的梯度\n",
    "        b -= learning_rate * b.grad\n",
    "        w.grad.zero_()\n",
    "        b.grad.zero_()\n",
    "    if t % 100 == 0:\n",
    "        print(t, loss.item())\n",
    "\n",
    "        \n",
    "# 应用公式11 变换回来\n",
    "W = w/(X.std(0).unsqueeze(1))\n",
    "B = b-W.t().mm(X.mean(0).unsqueeze(1))\n",
    "\n",
    "print_poly = '{:.3f}+ '.format(B[0].item())+' + '.join(['{:.3f} x^{}'.format(W[i].item(),i+1) for i in range(len(W))])\n",
    "print('多项式为: {}'.format(print_poly))\n",
    "print('time pass{} s'.format(time.time()-time0))"
   ]
  },
  {
   "cell_type": "markdown",
   "metadata": {},
   "source": [
    "### 使用pytorch的模块"
   ]
  },
  {
   "cell_type": "code",
   "execution_count": 122,
   "metadata": {},
   "outputs": [
    {
     "name": "stdout",
     "output_type": "stream",
     "text": [
      "Net(\n",
      "  (predict): Linear(in_features=3, out_features=1, bias=True)\n",
      ")\n"
     ]
    }
   ],
   "source": [
    "# 定义模型\n",
    "class Net(nn.Module):\n",
    "    def __init__(self,n):\n",
    "        super(Net,self).__init__()\n",
    "        self.predict = nn.Linear(n-1,1)\n",
    "        \n",
    "    def forward(self,x):\n",
    "        out = self.predict(x)\n",
    "        return out\n",
    "\n",
    "poly = Net(n)\n",
    "criterion = nn.MSELoss()\n",
    "optimizer = torch.optim.SGD(poly.parameters(),lr=1e-3)\n",
    "print(poly)\n"
   ]
  },
  {
   "cell_type": "code",
   "execution_count": 123,
   "metadata": {},
   "outputs": [
    {
     "name": "stdout",
     "output_type": "stream",
     "text": [
      "1567423360.0\n"
     ]
    },
    {
     "data": {
      "image/png": "[encoded data removed]",
      "text/plain": [
       "<Figure size 432x288 with 1 Axes>"
      ]
     },
     "metadata": {
      "needs_background": "light"
     },
     "output_type": "display_data"
    },
    {
     "name": "stdout",
     "output_type": "stream",
     "text": [
      "1673180544.0\n"
     ]
    },
    {
     "data": {
      "image/png": "[encoded data removed]",
      "text/plain": [
       "<Figure size 432x288 with 1 Axes>"
      ]
     },
     "metadata": {
      "needs_background": "light"
     },
     "output_type": "display_data"
    },
    {
     "name": "stdout",
     "output_type": "stream",
     "text": [
      "torch.Size([3, 1]) torch.Size([1, 1])\n",
      "多项式为: -81.387+ 1.028 x^1 + 0.010 x^2 + 0.000 x^3\n"
     ]
    }
   ],
   "source": [
    "epochs = 1000\n",
    "while epochs:\n",
    "    \n",
    "    for step,(batch_x,batch_y) in enumerate(loader):\n",
    "        pred_y = poly(batch_x)\n",
    "        loss = criterion(pred_y,batch_y)\n",
    "        \n",
    "        print_loss = loss.item()\n",
    "        optimizer.zero_grad()\n",
    "        loss.backward()\n",
    "        optimizer.step()\n",
    "    \n",
    "    if epochs % 500 ==0:\n",
    "        plt.scatter(batch_x[:,0].data.numpy(),pred_y[:,0].data.numpy())\n",
    "        print(loss.item())\n",
    "        plt.pause(0.2)\n",
    "        plt.close()\n",
    "\n",
    "    epochs -= 1\n",
    "    if print_loss < 1e-2:\n",
    "        break\n",
    "\n",
    "   \n",
    "count =0 \n",
    "for i in poly.parameters():\n",
    "    if count ==0:\n",
    "        w = i.data\n",
    "        count += 1\n",
    "    else:\n",
    "        b = i.data\n",
    "\n",
    "\n",
    "w=w.view(n-1,1)\n",
    "b=b.view(1,1)\n",
    "print(w.shape,b.shape)\n",
    "# 应用公式11 变换回来\n",
    "W = w/(X.std(0).unsqueeze(1))\n",
    "B = b-W.t().mm(X.mean(0).unsqueeze(1))\n",
    "\n",
    "print_poly = '{:.3f}+ '.format(B[0].item())+' + '.join(['{:.3f} x^{}'.format(W[i].item(),i+1) for i in range(len(W))])\n",
    "print('多项式为: {}'.format(print_poly))"
   ]
  },
  {
   "cell_type": "code",
   "execution_count": 102,
   "metadata": {},
   "outputs": [
    {
     "data": {
      "text/plain": [
       "tensor([[1.2932e+02, 1.4058e+02, 1.4364e+02],\n",
       "        [1.2413e+00, 1.3493e+00, 1.3786e+00],\n",
       "        [1.3022e-02, 1.4155e-02, 1.4463e-02]])"
      ]
     },
     "execution_count": 102,
     "metadata": {},
     "output_type": "execute_result"
    }
   ],
   "source": [
    "\n"
   ]
  }
 ],
 "metadata": {
  "kernel_info": {
   "name": "python3"
  },
  "kernelspec": {
   "display_name": "Python 3",
   "language": "python",
   "name": "python3"
  },
  "language_info": {
   "codemirror_mode": {
    "name": "ipython",
    "version": 3
   },
   "file_extension": ".py",
   "mimetype": "text/x-python",
   "name": "python",
   "nbconvert_exporter": "python",
   "pygments_lexer": "ipython3",
   "version": "3.7.3"
  },
  "latex_envs": {
   "LaTeX_envs_menu_present": true,
   "autoclose": false,
   "autocomplete": true,
   "bibliofile": "biblio.bib",
   "cite_by": "apalike",
   "current_citInitial": 1,
   "eqLabelWithNumbers": true,
   "eqNumInitial": 1,
   "hotkeys": {
    "equation": "Ctrl-E",
    "itemize": "Ctrl-I"
   },
   "labels_anchors": false,
   "latex_user_defs": false,
   "report_style_numbering": false,
   "user_envs_cfg": false
  },
  "nteract": {
   "version": "0.14.2"
  },
  "toc": {
   "base_numbering": 1,
   "nav_menu": {
    "height": "60px",
    "width": "160px"
   },
   "number_sections": true,
   "sideBar": true,
   "skip_h1_title": false,
   "title_cell": "Table of Contents",
   "title_sidebar": "Contents",
   "toc_cell": false,
   "toc_position": {},
   "toc_section_display": true,
   "toc_window_display": false
  },
  "varInspector": {
   "cols": {
    "lenName": 16,
    "lenType": 16,
    "lenVar": 40
   },
   "kernels_config": {
    "python": {
     "delete_cmd_postfix": "",
     "delete_cmd_prefix": "del ",
     "library": "var_list.py",
     "varRefreshCmd": "print(var_dic_list())"
    },
    "r": {
     "delete_cmd_postfix": ") ",
     "delete_cmd_prefix": "rm(",
     "library": "var_list.r",
     "varRefreshCmd": "cat(var_dic_list()) "
    }
   },
   "types_to_exclude": [
    "module",
    "function",
    "builtin_function_or_method",
    "instance",
    "_Feature"
   ],
   "window_display": false
  }
 },
 "nbformat": 4,
 "nbformat_minor": 2
}
