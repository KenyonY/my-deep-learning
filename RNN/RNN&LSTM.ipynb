{
 "cells": [
  {
   "cell_type": "markdown",
   "metadata": {},
   "source": [
    "# 数据导入："
   ]
  },
  {
   "cell_type": "code",
   "execution_count": 68,
   "metadata": {
    "collapsed": true,
    "jupyter": {
     "outputs_hidden": true
    }
   },
   "outputs": [
    {
     "name": "stdout",
     "output_type": "stream",
     "text": [
      "neg\n",
      "neg\n",
      "neg\n",
      "neg\n",
      "neg\n",
      "neg\n",
      "neg\n",
      "neg\n",
      "neg\n",
      "neg\n",
      "neg\n",
      "neg\n",
      "neg\n",
      "neg\n",
      "neg\n",
      "neg\n",
      "neg\n",
      "neg\n",
      "neg\n",
      "neg\n",
      "neg\n",
      "neg\n",
      "neg\n",
      "neg\n",
      "neg\n",
      "neg\n",
      "neg\n",
      "neg\n",
      "neg\n",
      "neg\n",
      "neg\n",
      "neg\n",
      "neg\n",
      "neg\n",
      "neg\n",
      "neg\n",
      "neg\n",
      "neg\n",
      "neg\n",
      "neg\n",
      "neg\n",
      "neg\n",
      "neg\n",
      "neg\n",
      "neg\n",
      "neg\n",
      "neg\n",
      "neg\n",
      "neg\n",
      "neg\n",
      "neg\n",
      "neg\n",
      "neg\n",
      "neg\n",
      "neg\n",
      "neg\n",
      "neg\n",
      "neg\n",
      "neg\n",
      "neg\n",
      "neg\n",
      "neg\n",
      "neg\n",
      "neg\n",
      "neg\n",
      "neg\n",
      "neg\n",
      "neg\n",
      "neg\n",
      "neg\n",
      "neg\n",
      "neg\n",
      "neg\n",
      "neg\n",
      "neg\n",
      "neg\n",
      "neg\n",
      "neg\n",
      "neg\n",
      "neg\n",
      "neg\n",
      "neg\n",
      "neg\n",
      "neg\n",
      "neg\n",
      "neg\n",
      "neg\n",
      "neg\n",
      "neg\n",
      "neg\n",
      "neg\n",
      "neg\n",
      "neg\n",
      "neg\n",
      "neg\n",
      "neg\n",
      "neg\n",
      "neg\n",
      "neg\n",
      "neg\n",
      "neg\n",
      "neg\n",
      "neg\n",
      "neg\n",
      "neg\n",
      "neg\n",
      "neg\n",
      "neg\n",
      "neg\n",
      "neg\n",
      "neg\n",
      "neg\n",
      "neg\n",
      "neg\n",
      "neg\n",
      "neg\n",
      "neg\n",
      "neg\n",
      "neg\n",
      "neg\n",
      "neg\n",
      "neg\n",
      "neg\n",
      "neg\n",
      "neg\n"
     ]
    }
   ],
   "source": [
    "import os\n",
    "imdb_dir = 'data\\\\aclImdb'\n",
    "train_dir = os.path.join(imdb_dir, 'train')\n",
    "labels = []\n",
    "texts = []\n",
    "\n",
    "for label_type in ['neg', 'pos']:\n",
    "    dir_name=os.path.join(train_dir, label_type)\n",
    "    \n",
    "    count =0 \n",
    "    for fname in os.listdir(dir_name):\n",
    "        if fname[-4:] == '.txt':\n",
    "            with open(os.path.join(dir_name, fname), encoding='utf-8') as f:\n",
    "                texts.append(f.read())\n",
    "\n",
    "            count += 1\n",
    "            if label_type == 'neg':\n",
    "                if count %100 == 0:\n",
    "                    print('neg')\n",
    "                labels.append(0)\n",
    "            else:\n",
    "                labels.append(1)"
   ]
  },
  {
   "cell_type": "code",
   "execution_count": 69,
   "metadata": {},
   "outputs": [],
   "source": [
    "from keras.preprocessing.text import Tokenizer\n",
    "from keras.preprocessing.sequence import pad_sequences\n",
    "import numpy as np\n",
    "maxlen = 200\n",
    "max_words = 9000\n",
    "\n",
    "tokenizer = Tokenizer(num_words=max_words)\n",
    "tokenizer.fit_on_texts(texts)\n",
    "\n",
    "sequences = tokenizer.texts_to_sequences(texts)\n",
    "word_index = tokenizer.word_index\n",
    "\n",
    "data = pad_sequences(sequences, maxlen=maxlen)\n",
    "labels = np.asarray(labels) # label是正负评论，正是1，负是0\n",
    "\n",
    "indices = np.arange(data.shape[0])\n",
    "np.random.shuffle(indices)\n",
    "data = data[indices]\n",
    "labels = labels[indices]"
   ]
  },
  {
   "cell_type": "code",
   "execution_count": 70,
   "metadata": {},
   "outputs": [],
   "source": [
    "training_samples = 10000\n",
    "validation_samples = 2000\n",
    "\n",
    "x_train = data[:training_samples] \n",
    "y_train = labels[:training_samples]\n",
    "x_val = data[training_samples: training_samples + validation_samples]\n",
    "y_val = labels[training_samples: training_samples + validation_samples]"
   ]
  },
  {
   "cell_type": "markdown",
   "metadata": {},
   "source": [
    "[Keras中文文档](https://keras-cn.readthedocs.io/en/latest/preprocessing/text/)"
   ]
  },
  {
   "cell_type": "code",
   "execution_count": 8,
   "metadata": {},
   "outputs": [],
   "source": [
    "import keras\n",
    "from keras.preprocessing import sequence\n",
    "from keras.models import Sequential\n",
    "from keras.layers import Dense, Embedding, SimpleRNN\n",
    "from keras.layers import LSTM"
   ]
  },
  {
   "cell_type": "code",
   "execution_count": null,
   "metadata": {},
   "outputs": [],
   "source": [
    "max_features = max_words\n",
    "\n",
    "model = Sequential()\n",
    "model.add(Embedding(max_features, 32, input_length=None))\n",
    "model.add(SimpleRNN(32))\n",
    "model.add(Dense(1, activation='sigmoid'))\n",
    "model.compile(optimizer='rmsprop', loss='binary_crossentropy', metrics=['acc'])"
   ]
  },
  {
   "cell_type": "code",
   "execution_count": 124,
   "metadata": {},
   "outputs": [
    {
     "name": "stdout",
     "output_type": "stream",
     "text": [
      "Train on 8000 samples, validate on 2000 samples\n",
      "Epoch 1/3\n",
      "8000/8000 [==============================] - 8s 1ms/step - loss: 0.0326 - acc: 0.9927 - val_loss: 0.6063 - val_acc: 0.7820\n",
      "Epoch 2/3\n",
      "8000/8000 [==============================] - 8s 1ms/step - loss: 0.0197 - acc: 0.9964 - val_loss: 0.5283 - val_acc: 0.8220\n",
      "Epoch 3/3\n",
      "8000/8000 [==============================] - 8s 1ms/step - loss: 0.0140 - acc: 0.9971 - val_loss: 0.6182 - val_acc: 0.7965\n"
     ]
    }
   ],
   "source": [
    "history = model.fit(x_train, y_train,\n",
    "                    epochs=3,\n",
    "                    batch_size=128,\n",
    "                    validation_split=0.2)"
   ]
  },
  {
   "cell_type": "code",
   "execution_count": 21,
   "metadata": {},
   "outputs": [],
   "source": [
    "# word_index = tokenizer.word_index\n",
    "# index_word = tokenizer.index_word"
   ]
  },
  {
   "cell_type": "code",
   "execution_count": 122,
   "metadata": {},
   "outputs": [],
   "source": [
    "comment = 'this is a stupid movie'.split(' ')\n",
    "INDEX=[]\n",
    "for i in comment:\n",
    "    INDEX.append(word_index[i])\n",
    "INDEX = np.array(INDEX)"
   ]
  },
  {
   "cell_type": "code",
   "execution_count": 123,
   "metadata": {},
   "outputs": [
    {
     "data": {
      "text/plain": [
       "array([[0]])"
      ]
     },
     "execution_count": 123,
     "metadata": {},
     "output_type": "execute_result"
    }
   ],
   "source": [
    "model.predict_classes(pad_sequences(INDEX[None,], maxlen=maxlen))"
   ]
  },
  {
   "cell_type": "code",
   "execution_count": 119,
   "metadata": {},
   "outputs": [
    {
     "data": {
      "image/png": "[encoded data removed]",
      "text/plain": [
       "<Figure size 432x288 with 1 Axes>"
      ]
     },
     "metadata": {
      "image/png": {
       "height": 261,
       "width": 373
      },
      "needs_background": "light"
     },
     "output_type": "display_data"
    },
    {
     "data": {
      "image/png": "[encoded data removed]",
      "text/plain": [
       "<Figure size 432x288 with 1 Axes>"
      ]
     },
     "metadata": {
      "image/png": {
       "height": 261,
       "width": 367
      },
      "needs_background": "light"
     },
     "output_type": "display_data"
    }
   ],
   "source": [
    "import matplotlib.pyplot as plt\n",
    "acc = history.history['acc']\n",
    "val_acc = history.history['val_acc']\n",
    "loss = history.history['loss']\n",
    "val_loss = history.history['val_loss']\n",
    "epochs = range(1, len(acc) + 1)\n",
    "plt.plot(epochs, acc, 'bo', label='Training acc')\n",
    "plt.plot(epochs, val_acc, 'b', label='Validation acc')\n",
    "plt.title('Training and validation accuracy')\n",
    "plt.legend()\n",
    "plt.figure()\n",
    "plt.plot(epochs, loss, 'bo', label='Training loss')\n",
    "plt.plot(epochs, val_loss, 'b', label='Validation loss')\n",
    "plt.title('Training and validation loss')\n",
    "plt.legend()\n",
    "plt.show()"
   ]
  },
  {
   "cell_type": "code",
   "execution_count": null,
   "metadata": {},
   "outputs": [],
   "source": []
  }
 ],
 "metadata": {
  "kernelspec": {
   "display_name": "Python [conda env:tf2]",
   "language": "python",
   "name": "conda-env-tf2-py"
  },
  "language_info": {
   "codemirror_mode": {
    "name": "ipython",
    "version": 3
   },
   "file_extension": ".py",
   "mimetype": "text/x-python",
   "name": "python",
   "nbconvert_exporter": "python",
   "pygments_lexer": "ipython3",
   "version": "3.7.4"
  }
 },
 "nbformat": 4,
 "nbformat_minor": 4
}
