{
 "cells": [
  {
   "cell_type": "code",
   "execution_count": null,
   "metadata": {},
   "outputs": [],
   "source": [
    "# 指定CPU跑\n",
    "import os\n",
    "os.environ[\"CUDA_DEVICE_ORDER\"] = \"PCI_BUS_ID\"  \n",
    "os.environ[\"CUDA_VISIBLE_DEVICES\"] = \"-1\"\n",
    "\n",
    "# 只输出最后一个表达式\n",
    "from IPython.core.interactiveshell import InteractiveShell\n",
    "InteractiveShell.ast_node_interactivity = 'last_expr' # 'all'"
   ]
  },
  {
   "cell_type": "code",
   "execution_count": 1,
   "metadata": {},
   "outputs": [
    {
     "data": {
      "text/plain": [
       "'1.16.5'"
      ]
     },
     "execution_count": 1,
     "metadata": {},
     "output_type": "execute_result"
    }
   ],
   "source": [
    "import numpy as np\n",
    "np.__version__"
   ]
  },
  {
   "cell_type": "code",
   "execution_count": 2,
   "metadata": {},
   "outputs": [
    {
     "data": {
      "text/plain": [
       "'2.0.0'"
      ]
     },
     "execution_count": 2,
     "metadata": {},
     "output_type": "execute_result"
    }
   ],
   "source": [
    "import tensorflow as tf\n",
    "import numpy as np\n",
    "tf.__version__"
   ]
  },
  {
   "cell_type": "markdown",
   "metadata": {
    "toc-hr-collapsed": false
   },
   "source": [
    "# 使用TensorFlow通过回归验证通用近似定理\n",
    "***\n",
    "神经网络中，我们把神经元看作网络节点，在节点处通常是使用一个非线性函数$\\sigma()$去作用到输入信号上面。~~而在不同层之间的神经元之间会相互连接.~~ 而第n层神经元与第n+1层神经元连接（单向），而这种连接在神经网络中以权重w进行表示。  \n",
    "那么**信号由第n层到第n+1层中的第i个神经元**，便可以表示成如下(其中m表示此批次的样本数)：\n",
    "$$\n",
    "x_i^{(n+1)} = \\sigma(\\sum_m{w^{(n)}_m x^{(n)}_m + b^{(n)}})\n",
    "$$\n",
    "从上面的公式也可以看出，n+1层的神经元通常会与上一层的每个神经元存在联系（全连接时），而在单层神经元之间彼此通常是没有直接连接的。那么如果我们能证明这一层的神经元之间是相互正交的，那么我们就证明了这一层神经元可以拟合得到任意函数。  \n",
    "证明：  \n",
    "\n",
    "pass"
   ]
  },
  {
   "cell_type": "markdown",
   "metadata": {},
   "source": [
    "## 自定义模型实现："
   ]
  },
  {
   "cell_type": "markdown",
   "metadata": {},
   "source": [
    "### 批操作生成函数"
   ]
  },
  {
   "cell_type": "markdown",
   "metadata": {},
   "source": [
    "对输入数据应保持形状为(m,num_feature)， 这样输入神经网络后便可以以矩阵相乘的形式得到最后为(m, num_class)的结果，即  \n",
    "(m, num_feature)* (num_feature, hidden1)* (hidden1, hidden2)* ... * (hiddenN, num_classis)"
   ]
  },
  {
   "cell_type": "code",
   "execution_count": 3,
   "metadata": {},
   "outputs": [
    {
     "data": {
      "text/plain": [
       "True"
      ]
     },
     "execution_count": 3,
     "metadata": {},
     "output_type": "execute_result"
    }
   ],
   "source": [
    "tf.test.is_gpu_available()"
   ]
  },
  {
   "cell_type": "code",
   "execution_count": 4,
   "metadata": {},
   "outputs": [],
   "source": [
    "# 批操作\n",
    "x_data = np.linspace(0,10,100)\n",
    "\n",
    "def genData(x_data,batch_size=100):\n",
    "    L = len(x_data)\n",
    "    idx = np.arange(0,L)\n",
    "    count=0\n",
    "    while True: # 让其一轮结束后开始新一轮\n",
    "#         count += 1\n",
    "        np.random.shuffle(idx)\n",
    "        batchs = L//batch_size\n",
    "        for i in range(batchs):\n",
    "#             print(count)\n",
    "            x = x_data[idx][i*batch_size:(i+1)*batch_size].reshape(batch_size,-1)\n",
    "            yield x,tf.constant(np.sin(x))"
   ]
  },
  {
   "cell_type": "code",
   "execution_count": 5,
   "metadata": {},
   "outputs": [],
   "source": [
    "g = genData(x_data)"
   ]
  },
  {
   "cell_type": "code",
   "execution_count": 6,
   "metadata": {},
   "outputs": [
    {
     "data": {
      "text/plain": [
       "((100, 1), TensorShape([100, 1]))"
      ]
     },
     "execution_count": 6,
     "metadata": {},
     "output_type": "execute_result"
    }
   ],
   "source": [
    "X,Y = next(g) \n",
    "X.shape,Y.shape"
   ]
  },
  {
   "cell_type": "code",
   "execution_count": 7,
   "metadata": {},
   "outputs": [
    {
     "name": "stdout",
     "output_type": "stream",
     "text": [
      "(100, 1)\n",
      "(100, 1)\n"
     ]
    }
   ],
   "source": [
    "# Y = np.square(X)\n",
    "\n",
    "print(Y.shape)\n",
    "print(X.shape)"
   ]
  },
  {
   "cell_type": "code",
   "execution_count": null,
   "metadata": {},
   "outputs": [],
   "source": []
  },
  {
   "cell_type": "code",
   "execution_count": 8,
   "metadata": {},
   "outputs": [
    {
     "data": {
      "text/latex": [
       "$\\displaystyle \\left( 100, \\  1\\right)$"
      ],
      "text/plain": [
       "(100, 1)"
      ]
     },
     "execution_count": 8,
     "metadata": {},
     "output_type": "execute_result"
    }
   ],
   "source": [
    "X.shape"
   ]
  },
  {
   "cell_type": "code",
   "execution_count": 9,
   "metadata": {
    "scrolled": true
   },
   "outputs": [
    {
     "name": "stdout",
     "output_type": "stream",
     "text": [
      "第0，1维度\n",
      " [[-0.07803436  0.07443043  0.01425555]\n",
      " [ 0.07835099 -0.89641076  0.92866728]\n",
      " [-2.18200228 -0.32295469 -0.27079246]\n",
      " [ 1.97772296  0.53599538  0.30281561]\n",
      " [ 0.30450185  0.20501183  0.01792392]]\n",
      "第1，2维度\n",
      " [[ 0.02818004  0.07835099 -2.82229452]\n",
      " [ 0.97324776 -0.89641076  0.77569904]\n",
      " [-0.5281759   0.92866728 -0.95688683]]\n",
      "第0，2维度\n",
      " [[ 0.47332855  0.07443043  0.16956779]\n",
      " [ 0.97324776 -0.89641076  0.77569904]\n",
      " [-0.96520835 -0.32295469  0.16751181]\n",
      " [-0.89925942  0.53599538 -0.87875472]\n",
      " [-0.66098827  0.20501183 -1.16437422]]\n"
     ]
    }
   ],
   "source": [
    "# tf.Variable(np.random.randn(50,3))@tf.Variable(np.random.randn(3,3))+ tf.Variable(np.random.randn(50,3))\n",
    "a = np.random.randn(5,3,3)\n",
    "print('第0，1维度\\n',a[:,:,1]) # 返回 5*3\n",
    "print('第1，2维度\\n',a[1,:,:]) # 返回3*3\n",
    "print('第0，2维度\\n',a[:,1,:]) # 5*3"
   ]
  },
  {
   "cell_type": "code",
   "execution_count": 10,
   "metadata": {},
   "outputs": [
    {
     "data": {
      "text/plain": [
       "array([[-2.04263872, -1.40817518, -1.19860151],\n",
       "       [ 0.46520557,  1.58529264, -0.82381341],\n",
       "       [-0.89285888, -0.71141718, -1.17559021],\n",
       "       [ 1.61935889,  1.26471396, -0.70699447],\n",
       "       [-0.4449273 , -0.54322787, -0.0978487 ]])"
      ]
     },
     "execution_count": 10,
     "metadata": {},
     "output_type": "execute_result"
    }
   ],
   "source": [
    "np.random.randn(5,3)"
   ]
  },
  {
   "cell_type": "code",
   "execution_count": null,
   "metadata": {},
   "outputs": [],
   "source": [
    "class Model:\n",
    "    def __init__(self, input_shape=[50,1],num_layers = 2):\n",
    "        '''input_shape = [batch_size, feature_size]'''\n",
    "        # 把这里的input_shape　使用类似placeholder的方式先不要确定。在后面model(X)的时候读取Ｘ的shape去得到它的input_shape\n",
    "        \n",
    "        self.batch_size, self.num_feature = input_shape[0], input_shape[1]\n",
    "        self.num_layers = num_layers\n",
    "\n",
    "        hidden1, hidden2 = 100,100 # 单个隐藏层神经元个数\n",
    "        out_put = 1\n",
    "        self.w0 = tf.Variable(np.random.randn(self.num_feature, hidden1), name = 'weight0')\n",
    "        self.b0 = tf.Variable(np.random.randn(self.batch_size, hidden1), name = 'bias0')\n",
    "        \n",
    "        self.w1 = tf.Variable(np.random.randn(hidden1, hidden2, num_layers), name = 'weight1')\n",
    "        self.b1 = tf.Variable(np.random.randn(self.batch_size, hidden2, num_layers), name = 'bias1')\n",
    "        \n",
    "        self.w2 = tf.Variable(np.random.randn(hidden2, out_put), name = 'weight2')\n",
    "        self.b2 = tf.Variable(np.random.randn(self.batch_size, out_put), name = 'bias2')\n",
    "        \n",
    "        self.wp = tf.Variable(np.random.randn(out_put, out_put), name = 'weight_predict')\n",
    "        self.bp = tf.Variable(np.random.randn(self.batch_size, out_put), name = 'weight_predict')\n",
    "        \n",
    "\n",
    "\n",
    "    def __call__(self,X):\n",
    "        \n",
    "#         out = tf.nn.sigmoid(X@ self.w0 + self.b0) # 输入层\n",
    "        out = tf.nn.sigmoid(tf.multiply(X, self.w0)+ self.b0) # 输入层\n",
    "        for i in range(self.num_layers):\n",
    "             out = tf.nn.sigmoid(out @ self.w1[:,:,i] + self.b1[:,:,i])# 隐藏层\n",
    "    \n",
    "        out = tf.nn.sigmoid(out@self.w2+self.b2)# 输出层的前一层\n",
    "        out = out @ self.wp + self.bp # 输出层(预测层)\n",
    "        return out\n",
    "        \n",
    "def lossfunc(OUT,Y):\n",
    "    return tf.reduce_mean(tf.square(OUT-Y)) \n",
    "\n",
    "model = Model(input_shape=[100,1], num_layers=2)\n",
    "pred = model(X)\n",
    "# print(pred)\n",
    "loss = lossfunc(pred,Y)\n",
    "loss"
   ]
  },
  {
   "cell_type": "code",
   "execution_count": null,
   "metadata": {},
   "outputs": [],
   "source": []
  },
  {
   "cell_type": "code",
   "execution_count": 12,
   "metadata": {},
   "outputs": [],
   "source": [
    "# Stochastic Gradient Descent Optimizer.\n",
    "learning_rate = 0.001\n",
    "optimizer = tf.optimizers.Adam(learning_rate)\n",
    "# optimizer = tf.optimizers.Adadelta(learning_rate)"
   ]
  },
  {
   "cell_type": "code",
   "execution_count": 13,
   "metadata": {},
   "outputs": [],
   "source": [
    "# Optimization process. \n",
    "def run_optimization():\n",
    "    # 将导数的计算封装在 GradientTape 中\n",
    "    with tf.GradientTape() as g:\n",
    "        loss = lossfunc(model(X),Y)\n",
    "     \n",
    "    W = [model.w0, model.b0,model.w1, model.b1,model.w2, model.b2, model.wp, model.bp];\n",
    "    # 计算loss对W和b的导数：\n",
    "    gradients = g.gradient(loss, Ｗ)\n",
    "    # 根据梯度更新W,b\n",
    "    optimizer.apply_gradients(zip(gradients, W))"
   ]
  },
  {
   "cell_type": "code",
   "execution_count": 14,
   "metadata": {},
   "outputs": [
    {
     "name": "stdout",
     "output_type": "stream",
     "text": [
      "step: 100, loss: 1.2224336674164997\n",
      "step: 200, loss: 0.9823400510962039\n",
      "step: 300, loss: 0.7623542192920982\n",
      "step: 400, loss: 0.7232742669449911\n",
      "step: 500, loss: 0.6004289017918907\n",
      "step: 600, loss: 0.5423235727218432\n",
      "step: 700, loss: 0.5224155945160492\n",
      "step: 800, loss: 0.5061058203966233\n",
      "step: 900, loss: 0.3683496503943392\n",
      "step: 1000, loss: 0.4484694476201809\n"
     ]
    }
   ],
   "source": [
    "# Run training for the given number of steps.\n",
    "training_steps = 1000\n",
    "display_step=100\n",
    "\n",
    "writer = tf.summary.create_file_writer(\"./mylogs\")\n",
    "with writer.as_default(): # 这是为了后面的tf.summary.scalar()\n",
    "    for step in range(1, training_steps + 1):\n",
    "        X,Y = next(genData(x_data))\n",
    "\n",
    "        # Run the optimization to update W and b values.\n",
    "        run_optimization()\n",
    "\n",
    "        tf.summary.scalar('loss',loss, step=step)\n",
    "        writer.flush()\n",
    "        if step % display_step == 0:\n",
    "            pred = model(X)\n",
    "            loss = lossfunc(pred,Y)\n",
    "            print(\"step: {}, loss: {}\".format(step, loss))\n"
   ]
  },
  {
   "cell_type": "markdown",
   "metadata": {},
   "source": [
    "tensorboard --logdir=C:\\Users\\beidongjiedeguang\\OneDrive\\a_github\\tensorflow从0开始\\mylogs  \n",
    "tensorboard --logdir=mylogs    \n",
    "赋值上面命令到命令行  \n",
    "\n",
    "http://localhost:6006/#scalars"
   ]
  },
  {
   "cell_type": "code",
   "execution_count": 15,
   "metadata": {},
   "outputs": [
    {
     "data": {
      "image/png": "[encoded data removed]",
      "text/plain": [
       "<Figure size 576x360 with 1 Axes>"
      ]
     },
     "metadata": {
      "image/png": {
       "height": 300,
       "width": 486
      },
      "needs_background": "light"
     },
     "output_type": "display_data"
    }
   ],
   "source": [
    "import matplotlib.pyplot as plt\n",
    "fig = plt.figure(figsize=(8,5))\n",
    "plt.scatter(X, Y,label='original')\n",
    "plt.scatter(X, model(X),label='fitted')\n",
    "plt.legend()\n",
    "\n",
    "plt.show()"
   ]
  },
  {
   "cell_type": "code",
   "execution_count": 26,
   "metadata": {},
   "outputs": [
    {
     "data": {
      "image/png": "[encoded data removed]",
      "text/plain": [
       "<Figure size 432x288 with 1 Axes>"
      ]
     },
     "metadata": {
      "needs_background": "light"
     },
     "output_type": "display_data"
    }
   ],
   "source": [
    "test_x = np.linspace(-10,20,100).reshape(-1,1) # 训练集范围如上图，是从0~10\n",
    "plt.plot(test_x,model(test_x))\n",
    "plt.show()"
   ]
  },
  {
   "cell_type": "markdown",
   "metadata": {},
   "source": [
    "可以看到，在0~10的范围内拟合得十分不错，并且超过10的一定范围内的预测也基本是正确的。"
   ]
  },
  {
   "cell_type": "markdown",
   "metadata": {},
   "source": [
    "## 使用tf.keras API实现"
   ]
  },
  {
   "cell_type": "code",
   "execution_count": 5,
   "metadata": {},
   "outputs": [],
   "source": [
    "import tensorflow as tf\n",
    "import numpy as np\n",
    "# tf.test.is_gpu_available()\n",
    "from tensorflow.keras import Input,Model\n",
    "from tensorflow.keras import layers\n",
    "from tensorflow.keras.layers import Flatten,Dense,Dropout,Conv2D"
   ]
  },
  {
   "cell_type": "code",
   "execution_count": 6,
   "metadata": {},
   "outputs": [],
   "source": [
    "def GenerateData(datasize = 200 ):\n",
    "    train_X = np.linspace(0, 10, datasize)   #train_X为-1到1之间连续的100个浮点数\n",
    "    train_Y = np.sin(train_X)\n",
    "    yield train_X, train_Y   #以生成器的方式返回"
   ]
  },
  {
   "cell_type": "code",
   "execution_count": 7,
   "metadata": {},
   "outputs": [
    {
     "data": {
      "image/png": "[encoded data removed]",
      "text/plain": [
       "<Figure size 432x288 with 1 Axes>"
      ]
     },
     "metadata": {
      "image/png": {
       "height": 245,
       "width": 380
      },
      "needs_background": "light"
     },
     "output_type": "display_data"
    }
   ],
   "source": [
    "train_data = next(GenerateData())\n",
    "plt.plot(train_data[0],train_data[1]);"
   ]
  },
  {
   "cell_type": "code",
   "execution_count": 8,
   "metadata": {},
   "outputs": [
    {
     "name": "stdout",
     "output_type": "stream",
     "text": [
      "WARNING:tensorflow:Layer my_model is casting an input tensor from dtype float64 to the layer's dtype of float32, which is new behavior in TensorFlow 2.  The layer has dtype float32 because it's dtype defaults to floatx.\n",
      "\n",
      "If you intended to run this layer in float32, you can safely ignore this warning. If in doubt, this warning is likely only an issue if you are porting a TensorFlow 1.X model to TensorFlow 2.\n",
      "\n",
      "To change all layers to have dtype float64 by default, call `tf.keras.backend.set_floatx('float64')`. To change just this layer, pass dtype='float64' to the layer constructor. If you are the author of this layer, you can disable autocasting by passing autocast=False to the base Layer constructor.\n",
      "\n"
     ]
    },
    {
     "ename": "InternalError",
     "evalue": "Blas GEMM launch failed : a.shape=(200, 1), b.shape=(1, 100), m=200, n=100, k=1 [Op:MatMul]",
     "output_type": "error",
     "traceback": [
      "\u001b[1;31m---------------------------------------------------------------------------\u001b[0m",
      "\u001b[1;31mInternalError\u001b[0m                             Traceback (most recent call last)",
      "\u001b[1;32m<ipython-input-8-76fce8e140e4>\u001b[0m in \u001b[0;36m<module>\u001b[1;34m\u001b[0m\n\u001b[0;32m     16\u001b[0m \u001b[0mmy_model0\u001b[0m \u001b[1;33m=\u001b[0m \u001b[0mMyModel\u001b[0m\u001b[1;33m(\u001b[0m\u001b[1;33m)\u001b[0m\u001b[1;33m\u001b[0m\u001b[1;33m\u001b[0m\u001b[0m\n\u001b[0;32m     17\u001b[0m \u001b[1;33m\u001b[0m\u001b[0m\n\u001b[1;32m---> 18\u001b[1;33m \u001b[0mmy_model\u001b[0m\u001b[1;33m(\u001b[0m\u001b[0mtrain_data\u001b[0m\u001b[1;33m[\u001b[0m\u001b[1;36m0\u001b[0m\u001b[1;33m]\u001b[0m\u001b[1;33m.\u001b[0m\u001b[0mreshape\u001b[0m\u001b[1;33m(\u001b[0m\u001b[1;33m-\u001b[0m\u001b[1;36m1\u001b[0m\u001b[1;33m,\u001b[0m\u001b[1;36m1\u001b[0m\u001b[1;33m)\u001b[0m\u001b[1;33m)\u001b[0m\u001b[1;33m.\u001b[0m\u001b[0mshape\u001b[0m\u001b[1;33m\u001b[0m\u001b[1;33m\u001b[0m\u001b[0m\n\u001b[0m\u001b[0;32m     19\u001b[0m \u001b[0mmy_model0\u001b[0m\u001b[1;33m(\u001b[0m\u001b[0mtrain_data\u001b[0m\u001b[1;33m[\u001b[0m\u001b[1;36m0\u001b[0m\u001b[1;33m]\u001b[0m\u001b[1;33m.\u001b[0m\u001b[0mreshape\u001b[0m\u001b[1;33m(\u001b[0m\u001b[1;33m-\u001b[0m\u001b[1;36m1\u001b[0m\u001b[1;33m,\u001b[0m\u001b[1;36m1\u001b[0m\u001b[1;33m)\u001b[0m\u001b[1;33m)\u001b[0m\u001b[1;33m.\u001b[0m\u001b[0mshape\u001b[0m\u001b[1;33m\u001b[0m\u001b[1;33m\u001b[0m\u001b[0m\n",
      "\u001b[1;32mD:\\miniconda\\envs\\tf2\\lib\\site-packages\\tensorflow_core\\python\\keras\\engine\\base_layer.py\u001b[0m in \u001b[0;36m__call__\u001b[1;34m(self, inputs, *args, **kwargs)\u001b[0m\n\u001b[0;32m    889\u001b[0m           with base_layer_utils.autocast_context_manager(\n\u001b[0;32m    890\u001b[0m               self._compute_dtype):\n\u001b[1;32m--> 891\u001b[1;33m             \u001b[0moutputs\u001b[0m \u001b[1;33m=\u001b[0m \u001b[0mself\u001b[0m\u001b[1;33m.\u001b[0m\u001b[0mcall\u001b[0m\u001b[1;33m(\u001b[0m\u001b[0mcast_inputs\u001b[0m\u001b[1;33m,\u001b[0m \u001b[1;33m*\u001b[0m\u001b[0margs\u001b[0m\u001b[1;33m,\u001b[0m \u001b[1;33m**\u001b[0m\u001b[0mkwargs\u001b[0m\u001b[1;33m)\u001b[0m\u001b[1;33m\u001b[0m\u001b[1;33m\u001b[0m\u001b[0m\n\u001b[0m\u001b[0;32m    892\u001b[0m           \u001b[0mself\u001b[0m\u001b[1;33m.\u001b[0m\u001b[0m_handle_activity_regularization\u001b[0m\u001b[1;33m(\u001b[0m\u001b[0minputs\u001b[0m\u001b[1;33m,\u001b[0m \u001b[0moutputs\u001b[0m\u001b[1;33m)\u001b[0m\u001b[1;33m\u001b[0m\u001b[1;33m\u001b[0m\u001b[0m\n\u001b[0;32m    893\u001b[0m           \u001b[0mself\u001b[0m\u001b[1;33m.\u001b[0m\u001b[0m_set_mask_metadata\u001b[0m\u001b[1;33m(\u001b[0m\u001b[0minputs\u001b[0m\u001b[1;33m,\u001b[0m \u001b[0moutputs\u001b[0m\u001b[1;33m,\u001b[0m \u001b[0minput_masks\u001b[0m\u001b[1;33m)\u001b[0m\u001b[1;33m\u001b[0m\u001b[1;33m\u001b[0m\u001b[0m\n",
      "\u001b[1;32m<ipython-input-8-76fce8e140e4>\u001b[0m in \u001b[0;36mcall\u001b[1;34m(self, x)\u001b[0m\n\u001b[0;32m      7\u001b[0m \u001b[1;33m\u001b[0m\u001b[0m\n\u001b[0;32m      8\u001b[0m     \u001b[1;32mdef\u001b[0m \u001b[0mcall\u001b[0m\u001b[1;33m(\u001b[0m\u001b[0mself\u001b[0m\u001b[1;33m,\u001b[0m \u001b[0mx\u001b[0m\u001b[1;33m)\u001b[0m\u001b[1;33m:\u001b[0m\u001b[1;33m\u001b[0m\u001b[1;33m\u001b[0m\u001b[0m\n\u001b[1;32m----> 9\u001b[1;33m         \u001b[0mx\u001b[0m \u001b[1;33m=\u001b[0m \u001b[0mself\u001b[0m\u001b[1;33m.\u001b[0m\u001b[0mfc1\u001b[0m\u001b[1;33m(\u001b[0m\u001b[0mx\u001b[0m\u001b[1;33m)\u001b[0m\u001b[1;33m\u001b[0m\u001b[1;33m\u001b[0m\u001b[0m\n\u001b[0m\u001b[0;32m     10\u001b[0m         \u001b[0mx\u001b[0m \u001b[1;33m=\u001b[0m \u001b[0mself\u001b[0m\u001b[1;33m.\u001b[0m\u001b[0mfc2\u001b[0m\u001b[1;33m(\u001b[0m\u001b[0mx\u001b[0m\u001b[1;33m)\u001b[0m\u001b[1;33m\u001b[0m\u001b[1;33m\u001b[0m\u001b[0m\n\u001b[0;32m     11\u001b[0m         \u001b[0mx\u001b[0m \u001b[1;33m=\u001b[0m \u001b[0mself\u001b[0m\u001b[1;33m.\u001b[0m\u001b[0mout\u001b[0m\u001b[1;33m(\u001b[0m\u001b[0mx\u001b[0m\u001b[1;33m)\u001b[0m\u001b[1;33m\u001b[0m\u001b[1;33m\u001b[0m\u001b[0m\n",
      "\u001b[1;32mD:\\miniconda\\envs\\tf2\\lib\\site-packages\\tensorflow_core\\python\\keras\\engine\\base_layer.py\u001b[0m in \u001b[0;36m__call__\u001b[1;34m(self, inputs, *args, **kwargs)\u001b[0m\n\u001b[0;32m    889\u001b[0m           with base_layer_utils.autocast_context_manager(\n\u001b[0;32m    890\u001b[0m               self._compute_dtype):\n\u001b[1;32m--> 891\u001b[1;33m             \u001b[0moutputs\u001b[0m \u001b[1;33m=\u001b[0m \u001b[0mself\u001b[0m\u001b[1;33m.\u001b[0m\u001b[0mcall\u001b[0m\u001b[1;33m(\u001b[0m\u001b[0mcast_inputs\u001b[0m\u001b[1;33m,\u001b[0m \u001b[1;33m*\u001b[0m\u001b[0margs\u001b[0m\u001b[1;33m,\u001b[0m \u001b[1;33m**\u001b[0m\u001b[0mkwargs\u001b[0m\u001b[1;33m)\u001b[0m\u001b[1;33m\u001b[0m\u001b[1;33m\u001b[0m\u001b[0m\n\u001b[0m\u001b[0;32m    892\u001b[0m           \u001b[0mself\u001b[0m\u001b[1;33m.\u001b[0m\u001b[0m_handle_activity_regularization\u001b[0m\u001b[1;33m(\u001b[0m\u001b[0minputs\u001b[0m\u001b[1;33m,\u001b[0m \u001b[0moutputs\u001b[0m\u001b[1;33m)\u001b[0m\u001b[1;33m\u001b[0m\u001b[1;33m\u001b[0m\u001b[0m\n\u001b[0;32m    893\u001b[0m           \u001b[0mself\u001b[0m\u001b[1;33m.\u001b[0m\u001b[0m_set_mask_metadata\u001b[0m\u001b[1;33m(\u001b[0m\u001b[0minputs\u001b[0m\u001b[1;33m,\u001b[0m \u001b[0moutputs\u001b[0m\u001b[1;33m,\u001b[0m \u001b[0minput_masks\u001b[0m\u001b[1;33m)\u001b[0m\u001b[1;33m\u001b[0m\u001b[1;33m\u001b[0m\u001b[0m\n",
      "\u001b[1;32mD:\\miniconda\\envs\\tf2\\lib\\site-packages\\tensorflow_core\\python\\keras\\layers\\core.py\u001b[0m in \u001b[0;36mcall\u001b[1;34m(self, inputs)\u001b[0m\n\u001b[0;32m   1054\u001b[0m         \u001b[0moutputs\u001b[0m \u001b[1;33m=\u001b[0m \u001b[0msparse_ops\u001b[0m\u001b[1;33m.\u001b[0m\u001b[0msparse_tensor_dense_matmul\u001b[0m\u001b[1;33m(\u001b[0m\u001b[0minputs\u001b[0m\u001b[1;33m,\u001b[0m \u001b[0mself\u001b[0m\u001b[1;33m.\u001b[0m\u001b[0mkernel\u001b[0m\u001b[1;33m)\u001b[0m\u001b[1;33m\u001b[0m\u001b[1;33m\u001b[0m\u001b[0m\n\u001b[0;32m   1055\u001b[0m       \u001b[1;32melse\u001b[0m\u001b[1;33m:\u001b[0m\u001b[1;33m\u001b[0m\u001b[1;33m\u001b[0m\u001b[0m\n\u001b[1;32m-> 1056\u001b[1;33m         \u001b[0moutputs\u001b[0m \u001b[1;33m=\u001b[0m \u001b[0mgen_math_ops\u001b[0m\u001b[1;33m.\u001b[0m\u001b[0mmat_mul\u001b[0m\u001b[1;33m(\u001b[0m\u001b[0minputs\u001b[0m\u001b[1;33m,\u001b[0m \u001b[0mself\u001b[0m\u001b[1;33m.\u001b[0m\u001b[0mkernel\u001b[0m\u001b[1;33m)\u001b[0m\u001b[1;33m\u001b[0m\u001b[1;33m\u001b[0m\u001b[0m\n\u001b[0m\u001b[0;32m   1057\u001b[0m     \u001b[1;32mif\u001b[0m \u001b[0mself\u001b[0m\u001b[1;33m.\u001b[0m\u001b[0muse_bias\u001b[0m\u001b[1;33m:\u001b[0m\u001b[1;33m\u001b[0m\u001b[1;33m\u001b[0m\u001b[0m\n\u001b[0;32m   1058\u001b[0m       \u001b[0moutputs\u001b[0m \u001b[1;33m=\u001b[0m \u001b[0mnn\u001b[0m\u001b[1;33m.\u001b[0m\u001b[0mbias_add\u001b[0m\u001b[1;33m(\u001b[0m\u001b[0moutputs\u001b[0m\u001b[1;33m,\u001b[0m \u001b[0mself\u001b[0m\u001b[1;33m.\u001b[0m\u001b[0mbias\u001b[0m\u001b[1;33m)\u001b[0m\u001b[1;33m\u001b[0m\u001b[1;33m\u001b[0m\u001b[0m\n",
      "\u001b[1;32mD:\\miniconda\\envs\\tf2\\lib\\site-packages\\tensorflow_core\\python\\ops\\gen_math_ops.py\u001b[0m in \u001b[0;36mmat_mul\u001b[1;34m(a, b, transpose_a, transpose_b, name)\u001b[0m\n\u001b[0;32m   6124\u001b[0m       \u001b[1;32melse\u001b[0m\u001b[1;33m:\u001b[0m\u001b[1;33m\u001b[0m\u001b[1;33m\u001b[0m\u001b[0m\n\u001b[0;32m   6125\u001b[0m         \u001b[0mmessage\u001b[0m \u001b[1;33m=\u001b[0m \u001b[0me\u001b[0m\u001b[1;33m.\u001b[0m\u001b[0mmessage\u001b[0m\u001b[1;33m\u001b[0m\u001b[1;33m\u001b[0m\u001b[0m\n\u001b[1;32m-> 6126\u001b[1;33m       \u001b[0m_six\u001b[0m\u001b[1;33m.\u001b[0m\u001b[0mraise_from\u001b[0m\u001b[1;33m(\u001b[0m\u001b[0m_core\u001b[0m\u001b[1;33m.\u001b[0m\u001b[0m_status_to_exception\u001b[0m\u001b[1;33m(\u001b[0m\u001b[0me\u001b[0m\u001b[1;33m.\u001b[0m\u001b[0mcode\u001b[0m\u001b[1;33m,\u001b[0m \u001b[0mmessage\u001b[0m\u001b[1;33m)\u001b[0m\u001b[1;33m,\u001b[0m \u001b[1;32mNone\u001b[0m\u001b[1;33m)\u001b[0m\u001b[1;33m\u001b[0m\u001b[1;33m\u001b[0m\u001b[0m\n\u001b[0m\u001b[0;32m   6127\u001b[0m   \u001b[1;31m# Add nodes to the TensorFlow graph.\u001b[0m\u001b[1;33m\u001b[0m\u001b[1;33m\u001b[0m\u001b[1;33m\u001b[0m\u001b[0m\n\u001b[0;32m   6128\u001b[0m   \u001b[1;32mif\u001b[0m \u001b[0mtranspose_a\u001b[0m \u001b[1;32mis\u001b[0m \u001b[1;32mNone\u001b[0m\u001b[1;33m:\u001b[0m\u001b[1;33m\u001b[0m\u001b[1;33m\u001b[0m\u001b[0m\n",
      "\u001b[1;32mD:\\miniconda\\envs\\tf2\\lib\\site-packages\\six.py\u001b[0m in \u001b[0;36mraise_from\u001b[1;34m(value, from_value)\u001b[0m\n",
      "\u001b[1;31mInternalError\u001b[0m: Blas GEMM launch failed : a.shape=(200, 1), b.shape=(1, 100), m=200, n=100, k=1 [Op:MatMul]"
     ]
    }
   ],
   "source": [
    "class MyModel(Model):\n",
    "    def __init__(self):\n",
    "        super(MyModel, self).__init__()\n",
    "        self.fc1 = Dense(100, activation='sigmoid', input_shape=(1,)) # 默认use_bias=True\n",
    "        self.fc2 = Dense(100, activation='sigmoid')\n",
    "        self.out = Dense(1)\n",
    "    \n",
    "    def call(self, x):\n",
    "        x = self.fc1(x)\n",
    "        x = self.fc2(x)\n",
    "        x = self.out(x)\n",
    "        return x\n",
    "\n",
    "\n",
    "my_model = MyModel()  \n",
    "my_model0 = MyModel()\n",
    "\n",
    "my_model(train_data[0].reshape(-1,1)).shape\n",
    "my_model0(train_data[0].reshape(-1,1)).shape"
   ]
  },
  {
   "cell_type": "markdown",
   "metadata": {},
   "source": [
    "**对上述Model使用tf.keras.models.Sequential()实现：**"
   ]
  },
  {
   "cell_type": "code",
   "execution_count": 21,
   "metadata": {},
   "outputs": [],
   "source": [
    "# 使用Sequential的第一种方式\n",
    "Net1 = tf.keras.models.Sequential()\n",
    "Net1.add(Dense(100,activation='sigmoid', input_shape=(1,)))\n",
    "Net1.add(Dense(100,activation='sigmoid'))\n",
    "Net1.add(Dense(1))"
   ]
  },
  {
   "cell_type": "code",
   "execution_count": 22,
   "metadata": {},
   "outputs": [],
   "source": [
    "# 使用Sequential的第2种方式\n",
    "Net2 = tf.keras.models.Sequential([\n",
    "    Dense(100,activation='sigmoid', input_shape=(1,)),\n",
    "    Dense(100,activation='sigmoid'),\n",
    "    Dense(1)\n",
    "])"
   ]
  },
  {
   "cell_type": "code",
   "execution_count": 23,
   "metadata": {},
   "outputs": [
    {
     "name": "stdout",
     "output_type": "stream",
     "text": [
      "Model: \"my_model\"\n",
      "_________________________________________________________________\n",
      "Layer (type)                 Output Shape              Param #   \n",
      "=================================================================\n",
      "dense (Dense)                multiple                  200       \n",
      "_________________________________________________________________\n",
      "dense_1 (Dense)              multiple                  10100     \n",
      "_________________________________________________________________\n",
      "dense_2 (Dense)              multiple                  101       \n",
      "=================================================================\n",
      "Total params: 10,401\n",
      "Trainable params: 10,401\n",
      "Non-trainable params: 0\n",
      "_________________________________________________________________\n",
      "Model: \"sequential\"\n",
      "_________________________________________________________________\n",
      "Layer (type)                 Output Shape              Param #   \n",
      "=================================================================\n",
      "dense_6 (Dense)              (None, 100)               200       \n",
      "_________________________________________________________________\n",
      "dense_7 (Dense)              (None, 100)               10100     \n",
      "_________________________________________________________________\n",
      "dense_8 (Dense)              (None, 1)                 101       \n",
      "=================================================================\n",
      "Total params: 10,401\n",
      "Trainable params: 10,401\n",
      "Non-trainable params: 0\n",
      "_________________________________________________________________\n",
      "Model: \"sequential_1\"\n",
      "_________________________________________________________________\n",
      "Layer (type)                 Output Shape              Param #   \n",
      "=================================================================\n",
      "dense_9 (Dense)              (None, 100)               200       \n",
      "_________________________________________________________________\n",
      "dense_10 (Dense)             (None, 100)               10100     \n",
      "_________________________________________________________________\n",
      "dense_11 (Dense)             (None, 1)                 101       \n",
      "=================================================================\n",
      "Total params: 10,401\n",
      "Trainable params: 10,401\n",
      "Non-trainable params: 0\n",
      "_________________________________________________________________\n"
     ]
    }
   ],
   "source": [
    "my_model.summary()\n",
    "Net1.summary()\n",
    "Net2.summary()"
   ]
  },
  {
   "cell_type": "code",
   "execution_count": 24,
   "metadata": {},
   "outputs": [
    {
     "data": {
      "text/plain": [
       "TensorShape([1])"
      ]
     },
     "execution_count": 24,
     "metadata": {},
     "output_type": "execute_result"
    }
   ],
   "source": [
    "my_model.weights[0].shape # w1\n",
    "my_model.weights[1].shape # b1\n",
    "my_model.weights[2].shape # w2\n",
    "my_model.weights[3].shape # b2\n",
    "Net1.weights[4].shape # w3\n",
    "Net2.weights[5].shape # b3"
   ]
  },
  {
   "cell_type": "code",
   "execution_count": 25,
   "metadata": {},
   "outputs": [],
   "source": [
    "# Model.compile()实现反向传播\n",
    "my_model.compile(loss='mse', optimizer='Adam')\n",
    "Net1.compile(loss='mse', optimizer='Adam')"
   ]
  },
  {
   "cell_type": "markdown",
   "metadata": {},
   "source": [
    "### 可使用两种方式训练模型："
   ]
  },
  {
   "cell_type": "code",
   "execution_count": null,
   "metadata": {},
   "outputs": [
    {
     "name": "stdout",
     "output_type": "stream",
     "text": [
      "loss: 0.8452340960502625\n",
      "loss: 0.4336927533149719\n",
      "loss: 0.4149059057235718\n",
      "loss: 0.37498894333839417\n",
      "loss: 0.3399243652820587\n",
      "loss: 0.32301878929138184\n",
      "loss: 0.3113902807235718\n",
      "loss: 0.29476645588874817\n",
      "loss: 0.24649733304977417\n",
      "loss: 0.18901079893112183\n",
      "loss: 0.15638774633407593\n",
      "loss: 0.13984596729278564\n",
      "loss: 0.12670093774795532\n",
      "loss: 0.11463484168052673\n",
      "loss: 0.10299048572778702\n",
      "loss: 0.09072984755039215\n",
      "loss: 0.07635632157325745\n",
      "loss: 0.05919331684708595\n"
     ]
    }
   ],
   "source": [
    "# 使用集成度较低的 Model.train_on_batch方法，自行设定batch数据　和　ｅpochs\n",
    "for step in range(2001):\n",
    "    train_data = next(GenerateData())\n",
    "    cost = my_model.train_on_batch(train_data[0].reshape(-1,1), train_data[1].reshape(-1,1))\n",
    "    if step%100==0:\n",
    "        print(f'loss: {cost}')"
   ]
  },
  {
   "cell_type": "code",
   "execution_count": 28,
   "metadata": {
    "collapsed": true,
    "jupyter": {
     "outputs_hidden": true
    }
   },
   "outputs": [
    {
     "name": "stdout",
     "output_type": "stream",
     "text": [
      "Train on 200 samples\n",
      "Epoch 1/100\n",
      "200/200 [==============================] - 0s 922us/sample - loss: 1.1374e-05\n",
      "Epoch 2/100\n",
      "200/200 [==============================] - 0s 25us/sample - loss: 1.1726e-05\n",
      "Epoch 3/100\n",
      "200/200 [==============================] - 0s 30us/sample - loss: 1.1113e-05\n",
      "Epoch 4/100\n",
      "200/200 [==============================] - 0s 25us/sample - loss: 1.1251e-05\n",
      "Epoch 5/100\n",
      "200/200 [==============================] - 0s 30us/sample - loss: 1.1132e-05\n",
      "Epoch 6/100\n",
      "200/200 [==============================] - 0s 30us/sample - loss: 1.1557e-05\n",
      "Epoch 7/100\n",
      "200/200 [==============================] - 0s 25us/sample - loss: 1.2643e-05\n",
      "Epoch 8/100\n",
      "200/200 [==============================] - 0s 25us/sample - loss: 1.1833e-05\n",
      "Epoch 9/100\n",
      "200/200 [==============================] - 0s 20us/sample - loss: 2.9397e-05\n",
      "Epoch 10/100\n",
      "200/200 [==============================] - 0s 25us/sample - loss: 3.4251e-05\n",
      "Epoch 11/100\n",
      "200/200 [==============================] - 0s 30us/sample - loss: 1.4395e-05\n",
      "Epoch 12/100\n",
      "200/200 [==============================] - 0s 20us/sample - loss: 3.3525e-05\n",
      "Epoch 13/100\n",
      "200/200 [==============================] - 0s 25us/sample - loss: 2.5060e-05\n",
      "Epoch 14/100\n",
      "200/200 [==============================] - 0s 25us/sample - loss: 4.0531e-05\n",
      "Epoch 15/100\n",
      "200/200 [==============================] - 0s 25us/sample - loss: 1.0572e-04\n",
      "Epoch 16/100\n",
      "200/200 [==============================] - 0s 30us/sample - loss: 4.0280e-05\n",
      "Epoch 17/100\n",
      "200/200 [==============================] - 0s 20us/sample - loss: 8.2236e-05\n",
      "Epoch 18/100\n",
      "200/200 [==============================] - 0s 35us/sample - loss: 1.2410e-04\n",
      "Epoch 19/100\n",
      "200/200 [==============================] - 0s 30us/sample - loss: 3.8096e-05\n",
      "Epoch 20/100\n",
      "200/200 [==============================] - 0s 30us/sample - loss: 1.4341e-04\n",
      "Epoch 21/100\n",
      "200/200 [==============================] - 0s 30us/sample - loss: 3.3883e-05\n",
      "Epoch 22/100\n",
      "200/200 [==============================] - 0s 25us/sample - loss: 1.5714e-04\n",
      "Epoch 23/100\n",
      "200/200 [==============================] - 0s 30us/sample - loss: 1.1984e-04\n",
      "Epoch 24/100\n",
      "200/200 [==============================] - 0s 20us/sample - loss: 2.9952e-05\n",
      "Epoch 25/100\n",
      "200/200 [==============================] - 0s 25us/sample - loss: 8.0202e-05\n",
      "Epoch 26/100\n",
      "200/200 [==============================] - 0s 30us/sample - loss: 2.6651e-05\n",
      "Epoch 27/100\n",
      "200/200 [==============================] - 0s 30us/sample - loss: 7.0108e-05\n",
      "Epoch 28/100\n",
      "200/200 [==============================] - 0s 25us/sample - loss: 7.5754e-05\n",
      "Epoch 29/100\n",
      "200/200 [==============================] - 0s 35us/sample - loss: 1.8749e-05\n",
      "Epoch 30/100\n",
      "200/200 [==============================] - 0s 30us/sample - loss: 1.9210e-05\n",
      "Epoch 31/100\n",
      "200/200 [==============================] - 0s 30us/sample - loss: 1.4393e-05\n",
      "Epoch 32/100\n",
      "200/200 [==============================] - 0s 25us/sample - loss: 1.2633e-05\n",
      "Epoch 33/100\n",
      "200/200 [==============================] - 0s 30us/sample - loss: 1.2597e-05\n",
      "Epoch 34/100\n",
      "200/200 [==============================] - 0s 35us/sample - loss: 1.9036e-05\n",
      "Epoch 35/100\n",
      "200/200 [==============================] - ETA: 0s - loss: 1.8109e-0 - 0s 30us/sample - loss: 1.5916e-05\n",
      "Epoch 36/100\n",
      "200/200 [==============================] - 0s 25us/sample - loss: 1.5682e-05\n",
      "Epoch 37/100\n",
      "200/200 [==============================] - 0s 30us/sample - loss: 4.9667e-05\n",
      "Epoch 38/100\n",
      "200/200 [==============================] - 0s 35us/sample - loss: 2.9888e-05\n",
      "Epoch 39/100\n",
      "200/200 [==============================] - 0s 25us/sample - loss: 1.8671e-05\n",
      "Epoch 40/100\n",
      "200/200 [==============================] - 0s 30us/sample - loss: 2.9366e-05\n",
      "Epoch 41/100\n",
      "200/200 [==============================] - 0s 25us/sample - loss: 2.6784e-05\n",
      "Epoch 42/100\n",
      "200/200 [==============================] - 0s 30us/sample - loss: 8.2295e-05\n",
      "Epoch 43/100\n",
      "200/200 [==============================] - 0s 30us/sample - loss: 3.0521e-05\n",
      "Epoch 44/100\n",
      "200/200 [==============================] - 0s 35us/sample - loss: 6.7099e-05\n",
      "Epoch 45/100\n",
      "200/200 [==============================] - 0s 30us/sample - loss: 5.3534e-05\n",
      "Epoch 46/100\n",
      "200/200 [==============================] - 0s 35us/sample - loss: 2.6404e-05\n",
      "Epoch 47/100\n",
      "200/200 [==============================] - 0s 30us/sample - loss: 5.2408e-05\n",
      "Epoch 48/100\n",
      "200/200 [==============================] - 0s 25us/sample - loss: 2.2924e-05\n",
      "Epoch 49/100\n",
      "200/200 [==============================] - 0s 30us/sample - loss: 5.4826e-05\n",
      "Epoch 50/100\n",
      "200/200 [==============================] - 0s 30us/sample - loss: 2.4916e-05\n",
      "Epoch 51/100\n",
      "200/200 [==============================] - 0s 25us/sample - loss: 5.3282e-05\n",
      "Epoch 52/100\n",
      "200/200 [==============================] - 0s 25us/sample - loss: 1.0444e-04\n",
      "Epoch 53/100\n",
      "200/200 [==============================] - 0s 30us/sample - loss: 4.4403e-05\n",
      "Epoch 54/100\n",
      "200/200 [==============================] - 0s 25us/sample - loss: 3.0463e-05\n",
      "Epoch 55/100\n",
      "200/200 [==============================] - 0s 30us/sample - loss: 2.5426e-05\n",
      "Epoch 56/100\n",
      "200/200 [==============================] - 0s 30us/sample - loss: 1.7906e-05\n",
      "Epoch 57/100\n",
      "200/200 [==============================] - 0s 30us/sample - loss: 1.7064e-05\n",
      "Epoch 58/100\n",
      "200/200 [==============================] - 0s 30us/sample - loss: 1.5294e-05\n",
      "Epoch 59/100\n",
      "200/200 [==============================] - 0s 35us/sample - loss: 2.1992e-05\n",
      "Epoch 60/100\n",
      "200/200 [==============================] - 0s 25us/sample - loss: 5.6793e-05\n",
      "Epoch 61/100\n",
      "200/200 [==============================] - 0s 25us/sample - loss: 2.2694e-05\n",
      "Epoch 62/100\n",
      "200/200 [==============================] - 0s 30us/sample - loss: 6.4010e-05\n",
      "Epoch 63/100\n",
      "200/200 [==============================] - 0s 30us/sample - loss: 6.9375e-05\n",
      "Epoch 64/100\n",
      "200/200 [==============================] - 0s 30us/sample - loss: 2.1965e-05\n",
      "Epoch 65/100\n",
      "200/200 [==============================] - 0s 25us/sample - loss: 3.6276e-05\n",
      "Epoch 66/100\n",
      "200/200 [==============================] - 0s 30us/sample - loss: 1.7673e-05\n",
      "Epoch 67/100\n",
      "200/200 [==============================] - 0s 35us/sample - loss: 2.8425e-05\n",
      "Epoch 68/100\n",
      "200/200 [==============================] - 0s 25us/sample - loss: 2.3401e-05\n",
      "Epoch 69/100\n",
      "200/200 [==============================] - 0s 30us/sample - loss: 2.0670e-05\n",
      "Epoch 70/100\n",
      "200/200 [==============================] - 0s 35us/sample - loss: 2.7301e-05\n",
      "Epoch 71/100\n",
      "200/200 [==============================] - 0s 35us/sample - loss: 2.3179e-05\n",
      "Epoch 72/100\n",
      "200/200 [==============================] - 0s 30us/sample - loss: 7.7387e-05\n",
      "Epoch 73/100\n",
      "200/200 [==============================] - 0s 40us/sample - loss: 6.3358e-05\n",
      "Epoch 74/100\n",
      "200/200 [==============================] - 0s 30us/sample - loss: 2.6238e-05\n",
      "Epoch 75/100\n",
      "200/200 [==============================] - 0s 30us/sample - loss: 1.1685e-04\n",
      "Epoch 76/100\n",
      "200/200 [==============================] - 0s 30us/sample - loss: 8.7775e-05\n",
      "Epoch 77/100\n",
      "200/200 [==============================] - 0s 30us/sample - loss: 4.0077e-05\n",
      "Epoch 78/100\n",
      "200/200 [==============================] - 0s 25us/sample - loss: 6.0028e-05\n",
      "Epoch 79/100\n",
      "200/200 [==============================] - 0s 30us/sample - loss: 3.0770e-05\n",
      "Epoch 80/100\n",
      "200/200 [==============================] - 0s 30us/sample - loss: 1.8136e-05\n",
      "Epoch 81/100\n",
      "200/200 [==============================] - 0s 30us/sample - loss: 1.6303e-05\n",
      "Epoch 82/100\n",
      "200/200 [==============================] - 0s 30us/sample - loss: 2.0273e-05\n",
      "Epoch 83/100\n",
      "200/200 [==============================] - 0s 30us/sample - loss: 1.9919e-05\n",
      "Epoch 84/100\n",
      "200/200 [==============================] - ETA: 0s - loss: 2.0892e-0 - 0s 30us/sample - loss: 3.2351e-05\n",
      "Epoch 85/100\n",
      "200/200 [==============================] - 0s 30us/sample - loss: 2.7890e-05\n",
      "Epoch 86/100\n",
      "200/200 [==============================] - 0s 30us/sample - loss: 1.6668e-05\n",
      "Epoch 87/100\n",
      "200/200 [==============================] - 0s 30us/sample - loss: 4.3822e-05\n",
      "Epoch 88/100\n",
      "200/200 [==============================] - 0s 25us/sample - loss: 5.9395e-05\n",
      "Epoch 89/100\n",
      "200/200 [==============================] - 0s 25us/sample - loss: 2.0223e-05\n",
      "Epoch 90/100\n",
      "200/200 [==============================] - 0s 35us/sample - loss: 5.4514e-05\n",
      "Epoch 91/100\n",
      "200/200 [==============================] - 0s 25us/sample - loss: 1.0244e-04\n",
      "Epoch 92/100\n",
      "200/200 [==============================] - 0s 25us/sample - loss: 2.5758e-05\n",
      "Epoch 93/100\n",
      "200/200 [==============================] - 0s 30us/sample - loss: 4.0833e-05\n",
      "Epoch 94/100\n",
      "200/200 [==============================] - 0s 30us/sample - loss: 1.6909e-05\n",
      "Epoch 95/100\n",
      "200/200 [==============================] - 0s 25us/sample - loss: 7.4834e-05\n",
      "Epoch 96/100\n",
      "200/200 [==============================] - 0s 25us/sample - loss: 1.2162e-04\n",
      "Epoch 97/100\n",
      "200/200 [==============================] - 0s 30us/sample - loss: 3.6357e-05\n",
      "Epoch 98/100\n",
      "200/200 [==============================] - 0s 30us/sample - loss: 5.2610e-05\n",
      "Epoch 99/100\n",
      "200/200 [==============================] - 0s 25us/sample - loss: 9.1087e-05\n",
      "Epoch 100/100\n",
      "200/200 [==============================] - 0s 25us/sample - loss: 2.3141e-05\n",
      "Train on 200 samples\n",
      "Epoch 1/100\n",
      "200/200 [==============================] - 1s 3ms/sample - loss: 1.3617\n",
      "Epoch 2/100\n",
      "200/200 [==============================] - 0s 30us/sample - loss: 0.7459\n",
      "Epoch 3/100\n",
      "200/200 [==============================] - 0s 25us/sample - loss: 0.4750\n",
      "Epoch 4/100\n",
      "200/200 [==============================] - 0s 25us/sample - loss: 0.4820\n",
      "Epoch 5/100\n",
      "200/200 [==============================] - 0s 25us/sample - loss: 0.5956\n",
      "Epoch 6/100\n",
      "200/200 [==============================] - 0s 30us/sample - loss: 0.6332\n",
      "Epoch 7/100\n",
      "200/200 [==============================] - 0s 25us/sample - loss: 0.5880\n",
      "Epoch 8/100\n",
      "200/200 [==============================] - 0s 30us/sample - loss: 0.5106\n",
      "Epoch 9/100\n",
      "200/200 [==============================] - 0s 20us/sample - loss: 0.4546\n",
      "Epoch 10/100\n",
      "200/200 [==============================] - 0s 25us/sample - loss: 0.4452\n",
      "Epoch 11/100\n",
      "200/200 [==============================] - 0s 30us/sample - loss: 0.4664\n",
      "Epoch 12/100\n",
      "200/200 [==============================] - 0s 30us/sample - loss: 0.4877\n",
      "Epoch 13/100\n",
      "200/200 [==============================] - 0s 30us/sample - loss: 0.4895\n",
      "Epoch 14/100\n",
      "200/200 [==============================] - 0s 30us/sample - loss: 0.4732\n",
      "Epoch 15/100\n",
      "200/200 [==============================] - 0s 25us/sample - loss: 0.4519\n",
      "Epoch 16/100\n",
      "200/200 [==============================] - 0s 25us/sample - loss: 0.4460\n",
      "Epoch 17/100\n",
      "200/200 [==============================] - 0s 30us/sample - loss: 0.4440\n",
      "Epoch 18/100\n",
      "200/200 [==============================] - 0s 25us/sample - loss: 0.4523\n",
      "Epoch 19/100\n",
      "200/200 [==============================] - 0s 25us/sample - loss: 0.4549\n",
      "Epoch 20/100\n",
      "200/200 [==============================] - 0s 25us/sample - loss: 0.4509\n",
      "Epoch 21/100\n",
      "200/200 [==============================] - 0s 30us/sample - loss: 0.4444\n",
      "Epoch 22/100\n",
      "200/200 [==============================] - 0s 35us/sample - loss: 0.4405\n",
      "Epoch 23/100\n",
      "200/200 [==============================] - 0s 25us/sample - loss: 0.4415\n",
      "Epoch 24/100\n",
      "200/200 [==============================] - 0s 25us/sample - loss: 0.4428\n",
      "Epoch 25/100\n",
      "200/200 [==============================] - 0s 30us/sample - loss: 0.4437\n",
      "Epoch 26/100\n",
      "200/200 [==============================] - 0s 20us/sample - loss: 0.4425\n",
      "Epoch 27/100\n",
      "200/200 [==============================] - 0s 20us/sample - loss: 0.4405\n",
      "Epoch 28/100\n",
      "200/200 [==============================] - 0s 30us/sample - loss: 0.4393\n",
      "Epoch 29/100\n",
      "200/200 [==============================] - 0s 30us/sample - loss: 0.4417\n",
      "Epoch 30/100\n",
      "200/200 [==============================] - 0s 20us/sample - loss: 0.4404\n",
      "Epoch 31/100\n",
      "200/200 [==============================] - 0s 30us/sample - loss: 0.4395\n",
      "Epoch 32/100\n",
      "200/200 [==============================] - 0s 40us/sample - loss: 0.4388\n",
      "Epoch 33/100\n",
      "200/200 [==============================] - 0s 25us/sample - loss: 0.4385\n",
      "Epoch 34/100\n",
      "200/200 [==============================] - 0s 30us/sample - loss: 0.4381\n",
      "Epoch 35/100\n",
      "200/200 [==============================] - 0s 35us/sample - loss: 0.4381\n",
      "Epoch 36/100\n",
      "200/200 [==============================] - 0s 30us/sample - loss: 0.4381\n",
      "Epoch 37/100\n",
      "200/200 [==============================] - 0s 25us/sample - loss: 0.4381\n",
      "Epoch 38/100\n",
      "200/200 [==============================] - 0s 30us/sample - loss: 0.4379\n",
      "Epoch 39/100\n",
      "200/200 [==============================] - 0s 25us/sample - loss: 0.4373\n",
      "Epoch 40/100\n",
      "200/200 [==============================] - 0s 30us/sample - loss: 0.4375\n",
      "Epoch 41/100\n",
      "200/200 [==============================] - 0s 30us/sample - loss: 0.4371\n",
      "Epoch 42/100\n",
      "200/200 [==============================] - 0s 25us/sample - loss: 0.4376\n",
      "Epoch 43/100\n",
      "200/200 [==============================] - 0s 30us/sample - loss: 0.4371\n",
      "Epoch 44/100\n",
      "200/200 [==============================] - 0s 25us/sample - loss: 0.4369\n",
      "Epoch 45/100\n",
      "200/200 [==============================] - 0s 25us/sample - loss: 0.4367\n",
      "Epoch 46/100\n",
      "200/200 [==============================] - 0s 30us/sample - loss: 0.4368\n",
      "Epoch 47/100\n",
      "200/200 [==============================] - 0s 35us/sample - loss: 0.4365\n",
      "Epoch 48/100\n",
      "200/200 [==============================] - 0s 35us/sample - loss: 0.4365\n",
      "Epoch 49/100\n",
      "200/200 [==============================] - 0s 35us/sample - loss: 0.4362\n",
      "Epoch 50/100\n",
      "200/200 [==============================] - 0s 35us/sample - loss: 0.4365\n",
      "Epoch 51/100\n",
      "200/200 [==============================] - 0s 30us/sample - loss: 0.4362\n",
      "Epoch 52/100\n",
      "200/200 [==============================] - 0s 30us/sample - loss: 0.4360\n",
      "Epoch 53/100\n",
      "200/200 [==============================] - 0s 30us/sample - loss: 0.4359\n",
      "Epoch 54/100\n",
      "200/200 [==============================] - 0s 35us/sample - loss: 0.4356\n",
      "Epoch 55/100\n",
      "200/200 [==============================] - 0s 30us/sample - loss: 0.4358\n",
      "Epoch 56/100\n",
      "200/200 [==============================] - 0s 25us/sample - loss: 0.4355\n",
      "Epoch 57/100\n",
      "200/200 [==============================] - 0s 30us/sample - loss: 0.4355\n",
      "Epoch 58/100\n",
      "200/200 [==============================] - 0s 30us/sample - loss: 0.4356\n",
      "Epoch 59/100\n",
      "200/200 [==============================] - 0s 30us/sample - loss: 0.4351\n",
      "Epoch 60/100\n",
      "200/200 [==============================] - 0s 25us/sample - loss: 0.4350\n",
      "Epoch 61/100\n",
      "200/200 [==============================] - 0s 30us/sample - loss: 0.4350\n",
      "Epoch 62/100\n",
      "200/200 [==============================] - 0s 35us/sample - loss: 0.4351\n",
      "Epoch 63/100\n",
      "200/200 [==============================] - 0s 30us/sample - loss: 0.4355\n",
      "Epoch 64/100\n",
      "200/200 [==============================] - 0s 30us/sample - loss: 0.4347\n",
      "Epoch 65/100\n",
      "200/200 [==============================] - 0s 30us/sample - loss: 0.4343\n",
      "Epoch 66/100\n",
      "200/200 [==============================] - 0s 35us/sample - loss: 0.4343\n",
      "Epoch 67/100\n",
      "200/200 [==============================] - 0s 30us/sample - loss: 0.4346\n",
      "Epoch 68/100\n",
      "200/200 [==============================] - 0s 30us/sample - loss: 0.4343\n",
      "Epoch 69/100\n",
      "200/200 [==============================] - 0s 30us/sample - loss: 0.4341\n",
      "Epoch 70/100\n",
      "200/200 [==============================] - 0s 25us/sample - loss: 0.4344\n",
      "Epoch 71/100\n",
      "200/200 [==============================] - 0s 25us/sample - loss: 0.4344\n",
      "Epoch 72/100\n",
      "200/200 [==============================] - 0s 30us/sample - loss: 0.4340\n",
      "Epoch 73/100\n",
      "200/200 [==============================] - 0s 25us/sample - loss: 0.4333\n",
      "Epoch 74/100\n",
      "200/200 [==============================] - 0s 30us/sample - loss: 0.4329\n",
      "Epoch 75/100\n",
      "200/200 [==============================] - 0s 25us/sample - loss: 0.4329\n",
      "Epoch 76/100\n",
      "200/200 [==============================] - 0s 30us/sample - loss: 0.4333\n",
      "Epoch 77/100\n",
      "200/200 [==============================] - 0s 30us/sample - loss: 0.4330\n",
      "Epoch 78/100\n",
      "200/200 [==============================] - 0s 30us/sample - loss: 0.4325\n",
      "Epoch 79/100\n",
      "200/200 [==============================] - 0s 35us/sample - loss: 0.4322\n",
      "Epoch 80/100\n",
      "200/200 [==============================] - 0s 30us/sample - loss: 0.4321\n",
      "Epoch 81/100\n",
      "200/200 [==============================] - 0s 30us/sample - loss: 0.4324\n",
      "Epoch 82/100\n",
      "200/200 [==============================] - 0s 25us/sample - loss: 0.4317\n",
      "Epoch 83/100\n",
      "200/200 [==============================] - 0s 30us/sample - loss: 0.4316\n",
      "Epoch 84/100\n",
      "200/200 [==============================] - 0s 25us/sample - loss: 0.4314\n",
      "Epoch 85/100\n",
      "200/200 [==============================] - 0s 25us/sample - loss: 0.4312\n",
      "Epoch 86/100\n",
      "200/200 [==============================] - 0s 25us/sample - loss: 0.4324\n",
      "Epoch 87/100\n",
      "200/200 [==============================] - 0s 30us/sample - loss: 0.4316\n",
      "Epoch 88/100\n",
      "200/200 [==============================] - 0s 30us/sample - loss: 0.4330\n",
      "Epoch 89/100\n",
      "200/200 [==============================] - 0s 30us/sample - loss: 0.4308\n",
      "Epoch 90/100\n",
      "200/200 [==============================] - 0s 30us/sample - loss: 0.4306\n",
      "Epoch 91/100\n",
      "200/200 [==============================] - 0s 30us/sample - loss: 0.4302\n",
      "Epoch 92/100\n",
      "200/200 [==============================] - 0s 30us/sample - loss: 0.4297\n",
      "Epoch 93/100\n",
      "200/200 [==============================] - 0s 25us/sample - loss: 0.4297\n",
      "Epoch 94/100\n",
      "200/200 [==============================] - 0s 30us/sample - loss: 0.4292\n",
      "Epoch 95/100\n",
      "200/200 [==============================] - 0s 25us/sample - loss: 0.4298\n",
      "Epoch 96/100\n",
      "200/200 [==============================] - 0s 30us/sample - loss: 0.4289\n",
      "Epoch 97/100\n",
      "200/200 [==============================] - 0s 25us/sample - loss: 0.4287\n",
      "Epoch 98/100\n",
      "200/200 [==============================] - 0s 25us/sample - loss: 0.4286\n",
      "Epoch 99/100\n",
      "200/200 [==============================] - 0s 25us/sample - loss: 0.4286\n",
      "Epoch 100/100\n",
      "200/200 [==============================] - 0s 30us/sample - loss: 0.4277\n"
     ]
    },
    {
     "data": {
      "text/plain": [
       "<tensorflow.python.keras.callbacks.History at 0x2495b21bda0>"
      ]
     },
     "execution_count": 28,
     "metadata": {},
     "output_type": "execute_result"
    }
   ],
   "source": [
    "# 使用集成度较高的fit()方法，直接指定batch_size, epochs等参数\n",
    "my_model.fit(x = train_data[0].reshape(-1,1), y=train_data[1].reshape(-1,1), batch_size=100, epochs=100)\n",
    "Net1.fit(x = train_data[0].reshape(-1,1), y=train_data[1].reshape(-1,1), batch_size=100, epochs=100)"
   ]
  },
  {
   "cell_type": "markdown",
   "metadata": {},
   "source": [
    "### 对模型进行测试评估与预测："
   ]
  },
  {
   "cell_type": "code",
   "execution_count": 65,
   "metadata": {},
   "outputs": [],
   "source": [
    "train_data = next(GenerateData())\n",
    "test_x, test_y = train_data[0].reshape(-1,1), train_data[1].reshape(-1,1)"
   ]
  },
  {
   "cell_type": "code",
   "execution_count": 66,
   "metadata": {
    "collapsed": true,
    "jupyter": {
     "outputs_hidden": true
    }
   },
   "outputs": [
    {
     "name": "stdout",
     "output_type": "stream",
     "text": [
      "200/200 [==============================] - 0s 25us/sample - loss: 0.0113\n"
     ]
    },
    {
     "data": {
      "text/plain": [
       "array([[ 3.16994821e-02],\n",
       "       [ 7.46833341e-02],\n",
       "       [ 1.17558650e-01],\n",
       "       [ 1.60265123e-01],\n",
       "       [ 2.02738334e-01],\n",
       "       [ 2.44909458e-01],\n",
       "       [ 2.86705146e-01],\n",
       "       [ 3.28047635e-01],\n",
       "       [ 3.68854892e-01],\n",
       "       [ 4.09041318e-01],\n",
       "       [ 4.48518445e-01],\n",
       "       [ 4.87195869e-01],\n",
       "       [ 5.24982522e-01],\n",
       "       [ 5.61787762e-01],\n",
       "       [ 5.97522553e-01],\n",
       "       [ 6.32100233e-01],\n",
       "       [ 6.65437422e-01],\n",
       "       [ 6.97454149e-01],\n",
       "       [ 7.28073809e-01],\n",
       "       [ 7.57222686e-01],\n",
       "       [ 7.84829173e-01],\n",
       "       [ 8.10822557e-01],\n",
       "       [ 8.35131948e-01],\n",
       "       [ 8.57684820e-01],\n",
       "       [ 8.78405746e-01],\n",
       "       [ 8.97215252e-01],\n",
       "       [ 9.14028912e-01],\n",
       "       [ 9.28756802e-01],\n",
       "       [ 9.41303404e-01],\n",
       "       [ 9.51567888e-01],\n",
       "       [ 9.59445268e-01],\n",
       "       [ 9.64827898e-01],\n",
       "       [ 9.67607788e-01],\n",
       "       [ 9.67679570e-01],\n",
       "       [ 9.64944116e-01],\n",
       "       [ 9.59312732e-01],\n",
       "       [ 9.50711824e-01],\n",
       "       [ 9.39087849e-01],\n",
       "       [ 9.24412341e-01],\n",
       "       [ 9.06686667e-01],\n",
       "       [ 8.85946455e-01],\n",
       "       [ 8.62264677e-01],\n",
       "       [ 8.35753787e-01],\n",
       "       [ 8.06565925e-01],\n",
       "       [ 7.74890979e-01],\n",
       "       [ 7.40952166e-01],\n",
       "       [ 7.04998907e-01],\n",
       "       [ 6.67296986e-01],\n",
       "       [ 6.28116283e-01],\n",
       "       [ 5.87716700e-01],\n",
       "       [ 5.46333328e-01],\n",
       "       [ 5.04162269e-01],\n",
       "       [ 4.61348857e-01],\n",
       "       [ 4.17980153e-01],\n",
       "       [ 3.74083485e-01],\n",
       "       [ 3.29632317e-01],\n",
       "       [ 2.84559690e-01],\n",
       "       [ 2.38779683e-01],\n",
       "       [ 1.92211373e-01],\n",
       "       [ 1.44805749e-01],\n",
       "       [ 9.65675990e-02],\n",
       "       [ 4.75688431e-02],\n",
       "       [-2.05029884e-03],\n",
       "       [-5.20930612e-02],\n",
       "       [-1.02328187e-01],\n",
       "       [-1.52516730e-01],\n",
       "       [-2.02436677e-01],\n",
       "       [-2.51899255e-01],\n",
       "       [-3.00753688e-01],\n",
       "       [-3.48880985e-01],\n",
       "       [-3.96180934e-01],\n",
       "       [-4.42558393e-01],\n",
       "       [-4.87914752e-01],\n",
       "       [-5.32148002e-01],\n",
       "       [-5.75161166e-01],\n",
       "       [-6.16874992e-01],\n",
       "       [-6.57238203e-01],\n",
       "       [-6.96228183e-01],\n",
       "       [-7.33837445e-01],\n",
       "       [-7.70044609e-01],\n",
       "       [-8.04778219e-01],\n",
       "       [-8.37880557e-01],\n",
       "       [-8.69088333e-01],\n",
       "       [-8.98036353e-01],\n",
       "       [-9.24293719e-01],\n",
       "       [-9.47417674e-01],\n",
       "       [-9.67019139e-01],\n",
       "       [-9.82815497e-01],\n",
       "       [-9.94665170e-01],\n",
       "       [-1.00257377e+00],\n",
       "       [-1.00667955e+00],\n",
       "       [-1.00722373e+00],\n",
       "       [-1.00451503e+00],\n",
       "       [-9.98896009e-01],\n",
       "       [-9.90715096e-01],\n",
       "       [-9.80305335e-01],\n",
       "       [-9.67971155e-01],\n",
       "       [-9.53979594e-01],\n",
       "       [-9.38557576e-01],\n",
       "       [-9.21890140e-01],\n",
       "       [-9.04122671e-01],\n",
       "       [-8.85361634e-01],\n",
       "       [-8.65678259e-01],\n",
       "       [-8.45109467e-01],\n",
       "       [-8.23661541e-01],\n",
       "       [-8.01310559e-01],\n",
       "       [-7.78005924e-01],\n",
       "       [-7.53670679e-01],\n",
       "       [-7.28205683e-01],\n",
       "       [-7.01490920e-01],\n",
       "       [-6.73391732e-01],\n",
       "       [-6.43762605e-01],\n",
       "       [-6.12456605e-01],\n",
       "       [-5.79334099e-01],\n",
       "       [-5.44272768e-01],\n",
       "       [-5.07181718e-01],\n",
       "       [-4.68010298e-01],\n",
       "       [-4.26760346e-01],\n",
       "       [-3.83488710e-01],\n",
       "       [-3.38310223e-01],\n",
       "       [-2.91387583e-01],\n",
       "       [-2.42921363e-01],\n",
       "       [-1.93128027e-01],\n",
       "       [-1.42223115e-01],\n",
       "       [-9.03988399e-02],\n",
       "       [-3.78152533e-02],\n",
       "       [ 1.54070393e-02],\n",
       "       [ 6.91751368e-02],\n",
       "       [ 1.23409341e-01],\n",
       "       [ 1.78012435e-01],\n",
       "       [ 2.32843796e-01],\n",
       "       [ 2.87687951e-01],\n",
       "       [ 3.42240402e-01],\n",
       "       [ 3.96099603e-01],\n",
       "       [ 4.48780568e-01],\n",
       "       [ 4.99743718e-01],\n",
       "       [ 5.48429780e-01],\n",
       "       [ 5.94306255e-01],\n",
       "       [ 6.36903324e-01],\n",
       "       [ 6.75847806e-01],\n",
       "       [ 7.10877803e-01],\n",
       "       [ 7.41850251e-01],\n",
       "       [ 7.68731408e-01],\n",
       "       [ 7.91584136e-01],\n",
       "       [ 8.10546283e-01],\n",
       "       [ 8.25811594e-01],\n",
       "       [ 8.37608662e-01],\n",
       "       [ 8.46185205e-01],\n",
       "       [ 8.51793654e-01],\n",
       "       [ 8.54681763e-01],\n",
       "       [ 8.55085247e-01],\n",
       "       [ 8.53223699e-01],\n",
       "       [ 8.49298295e-01],\n",
       "       [ 8.43490931e-01],\n",
       "       [ 8.35964855e-01],\n",
       "       [ 8.26865281e-01],\n",
       "       [ 8.16321313e-01],\n",
       "       [ 8.04447489e-01],\n",
       "       [ 7.91345140e-01],\n",
       "       [ 7.77104953e-01],\n",
       "       [ 7.61807633e-01],\n",
       "       [ 7.45526513e-01],\n",
       "       [ 7.28327950e-01],\n",
       "       [ 7.10272778e-01],\n",
       "       [ 6.91418636e-01],\n",
       "       [ 6.71818830e-01],\n",
       "       [ 6.51524472e-01],\n",
       "       [ 6.30584379e-01],\n",
       "       [ 6.09047184e-01],\n",
       "       [ 5.86959341e-01],\n",
       "       [ 5.64366979e-01],\n",
       "       [ 5.41315246e-01],\n",
       "       [ 5.17850161e-01],\n",
       "       [ 4.94015996e-01],\n",
       "       [ 4.69856964e-01],\n",
       "       [ 4.45416221e-01],\n",
       "       [ 4.20737572e-01],\n",
       "       [ 3.95862516e-01],\n",
       "       [ 3.70831431e-01],\n",
       "       [ 3.45684813e-01],\n",
       "       [ 3.20460235e-01],\n",
       "       [ 2.95194055e-01],\n",
       "       [ 2.69920307e-01],\n",
       "       [ 2.44672468e-01],\n",
       "       [ 2.19480473e-01],\n",
       "       [ 1.94372548e-01],\n",
       "       [ 1.69374202e-01],\n",
       "       [ 1.44510099e-01],\n",
       "       [ 1.19801221e-01],\n",
       "       [ 9.52667956e-02],\n",
       "       [ 7.09234198e-02],\n",
       "       [ 4.67869803e-02],\n",
       "       [ 2.28699754e-02],\n",
       "       [-8.16525626e-04],\n",
       "       [-2.42636709e-02],\n",
       "       [-4.74629262e-02],\n",
       "       [-7.04086168e-02],\n",
       "       [-9.30960124e-02],\n",
       "       [-1.15522070e-01],\n",
       "       [-1.37683609e-01]])"
      ]
     },
     "execution_count": 66,
     "metadata": {},
     "output_type": "execute_result"
    }
   ],
   "source": [
    "# 使用Model.evaluate()方法进行评估，返回 loss\n",
    "cost = my_model.evaluate(test_x, test_y)\n",
    "cost\n",
    "\n",
    "# 使用Model.predict()方法进行预测,返回预测值\n",
    "my_model.predict(test_x) # 它等价于　my_model(test_x).numpy()"
   ]
  },
  {
   "cell_type": "code",
   "execution_count": 29,
   "metadata": {},
   "outputs": [
    {
     "data": {
      "image/png": "[encoded data removed]",
      "text/plain": [
       "<Figure size 432x288 with 1 Axes>"
      ]
     },
     "metadata": {
      "image/png": {
       "height": 246,
       "width": 374
      },
      "needs_background": "light"
     },
     "output_type": "display_data"
    }
   ],
   "source": [
    "Tx = np.linspace(0,10,100).reshape(100,1)\n",
    "plt.scatter(train_data[0],train_data[1], label = 'original');\n",
    "\n",
    "# plt.scatter(Tx,my_model(Tx), label='fitted'); # 与下面等价\n",
    "plt.scatter(Tx,my_model.predict(Tx), label='fitted');\n",
    "plt.legend();"
   ]
  },
  {
   "cell_type": "code",
   "execution_count": 30,
   "metadata": {},
   "outputs": [
    {
     "data": {
      "image/png": "[encoded data removed]",
      "text/plain": [
       "<Figure size 432x288 with 1 Axes>"
      ]
     },
     "metadata": {
      "image/png": {
       "height": 246,
       "width": 374
      },
      "needs_background": "light"
     },
     "output_type": "display_data"
    }
   ],
   "source": [
    "Tx = np.linspace(-10,20,200).reshape(200,1)\n",
    "plt.scatter(Tx,my_model(Tx), label='fitted');\n",
    "plt.legend();"
   ]
  },
  {
   "cell_type": "code",
   "execution_count": 112,
   "metadata": {},
   "outputs": [],
   "source": [
    "# x = tf.keras.Input(shape=(32,10))# 这里shape给出的是input的特征形状，得到的x的shape其实=[batch,shape]\n",
    "# y = tf.square(x)\n",
    "# x"
   ]
  },
  {
   "cell_type": "markdown",
   "metadata": {},
   "source": [
    "### 保存模型与加载模型\n",
    "* 使用Model.save()方法保存， 通过tf.keras.models.load_model 加载模型\n",
    "* 使用Model.save_weights()保存， 通过已经定义好的模型使用Model.load_weights()导入，这个已经定义好的模型结构需要与之想匹配，所以可以考虑在初始训练模型之前，做一个模型的备份。\n"
   ]
  },
  {
   "cell_type": "code",
   "execution_count": 113,
   "metadata": {},
   "outputs": [],
   "source": [
    "my_model.save_weights('my_model.h5') # my_model只能通过save_weights保存，表示值保存了权重，但模型是没有保存的\n",
    "Net1.save('Net1.h5') # 而从Sequensial建立的网络可以直接通过save保存，保存的是图+权重\n",
    "\n",
    "del my_model\n",
    "del Net1"
   ]
  },
  {
   "cell_type": "code",
   "execution_count": 114,
   "metadata": {},
   "outputs": [],
   "source": [
    "from tensorflow.keras.models import load_model\n",
    "# my_model0就是没有训练的MyModel()的一个实例\n",
    "my_model0 = my_model0.load_weights('my_model.h5') # 保存的权重，必须用一个已经定义了的模型使用Model.load_weights()进行导入\n",
    "Net1 = load_model('Net1.h5') "
   ]
  },
  {
   "cell_type": "code",
   "execution_count": null,
   "metadata": {},
   "outputs": [],
   "source": []
  }
 ],
 "metadata": {
  "kernelspec": {
   "display_name": "Python [conda env:tf2]",
   "language": "python",
   "name": "conda-env-tf2-py"
  },
  "language_info": {
   "codemirror_mode": {
    "name": "ipython",
    "version": 3
   },
   "file_extension": ".py",
   "mimetype": "text/x-python",
   "name": "python",
   "nbconvert_exporter": "python",
   "pygments_lexer": "ipython3",
   "version": "3.7.4"
  },
  "latex_envs": {
   "LaTeX_envs_menu_present": true,
   "autoclose": false,
   "autocomplete": true,
   "bibliofile": "biblio.bib",
   "cite_by": "apalike",
   "current_citInitial": 1,
   "eqLabelWithNumbers": true,
   "eqNumInitial": 1,
   "hotkeys": {
    "equation": "Ctrl-E",
    "itemize": "Ctrl-I"
   },
   "labels_anchors": false,
   "latex_user_defs": false,
   "report_style_numbering": false,
   "user_envs_cfg": false
  },
  "toc": {
   "base_numbering": 1,
   "nav_menu": {},
   "number_sections": true,
   "sideBar": true,
   "skip_h1_title": false,
   "title_cell": "Table of Contents",
   "title_sidebar": "Contents",
   "toc_cell": false,
   "toc_position": {
    "height": "calc(100% - 180px)",
    "left": "10px",
    "top": "150px",
    "width": "220.036px"
   },
   "toc_section_display": true,
   "toc_window_display": false
  },
  "varInspector": {
   "cols": {
    "lenName": 16,
    "lenType": 16,
    "lenVar": 40
   },
   "kernels_config": {
    "python": {
     "delete_cmd_postfix": "",
     "delete_cmd_prefix": "del ",
     "library": "var_list.py",
     "varRefreshCmd": "print(var_dic_list())"
    },
    "r": {
     "delete_cmd_postfix": ") ",
     "delete_cmd_prefix": "rm(",
     "library": "var_list.r",
     "varRefreshCmd": "cat(var_dic_list()) "
    }
   },
   "types_to_exclude": [
    "module",
    "function",
    "builtin_function_or_method",
    "instance",
    "_Feature"
   ],
   "window_display": false
  }
 },
 "nbformat": 4,
 "nbformat_minor": 4
}
