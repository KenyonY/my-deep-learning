{
 "cells": [
  {
   "cell_type": "markdown",
   "metadata": {},
   "source": [
    "# import data"
   ]
  },
  {
   "cell_type": "code",
   "execution_count": 1,
   "metadata": {},
   "outputs": [],
   "source": [
    "from glob import glob\n",
    "import os\n",
    "import sys\n",
    "from tqdm import tqdm"
   ]
  },
  {
   "cell_type": "markdown",
   "metadata": {},
   "source": [
    "# m 0.65 ~ 0.85"
   ]
  },
  {
   "cell_type": "code",
   "execution_count": 2,
   "metadata": {},
   "outputs": [
    {
     "data": {
      "text/plain": [
       "['E:\\\\m_0.65_0.85\\\\m=0.850000,a=100.250000.txt',\n",
       " 'E:\\\\m_0.65_0.85\\\\m=0.706000,a=13.250000.txt',\n",
       " 'E:\\\\m_0.65_0.85\\\\m=0.712000,a=51.250000.txt',\n",
       " 'E:\\\\m_0.65_0.85\\\\m=0.718000,a=14.250000.txt',\n",
       " 'E:\\\\m_0.65_0.85\\\\m=0.706000,a=122.500000.txt',\n",
       " 'E:\\\\m_0.65_0.85\\\\m=0.838000,a=36.000000.txt',\n",
       " 'E:\\\\m_0.65_0.85\\\\m=0.782000,a=67.000000.txt',\n",
       " 'E:\\\\m_0.65_0.85\\\\m=0.764000,a=121.750000.txt',\n",
       " 'E:\\\\m_0.65_0.85\\\\m=0.808000,a=93.750000.txt',\n",
       " 'E:\\\\m_0.65_0.85\\\\m=0.720000,a=82.250000.txt']"
      ]
     },
     "execution_count": 2,
     "metadata": {},
     "output_type": "execute_result"
    }
   ],
   "source": [
    "# 读取数据\n",
    "data_path = r'E:\\m_0.65_0.85'\n",
    "fileNames = glob(data_path+'\\\\*0.txt')\n",
    "_idx = np.arange(len(fileNames))\n",
    "np.random.shuffle(fileNames)\n",
    "fileNames[:10]"
   ]
  },
  {
   "cell_type": "code",
   "execution_count": 3,
   "metadata": {},
   "outputs": [
    {
     "name": "stdout",
     "output_type": "stream",
     "text": [
      "size,simple_size,num,N,last_num\n",
      " 2000 0.1301870346069336 15363 3 4411\n"
     ]
    },
    {
     "name": "stderr",
     "output_type": "stream",
     "text": [
      "100%|███████████████████████████████████████████████████████████████████████████████████| 4/4 [46:18<00:00, 665.52s/it]\n"
     ]
    }
   ],
   "source": [
    "def dump(sr=None, size=10000):\n",
    "\n",
    "    if sr is None: # 从配置文件中获取 sr\n",
    "        with open(data_path+'\\\\输入参数文本.txt') as _f:\n",
    "            _paras = _f.readlines()\n",
    "            sr = int(_paras[2].split('\\t')[0]) + 1\n",
    "            print('sr=',sr)\n",
    "\n",
    "    # --------------------------------------------------------------通用begin\n",
    "    with open(fileNames[0]) as _f:\n",
    "        simple_size = sys.getsizeof(_f.read())/1024/1024 # Mb\n",
    "\n",
    "    size = size # 2048:2GB\n",
    "    num = int(size/simple_size)+1 # 每一次存的大小是 num个读取的文件\n",
    "    N = int(len(fileNames)//num)  # 存N次大小为num个的文件\n",
    "    last_num = len(fileNames)%num # 最后一次存的文件是 last_num个读取的文件\n",
    "    begin=0\n",
    "    print('size,simple_size,num,N,last_num\\n',size,simple_size,num,N,last_num)\n",
    "    for c_i in tqdm(range(N+1)):\n",
    "        if c_i==N:\n",
    "            num = last_num\n",
    "        last = begin+num\n",
    "        filename = fileNames[begin:last]\n",
    "    # --------------------------------------------------------------通用end\n",
    "        i1 = np.zeros((len(filename), sr))\n",
    "        i2 = np.zeros((len(filename), sr))\n",
    "        dop = np.zeros((len(filename), sr))\n",
    "        M,ALPHA = [], []\n",
    "        for idx, i in enumerate(filename):\n",
    "            baseName = os.path.basename(i) \n",
    "            m,alpha = baseName.split(',')\n",
    "            alpha = '.'.join(alpha.split('.')[:-1])\n",
    "            m = m.split('=')[-1]\n",
    "            alpha=alpha.split('=')[-1]\n",
    "            M.append(m)\n",
    "            ALPHA.append(alpha)\n",
    "\n",
    "            i1[idx] = pd.read_table(i, encoding='gb2312',sep='\\t',index_col=None).I1.to_numpy().astype(np.float32)\n",
    "            i2[idx] = pd.read_table(i, encoding='gb2312',sep='\\t',index_col=None).I2.to_numpy().astype(np.float32)\n",
    "            dop[idx] = pd.read_table(i, encoding='gb2312',sep='\\t',index_col=None).DOP.to_numpy().astype(np.float32)\n",
    "            \n",
    "        M, ALPHA = np.array(M).astype('float32'), np.array(ALPHA).astype('float32')\n",
    "    # --------------------------------------------------------------- 通用begin\n",
    "        out_path = r'C:\\mydata\\0.65_out_shuffle'\n",
    "        np.save(os.path.join(out_path, f'i1_{c_i}.npy'),i1)\n",
    "        np.save(os.path.join(out_path, f'i2_{c_i}.npy'),i2)\n",
    "        np.save(os.path.join(out_path, f'dop_{c_i}.npy'),dop)\n",
    "        np.savez(os.path.join(out_path, f'M_ALPHA_{c_i}.npz'),M=M,ALPHA=ALPHA)\n",
    "        begin = last\n",
    "    # --------------------------------------------------------------- 通用end\n",
    "    return out_path, sr\n",
    "\n",
    "target_path, sr = dump(sr=2048, size=2000)"
   ]
  },
  {
   "cell_type": "markdown",
   "metadata": {},
   "source": [
    "# all"
   ]
  },
  {
   "cell_type": "code",
   "execution_count": 2,
   "metadata": {},
   "outputs": [
    {
     "data": {
      "text/plain": [
       "['D:\\\\mydata\\\\all_m_alpha\\\\m=0.614000,a=1.250000.txt',\n",
       " 'D:\\\\mydata\\\\all_m_alpha\\\\m=0.428000,a=73.000000.txt',\n",
       " 'D:\\\\mydata\\\\all_m_alpha\\\\m=0.312000,a=68.000000.txt',\n",
       " 'D:\\\\mydata\\\\all_m_alpha\\\\m=0.578000,a=240.500000.txt',\n",
       " 'D:\\\\mydata\\\\all_m_alpha\\\\m=0.388000,a=26.500000.txt',\n",
       " 'D:\\\\mydata\\\\all_m_alpha\\\\m=0.542000,a=193.500000.txt',\n",
       " 'D:\\\\mydata\\\\all_m_alpha\\\\m=0.406000,a=188.000000.txt',\n",
       " 'D:\\\\mydata\\\\all_m_alpha\\\\m=0.954000,a=182.250000.txt',\n",
       " 'D:\\\\mydata\\\\all_m_alpha\\\\m=0.482000,a=4.500000.txt',\n",
       " 'D:\\\\mydata\\\\all_m_alpha\\\\m=0.570000,a=110.250000.txt']"
      ]
     },
     "execution_count": 2,
     "metadata": {},
     "output_type": "execute_result"
    }
   ],
   "source": [
    "data_path = r'D:\\mydata\\all_m_alpha'\n",
    "fileNames = glob(os.path.join(data_path,'*0.txt'))\n",
    "_idx = np.arange(len(fileNames))\n",
    "np.random.shuffle(fileNames)\n",
    "fileNames[:10]\n",
    "# fileNames=fileNames[:1000]\n",
    "# fileNames[:10]"
   ]
  },
  {
   "cell_type": "code",
   "execution_count": 4,
   "metadata": {},
   "outputs": [],
   "source": [
    "# dump\n",
    "def dump(sr=None, size=10000):\n",
    "    \n",
    "    \n",
    "    if sr is None: # 从配置文件中获取 sr\n",
    "        with open(data_path+'\\\\输入参数文本.txt') as _f:\n",
    "            _paras = _f.readlines()\n",
    "            sr = int(_paras[2].split('\\t')[0]) + 1\n",
    "            print('sr=',sr)\n",
    "\n",
    "    # --------------------------------------------------------------通用begin\n",
    "    with open(fileNames[0]) as _f:\n",
    "        simple_size = sys.getsizeof(_f.read())/1024/1024 # Mb\n",
    "\n",
    "    size = size # 2048:2GB\n",
    "    num = int(size/simple_size)+1 # 每一次存的大小是 num个读取的文件\n",
    "    N = int(len(fileNames)//num)  # 存N次大小为num个的文件\n",
    "    last_num = len(fileNames)%num # 最后一次存的文件是 last_num个读取的文件\n",
    "    begin=0\n",
    "    print('size,simple_size,num,N,last_num\\n',size,simple_size,num,N,last_num)\n",
    "    for c_i in tqdm(range(N+1)):\n",
    "        if c_i==N:\n",
    "            num = last_num\n",
    "        last = begin+num\n",
    "        filename = fileNames[begin:last]\n",
    "    # --------------------------------------------------------------通用end\n",
    "        i1 = np.zeros((len(filename), sr))\n",
    "        i2 = np.zeros((len(filename), sr))\n",
    "        dop = np.zeros((len(filename), sr))\n",
    "        M,ALPHA = [], []\n",
    "        for idx, i in enumerate(filename):\n",
    "            baseName = os.path.basename(i) \n",
    "            m,alpha = baseName.split(',')\n",
    "            alpha = '.'.join(alpha.split('.')[:-1])\n",
    "            m = m.split('=')[-1]\n",
    "            alpha=alpha.split('=')[-1]\n",
    "            M.append(m)\n",
    "            ALPHA.append(alpha)\n",
    "\n",
    "            i1[idx] = pd.read_table(i, encoding='gb2312',sep='\\t',index_col=None).I1.to_numpy().astype(np.float32)\n",
    "            i2[idx] = pd.read_table(i, encoding='gb2312',sep='\\t',index_col=None).I2.to_numpy().astype(np.float32)\n",
    "            dop[idx] = pd.read_table(i, encoding='gb2312',sep='\\t',index_col=None).DOP.to_numpy().astype(np.float32)\n",
    "            \n",
    "        M, ALPHA = np.array(M).astype('float32'), np.array(ALPHA).astype('float32')\n",
    "    # --------------------------------------------------------------- 通用begin\n",
    "        out_path = r'D:\\mydata\\out_shuffle'\n",
    "        np.save(os.path.join(out_path, f'i1_{c_i}.npy'),i1)\n",
    "        np.save(os.path.join(out_path, f'i2_{c_i}.npy'),i2)\n",
    "        np.save(os.path.join(out_path, f'dop_{c_i}.npy'),dop)\n",
    "        np.savez(os.path.join(out_path, f'M_ALPHA_{c_i}.npz'),M=M,ALPHA=ALPHA)\n",
    "        begin = last\n",
    "    # --------------------------------------------------------------- 通用end\n",
    "    return out_path, sr\n"
   ]
  },
  {
   "cell_type": "code",
   "execution_count": null,
   "metadata": {},
   "outputs": [
    {
     "name": "stdout",
     "output_type": "stream",
     "text": [
      "sr= 2048\n",
      "size,simple_size,num,N,last_num\n",
      " 10000 0.1297311782836914 77083 4 27668\n"
     ]
    },
    {
     "name": "stderr",
     "output_type": "stream",
     "text": [
      " 60%|██████████████████████████████████████████████▊                               | 3/5 [2:04:33<1:23:31, 2505.87s/it]"
     ]
    }
   ],
   "source": [
    "target_path, sr = dump()"
   ]
  },
  {
   "cell_type": "code",
   "execution_count": 2,
   "metadata": {},
   "outputs": [],
   "source": [
    "target_path=r'D:\\mydata\\out_shuffle'\n",
    "sr = 2048"
   ]
  },
  {
   "cell_type": "code",
   "execution_count": 4,
   "metadata": {},
   "outputs": [
    {
     "name": "stdout",
     "output_type": "stream",
     "text": [
      "['C:\\\\mydata\\\\0.65_out_shuffle\\\\i1_0.npy', 'C:\\\\mydata\\\\0.65_out_shuffle\\\\i1_1.npy', 'C:\\\\mydata\\\\0.65_out_shuffle\\\\i1_2.npy', 'C:\\\\mydata\\\\0.65_out_shuffle\\\\i1_3.npy'] \n",
      " ['C:\\\\mydata\\\\0.65_out_shuffle\\\\i2_0.npy', 'C:\\\\mydata\\\\0.65_out_shuffle\\\\i2_1.npy', 'C:\\\\mydata\\\\0.65_out_shuffle\\\\i2_2.npy', 'C:\\\\mydata\\\\0.65_out_shuffle\\\\i2_3.npy'] \n",
      " ['C:\\\\mydata\\\\0.65_out_shuffle\\\\M_ALPHA_0.npz', 'C:\\\\mydata\\\\0.65_out_shuffle\\\\M_ALPHA_1.npz', 'C:\\\\mydata\\\\0.65_out_shuffle\\\\M_ALPHA_2.npz', 'C:\\\\mydata\\\\0.65_out_shuffle\\\\M_ALPHA_3.npz']\n",
      "(50500, 2048) (50500, 2048) (50500,)\n"
     ]
    }
   ],
   "source": [
    "# load\n",
    "def load_data(path):\n",
    "    fileNames = glob(os.path.join(path,'*'))\n",
    "    \n",
    "    name_i1 = [i for i in fileNames if 'i1' in i]\n",
    "    name_i2 = [i for i in fileNames if 'i2' in i]\n",
    "    name_dop = [i for i in fileNames if 'dop' in i]\n",
    "    name_m_alpha = [i for i in fileNames if 'M_ALPHA' in i]\n",
    "    print(name_i1,'\\n',name_i2,'\\n',name_m_alpha)\n",
    "    L = len(name_dop) # 3种文件数目相同\n",
    "    c = 0\n",
    "    while True:\n",
    "        i1 = np.load(name_i1[c%L])\n",
    "        i2 = np.load(name_i2[c%L])\n",
    "        dop = np.load(name_dop[c%L])\n",
    "        res = np.load(name_m_alpha[c%L])\n",
    "        M, ALPHA = res['M'], res['ALPHA']\n",
    "        print(i1.shape, i2.shape, M.shape)\n",
    "        c += 1\n",
    "        yield i1, i2, dop, M, ALPHA\n",
    "        \n",
    "\n",
    "data = load_data(target_path)\n",
    "i1, i2, dop, M, ALPHA = next(data)"
   ]
  },
  {
   "cell_type": "code",
   "execution_count": 47,
   "metadata": {},
   "outputs": [],
   "source": [
    "# M,ALPHA=[],[]\n",
    "# sr = 2048\n",
    "# i1 = np.zeros((len(fileNames), sr))\n",
    "# i2 = np.zeros((len(fileNames), sr))\n",
    "# dop = np.zeros((len(fileNames), sr))\n",
    "# for idx, i in enumerate(fileNames):\n",
    "#     baseName = os.path.basename(i) # 'm=0.95,a=973.88.txt'\n",
    "#     m,alpha = baseName.split(',')\n",
    "#     alpha = '.'.join(alpha.split('.')[:-1])\n",
    "#     m = m.split('=')[-1]\n",
    "#     alpha=alpha.split('=')[-1]\n",
    "#     M.append(m)\n",
    "#     ALPHA.append(alpha)\n",
    "    \n",
    "#     i1[idx] = pd.read_table(i, encoding='gb2312',sep='\\t',index_col=None).I1.to_numpy().astype(np.float32)\n",
    "#     i2[idx] = pd.read_table(i, encoding='gb2312',sep='\\t',index_col=None).I2.to_numpy().astype(np.float32)\n",
    "#     dop[idx] = pd.read_table(i, encoding='gb2312',sep='\\t',index_col=None).DOP.to_numpy().astype(np.float32)"
   ]
  },
  {
   "cell_type": "code",
   "execution_count": 5,
   "metadata": {},
   "outputs": [
    {
     "name": "stdout",
     "output_type": "stream",
     "text": [
      "(15363, 2048) (15363, 2048) (15363,)\n"
     ]
    },
    {
     "data": {
      "text/latex": [
       "$\\displaystyle \\left( \\left( 15363, \\  2048\\right), \\  \\left( 15363, \\  2048\\right), \\  \\left( 15363, \\  2048\\right), \\  \\left( 15363\\right), \\  \\left( 15363\\right)\\right)$"
      ],
      "text/plain": [
       "((15363, 2048), (15363, 2048), (15363, 2048), (15363,), (15363,))"
      ]
     },
     "execution_count": 5,
     "metadata": {},
     "output_type": "execute_result"
    }
   ],
   "source": [
    "i1, i2, dop, M, ALPHA = next(data)\n",
    "i1.shape, i2.shape, dop.shape, M.shape, ALPHA.shape"
   ]
  },
  {
   "cell_type": "code",
   "execution_count": 7,
   "metadata": {},
   "outputs": [
    {
     "data": {
      "text/plain": [
       "(0.836, 41.25)"
      ]
     },
     "execution_count": 7,
     "metadata": {},
     "output_type": "execute_result"
    },
    {
     "data": {
      "image/png": "[encoded data removed]",
      "text/plain": [
       "<Figure size 1152x576 with 1 Axes>"
      ]
     },
     "metadata": {
      "image/png": {
       "height": 463,
       "width": 932
      },
      "needs_background": "light"
     },
     "output_type": "display_data"
    }
   ],
   "source": [
    "IDX = 1000\n",
    "plt.figure(figsize=(16,8))\n",
    "plt.plot(np.log(i1[IDX]))\n",
    "M[IDX], ALPHA[IDX]"
   ]
  },
  {
   "cell_type": "code",
   "execution_count": 35,
   "metadata": {},
   "outputs": [
    {
     "data": {
      "text/plain": [
       "array([3644, 1685, 3467, ..., 3133, 1852, 2262])"
      ]
     },
     "execution_count": 35,
     "metadata": {},
     "output_type": "execute_result"
    }
   ],
   "source": [
    "L = len(fileNames)\n",
    "S = np.arange(L)\n",
    "np.random.shuffle(S)\n",
    "S"
   ]
  },
  {
   "cell_type": "code",
   "execution_count": 8,
   "metadata": {},
   "outputs": [],
   "source": [
    "def generateData(batch,theta1, theta2,i1, i2, dop,M, ALPHA, sr, L=i1.shape[0]):\n",
    "    S = np.arange(L-1)\n",
    "\n",
    "    d_the = (sr-1)/180\n",
    "    th1, th2 = int(theta1*d_the), int(theta2*d_the)\n",
    "    SR = th2-th1\n",
    "    while True:\n",
    "        np.random.shuffle(S)\n",
    "        series = S[:batch]\n",
    "        yield SR,\\\n",
    "        i1[series, th1:th2].astype(np.float32)[...,None], \\\n",
    "        i2[series, th1:th2].astype(np.float32)[...,None], \\\n",
    "        dop[series, th1:th2].astype(np.float32)[...,None], \\\n",
    "        np.array(M)[series].astype(np.float32)[...,None], \\\n",
    "        np.array(ALPHA)[series].astype(np.float32)[...,None]\n",
    "        \n",
    "theta1, theta2 = 15, 36\n",
    "\n",
    "data = generateData(15, theta1,theta2,i1,i2,dop,M,ALPHA,sr)\n",
    "SR = next(data)[0]"
   ]
  },
  {
   "cell_type": "code",
   "execution_count": 9,
   "metadata": {},
   "outputs": [
    {
     "name": "stdout",
     "output_type": "stream",
     "text": [
      "239\n",
      "(15, 239, 1)\n",
      "(15, 239, 1)\n",
      "(15, 239, 1)\n",
      "(15, 1)\n",
      "(15, 1)\n"
     ]
    }
   ],
   "source": [
    "print(next(data)[0])\n",
    "print(next(data)[1].shape) # i1\n",
    "print(next(data)[2].shape) # i2\n",
    "print(next(data)[3].shape) # dop\n",
    "print(next(data)[4].shape) # M\n",
    "print(next(data)[5].shape) # ALPHA"
   ]
  },
  {
   "cell_type": "code",
   "execution_count": 8,
   "metadata": {},
   "outputs": [],
   "source": [
    "NEXT = next(data)"
   ]
  },
  {
   "cell_type": "code",
   "execution_count": 9,
   "metadata": {},
   "outputs": [
    {
     "data": {
      "text/plain": [
       "(array([0.838], dtype=float32), array([56.75], dtype=float32))"
      ]
     },
     "execution_count": 9,
     "metadata": {},
     "output_type": "execute_result"
    },
    {
     "data": {
      "image/png": "[encoded data removed]",
      "text/plain": [
       "<Figure size 432x288 with 1 Axes>"
      ]
     },
     "metadata": {
      "image/png": {
       "height": 245,
       "width": 382
      },
      "needs_background": "light"
     },
     "output_type": "display_data"
    }
   ],
   "source": [
    "\n",
    "IDX = 11\n",
    "plt.plot(NEXT[2][IDX])\n",
    "NEXT[-2][IDX], NEXT[-1][IDX]"
   ]
  },
  {
   "cell_type": "code",
   "execution_count": 10,
   "metadata": {},
   "outputs": [],
   "source": [
    "# 指定CPU跑\n",
    "import os \n",
    "os.environ[\"CUDA_VISIBLE_DEVICES\"] = \"0\"\n",
    "import tensorflow as tf\n",
    "import numpy as np\n",
    "# tf.test.is_gpu_available()\n",
    "from tensorflow.keras import Input,Model\n",
    "from tensorflow.keras import layers\n",
    "from tensorflow.keras.layers import Dense, Concatenate, Conv2D,Conv1D,Convolution1D,\\\n",
    "Flatten, BatchNormalization,Input,Dropout\n",
    "from tensorflow.keras.layers import LeakyReLU, ReLU, LayerNormalization\n",
    "from tensorflow.keras.models import Sequential, Model\n",
    "from tensorflow.keras.optimizers import Adadelta, Adam, SGD\n",
    "from tensorflow.keras.losses import BinaryCrossentropy, CategoricalCrossentropy, MAE, KLD, MSLE, MSE"
   ]
  },
  {
   "cell_type": "code",
   "execution_count": 11,
   "metadata": {},
   "outputs": [],
   "source": [
    "# Model 1\n",
    "def model1():\n",
    "    input_x = Input(shape=(SR, 1))\n",
    "    # x = LayerNormalization()(input_x)\n",
    "    x = input_x\n",
    "\n",
    "    x = Conv1D(2, 4, strides=2,padding='same')(x)\n",
    "    # x = BatchNormalization()(x)\n",
    "    x = ReLU()(x)\n",
    "    x = Conv1D(4, 3, strides=2,padding='same')(x)\n",
    "\n",
    "    x = ReLU()(x)\n",
    "    x = Conv1D(8, 3, strides=2,padding='same')(x)\n",
    "\n",
    "    x = ReLU()(x)\n",
    "    x = Conv1D(16, 3, strides=2,padding='same')(x)\n",
    "\n",
    "    x = ReLU()(x)\n",
    "    x = Conv1D(32, 3, strides=2,padding='same')(x)\n",
    "\n",
    "    x = ReLU()(x)\n",
    "    x = Flatten()(x)\n",
    "\n",
    "    x = Dense(100,'relu')(x)\n",
    "    rm = Dense(1,'sigmoid')(x)\n",
    "    alpha = Dense(1,'relu')(x)\n",
    "    dop = Dense(1, 'tanh')(x)\n",
    "    model_m = Model(input_x, rm)\n",
    "    model_alpha = Model(input_x, alpha)\n",
    "    model_dop = Model(input_x, dop)\n",
    "    return model_m, model_alpha, model_dop"
   ]
  },
  {
   "cell_type": "code",
   "execution_count": 56,
   "metadata": {},
   "outputs": [],
   "source": [
    "# Model 2\n",
    "def model2():\n",
    "    input_x = Input(shape=(SR, 1))\n",
    "    # x = LayerNormalization()(input_x)\n",
    "    x = input_x\n",
    "    x = Flatten()(x)\n",
    "    \n",
    "    x = Dense(SR*10,'relu')(x)\n",
    "    x = Dense(SR*5,'relu')(x)\n",
    "    x = Dense(SR,'relu')(x)\n",
    "#     x = Dense(SR//2,'relu')(x)\n",
    "    rm = Dense(1,'sigmoid')(x)\n",
    "    alpha = Dense(1, 'relu')(x)\n",
    "    dop = Dense(1, 'sigmoid')(x)\n",
    "    \n",
    "    model_m = Model(input_x, rm)\n",
    "    model_alpha = Model(input_x, alpha)\n",
    "    model_dop = Model(input_x, dop)\n",
    "    return model_m, model_alpha, model_dop"
   ]
  },
  {
   "cell_type": "code",
   "execution_count": 12,
   "metadata": {},
   "outputs": [
    {
     "name": "stdout",
     "output_type": "stream",
     "text": [
      "Model: \"model_2\"\n",
      "_________________________________________________________________\n",
      "Layer (type)                 Output Shape              Param #   \n",
      "=================================================================\n",
      "input_1 (InputLayer)         [(None, 239, 1)]          0         \n",
      "_________________________________________________________________\n",
      "conv1d (Conv1D)              (None, 120, 2)            10        \n",
      "_________________________________________________________________\n",
      "re_lu (ReLU)                 (None, 120, 2)            0         \n",
      "_________________________________________________________________\n",
      "conv1d_1 (Conv1D)            (None, 60, 4)             28        \n",
      "_________________________________________________________________\n",
      "re_lu_1 (ReLU)               (None, 60, 4)             0         \n",
      "_________________________________________________________________\n",
      "conv1d_2 (Conv1D)            (None, 30, 8)             104       \n",
      "_________________________________________________________________\n",
      "re_lu_2 (ReLU)               (None, 30, 8)             0         \n",
      "_________________________________________________________________\n",
      "conv1d_3 (Conv1D)            (None, 15, 16)            400       \n",
      "_________________________________________________________________\n",
      "re_lu_3 (ReLU)               (None, 15, 16)            0         \n",
      "_________________________________________________________________\n",
      "conv1d_4 (Conv1D)            (None, 8, 32)             1568      \n",
      "_________________________________________________________________\n",
      "re_lu_4 (ReLU)               (None, 8, 32)             0         \n",
      "_________________________________________________________________\n",
      "flatten (Flatten)            (None, 256)               0         \n",
      "_________________________________________________________________\n",
      "dense (Dense)                (None, 100)               25700     \n",
      "_________________________________________________________________\n",
      "dense_3 (Dense)              (None, 1)                 101       \n",
      "=================================================================\n",
      "Total params: 27,911\n",
      "Trainable params: 27,911\n",
      "Non-trainable params: 0\n",
      "_________________________________________________________________\n"
     ]
    }
   ],
   "source": [
    "model_rm, model_alpha, model_dop = model1()\n",
    "\n",
    "model = model_dop\n",
    "# model = model_rm\n",
    "model.summary()"
   ]
  },
  {
   "cell_type": "code",
   "execution_count": 13,
   "metadata": {},
   "outputs": [],
   "source": [
    "model.compile(loss= MSE,\n",
    "              optimizer=Adam(learning_rate=2e-4, beta_1=0.5)\n",
    "#               optimizer=SGD()\n",
    "             )"
   ]
  },
  {
   "cell_type": "code",
   "execution_count": 14,
   "metadata": {},
   "outputs": [
    {
     "name": "stdout",
     "output_type": "stream",
     "text": [
      "['C:\\\\mydata\\\\0.65_out_shuffle\\\\i1_0.npy', 'C:\\\\mydata\\\\0.65_out_shuffle\\\\i1_1.npy', 'C:\\\\mydata\\\\0.65_out_shuffle\\\\i1_2.npy', 'C:\\\\mydata\\\\0.65_out_shuffle\\\\i1_3.npy'] \n",
      " ['C:\\\\mydata\\\\0.65_out_shuffle\\\\i2_0.npy', 'C:\\\\mydata\\\\0.65_out_shuffle\\\\i2_1.npy', 'C:\\\\mydata\\\\0.65_out_shuffle\\\\i2_2.npy', 'C:\\\\mydata\\\\0.65_out_shuffle\\\\i2_3.npy'] \n",
      " ['C:\\\\mydata\\\\0.65_out_shuffle\\\\M_ALPHA_0.npz', 'C:\\\\mydata\\\\0.65_out_shuffle\\\\M_ALPHA_1.npz', 'C:\\\\mydata\\\\0.65_out_shuffle\\\\M_ALPHA_2.npz', 'C:\\\\mydata\\\\0.65_out_shuffle\\\\M_ALPHA_3.npz']\n",
      "(50500, 2048) (50500, 2048) (50500,)\n",
      "loss: 0.5591524839401245\n",
      "loss: 0.00462200166657567\n",
      "loss: 0.004098606761544943\n",
      "loss: 0.0035409065894782543\n",
      "loss: 0.0032955685164779425\n",
      "loss: 0.003164903726428747\n",
      "(15363, 2048) (15363, 2048) (15363,)\n",
      "loss: 0.0027004829607903957\n",
      "loss: 0.0024014622904360294\n",
      "loss: 0.00210954574868083\n",
      "loss: 0.0019659106619656086\n",
      "loss: 0.0018662193324416876\n",
      "loss: 0.0016202315455302596\n",
      "(15363, 2048) (15363, 2048) (15363,)\n",
      "loss: 0.001590884174220264\n",
      "loss: 0.001583944307640195\n",
      "loss: 0.0015526182251051068\n",
      "loss: 0.0013505758251994848\n",
      "loss: 0.0014974690275266767\n",
      "loss: 0.001244748942553997\n",
      "(4411, 2048) (4411, 2048) (4411,)\n"
     ]
    },
    {
     "ename": "IndexError",
     "evalue": "index 5661 is out of bounds for axis 0 with size 4411",
     "output_type": "error",
     "traceback": [
      "\u001b[1;31m---------------------------------------------------------------------------\u001b[0m",
      "\u001b[1;31mIndexError\u001b[0m                                Traceback (most recent call last)",
      "\u001b[1;32m<ipython-input-14-bc21f2839515>\u001b[0m in \u001b[0;36m<module>\u001b[1;34m\u001b[0m\n\u001b[0;32m     11\u001b[0m     \u001b[1;31m# 使用集成度较低的 Model.train_on_batch方法，自行设定batch数据　和　epochs\u001b[0m\u001b[1;33m\u001b[0m\u001b[1;33m\u001b[0m\u001b[1;33m\u001b[0m\u001b[0m\n\u001b[0;32m     12\u001b[0m     \u001b[1;32mfor\u001b[0m \u001b[0mstep\u001b[0m \u001b[1;32min\u001b[0m \u001b[0mrange\u001b[0m\u001b[1;33m(\u001b[0m\u001b[1;36m300\u001b[0m\u001b[1;33m)\u001b[0m\u001b[1;33m:\u001b[0m\u001b[1;33m\u001b[0m\u001b[1;33m\u001b[0m\u001b[0m\n\u001b[1;32m---> 13\u001b[1;33m         \u001b[0mtrain_data\u001b[0m \u001b[1;33m=\u001b[0m \u001b[0mnext\u001b[0m\u001b[1;33m(\u001b[0m\u001b[0mdata\u001b[0m\u001b[1;33m)\u001b[0m\u001b[1;33m\u001b[0m\u001b[1;33m\u001b[0m\u001b[0m\n\u001b[0m\u001b[0;32m     14\u001b[0m     \u001b[1;31m#     cost = model.train_on_batch(train_data[1], train_data[-2]) # i1\u001b[0m\u001b[1;33m\u001b[0m\u001b[1;33m\u001b[0m\u001b[1;33m\u001b[0m\u001b[0m\n\u001b[0;32m     15\u001b[0m     \u001b[1;31m#     cost = model.train_on_batch(train_data[2], train_data[-2]) # i2\u001b[0m\u001b[1;33m\u001b[0m\u001b[1;33m\u001b[0m\u001b[1;33m\u001b[0m\u001b[0m\n",
      "\u001b[1;32m<ipython-input-8-ea570ff969a6>\u001b[0m in \u001b[0;36mgenerateData\u001b[1;34m(batch, theta1, theta2, i1, i2, dop, M, ALPHA, sr, L)\u001b[0m\n\u001b[0;32m      9\u001b[0m         \u001b[0mseries\u001b[0m \u001b[1;33m=\u001b[0m \u001b[0mS\u001b[0m\u001b[1;33m[\u001b[0m\u001b[1;33m:\u001b[0m\u001b[0mbatch\u001b[0m\u001b[1;33m]\u001b[0m\u001b[1;33m\u001b[0m\u001b[1;33m\u001b[0m\u001b[0m\n\u001b[0;32m     10\u001b[0m         \u001b[1;32myield\u001b[0m \u001b[0mSR\u001b[0m\u001b[1;33m,\u001b[0m\u001b[0;31m\\\u001b[0m\u001b[1;33m\u001b[0m\u001b[1;33m\u001b[0m\u001b[0m\n\u001b[1;32m---> 11\u001b[1;33m         \u001b[0mi1\u001b[0m\u001b[1;33m[\u001b[0m\u001b[0mseries\u001b[0m\u001b[1;33m,\u001b[0m \u001b[0mth1\u001b[0m\u001b[1;33m:\u001b[0m\u001b[0mth2\u001b[0m\u001b[1;33m]\u001b[0m\u001b[1;33m.\u001b[0m\u001b[0mastype\u001b[0m\u001b[1;33m(\u001b[0m\u001b[0mnp\u001b[0m\u001b[1;33m.\u001b[0m\u001b[0mfloat32\u001b[0m\u001b[1;33m)\u001b[0m\u001b[1;33m[\u001b[0m\u001b[1;33m...\u001b[0m\u001b[1;33m,\u001b[0m\u001b[1;32mNone\u001b[0m\u001b[1;33m]\u001b[0m\u001b[1;33m,\u001b[0m\u001b[0;31m \u001b[0m\u001b[0;31m\\\u001b[0m\u001b[1;33m\u001b[0m\u001b[1;33m\u001b[0m\u001b[0m\n\u001b[0m\u001b[0;32m     12\u001b[0m         \u001b[0mi2\u001b[0m\u001b[1;33m[\u001b[0m\u001b[0mseries\u001b[0m\u001b[1;33m,\u001b[0m \u001b[0mth1\u001b[0m\u001b[1;33m:\u001b[0m\u001b[0mth2\u001b[0m\u001b[1;33m]\u001b[0m\u001b[1;33m.\u001b[0m\u001b[0mastype\u001b[0m\u001b[1;33m(\u001b[0m\u001b[0mnp\u001b[0m\u001b[1;33m.\u001b[0m\u001b[0mfloat32\u001b[0m\u001b[1;33m)\u001b[0m\u001b[1;33m[\u001b[0m\u001b[1;33m...\u001b[0m\u001b[1;33m,\u001b[0m\u001b[1;32mNone\u001b[0m\u001b[1;33m]\u001b[0m\u001b[1;33m,\u001b[0m\u001b[0;31m \u001b[0m\u001b[0;31m\\\u001b[0m\u001b[1;33m\u001b[0m\u001b[1;33m\u001b[0m\u001b[0m\n\u001b[0;32m     13\u001b[0m         \u001b[0mdop\u001b[0m\u001b[1;33m[\u001b[0m\u001b[0mseries\u001b[0m\u001b[1;33m,\u001b[0m \u001b[0mth1\u001b[0m\u001b[1;33m:\u001b[0m\u001b[0mth2\u001b[0m\u001b[1;33m]\u001b[0m\u001b[1;33m.\u001b[0m\u001b[0mastype\u001b[0m\u001b[1;33m(\u001b[0m\u001b[0mnp\u001b[0m\u001b[1;33m.\u001b[0m\u001b[0mfloat32\u001b[0m\u001b[1;33m)\u001b[0m\u001b[1;33m[\u001b[0m\u001b[1;33m...\u001b[0m\u001b[1;33m,\u001b[0m\u001b[1;32mNone\u001b[0m\u001b[1;33m]\u001b[0m\u001b[1;33m,\u001b[0m\u001b[0;31m \u001b[0m\u001b[0;31m\\\u001b[0m\u001b[1;33m\u001b[0m\u001b[1;33m\u001b[0m\u001b[0m\n",
      "\u001b[1;31mIndexError\u001b[0m: index 5661 is out of bounds for axis 0 with size 4411"
     ]
    }
   ],
   "source": [
    "batch = 500\n",
    "theta1, theta2 = 15, 36\n",
    "DATA = load_data(target_path)\n",
    "Big_loop = 0\n",
    "while Big_loop < 500:\n",
    "\n",
    "    i1,i2,dop,M,ALPHA = next(DATA)\n",
    "    Big_loop += 1\n",
    "    data = generateData(batch,theta1,theta2,i1,i2,dop,M,ALPHA,sr)\n",
    "    \n",
    "    # 使用集成度较低的 Model.train_on_batch方法，自行设定batch数据　和　epochs\n",
    "    for step in range(600):\n",
    "        train_data = next(data)\n",
    "    #     cost = model.train_on_batch(train_data[1], train_data[-2]) # i1\n",
    "    #     cost = model.train_on_batch(train_data[2], train_data[-2]) # i2\n",
    "        cost = model.train_on_batch(train_data[3], train_data[-2]) # dop\n",
    "\n",
    "        if step%100==0:\n",
    "            print(f'loss: {cost}')"
   ]
  },
  {
   "cell_type": "code",
   "execution_count": 65,
   "metadata": {},
   "outputs": [],
   "source": [
    "def test_simple(theta1, theta2, alpha, rm, noise=False):\n",
    "    test_i1, test_i2, test_dop = gen(alpha = alpha, rm = rm, N_ta = sr-1) # \n",
    "    \n",
    "    d_the = (sr-1)/180\n",
    "    th1, th2 = int(theta1*d_the), int(theta2*d_the)\n",
    "    SR = th2-th1\n",
    "    test_i1, test_i2, test_dop = test_i1[th1:th2], test_i2[th1:th2], test_dop[th1:th2]\n",
    "    \n",
    "    if noise:\n",
    "        noise = np.random.rand(SR, 1) * 0.05\n",
    "        noise_dop = (np.random.rand(SR, 1)-0.5) * 0.05\n",
    "        test_i1, test_i2, = test_i1+noise, test_i2+noise\n",
    "        test_dop = test_dop + noise_dop\n",
    "    return test_i1, test_i2, test_dop \n",
    "\n",
    "def test_batch():\n",
    "    RM = [0.32, 0.42, 0.52, 0.62, 0.72, 0.82, 0.92]\n",
    "    ALPHA=[1.2, 10.2, 20.2, 50.2, 100.2, 150.2, 200.2, 250.2]\n",
    "    RES = np.zeros((len(RM),len(ALPHA)))\n",
    "    for ir, rm in enumerate(RM):\n",
    "        for ia, alpha in enumerate(ALPHA):\n",
    "            test_dop = test_simple(theta1, theta2,alpha,rm, noise=0)[2]\n",
    "            pred_rm = model.predict(test_dop[None,])\n",
    "            \n",
    "            RES[ir][ia] = pred_rm\n",
    "    \n",
    "    loss_rm = np.mean(RES, axis=1)\n",
    "    std_rm = np.std(RES, axis=1)\n",
    "    return std_rm, loss_rm"
   ]
  },
  {
   "cell_type": "code",
   "execution_count": 66,
   "metadata": {},
   "outputs": [
    {
     "name": "stdout",
     "output_type": "stream",
     "text": [
      "[[0.6563594]]\n"
     ]
    }
   ],
   "source": [
    "# pred_data = model.predict(np.log(test_i2[None,]))\n",
    "pred_data = model.predict(test_dop[None,])\n",
    "print(pred_data)"
   ]
  },
  {
   "cell_type": "code",
   "execution_count": 21,
   "metadata": {},
   "outputs": [],
   "source": [
    "def test_generateData(alpha,rm,im =0.0,N_ta = 2**13-1):\n",
    "    origin_path = os.getcwd()\n",
    "#     os.chdir(r\"C:\\Users\\beidongjiedeguang\\Desktop\\测试文件夹\")\n",
    "    os.chdir(r\"C:\\Users\\Administrator\\OneDrive\\Mie测试文件夹\")\n",
    "    exeName = \"Mie_Calculation.exe\"\n",
    "    txtName = '输入参数文本.txt'\n",
    "\n",
    "    Ta_min, Ta_max = 0,180\n",
    "    with open(txtName,'w') as f1:\n",
    "        f1.write('{}\\n{:.3f}\\t{:.3f}\\n{}\\t{:.2f}\\t{:.2f}'\n",
    "                .format(alpha,rm,im,N_ta,Ta_min,Ta_max))\n",
    "\n",
    "    os.system(exeName)\n",
    "    dataName = \"散射光强角分布.txt\"\n",
    "    # 没想到c写出来的不是utf-8编码的，所以这里encoding='gbk'，后面这个delimiter随便要不要\n",
    "    data = pd.read_csv(dataName,sep ='\\t',engine='python',encoding='gbk',delimiter='\\s+')\n",
    "    os.remove(dataName)\n",
    "    os.chdir(origin_path)\n",
    "    return data\n",
    "\n",
    "def gen(alpha = 900, rm = 1.7, im= 0.0, N_ta = 2**13-1):\n",
    "    data = test_generateData(alpha,rm,im, N_ta = N_ta)\n",
    "    theta = data['散射角'].to_numpy()\n",
    "    i1, i2, DOP = data['I1'].to_numpy(), data['I2'].to_numpy(), data['可视度'].to_numpy()\n",
    "    return i1[...,None], i2[...,None], DOP[...,None]"
   ]
  },
  {
   "cell_type": "code",
   "execution_count": 132,
   "metadata": {},
   "outputs": [],
   "source": []
  },
  {
   "cell_type": "code",
   "execution_count": null,
   "metadata": {},
   "outputs": [],
   "source": []
  }
 ],
 "metadata": {
  "kernelspec": {
   "display_name": "Python 3",
   "language": "python",
   "name": "python3"
  },
  "language_info": {
   "codemirror_mode": {
    "name": "ipython",
    "version": 3
   },
   "file_extension": ".py",
   "mimetype": "text/x-python",
   "name": "python",
   "nbconvert_exporter": "python",
   "pygments_lexer": "ipython3",
   "version": "3.7.3"
  }
 },
 "nbformat": 4,
 "nbformat_minor": 4
}
