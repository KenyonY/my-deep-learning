{
  "cells": [
    {
      "cell_type": "markdown",
      "source": [
        "# import data"
      ],
      "metadata": {}
    },
    {
      "cell_type": "code",
      "source": [
        "from glob import glob\n",
        "import os\n",
        "import sys\n",
        "from tqdm import tqdm"
      ],
      "outputs": [],
      "execution_count": 1,
      "metadata": {
        "pycharm": {
          "is_executing": false
        }
      }
    },
    {
      "cell_type": "code",
      "source": [
        "# 读取数据\n",
        "data_path = r'E:\\MIEdata'\n",
        "fileNames = glob(data_path+'\\\\p=-1*.txt')\n",
        "\n",
        "M,ALPHA=[],[]\n",
        "sr = 1800 + 1\n",
        "i1 = np.zeros((len(fileNames), sr))\n",
        "i2 = np.zeros((len(fileNames), sr))\n",
        "for idx, i in enumerate(fileNames):\n",
        "    baseName = os.path.basename(i) # 'p=-1,m=0.95,a=973.88.txt'\n",
        "    _,m,alpha = baseName.split(',')\n",
        "    alpha = '.'.join(alpha.split('.')[:-1])\n",
        "    m = m.split('=')[-1]\n",
        "    alpha=alpha.split('=')[-1]\n",
        "    M.append(m)\n",
        "    ALPHA.append(alpha)\n",
        "    i1[idx] = pd.read_table(i, encoding='gb2312',sep='\\t',index_col=None).I1.to_numpy().astype(np.float32)\n",
        "    i2[idx] = pd.read_table(i, encoding='gb2312',sep='\\t',index_col=None).I2.to_numpy().astype(np.float32)"
      ],
      "outputs": [],
      "execution_count": 2,
      "metadata": {
        "collapsed": true,
        "jupyter": {
          "outputs_hidden": true
        },
        "pycharm": {
          "is_executing": false
        }
      }
    },
    {
      "cell_type": "code",
      "source": [
        "data_path = r'D:\\mydata\\all_m_alpha'\n",
        "fileNames = glob(os.path.join(data_path,'*0.txt'))\n",
        "_idx = np.arange(len(fileNames))\n",
        "np.random.shuffle(fileNames)\n",
        "fileNames[:10]\n",
        "# fileNames=fileNames[:1000]\n",
        "# fileNames[:10]"
      ],
      "outputs": [
        {
          "output_type": "execute_result",
          "execution_count": 2,
          "data": {
            "text/plain": [
              "['D:\\\\mydata\\\\all_m_alpha\\\\m=0.614000,a=1.250000.txt',\n",
              " 'D:\\\\mydata\\\\all_m_alpha\\\\m=0.428000,a=73.000000.txt',\n",
              " 'D:\\\\mydata\\\\all_m_alpha\\\\m=0.312000,a=68.000000.txt',\n",
              " 'D:\\\\mydata\\\\all_m_alpha\\\\m=0.578000,a=240.500000.txt',\n",
              " 'D:\\\\mydata\\\\all_m_alpha\\\\m=0.388000,a=26.500000.txt',\n",
              " 'D:\\\\mydata\\\\all_m_alpha\\\\m=0.542000,a=193.500000.txt',\n",
              " 'D:\\\\mydata\\\\all_m_alpha\\\\m=0.406000,a=188.000000.txt',\n",
              " 'D:\\\\mydata\\\\all_m_alpha\\\\m=0.954000,a=182.250000.txt',\n",
              " 'D:\\\\mydata\\\\all_m_alpha\\\\m=0.482000,a=4.500000.txt',\n",
              " 'D:\\\\mydata\\\\all_m_alpha\\\\m=0.570000,a=110.250000.txt']"
            ]
          },
          "metadata": {}
        }
      ],
      "execution_count": 2,
      "metadata": {}
    },
    {
      "cell_type": "code",
      "source": [
        "# dump\n",
        "def dump(sr=None, size=10000):\n",
        "    \n",
        "    \n",
        "    if sr is None: # 从配置文件中获取 sr\n",
        "        with open(data_path+'\\\\输入参数文本.txt') as _f:\n",
        "            _paras = _f.readlines()\n",
        "            sr = int(_paras[2].split('\\t')[0]) + 1\n",
        "            print('sr=',sr)\n",
        "\n",
        "    # --------------------------------------------------------------通用begin\n",
        "    with open(fileNames[0]) as _f:\n",
        "        simple_size = sys.getsizeof(_f.read())/1024/1024 # Mb\n",
        "\n",
        "    size = size # 2048:2GB\n",
        "    num = int(size/simple_size)+1 # 每一次存的大小是 num个读取的文件\n",
        "    N = int(len(fileNames)//num)  # 存N次大小为num个的文件\n",
        "    last_num = len(fileNames)%num # 最后一次存的文件是 last_num个读取的文件\n",
        "    begin=0\n",
        "    print('size,simple_size,num,N,last_num\\n',size,simple_size,num,N,last_num)\n",
        "    for c_i in tqdm(range(N+1)):\n",
        "        if c_i==N:\n",
        "            num = last_num\n",
        "        last = begin+num\n",
        "        filename = fileNames[begin:last]\n",
        "    # --------------------------------------------------------------通用end\n",
        "        i1 = np.zeros((len(filename), sr))\n",
        "        i2 = np.zeros((len(filename), sr))\n",
        "        dop = np.zeros((len(filename), sr))\n",
        "        M,ALPHA = [], []\n",
        "        for idx, i in enumerate(filename):\n",
        "            baseName = os.path.basename(i) \n",
        "            m,alpha = baseName.split(',')\n",
        "            alpha = '.'.join(alpha.split('.')[:-1])\n",
        "            m = m.split('=')[-1]\n",
        "            alpha=alpha.split('=')[-1]\n",
        "            M.append(m)\n",
        "            ALPHA.append(alpha)\n",
        "\n",
        "            i1[idx] = pd.read_table(i, encoding='gb2312',sep='\\t',index_col=None).I1.to_numpy().astype(np.float32)\n",
        "            i2[idx] = pd.read_table(i, encoding='gb2312',sep='\\t',index_col=None).I2.to_numpy().astype(np.float32)\n",
        "            dop[idx] = pd.read_table(i, encoding='gb2312',sep='\\t',index_col=None).DOP.to_numpy().astype(np.float32)\n",
        "            \n",
        "        M, ALPHA = np.array(M).astype('float32'), np.array(ALPHA).astype('float32')\n",
        "    # --------------------------------------------------------------- 通用begin\n",
        "        out_path = r'D:\\mydata\\out_shuffle'\n",
        "        np.save(os.path.join(out_path, f'i1_{c_i}.npy'),i1)\n",
        "        np.save(os.path.join(out_path, f'i2_{c_i}.npy'),i2)\n",
        "        np.save(os.path.join(out_path, f'dop_{c_i}.npy'),dop)\n",
        "        np.savez(os.path.join(out_path, f'M_ALPHA_{c_i}.npz'),M=M,ALPHA=ALPHA)\n",
        "        begin = last\n",
        "    # --------------------------------------------------------------- 通用end\n",
        "    return out_path, sr\n"
      ],
      "outputs": [],
      "execution_count": 4,
      "metadata": {}
    },
    {
      "cell_type": "code",
      "source": [
        "target_path, sr = dump()"
      ],
      "outputs": [
        {
          "output_type": "stream",
          "name": "stdout",
          "text": [
            "sr= 2048\n",
            "size,simple_size,num,N,last_num\n",
            " 10000 0.1297311782836914 77083 4 27668\n"
          ]
        },
        {
          "output_type": "stream",
          "name": "stderr",
          "text": [
            "100%|████████████████████████████████████████████████████████████████████████████████| 5/5 [2:58:46<00:00, 2145.25s/it]\n"
          ]
        }
      ],
      "execution_count": 5,
      "metadata": {}
    },
    {
      "cell_type": "markdown",
      "source": [
        "# load data"
      ],
      "metadata": {}
    },
    {
      "cell_type": "code",
      "source": [
        "target_path=r'D:\\mydata\\out_shuffle'\n",
        "sr = 2048"
      ],
      "outputs": [],
      "execution_count": 3,
      "metadata": {
        "pycharm": {
          "is_executing": false
        }
      }
    },
    {
      "cell_type": "code",
      "source": [
        "# load\n",
        "def load_data(path):\n",
        "    fileNames = glob(os.path.join(path,'*'))\n",
        "    \n",
        "    name_i1 = [i for i in fileNames if 'i1' in i]\n",
        "    name_i2 = [i for i in fileNames if 'i2' in i]\n",
        "    name_dop = [i for i in fileNames if 'dop' in i]\n",
        "    name_m_alpha = [i for i in fileNames if 'M_ALPHA' in i]\n",
        "    L = len(name_dop) # 3种文件数目相同\n",
        "    c = 0\n",
        "    while True:\n",
        "        i1 = np.load(name_i1[c%L])\n",
        "        i2 = np.load(name_i2[c%L])\n",
        "        dop = np.load(name_dop[c%L])\n",
        "        res = np.load(name_m_alpha[c%L])\n",
        "        M, ALPHA = res['M'], res['ALPHA']\n",
        "        print(i1.shape, i2.shape, M.shape)\n",
        "        c += 1\n",
        "        yield i1, i2, dop, M, ALPHA\n",
        "        \n",
        "\n",
        "data = load_data(target_path)\n",
        "i1, i2, dop, M, ALPHA = next(data)"
      ],
      "outputs": [
        {
          "output_type": "stream",
          "name": "stdout",
          "text": [
            "(77083, 2048) (77083, 2048) (77083,)\n"
          ]
        }
      ],
      "execution_count": 4,
      "metadata": {
        "pycharm": {
          "is_executing": false
        }
      }
    },
    {
      "cell_type": "code",
      "source": [
        "# M,ALPHA=[],[]\n",
        "# sr = 2048\n",
        "# i1 = np.zeros((len(fileNames), sr))\n",
        "# i2 = np.zeros((len(fileNames), sr))\n",
        "# dop = np.zeros((len(fileNames), sr))\n",
        "# for idx, i in enumerate(fileNames):\n",
        "#     baseName = os.path.basename(i) # 'm=0.95,a=973.88.txt'\n",
        "#     m,alpha = baseName.split(',')\n",
        "#     alpha = '.'.join(alpha.split('.')[:-1])\n",
        "#     m = m.split('=')[-1]\n",
        "#     alpha=alpha.split('=')[-1]\n",
        "#     M.append(m)\n",
        "#     ALPHA.append(alpha)\n",
        "    \n",
        "#     i1[idx] = pd.read_table(i, encoding='gb2312',sep='\\t',index_col=None).I1.to_numpy().astype(np.float32)\n",
        "#     i2[idx] = pd.read_table(i, encoding='gb2312',sep='\\t',index_col=None).I2.to_numpy().astype(np.float32)\n",
        "#     dop[idx] = pd.read_table(i, encoding='gb2312',sep='\\t',index_col=None).DOP.to_numpy().astype(np.float32)"
      ],
      "outputs": [],
      "execution_count": 7,
      "metadata": {}
    },
    {
      "cell_type": "code",
      "source": [
        "i1, i2, dop, M, ALPHA = next(data)\n",
        "i1.shape, i2.shape, dop.shape, M.shape, ALPHA.shape"
      ],
      "outputs": [
        {
          "output_type": "stream",
          "name": "stdout",
          "text": [
            "(77083, 2048) (77083, 2048) (77083,)\n"
          ]
        },
        {
          "output_type": "execute_result",
          "execution_count": 4,
          "data": {
            "text/latex": [
              "$\\displaystyle \\left( \\left( 77083, \\  2048\\right), \\  \\left( 77083, \\  2048\\right), \\  \\left( 77083, \\  2048\\right), \\  \\left( 77083\\right), \\  \\left( 77083\\right)\\right)$"
            ],
            "text/plain": [
              "((77083, 2048), (77083, 2048), (77083, 2048), (77083,), (77083,))"
            ]
          },
          "metadata": {}
        }
      ],
      "execution_count": 4,
      "metadata": {}
    },
    {
      "cell_type": "code",
      "source": [
        "IDX = 20000\n",
        "plt.figure(figsize=(16,8))\n",
        "plt.plot(np.log(i1[IDX]))\n",
        "M[IDX], ALPHA[IDX]"
      ],
      "outputs": [
        {
          "output_type": "execute_result",
          "execution_count": 5,
          "data": {
            "text/plain": [
              "(0.332, 33.0)"
            ]
          },
          "metadata": {}
        },
        {
          "output_type": "display_data",
          "data": {
            "image/png": "[encoded data removed]",
            "text/plain": [
              "<Figure size 1152x576 with 1 Axes>"
            ]
          },
          "metadata": {
            "image/png": {
              "height": 463,
              "width": 922
            },
            "needs_background": "light"
          }
        }
      ],
      "execution_count": 5,
      "metadata": {}
    },
    {
      "cell_type": "code",
      "source": [
        "L = len(fileNames)\n",
        "S = np.arange(L)\n",
        "np.random.shuffle(S)\n",
        "S"
      ],
      "outputs": [
        {
          "output_type": "execute_result",
          "execution_count": 11,
          "data": {
            "text/plain": [
              "array([ 61776, 121884,  43504, ..., 202909, 247398,  36099])"
            ]
          },
          "metadata": {}
        }
      ],
      "execution_count": 11,
      "metadata": {}
    },
    {
      "cell_type": "markdown",
      "source": [
        "# generateData"
      ],
      "metadata": {}
    },
    {
      "cell_type": "code",
      "source": [
        "def generateData(batch,theta1, theta2,i1, i2, dop,M, ALPHA, sr, L=i1.shape[0]):\n",
        "    S = np.arange(L-1)\n",
        "\n",
        "    d_the = (sr-1)/180\n",
        "    th1, th2 = int(theta1*d_the), int(theta2*d_the)\n",
        "    SR = th2-th1\n",
        "    while True:\n",
        "        np.random.shuffle(S)\n",
        "        series = S[:batch]\n",
        "        yield SR,\\\n",
        "        i1[series, th1:th2].astype(np.float32)[...,None], \\\n",
        "        i2[series, th1:th2].astype(np.float32)[...,None], \\\n",
        "        dop[series, th1:th2].astype(np.float32)[...,None], \\\n",
        "        np.array(M)[series].astype(np.float32)[...,None], \\\n",
        "        np.array(ALPHA)[series].astype(np.float32)[...,None]\n",
        "        \n",
        "theta1, theta2 = 15, 36\n",
        "\n",
        "data = generateData(15, theta1,theta2,i1,i2,dop,M,ALPHA,sr, i1.shape[0])\n",
        "SR = next(data)[0]"
      ],
      "outputs": [],
      "execution_count": 5,
      "metadata": {
        "pycharm": {
          "is_executing": false
        }
      }
    },
    {
      "cell_type": "code",
      "source": [
        "print(next(data)[0])\n",
        "print(next(data)[1].shape) # i1\n",
        "print(next(data)[2].shape) # i2\n",
        "print(next(data)[3].shape) # dop\n",
        "print(next(data)[4].shape) # M\n",
        "print(next(data)[5].shape) # ALPHA"
      ],
      "outputs": [
        {
          "output_type": "stream",
          "name": "stdout",
          "text": [
            "239\n",
            "(15, 239, 1)\n",
            "(15, 239, 1)\n",
            "(15, 239, 1)\n",
            "(15, 1)\n",
            "(15, 1)\n"
          ]
        }
      ],
      "execution_count": 6,
      "metadata": {}
    },
    {
      "cell_type": "code",
      "source": [
        "NEXT = next(data)"
      ],
      "outputs": [],
      "execution_count": 14,
      "metadata": {}
    },
    {
      "cell_type": "code",
      "source": [
        "\n",
        "IDX = 11\n",
        "plt.plot(NEXT[3][IDX])\n",
        "NEXT[-2][IDX], NEXT[-1][IDX]"
      ],
      "outputs": [
        {
          "output_type": "execute_result",
          "execution_count": 105,
          "data": {
            "text/plain": [
              "(array([0.45], dtype=float32), array([184.75], dtype=float32))"
            ]
          },
          "metadata": {}
        },
        {
          "output_type": "display_data",
          "data": {
            "image/png": "[encoded data removed]",
            "text/plain": [
              "<Figure size 432x288 with 1 Axes>"
            ]
          },
          "metadata": {
            "image/png": {
              "height": 245,
              "width": 380
            },
            "needs_background": "light"
          }
        }
      ],
      "execution_count": 105,
      "metadata": {}
    },
    {
      "cell_type": "markdown",
      "source": [
        "# model"
      ],
      "metadata": {}
    },
    {
      "cell_type": "code",
      "source": [
        "import os \n",
        "os.environ[\"CUDA_VISIBLE_DEVICES\"] = \"0\"\n",
        "import tensorflow as tf\n",
        "import numpy as np\n",
        "# tf.test.is_gpu_available()\n",
        "from tensorflow.keras import Input,Model\n",
        "from tensorflow.keras import layers\n",
        "from tensorflow.keras.layers import Dense, Concatenate, Conv2D,Conv1D,Convolution1D,\\\n",
        "Flatten, BatchNormalization,Input,Dropout\n",
        "from tensorflow.keras.layers import LeakyReLU, ReLU, LayerNormalization\n",
        "from tensorflow.keras.models import Sequential, Model\n",
        "from tensorflow.keras.optimizers import Adadelta, Adam, SGD\n",
        "from tensorflow.keras.losses import BinaryCrossentropy, CategoricalCrossentropy, MAE, KLD, MSLE, MSE"
      ],
      "outputs": [],
      "execution_count": 6,
      "metadata": {
        "pycharm": {
          "is_executing": false
        }
      }
    },
    {
      "cell_type": "code",
      "source": [
        "# Model 1\n",
        "def model1(SR):\n",
        "    input_x = Input(shape=(SR, 1))\n",
        "    # x = LayerNormalization()(input_x)\n",
        "    x = input_x\n",
        "\n",
        "    x = Conv1D(3, 4, strides=2,padding='same')(x)\n",
        "    # x = BatchNormalization()(x)\n",
        "    x = ReLU()(x)\n",
        "    x = Conv1D(3, 3, strides=2,padding='same')(x)\n",
        "\n",
        "    x = ReLU()(x)\n",
        "    x = Conv1D(3, 3, strides=2,padding='same')(x)\n",
        "\n",
        "    x = ReLU()(x)\n",
        "    x = Conv1D(3, 3, strides=2,padding='same')(x)\n",
        "\n",
        "    x = ReLU()(x)\n",
        "    x = Conv1D(3, 3, strides=2,padding='same')(x)\n",
        "\n",
        "    x = ReLU()(x)\n",
        "    x = Flatten()(x)\n",
        "\n",
        "    x = Dense(100,'relu')(x)\n",
        "    rm = Dense(1,'sigmoid')(x)\n",
        "    alpha = Dense(1,'relu')(x)\n",
        "    dop = Dense(1, 'tanh')(x)\n",
        "    model_m = Model(input_x, rm)\n",
        "    model_alpha = Model(input_x, alpha)\n",
        "    model_dop = Model(input_x, dop)\n",
        "    return model_m, model_alpha, model_dop"
      ],
      "outputs": [],
      "execution_count": 7,
      "metadata": {
        "pycharm": {
          "is_executing": false
        }
      }
    },
    {
      "cell_type": "code",
      "source": [
        "# Model 2\n",
        "def model2(SR):\n",
        "    input_x = Input(shape=(SR, 1))\n",
        "    # x = LayerNormalization()(input_x)\n",
        "    \n",
        "    # convolution part\n",
        "    cx = input_x\n",
        "    cx = Conv1D(1, SR//10, strides=2,padding='valid', activation='relu')(cx)\n",
        "    cx = Conv1D(1, 3, strides=2,padding='valid', activation='relu')(cx)\n",
        "    cx = Conv1D(1, 3, strides=2,padding='valid', activation='relu')(cx)\n",
        "\n",
        "    cx = Flatten()(cx)\n",
        "    \n",
        "    # full connection part\n",
        "    fx = input_x\n",
        "    fx = Flatten()(fx)\n",
        "    fx = Dense(SR//20,'relu')(fx)\n",
        "\n",
        "#     x = fx\n",
        "\n",
        "    x = tf.concat([fx, cx], axis=1)\n",
        "    print(x.shape)\n",
        "    rm = Dense(1,'sigmoid')(x)\n",
        "    alpha = Dense(1, 'relu')(x)\n",
        "    dop = Dense(1, 'tanh')(x)\n",
        "    \n",
        "    model_m = Model(input_x, rm)\n",
        "    model_alpha = Model(input_x, alpha)\n",
        "    model_dop = Model(input_x, dop)\n",
        "    return model_m, model_alpha, model_dop\n"
      ],
      "outputs": [],
      "execution_count": 8,
      "metadata": {
        "pycharm": {
          "is_executing": false
        }
      }
    },
    {
      "cell_type": "code",
      "source": [
        "theta1, theta2 = 15\n",
        "data = generateData(1, theta1,theta2,i1,i2,dop,M,ALPHA,sr, i1.shape[0])\n",
        "SR = next(data)[0]"
      ],
      "outputs": [
        {
          "output_type": "error",
          "ename": "TypeError",
          "evalue": "cannot unpack non-iterable int object",
          "traceback": [
            "\u001b[1;31m---------------------------------------------------------------------------\u001b[0m",
            "\u001b[1;31mTypeError\u001b[0m                                 Traceback (most recent call last)",
            "\u001b[1;32m<ipython-input-9-0f0c380410a3>\u001b[0m in \u001b[0;36m<module>\u001b[1;34m\u001b[0m\n\u001b[1;32m----> 1\u001b[1;33m \u001b[0mtheta1\u001b[0m\u001b[1;33m,\u001b[0m \u001b[0mtheta2\u001b[0m \u001b[1;33m=\u001b[0m \u001b[1;36m15\u001b[0m\u001b[1;33m\u001b[0m\u001b[1;33m\u001b[0m\u001b[0m\n\u001b[0m\u001b[0;32m      2\u001b[0m \u001b[0mdata\u001b[0m \u001b[1;33m=\u001b[0m \u001b[0mgenerateData\u001b[0m\u001b[1;33m(\u001b[0m\u001b[1;36m1\u001b[0m\u001b[1;33m,\u001b[0m \u001b[0mtheta1\u001b[0m\u001b[1;33m,\u001b[0m\u001b[0mtheta2\u001b[0m\u001b[1;33m,\u001b[0m\u001b[0mi1\u001b[0m\u001b[1;33m,\u001b[0m\u001b[0mi2\u001b[0m\u001b[1;33m,\u001b[0m\u001b[0mdop\u001b[0m\u001b[1;33m,\u001b[0m\u001b[0mM\u001b[0m\u001b[1;33m,\u001b[0m\u001b[0mALPHA\u001b[0m\u001b[1;33m,\u001b[0m\u001b[0msr\u001b[0m\u001b[1;33m,\u001b[0m \u001b[0mi1\u001b[0m\u001b[1;33m.\u001b[0m\u001b[0mshape\u001b[0m\u001b[1;33m[\u001b[0m\u001b[1;36m0\u001b[0m\u001b[1;33m]\u001b[0m\u001b[1;33m)\u001b[0m\u001b[1;33m\u001b[0m\u001b[1;33m\u001b[0m\u001b[0m\n\u001b[0;32m      3\u001b[0m \u001b[0mSR\u001b[0m \u001b[1;33m=\u001b[0m \u001b[0mnext\u001b[0m\u001b[1;33m(\u001b[0m\u001b[0mdata\u001b[0m\u001b[1;33m)\u001b[0m\u001b[1;33m[\u001b[0m\u001b[1;36m0\u001b[0m\u001b[1;33m]\u001b[0m\u001b[1;33m\u001b[0m\u001b[1;33m\u001b[0m\u001b[0m\n\u001b[0;32m      4\u001b[0m \u001b[1;33m\u001b[0m\u001b[0m\n",
            "\u001b[1;31mTypeError\u001b[0m: cannot unpack non-iterable int object"
          ]
        }
      ],
      "execution_count": 9,
      "metadata": {
        "pycharm": {
          "is_executing": false
        }
      }
    },
    {
      "cell_type": "code",
      "source": [
        "model_rm, model_alpha, model_dop = model1(SR)\n",
        "model = model_dop\n",
        "# model = model_rm\n",
        "model.summary()"
      ],
      "outputs": [
        {
          "output_type": "stream",
          "name": "stdout",
          "text": [
            "Model: \"model_2\"\n",
            "_________________________________________________________________\n",
            "Layer (type)                 Output Shape              Param #   \n",
            "=================================================================\n",
            "input_1 (InputLayer)         [(None, 239, 1)]          0         \n",
            "_________________________________________________________________\n",
            "conv1d (Conv1D)              (None, 120, 3)            15        \n",
            "_________________________________________________________________\n",
            "re_lu (ReLU)                 (None, 120, 3)            0         \n",
            "_________________________________________________________________\n",
            "conv1d_1 (Conv1D)            (None, 60, 3)             30        \n",
            "_________________________________________________________________\n",
            "re_lu_1 (ReLU)               (None, 60, 3)             0         \n",
            "_________________________________________________________________\n",
            "conv1d_2 (Conv1D)            (None, 30, 3)             30        \n",
            "_________________________________________________________________\n",
            "re_lu_2 (ReLU)               (None, 30, 3)             0         \n",
            "_________________________________________________________________\n",
            "conv1d_3 (Conv1D)            (None, 15, 3)             30        \n",
            "_________________________________________________________________\n",
            "re_lu_3 (ReLU)               (None, 15, 3)             0         \n",
            "_________________________________________________________________\n",
            "conv1d_4 (Conv1D)            (None, 8, 3)              30        \n",
            "_________________________________________________________________\n",
            "re_lu_4 (ReLU)               (None, 8, 3)              0         \n",
            "_________________________________________________________________\n",
            "flatten (Flatten)            (None, 24)                0         \n",
            "_________________________________________________________________\n",
            "dense (Dense)                (None, 100)               2500      \n",
            "_________________________________________________________________\n",
            "dense_3 (Dense)              (None, 1)                 101       \n",
            "=================================================================\n",
            "Total params: 2,736\n",
            "Trainable params: 2,736\n",
            "Non-trainable params: 0\n",
            "_________________________________________________________________\n"
          ]
        }
      ],
      "execution_count": 10,
      "metadata": {
        "pycharm": {
          "is_executing": false
        }
      }
    },
    {
      "cell_type": "code",
      "source": [
        "model.compile(loss= MSE,\n",
        "              optimizer=Adam(learning_rate=2e-3, beta_1=0.5)\n",
        "#               optimizer=SGD()\n",
        "             )"
      ],
      "outputs": [],
      "execution_count": 11,
      "metadata": {
        "pycharm": {
          "is_executing": false
        }
      }
    },
    {
      "cell_type": "code",
      "source": [
        "batch = 500\n",
        "DATA = load_data(target_path)\n",
        "Big_loop = 0"
      ],
      "outputs": [],
      "execution_count": 13,
      "metadata": {
        "pycharm": {
          "is_executing": false
        }
      }
    },
    {
      "cell_type": "code",
      "source": [
        "while Big_loop < 1:\n",
        "\n",
        "    i1,i2,dop,M,ALPHA = next(DATA)\n",
        "    Big_loop += 1\n",
        "    data = generateData(batch,theta1,theta2,i1,i2,dop,M,ALPHA,sr, i1.shape[0])\n",
        "    \n",
        "    # 使用集成度较低的 Model.train_on_batch方法，自行设定batch数据　和　epochs\n",
        "    for step in range(1000):\n",
        "        train_data = next(data)\n",
        "    #     cost = model.train_on_batch(train_data[1], train_data[-2]) # i1\n",
        "    #     cost = model.train_on_batch(train_data[2], train_data[-2]) # i2\n",
        "        cost = model.train_on_batch(train_data[3], train_data[-2]) # dop\n",
        "\n",
        "        if step%100==0:\n",
        "            print(f'loss: {cost}')"
      ],
      "outputs": [],
      "execution_count": 15,
      "metadata": {
        "pycharm": {
          "is_executing": false
        }
      }
    },
    {
      "cell_type": "code",
      "source": [
        "def test_simple(theta1, theta2, alpha, rm, noise=False):\n",
        "    test_i1, test_i2, test_dop = gen(alpha = alpha, rm = rm, N_ta = sr-1) # \n",
        "    \n",
        "    d_the = (sr-1)/180\n",
        "    th1, th2 = int(theta1*d_the), int(theta2*d_the)\n",
        "    SR = th2-th1\n",
        "    test_i1, test_i2, test_dop = test_i1[th1:th2], test_i2[th1:th2], test_dop[th1:th2]\n",
        "    \n",
        "    if noise:\n",
        "        noise = np.random.rand(SR, 1) * 0.05\n",
        "        noise_dop = (np.random.rand(SR, 1)-0.5) * 0.05\n",
        "        test_i1, test_i2, = test_i1+noise, test_i2+noise\n",
        "        test_dop = test_dop + noise_dop\n",
        "    return test_i1, test_i2, test_dop \n",
        "\n",
        "def test_batch():\n",
        "    RM = [0.32, 0.42, 0.52, 0.62, 0.72, 0.82, 0.92]\n",
        "    ALPHA=[1.2, 10.2, 20.2, 50.2, 100.2, 150.2, 200.2, 250.2]\n",
        "    RES = np.zeros((len(RM),len(ALPHA)))\n",
        "    for ir, rm in enumerate(RM):\n",
        "        for ia, alpha in enumerate(ALPHA):\n",
        "            test_dop = test_simple(theta1, theta2,alpha,rm, noise=0)[2]\n",
        "            pred_rm = model.predict(test_dop[None,])\n",
        "            \n",
        "            RES[ir][ia] = pred_rm\n",
        "    \n",
        "    loss_rm = np.mean(RES, axis=1)\n",
        "    std_rm = np.std(RES, axis=1)\n",
        "    return std_rm, loss_rm\n",
        "    \n"
      ],
      "outputs": [],
      "execution_count": 33,
      "metadata": {}
    },
    {
      "cell_type": "code",
      "source": [
        "test_i1, test_i2, test_dop = test_simple(theta1, theta2,alpha=20,rm=0.77, noise=0)\n",
        "# pred_data = model.predict(np.log(test_i2[None,]))\n",
        "pred_data = model.predict(test_dop[None,])\n",
        "print(pred_data)"
      ],
      "outputs": [
        {
          "output_type": "stream",
          "name": "stdout",
          "text": [
            "[[0.7720144]]\n"
          ]
        }
      ],
      "execution_count": 36,
      "metadata": {}
    },
    {
      "cell_type": "code",
      "source": [
        "std_rm, loss_rm = test_batch()\n",
        "print(std_rm,'\\n', loss_rm)"
      ],
      "outputs": [
        {
          "output_type": "stream",
          "name": "stdout",
          "text": [
            "[0.12691866 0.09356752 0.06583603 0.0335801  0.01328056 0.03027053\n",
            " 0.06351726] \n",
            " [0.36591952 0.45955423 0.53676327 0.62735608 0.7217669  0.80397666\n",
            " 0.88576923]\n"
          ]
        }
      ],
      "execution_count": 38,
      "metadata": {}
    },
    {
      "cell_type": "code",
      "source": [
        "def test_generateData(alpha,rm,im =0.0,N_ta = 2**13-1):\n",
        "    origin_path = os.getcwd()\n",
        "#     os.chdir(r\"C:\\Users\\beidongjiedeguang\\Desktop\\测试文件夹\")\n",
        "    os.chdir(r\"C:\\Users\\Administrator\\OneDrive\\Mie测试文件夹\")\n",
        "    exeName = \"Mie_Calculation.exe\"\n",
        "    txtName = '输入参数文本.txt'\n",
        "\n",
        "    Ta_min, Ta_max = 0,180\n",
        "    with open(txtName,'w') as f1:\n",
        "        f1.write('{}\\n{:.3f}\\t{:.3f}\\n{}\\t{:.2f}\\t{:.2f}'\n",
        "                .format(alpha,rm,im,N_ta,Ta_min,Ta_max))\n",
        "\n",
        "    os.system(exeName)\n",
        "    dataName = \"散射光强角分布.txt\"\n",
        "    # 没想到c写出来的不是utf-8编码的，所以这里encoding='gbk'，后面这个delimiter随便要不要\n",
        "    data = pd.read_csv(dataName,sep ='\\t',engine='python',encoding='gbk',delimiter='\\s+')\n",
        "    os.remove(dataName)\n",
        "    os.chdir(origin_path)\n",
        "    return data\n",
        "\n",
        "def gen(alpha = 900, rm = 1.7, im= 0.0, N_ta = 2**13-1):\n",
        "    data = test_generateData(alpha,rm,im, N_ta = N_ta)\n",
        "    theta = data['散射角'].to_numpy()\n",
        "    i1, i2, DOP = data['I1'].to_numpy(), data['I2'].to_numpy(), data['可视度'].to_numpy()\n",
        "    return i1[...,None], i2[...,None], DOP[...,None]"
      ],
      "outputs": [],
      "execution_count": 35,
      "metadata": {}
    },
    {
      "cell_type": "code",
      "source": [],
      "outputs": [],
      "execution_count": null,
      "metadata": {}
    }
  ],
  "metadata": {
    "kernelspec": {
      "display_name": "Python [conda env:tf2]",
      "language": "python",
      "name": "conda-env-tf2-py"
    },
    "language_info": {
      "codemirror_mode": {
        "name": "ipython",
        "version": 3
      },
      "file_extension": ".py",
      "mimetype": "text/x-python",
      "name": "python",
      "nbconvert_exporter": "python",
      "pygments_lexer": "ipython3",
      "version": "3.7.4"
    },
    "nteract": {
      "version": "0.15.0"
    }
  },
  "nbformat": 4,
  "nbformat_minor": 4
}