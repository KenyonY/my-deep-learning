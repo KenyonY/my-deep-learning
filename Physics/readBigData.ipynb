{
 "cells": [
  {
   "cell_type": "code",
   "execution_count": 2,
   "metadata": {},
   "outputs": [],
   "source": [
    "from glob import glob\n",
    "import os\n",
    "import sys\n",
    "from tqdm import tqdm"
   ]
  },
  {
   "cell_type": "code",
   "execution_count": 3,
   "metadata": {},
   "outputs": [],
   "source": [
    "data_path = r'E:\\m_0.65_0.85'\n",
    "fileNames = glob(data_path+'\\\\*0.txt')\n",
    "fileNames=fileNames"
   ]
  },
  {
   "cell_type": "code",
   "execution_count": 19,
   "metadata": {},
   "outputs": [],
   "source": [
    "# dump\n",
    "def dump(sr=None, size=512):\n",
    "    \n",
    "    M,ALPHA=[],[]\n",
    "    if sr is None: # 从配置文件中获取 sr\n",
    "        with open(data_path+'\\\\输入参数文本.txt') as _f:\n",
    "            _paras = _f.readlines()\n",
    "            sr = int(_paras[2].split('\\t')[0]) + 1\n",
    "\n",
    "    # --------------------------------------------------------------通用begin\n",
    "    with open(fileNames[0]) as _f:\n",
    "        simple_size = sys.getsizeof(_f.read())/1024/1024 # Mb\n",
    "\n",
    "    size = size # 2048:2GB\n",
    "    num = int(size/simple_size)+1 # 每一次存的大小是 num个读取的文件\n",
    "    N = int(len(fileNames)//num)  # 存N次大小为num个的文件\n",
    "    last_num = len(fileNames)%num # 最后一次存的文件是 last_num个读取的文件\n",
    "    begin=0\n",
    "    print('size,simple_size,num,N,last_num\\n',size,simple_size,num,N,last_num)\n",
    "    for c_i in tqdm(range(N+1)):\n",
    "        if c_i==N:\n",
    "            num = last_num\n",
    "        last = begin+num\n",
    "        filename = fileNames[begin:last]\n",
    "    # --------------------------------------------------------------通用end\n",
    "        i1 = np.zeros((len(filename), sr))\n",
    "        i2 = np.zeros((len(filename), sr))\n",
    "        dop = np.zeros((len(filename), sr))\n",
    "        for idx, i in enumerate(filename):\n",
    "            baseName = os.path.basename(i) \n",
    "            m,alpha = baseName.split(',')\n",
    "            alpha = '.'.join(alpha.split('.')[:-1])\n",
    "            m = m.split('=')[-1]\n",
    "            alpha=alpha.split('=')[-1]\n",
    "            M.append(m)\n",
    "            ALPHA.append(alpha)\n",
    "\n",
    "            i1[idx] = pd.read_table(i, encoding='gb2312',sep='\\t',index_col=None).I1.to_numpy().astype(np.float32)\n",
    "            i2[idx] = pd.read_table(i, encoding='gb2312',sep='\\t',index_col=None).I2.to_numpy().astype(np.float32)\n",
    "            dop[idx] = pd.read_table(i, encoding='gb2312',sep='\\t',index_col=None).DOP.to_numpy().astype(np.float32)\n",
    "    # --------------------------------------------------------------- 通用bedin\n",
    "        out_path = r'E:\\out'\n",
    "        np.save(os.path.join(out_path, f'i1{c_i}.npy'),i1)\n",
    "        np.save(os.path.join(out_path, f'i2{c_i}.npy'),i2)\n",
    "        np.save(os.path.join(out_path, f'dop_{c_i}.npy'),dop)\n",
    "        np.savez(os.path.join(out_path, f'M_ALPHA{c_i}.npz'),M=M,ALPHA=ALPHA)\n",
    "\n",
    "        begin = last\n",
    "    # --------------------------------------------------------------- 通用end\n",
    "    return out_path\n"
   ]
  },
  {
   "cell_type": "code",
   "execution_count": 20,
   "metadata": {},
   "outputs": [
    {
     "name": "stdout",
     "output_type": "stream",
     "text": [
      "size,simple_size,num,N,last_num\n",
      " 512 0.1297311782836914 3947 0 2000\n"
     ]
    },
    {
     "name": "stderr",
     "output_type": "stream",
     "text": [
      "100%|████████████████████████████████████████████████████████████████████████████████████| 1/1 [01:03<00:00, 63.48s/it]\n"
     ]
    }
   ],
   "source": [
    "target_path = dump()"
   ]
  },
  {
   "cell_type": "code",
   "execution_count": 116,
   "metadata": {},
   "outputs": [],
   "source": [
    "a=np.ones((10,5))\n",
    "b=np.zeros((3,6))\n",
    "np.savez('ab.npz',a=a,b=b)"
   ]
  },
  {
   "cell_type": "code",
   "execution_count": 117,
   "metadata": {},
   "outputs": [],
   "source": [
    "res = np.load('ab.npz')"
   ]
  },
  {
   "cell_type": "code",
   "execution_count": 118,
   "metadata": {},
   "outputs": [
    {
     "data": {
      "text/plain": [
       "array([[1., 1., 1., 1., 1.],\n",
       "       [1., 1., 1., 1., 1.],\n",
       "       [1., 1., 1., 1., 1.],\n",
       "       [1., 1., 1., 1., 1.],\n",
       "       [1., 1., 1., 1., 1.],\n",
       "       [1., 1., 1., 1., 1.],\n",
       "       [1., 1., 1., 1., 1.],\n",
       "       [1., 1., 1., 1., 1.],\n",
       "       [1., 1., 1., 1., 1.],\n",
       "       [1., 1., 1., 1., 1.]])"
      ]
     },
     "execution_count": 118,
     "metadata": {},
     "output_type": "execute_result"
    }
   ],
   "source": [
    "res['a']"
   ]
  },
  {
   "cell_type": "code",
   "execution_count": 96,
   "metadata": {},
   "outputs": [],
   "source": [
    "# load\n",
    "def load_data(path):\n",
    "    fileNames = glob(os.path.join(path,'*'))\n",
    "    \n",
    "    name_i1 = [i for i in fileNames if 'i1' in i]\n",
    "    name_i2 = [i for i in fileNames if 'i2' in i]\n",
    "    name_dop = [i for i in fileNames if 'dop' in i]\n",
    "    name_m_alpha = [i for i in fileNames if 'M_ALPHA' in i]\n",
    "    L = len(name_dop) # 3种文件数目相同\n",
    "    c = 0\n",
    "    while True:\n",
    "        i1 = np.load(name_i1[c%L])\n",
    "        i2 = np.load(name_i2[c%L])\n",
    "        dop = np.load(name_dop[c%L])\n",
    "        res = np.load(name_m_alpha[c%L])\n",
    "        M, ALPHA = res['M'], res['ALPHA']\n",
    "        yield i1, i2, dop, M, ALPHA\n",
    "        c += 1\n"
   ]
  },
  {
   "cell_type": "code",
   "execution_count": 97,
   "metadata": {},
   "outputs": [],
   "source": [
    "data = load_data(target_path)"
   ]
  },
  {
   "cell_type": "code",
   "execution_count": 103,
   "metadata": {},
   "outputs": [
    {
     "name": "stdout",
     "output_type": "stream",
     "text": [
      "Wall time: 73.8 ms\n"
     ]
    },
    {
     "data": {
      "text/latex": [
       "$\\displaystyle \\left( 2000, \\  2048\\right)$"
      ],
      "text/plain": [
       "(2000, 2048)"
      ]
     },
     "execution_count": 103,
     "metadata": {},
     "output_type": "execute_result"
    }
   ],
   "source": [
    "%%time\n",
    "dop=next(data)\n",
    "dop[0].shape"
   ]
  },
  {
   "cell_type": "code",
   "execution_count": null,
   "metadata": {},
   "outputs": [],
   "source": []
  }
 ],
 "metadata": {
  "kernelspec": {
   "display_name": "Python [conda env:tf2]",
   "language": "python",
   "name": "conda-env-tf2-py"
  },
  "language_info": {
   "codemirror_mode": {
    "name": "ipython",
    "version": 3
   },
   "file_extension": ".py",
   "mimetype": "text/x-python",
   "name": "python",
   "nbconvert_exporter": "python",
   "pygments_lexer": "ipython3",
   "version": "3.6.8"
  }
 },
 "nbformat": 4,
 "nbformat_minor": 4
}
