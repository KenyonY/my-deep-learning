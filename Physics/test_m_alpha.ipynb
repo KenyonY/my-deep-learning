{
 "cells": [
  {
   "cell_type": "code",
   "execution_count": 1,
   "metadata": {},
   "outputs": [],
   "source": [
    "import os\n",
    "import matplotlib.pyplot as plt\n",
    "import numpy as np\n",
    "import pandas as pd\n",
    "import seaborn as sns\n",
    "sns.set(style=\"darkgrid\")\n"
   ]
  },
  {
   "cell_type": "code",
   "execution_count": 2,
   "metadata": {},
   "outputs": [],
   "source": [
    "from tensorflow.keras.models import load_model\n",
    "\n",
    "import os \n",
    "os.environ[\"CUDA_VISIBLE_DEVICES\"] = \"-1\"\n",
    "import tensorflow as tf\n",
    "import numpy as np\n",
    "# tf.test.is_gpu_available()\n",
    "from tensorflow.keras import Input,Model\n",
    "from tensorflow.keras import layers\n",
    "from tensorflow.keras.layers import Dense, Concatenate, Conv2D,Conv1D,Convolution1D,\\\n",
    "Flatten, BatchNormalization,Input,Dropout\n",
    "from tensorflow.keras.layers import LeakyReLU, ReLU, LayerNormalization\n",
    "from tensorflow.keras.models import Sequential, Model\n",
    "from tensorflow.keras.optimizers import Adadelta, Adam, SGD\n",
    "from tensorflow.keras.losses import BinaryCrossentropy, CategoricalCrossentropy, MAE, KLD, MSLE, MSE"
   ]
  },
  {
   "cell_type": "code",
   "execution_count": 3,
   "metadata": {},
   "outputs": [],
   "source": [
    "# load model\n",
    "model = load_model('my_model_2500.h5') "
   ]
  },
  {
   "cell_type": "code",
   "execution_count": 10,
   "metadata": {},
   "outputs": [
    {
     "name": "stdout",
     "output_type": "stream",
     "text": [
      "[0.04153961 0.0365617  0.02980198 0.02637253 0.02835643 0.02174973\n",
      " 0.02544906] \n",
      " [0.68060652 0.6754395  0.70497565 0.72493936 0.73789278 0.7594866\n",
      " 0.8044965 ]\n"
     ]
    }
   ],
   "source": [
    "theta1, theta2 = 15, 36\n",
    "sr = 2048\n",
    "std_rm, loss_rm = test_batch()\n",
    "print(std_rm,'\\n', loss_rm)"
   ]
  },
  {
   "cell_type": "code",
   "execution_count": 9,
   "metadata": {},
   "outputs": [],
   "source": [
    "def test_batch():\n",
    "#     RM = [0.32, 0.42, 0.52, 0.62, 0.72, 0.82, 0.92]\n",
    "    RM = [0.66, 0.67, 0.69, 0.72, 0.75, 0.78, 0.82]\n",
    "    ALPHA=[1.2, 10.2, 20.2, 50.2, 100.2, 150.2, 200.2, 250.2]\n",
    "    RES = np.zeros((len(RM),len(ALPHA)))\n",
    "    for ir, rm in enumerate(RM):\n",
    "        for ia, alpha in enumerate(ALPHA):\n",
    "            test_dop = test_simple(theta1, theta2,alpha,rm, noise=0)[2]\n",
    "            pred_rm = model.predict(test_dop[None,])\n",
    "            \n",
    "            RES[ir][ia] = pred_rm\n",
    "    \n",
    "    loss_rm = np.mean(RES, axis=1)\n",
    "    std_rm = np.std(RES, axis=1)\n",
    "    return std_rm, loss_rm\n",
    "\n",
    "def test_generateData(alpha,rm,im =0.0,N_ta = 2**13-1):\n",
    "    origin_path = os.getcwd()\n",
    "#     os.chdir(r\"C:\\Users\\beidongjiedeguang\\Desktop\\测试文件夹\")\n",
    "    os.chdir(r\"C:\\Users\\Administrator\\OneDrive\\Mie测试文件夹\")\n",
    "    exeName = \"Mie_Calculation.exe\"\n",
    "    txtName = '输入参数文本.txt'\n",
    "\n",
    "    Ta_min, Ta_max = 0,180\n",
    "    with open(txtName,'w') as f1:\n",
    "        f1.write('{}\\n{:.3f}\\t{:.3f}\\n{}\\t{:.2f}\\t{:.2f}'\n",
    "                .format(alpha,rm,im,N_ta,Ta_min,Ta_max))\n",
    "\n",
    "    os.system(exeName)\n",
    "    dataName = \"散射光强角分布.txt\"\n",
    "    # 没想到c写出来的不是utf-8编码的，所以这里encoding='gbk'，后面这个delimiter随便要不要\n",
    "    data = pd.read_csv(dataName,sep ='\\t',engine='python',encoding='gbk',delimiter='\\s+')\n",
    "    os.remove(dataName)\n",
    "    os.chdir(origin_path)\n",
    "    return data\n",
    "\n",
    "def gen(alpha = 900, rm = 1.7, im= 0.0, N_ta = 2**13-1):\n",
    "    data = test_generateData(alpha,rm,im, N_ta = N_ta)\n",
    "    theta = data['散射角'].to_numpy()\n",
    "    i1, i2, DOP = data['I1'].to_numpy(), data['I2'].to_numpy(), data['可视度'].to_numpy()\n",
    "    return i1[...,None], i2[...,None], DOP[...,None]\n",
    "\n",
    "def test_simple(theta1, theta2, alpha, rm, noise=False):\n",
    "    test_i1, test_i2, test_dop = gen(alpha = alpha, rm = rm, N_ta = sr-1) # \n",
    "    \n",
    "    d_the = (sr-1)/180\n",
    "    th1, th2 = int(theta1*d_the), int(theta2*d_the)\n",
    "    SR = th2-th1\n",
    "    test_i1, test_i2, test_dop = test_i1[th1:th2], test_i2[th1:th2], test_dop[th1:th2]\n",
    "    \n",
    "    if noise:\n",
    "        noise = np.random.rand(SR, 1) * 0.05\n",
    "        noise_dop = (np.random.rand(SR, 1)-0.5) * 0.05\n",
    "        test_i1, test_i2, = test_i1+noise, test_i2+noise\n",
    "        test_dop = test_dop + noise_dop\n",
    "    return test_i1, test_i2, test_dop \n",
    "\n"
   ]
  },
  {
   "cell_type": "code",
   "execution_count": null,
   "metadata": {},
   "outputs": [],
   "source": []
  }
 ],
 "metadata": {
  "kernelspec": {
   "display_name": "Python [conda env:tf2]",
   "language": "python",
   "name": "conda-env-tf2-py"
  },
  "language_info": {
   "codemirror_mode": {
    "name": "ipython",
    "version": 3
   },
   "file_extension": ".py",
   "mimetype": "text/x-python",
   "name": "python",
   "nbconvert_exporter": "python",
   "pygments_lexer": "ipython3",
   "version": "3.7.4"
  }
 },
 "nbformat": 4,
 "nbformat_minor": 4
}
