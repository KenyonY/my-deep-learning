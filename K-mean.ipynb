{
  "cells": [
    {
      "cell_type": "markdown",
      "source": [
        " K-均值算法步骤： 首先随机创建k个质心，然后将每个点分配到最近的质心，在重新计算质心。这个过程重复数次，知道数据点的簇分配结果不再改变为止。"
      ],
      "metadata": {}
    },
    {
      "cell_type": "code",
      "source": [
        "import numpy as np\n",
        "from numpy import sqrt, power\n",
        "import matplotlib.pyplot as plt\n",
        "\n",
        "def loadfile(fileName,delimiter):\n",
        "    '''载入文件，转换为矩阵（数组）'''\n",
        "    outlist = []\n",
        "    with open(fileName) as fr:\n",
        "        for line in fr.readlines():\n",
        "            s = line.strip().split(delimiter) # 以delimiter为分隔标志\n",
        "            outlist.append(list(map(float,s)))# list(map(func,iter))才能读取到map()内存的数\n",
        "    return np.array(outlist)\n",
        "\n",
        "def dist(vecA, vecB):\n",
        "    '''矢量A 和 矢量B的距离, 这里直接欧氏距离了'''\n",
        "    return  sqrt(sum(power(vecA-vecB, 2))) # vecA 与 vecB 会对应元素相减, 结果会给出对应点的距离\n",
        "\n",
        "def randcentre(data, k):\n",
        "    '''从数据矩阵data中随机生成k个质心'''\n",
        "    n = np.shape(data)[1] # 列的数目， 也就是数据的特征数目\n",
        "    randcent = np.zeros([k, n]) # k个质心，一个坐标一行\n",
        "    \n",
        "    for i in range(n):\n",
        "        Min = min(data[:,i])\n",
        "        Max = max(data[:,i])\n",
        "        Range = Max - Min\n",
        "#         for j in range(k):\n",
        "#             randcent[j,i] = Min + np.random.rand()* Range\n",
        "        randcent[:,i] = (Min + np.random.rand(k,1)* Range).reshape(k)\n",
        "    return randcent"
      ],
      "outputs": [],
      "execution_count": 1,
      "metadata": {}
    },
    {
      "cell_type": "code",
      "source": [
        "path = r'C:\\Users\\beidongjiedeguang\\Documents\\machinelearninginaction\\Ch10'\n",
        "fileName = path +'\\\\testSet.txt'\n",
        "\n",
        "data = loadfile(fileName,'\\t')\n",
        "\n",
        "plt.scatter(data[:,0],data[:,1])\n",
        "\n",
        "randcent = randcentre(data,4)\n",
        "plt.scatter(randcent[:,0],randcent[:,1])\n",
        "plt.show()"
      ],
      "outputs": [
        {
          "output_type": "execute_result",
          "execution_count": 2,
          "data": {
            "text/plain": [
              "<matplotlib.collections.PathCollection at 0x14c67d4d160>"
            ]
          },
          "metadata": {}
        },
        {
          "output_type": "execute_result",
          "execution_count": 2,
          "data": {
            "text/plain": [
              "<matplotlib.collections.PathCollection at 0x14c67d4d6d8>"
            ]
          },
          "metadata": {}
        },
        {
          "output_type": "display_data",
          "data": {
            "image/png": "[encoded data removed]",
            "text/plain": [
              "<Figure size 432x288 with 1 Axes>"
            ]
          },
          "metadata": {
            "image/png": {
              "height": 246,
              "width": 365
            },
            "needs_background": "light"
          }
        }
      ],
      "execution_count": 2,
      "metadata": {}
    },
    {
      "cell_type": "markdown",
      "source": [
        "### kmean"
      ],
      "metadata": {}
    },
    {
      "cell_type": "code",
      "source": [
        "def kmeans(data, k, dist=dist, creatCent=randcentre):\n",
        "    '''K-mean 核心算法，接受4个参数\n",
        "    返回所属类别subCenter以及聚类中心center'''\n",
        "    count =0\n",
        "    m, n = np.shape(data)       # m:样本个数  n:特征维数\n",
        "    subcenter = np.zeros((m,2)) # 初始化所属类别,第一列储存类别，第2列储存相似度\n",
        "    center = creatCent(data,k) # 初始化质心\n",
        "\n",
        "    # 计算data中每一个点到center 的相似度（距离）：\n",
        "\n",
        "    while 1:\n",
        "        update = 0\n",
        "        count += 1\n",
        "        for i in range(m):\n",
        "            minDist = np.inf\n",
        "            for j in range(k):\n",
        "                distance = dist(center[j,:],data[i,:])\n",
        "                if distance < minDist:\n",
        "                    minDist = distance\n",
        "                    subIndex = j\n",
        "            if subcenter[i,0] != subIndex: # 重要\n",
        "                subcenter[i,:] = subIndex,minDist # 获得了一次subcenter\n",
        "                update = 1\n",
        "\n",
        "        # print(subcenter)\n",
        "        if update ==0: \n",
        "            break\n",
        "            \n",
        "        # 更新质心\n",
        "        for cent in range(k):\n",
        "            center[cent,] = np.mean(data[np.nonzero(subcenter[:,0]==cent)[0]],axis=0) # 这里后文会有详细介绍\n",
        "    print('count = ',count-1)\n",
        "    return subcenter, center"
      ],
      "outputs": [],
      "execution_count": 501,
      "metadata": {}
    },
    {
      "cell_type": "code",
      "source": [
        "subcenter,center = kmeans(data, k=4)\n",
        "center\n",
        "for i in range(k):\n",
        "    index = np.nonzero(subcenter[:,0]== i)\n",
        "    plt.scatter(data[index,0],data[index,1])\n",
        "    \n",
        "plt.scatter(center[:,0],center[:,1],linewidths=5)\n",
        "plt.show()"
      ],
      "outputs": [
        {
          "output_type": "stream",
          "name": "stdout",
          "text": [
            "count =  2\n"
          ]
        },
        {
          "output_type": "execute_result",
          "execution_count": 506,
          "data": {
            "text/plain": [
              "array([[-3.38237045, -2.9473363 ],\n",
              "       [ 2.80293085, -2.7315146 ],\n",
              "       [ 2.6265299 ,  3.10868015],\n",
              "       [-2.46154315,  2.78737555]])"
            ]
          },
          "metadata": {}
        },
        {
          "output_type": "execute_result",
          "execution_count": 506,
          "data": {
            "text/plain": [
              "<matplotlib.collections.PathCollection at 0x199aa97b978>"
            ]
          },
          "metadata": {}
        },
        {
          "output_type": "execute_result",
          "execution_count": 506,
          "data": {
            "text/plain": [
              "<matplotlib.collections.PathCollection at 0x199aa97bda0>"
            ]
          },
          "metadata": {}
        },
        {
          "output_type": "execute_result",
          "execution_count": 506,
          "data": {
            "text/plain": [
              "<matplotlib.collections.PathCollection at 0x199aa642f60>"
            ]
          },
          "metadata": {}
        },
        {
          "output_type": "display_data",
          "data": {
            "image/png": "[encoded data removed]",
            "text/plain": [
              "<Figure size 432x288 with 1 Axes>"
            ]
          },
          "metadata": {
            "image/png": {
              "height": 246,
              "width": 365
            },
            "needs_background": "light"
          }
        }
      ],
      "execution_count": 506,
      "metadata": {}
    },
    {
      "cell_type": "code",
      "source": [
        "subcenter = np.random.randint(low=0,high=4,size=(10,2))\n",
        "subcenter\n",
        "subcenter[:,0]==0 # 对于随机生成一个二维数组来说，这样可以历遍值为0的元素，返回True / False\n",
        "np.nonzero(subcenter[:,0]==0)\n",
        "np.nonzero(subcenter[:,0]==0)[0] # 给出为True的索引"
      ],
      "outputs": [
        {
          "output_type": "execute_result",
          "execution_count": 394,
          "data": {
            "text/plain": [
              "array([[1, 1],\n",
              "       [1, 1],\n",
              "       [1, 1],\n",
              "       [0, 3],\n",
              "       [2, 0],\n",
              "       [2, 2],\n",
              "       [1, 1],\n",
              "       [2, 2],\n",
              "       [3, 0],\n",
              "       [0, 3]])"
            ]
          },
          "metadata": {}
        },
        {
          "output_type": "execute_result",
          "execution_count": 394,
          "data": {
            "text/plain": [
              "array([False, False, False,  True, False, False, False, False, False,\n",
              "        True])"
            ]
          },
          "metadata": {}
        },
        {
          "output_type": "execute_result",
          "execution_count": 394,
          "data": {
            "text/plain": [
              "(array([3, 9], dtype=int64),)"
            ]
          },
          "metadata": {}
        },
        {
          "output_type": "execute_result",
          "execution_count": 394,
          "data": {
            "text/plain": [
              "array([3, 9], dtype=int64)"
            ]
          },
          "metadata": {}
        }
      ],
      "execution_count": 394,
      "metadata": {}
    },
    {
      "cell_type": "code",
      "source": [
        "# 给出subcenter每一列的平均值, 也就是对所有行求平均\n",
        "np.mean(subcenter,axis=0)\n",
        "\n",
        "# 每一行的平均\n",
        "np.mean(subcenter,axis=1)"
      ],
      "outputs": [
        {
          "output_type": "execute_result",
          "execution_count": 38,
          "data": {
            "text/plain": [
              "array([0.6, 1.4])"
            ]
          },
          "metadata": {}
        },
        {
          "output_type": "execute_result",
          "execution_count": 38,
          "data": {
            "text/plain": [
              "array([1. , 1.5, 1. , 2.5, 0.5, 1. , 0.5, 0. , 0. , 2. ])"
            ]
          },
          "metadata": {}
        }
      ],
      "execution_count": 38,
      "metadata": {}
    },
    {
      "cell_type": "code",
      "source": [
        "k=4\n",
        "count =0\n",
        "m, n = np.shape(data)       # m:样本个数  n:特征维数\n",
        "subcenter = np.zeros((m,2)) # 初始化所属类别,第一列储存类别，第2列储存相似度\n",
        "center = randcentre(data,k) # 初始化质心\n",
        "\n",
        "# 计算data中每一个点到center 的相似度（距离）：\n",
        "update = 1\n",
        "while update:\n",
        "    update = 0\n",
        "    for i in range(m):\n",
        "        minDist = np.inf\n",
        "        for j in range(k):\n",
        "            distance = dist(center[j,:],data[i,:])\n",
        "            if distance < minDist:\n",
        "                minDist = distance\n",
        "                subIndex = j\n",
        "        if subcenter[i,0] != subIndex: # 重要\n",
        "            subcenter[i,:] = subIndex,minDist # 获得了一次subcenter\n",
        "            update = 1\n",
        "    # print(subcenter)\n",
        "\n",
        "    # 更新质心\n",
        "    for cent in range(k):\n",
        "        center[cent,] = np.mean(data[np.nonzero(subcenter[:,0]==cent)],axis=0)\n",
        "\n",
        "plt.scatter(data[:,0],data[:,1])\n",
        "plt.scatter(center[:,0],center[:,1])\n",
        "plt.show()"
      ],
      "outputs": [
        {
          "output_type": "execute_result",
          "execution_count": 507,
          "data": {
            "text/plain": [
              "<matplotlib.collections.PathCollection at 0x199aada6898>"
            ]
          },
          "metadata": {}
        },
        {
          "output_type": "execute_result",
          "execution_count": 507,
          "data": {
            "text/plain": [
              "<matplotlib.collections.PathCollection at 0x199aa2abda0>"
            ]
          },
          "metadata": {}
        },
        {
          "output_type": "display_data",
          "data": {
            "image/png": "[encoded data removed]",
            "text/plain": [
              "<Figure size 432x288 with 1 Axes>"
            ]
          },
          "metadata": {
            "image/png": {
              "height": 246,
              "width": 365
            },
            "needs_background": "light"
          }
        }
      ],
      "execution_count": 507,
      "metadata": {}
    },
    {
      "cell_type": "markdown",
      "source": [
        "### 二分kmean\n",
        "\n",
        "对于每一个簇  \n",
        "* 计算总误差  \n",
        "* 再给定的簇上面进行K-均值聚类(k=2)  \n",
        "* 在计算该簇一份为二之后的总误差  \n",
        "\n",
        "选择使得误差最小的那个簇进行划分操作"
      ],
      "metadata": {}
    },
    {
      "cell_type": "code",
      "source": [
        "path = r'C:\\Users\\beidongjiedeguang\\Documents\\machinelearninginaction\\Ch10'\n",
        "fileName = path +'\\\\testSet.txt'\n",
        "data = loadfile(fileName,'\\t')"
      ],
      "outputs": [],
      "execution_count": 417,
      "metadata": {}
    },
    {
      "cell_type": "code",
      "source": [
        "import copy\n",
        "def biKmean(data,k,dist=dist):\n",
        "    m = np.shape(data)[0]\n",
        "    subcenter = np.zeros((m,2)) # 第一列储存类别，第二列储存相似度\n",
        "    clustercenter = np.mean(data,axis=0) # 第一次聚类质心\n",
        "    centerList = [clustercenter]\n",
        "    # centerList\n",
        "    for j in range(m):\n",
        "        subcenter[j,1] = dist(clustercenter,data[j,:])**2 # 相似度/ 误差\n",
        "    # subcenter\n",
        "\n",
        "    while len(centerList)< k:\n",
        "        lowersse =  np.inf\n",
        "        for i in range(len(centerList)):\n",
        "            currCluster = data[np.nonzero(subcenter[:,0]==i)[0],:]\n",
        "        #     data\n",
        "    #         currCluster\n",
        "            splitSubcenter, center = kmeans(currCluster, 2)\n",
        "            sseSplit = np.sum(splitSubcenter[:,1] **2)\n",
        "            sseNotSplit = np.sum(subcenter[np.nonzero(subcenter[:,0] != i)[0],1]**2)\n",
        "            # 选择使得误差最小的那个簇进行划分操作\n",
        "            if (sseSplit + sseNotSplit) < lowersse:\n",
        "                centToSplit = i\n",
        "                newCenter = center\n",
        "                newSubcenter = copy.deepcopy(splitSubcenter)\n",
        "                lowersse = sseSplit + sseNotSplit\n",
        "\n",
        "        newSubcenter[np.nonzero(newSubcenter[:,0] == 1)[0],0] =\\\n",
        "                                len(centerList)\n",
        "        newSubcenter[np.nonzero(newSubcenter[:,0] == 0)[0],0] =\\\n",
        "                                centToSplit\n",
        "        print('the best center to split is:',centToSplit)\n",
        "        print('the len of newSubcenter is: ',len(newSubcenter))\n",
        "    #     splitSubcenter\n",
        "\n",
        "        centerList[centToSplit] = newCenter[0,:] # 我们将需要二分的那个簇替换为二分的一员\n",
        "        centerList.append(newCenter[1,:])        # 再append 另一员 \n",
        "        subcenter[np.nonzero(subcenter[:,0] == centToSplit)[0],:] = newSubcenter # 将需要二分的簇\n",
        "\n",
        "    return centerList, subcenter\n",
        "# centerList\n",
        "# for cent in centerList:\n",
        "#     plt.scatter(cent[0],cent[1],linewidths=5)\n",
        "# plt.scatter(data[:,0],data[:,1])\n",
        "\n",
        "centerList, subcenter = biKmean(data,k=4,dist=dist)\n",
        "center = np.array(centerList)\n",
        "for i in range(k):\n",
        "    index = np.nonzero(subcenter[:,0]== i)\n",
        "    plt.scatter(data[index,0],data[index,1])\n",
        "    \n",
        "plt.scatter(center[:,0],center[:,1],linewidths=5)\n",
        "plt.show()"
      ],
      "outputs": [
        {
          "output_type": "stream",
          "name": "stdout",
          "text": [
            "count =  7\n",
            "the best center to split is: 0\n",
            "the len of newSubcenter is:  80\n",
            "count =  3\n",
            "count =  2\n",
            "the best center to split is: 1\n",
            "the len of newSubcenter is:  40\n",
            "count =  1\n",
            "count =  2\n",
            "count =  3\n",
            "the best center to split is: 0\n",
            "the len of newSubcenter is:  40\n"
          ]
        },
        {
          "output_type": "execute_result",
          "execution_count": 512,
          "data": {
            "text/plain": [
              "<matplotlib.collections.PathCollection at 0x199ab370860>"
            ]
          },
          "metadata": {}
        },
        {
          "output_type": "execute_result",
          "execution_count": 512,
          "data": {
            "text/plain": [
              "<matplotlib.collections.PathCollection at 0x199ab31f400>"
            ]
          },
          "metadata": {}
        },
        {
          "output_type": "execute_result",
          "execution_count": 512,
          "data": {
            "text/plain": [
              "<matplotlib.collections.PathCollection at 0x199a8973748>"
            ]
          },
          "metadata": {}
        },
        {
          "output_type": "execute_result",
          "execution_count": 512,
          "data": {
            "text/plain": [
              "<matplotlib.collections.PathCollection at 0x199ab370fd0>"
            ]
          },
          "metadata": {}
        },
        {
          "output_type": "execute_result",
          "execution_count": 512,
          "data": {
            "text/plain": [
              "<matplotlib.collections.PathCollection at 0x199ab669240>"
            ]
          },
          "metadata": {}
        },
        {
          "output_type": "display_data",
          "data": {
            "image/png": "[encoded data removed]",
            "text/plain": [
              "<Figure size 432x288 with 1 Axes>"
            ]
          },
          "metadata": {
            "image/png": {
              "height": 246,
              "width": 365
            },
            "needs_background": "light"
          }
        }
      ],
      "execution_count": 512,
      "metadata": {
        "scrolled": false
      }
    },
    {
      "cell_type": "markdown",
      "source": [
        "多次重复运行程序，可以看到，二分kmean算法并不是很理想，有时候并不能找出理想的聚类中心。\n"
      ],
      "metadata": {}
    },
    {
      "cell_type": "markdown",
      "source": [
        "### kmean++\n",
        "该算法再聚类中心的初始化状态过程中的基本原则是使得初始的聚类中心之间的距离尽可能远，这样可以避免出现聚类中心选择不好导致的kmean算法的糟糕的结果。  \n",
        "步骤：\n",
        "> * 在数据集中随机选择一个样本作为第一个初始化的聚类中心。  \n",
        "* 选择出其余的聚类中心:  \n",
        " 计算样本中的每一个样本点与已经初始化的聚类中心之间的距离，并选择其中最短的距离，集为$d_i$  \n",
        " 以概率选择距离最大的样本最为新的聚类中心，重复上述过程，知道k个聚类中心都被确定。\n",
        "* 对k个初始化的聚类中心，利用kmean算法计算最终的聚类中心。\n"
      ],
      "metadata": {}
    },
    {
      "cell_type": "code",
      "source": [
        "def distance(vecA, vecB):\n",
        "    '''矢量A 和 矢量B的距离, 这里直接欧氏距离了'''\n",
        "    return sqrt(sum(power(vecA-vecB, 2)))\n",
        "\n",
        "def nearest(point, cluster_centers):\n",
        "    '''计算point和cluster_centers之间的最小距离\n",
        "    input:  point(mat):当前的样本点\n",
        "            cluster_centers(mat):当前已经初始化的聚类中心\n",
        "    output: min_dist(float):点point和当前的聚类中心之间的最短距离\n",
        "    '''\n",
        "    min_dist = np.inf\n",
        "    m = np.shape(cluster_centers)[0]  # 当前已经初始化的聚类中心的个数\n",
        "    for i in range(m):\n",
        "        # 计算point与每个聚类中心之间的距离\n",
        "        d = distance(point, cluster_centers[i,:])\n",
        "        # 选择最短距离\n",
        "        if d < min_dist:\n",
        "            min_dist = d\n",
        "    return min_dist\n",
        "\n",
        "def get_centroids(points, k):\n",
        "    '''KMeans++的初始化聚类中心的方法\n",
        "    input:  points(mat):样本\n",
        "            k(int):聚类中心的个数\n",
        "    output: cluster_centers(mat):初始化后的聚类中心\n",
        "    '''\n",
        "    m, n = np.shape(points)\n",
        "    cluster_centers = np.zeros((k , n))\n",
        "    # 1、随机选择一个样本点为第一个聚类中心\n",
        "    index = np.random.randint(0, m)\n",
        "    cluster_centers[0,:] = np.copy(points[index,:])\n",
        "    # 2、初始化一个距离的序列\n",
        "    d = [0.0 for _ in range(m)]\n",
        " \n",
        "    for i in range(1, k):\n",
        "        sum_all = 0\n",
        "        for j in range(m):\n",
        "            # 3、对每一个样本找到最近的聚类中心点\n",
        "            d[j] = nearest(points[j,:], cluster_centers[0:i,:])\n",
        "            # 4、将所有的最短距离相加\n",
        "            sum_all += d[j]\n",
        "        # 5、取得sum_all之间的随机值\n",
        "        sum_all *= np.random.rand()\n",
        "        # 6、获得距离最远的样本点作为聚类中心点\n",
        "        for j, di in enumerate(d):\n",
        "            sum_all -= di\n",
        "            if sum_all > 0:\n",
        "                continue\n",
        "            cluster_centers[i] = np.copy(points[j,:])\n",
        "            break\n",
        "    return cluster_centers\n"
      ],
      "outputs": [],
      "execution_count": 513,
      "metadata": {}
    },
    {
      "cell_type": "code",
      "source": [
        "k = 4#聚类中心的个数\n",
        "subcenter,center = kmeans(data, k,dist, creatCent=get_centroids)\n",
        "\n",
        "plt.scatter(data[:,0],data[:,1])\n",
        "plt.scatter(center[:,0],center[:,1])\n",
        "plt.show()"
      ],
      "outputs": [
        {
          "output_type": "stream",
          "name": "stdout",
          "text": [
            "count =  1\n"
          ]
        },
        {
          "output_type": "execute_result",
          "execution_count": 535,
          "data": {
            "text/plain": [
              "<matplotlib.collections.PathCollection at 0x199ad8da128>"
            ]
          },
          "metadata": {}
        },
        {
          "output_type": "execute_result",
          "execution_count": 535,
          "data": {
            "text/plain": [
              "<matplotlib.collections.PathCollection at 0x199ad8da518>"
            ]
          },
          "metadata": {}
        },
        {
          "output_type": "display_data",
          "data": {
            "image/png": "[encoded data removed]",
            "text/plain": [
              "<Figure size 432x288 with 1 Axes>"
            ]
          },
          "metadata": {
            "image/png": {
              "height": 246,
              "width": 365
            },
            "needs_background": "light"
          }
        }
      ],
      "execution_count": 535,
      "metadata": {}
    },
    {
      "cell_type": "markdown",
      "source": [
        "### 考虑将这个kmean++的初始化思想用到bikmean中去："
      ],
      "metadata": {}
    },
    {
      "cell_type": "code",
      "source": [
        "def BiKmean(data,k,dist=dist,creatCent=get_centroids):\n",
        "    m = np.shape(data)[0]\n",
        "    subcenter = np.zeros((m,2)) # 第一列储存类别，第二列储存相似度\n",
        "    clustercenter = np.mean(data,axis=0) # 第一次聚类质心\n",
        "    centerList = [clustercenter]\n",
        "    # centerList\n",
        "    for j in range(m):\n",
        "        subcenter[j,1] = dist(clustercenter,data[j,:])**2 # 相似度/ 误差\n",
        "    # subcenter\n",
        "\n",
        "    while len(centerList)< k:\n",
        "        lowersse =  np.inf\n",
        "        for i in range(len(centerList)):\n",
        "            currCluster = data[np.nonzero(subcenter[:,0]==i)[0],:]\n",
        "        #     data\n",
        "    #         currCluster\n",
        "\n",
        "            # ----------------------------------------\n",
        "            splitSubcenter, center = kmeans(currCluster, 2,dist,creatCent)\n",
        "            sseSplit = np.sum(splitSubcenter[:,1] **2)\n",
        "            sseNotSplit = np.sum(subcenter[np.nonzero(subcenter[:,0] != i)[0],1]**2)\n",
        "            # 选择使得误差最小的那个簇进行划分操作\n",
        "            if (sseSplit + sseNotSplit) < lowersse:\n",
        "                centToSplit = i\n",
        "                newCenter = center\n",
        "                newSubcenter = copy.deepcopy(splitSubcenter)\n",
        "                lowersse = sseSplit + sseNotSplit\n",
        "\n",
        "        newSubcenter[np.nonzero(newSubcenter[:,0] == 1)[0],0] =\\\n",
        "                                len(centerList)\n",
        "        newSubcenter[np.nonzero(newSubcenter[:,0] == 0)[0],0] =\\\n",
        "                                centToSplit\n",
        "        print('the best center to split is:',centToSplit)\n",
        "        print('the len of newSubcenter is: ',len(newSubcenter))\n",
        "    #     splitSubcenter\n",
        "\n",
        "        centerList[centToSplit] = newCenter[0,:] # 我们将需要二分的那个簇替换为二分的一员\n",
        "        centerList.append(newCenter[1,:])        # 再append 另一员 \n",
        "        subcenter[np.nonzero(subcenter[:,0] == centToSplit)[0],:] = newSubcenter # 将需要二分的簇\n",
        "\n",
        "    return centerList, subcenter\n",
        "k = 4#聚类中心的个数\n",
        "\n",
        "subcenter,center = BiKmean(data,k,dist=dist,creatCent=get_centroids)\n",
        "\n",
        "plt.scatter(data[:,0],data[:,1])\n",
        "plt.scatter(center[:,0],center[:,1])\n",
        "plt.show()"
      ],
      "outputs": [
        {
          "output_type": "stream",
          "name": "stdout",
          "text": [
            "count =  4\n",
            "the best center to split is: 0\n",
            "the len of newSubcenter is:  80\n",
            "count =  1\n",
            "count =  1\n",
            "the best center to split is: 1\n",
            "the len of newSubcenter is:  40\n",
            "count =  2\n",
            "count =  1\n",
            "count =  1\n",
            "the best center to split is: 2\n",
            "the len of newSubcenter is:  19\n"
          ]
        },
        {
          "output_type": "execute_result",
          "execution_count": 541,
          "data": {
            "text/plain": [
              "<matplotlib.collections.PathCollection at 0x199ae3b4e80>"
            ]
          },
          "metadata": {}
        },
        {
          "output_type": "execute_result",
          "execution_count": 541,
          "data": {
            "text/plain": [
              "<matplotlib.collections.PathCollection at 0x199adfef2e8>"
            ]
          },
          "metadata": {}
        },
        {
          "output_type": "display_data",
          "data": {
            "image/png": "[encoded data removed]",
            "text/plain": [
              "<Figure size 432x288 with 1 Axes>"
            ]
          },
          "metadata": {
            "image/png": {
              "height": 246,
              "width": 365
            },
            "needs_background": "light"
          }
        }
      ],
      "execution_count": 541,
      "metadata": {}
    },
    {
      "cell_type": "code",
      "source": [
        "嗯， 很失败， 不知问题出在哪儿了"
      ],
      "outputs": [],
      "execution_count": null,
      "metadata": {}
    },
    {
      "cell_type": "markdown",
      "source": [
        "### 使用sklean中的kmean"
      ],
      "metadata": {}
    },
    {
      "cell_type": "code",
      "source": [
        "path = r'C:\\Users\\beidongjiedeguang\\Documents\\machinelearninginaction\\Ch10'\n",
        "fileName = path +'\\\\testSet2.txt'\n",
        "data = loadfile(fileName,'\\t')"
      ],
      "outputs": [],
      "execution_count": 557,
      "metadata": {}
    },
    {
      "cell_type": "code",
      "source": [
        "from sklearn.cluster import k_means \n",
        "res= k_means(data,3)\n",
        "res\n",
        "center = res[0]\n",
        "#---------------------------------\n",
        "plt.scatter(data[:,0],data[:,1])\n",
        "plt.scatter(center[:,0],center[:,1])\n",
        "plt.show()"
      ],
      "outputs": [
        {
          "output_type": "execute_result",
          "execution_count": 561,
          "data": {
            "text/plain": [
              "(array([[-0.45965615, -2.7782156 ],\n",
              "        [ 2.93386365,  3.12782785],\n",
              "        [-2.94737575,  3.3263781 ]]),\n",
              " array([1, 2, 0, 1, 2, 0, 1, 2, 0, 1, 2, 0, 1, 2, 0, 1, 2, 0, 1, 2, 0, 1,\n",
              "        2, 0, 1, 2, 0, 1, 2, 0, 1, 2, 0, 1, 2, 0, 1, 2, 0, 1, 2, 0, 1, 2,\n",
              "        0, 1, 2, 0, 1, 2, 0, 1, 2, 0, 1, 2, 0, 1, 2, 0]),\n",
              " 106.749498761876)"
            ]
          },
          "metadata": {}
        },
        {
          "output_type": "execute_result",
          "execution_count": 561,
          "data": {
            "text/plain": [
              "<matplotlib.collections.PathCollection at 0x199b17d4668>"
            ]
          },
          "metadata": {}
        },
        {
          "output_type": "execute_result",
          "execution_count": 561,
          "data": {
            "text/plain": [
              "<matplotlib.collections.PathCollection at 0x199b17d4940>"
            ]
          },
          "metadata": {}
        },
        {
          "output_type": "display_data",
          "data": {
            "image/png": "[encoded data removed]",
            "text/plain": [
              "<Figure size 432x288 with 1 Axes>"
            ]
          },
          "metadata": {
            "image/png": {
              "height": 246,
              "width": 365
            },
            "needs_background": "light"
          }
        }
      ],
      "execution_count": 561,
      "metadata": {}
    },
    {
      "cell_type": "markdown",
      "source": [
        "还是人家写的好哇"
      ],
      "metadata": {}
    },
    {
      "cell_type": "code",
      "source": [],
      "outputs": [],
      "execution_count": null,
      "metadata": {}
    }
  ],
  "metadata": {
    "kernelspec": {
      "name": "python3",
      "language": "python",
      "display_name": "Python 3"
    },
    "language_info": {
      "name": "python",
      "version": "3.6.8",
      "mimetype": "text/x-python",
      "codemirror_mode": {
        "name": "ipython",
        "version": 3
      },
      "pygments_lexer": "ipython3",
      "nbconvert_exporter": "python",
      "file_extension": ".py"
    },
    "latex_envs": {
      "report_style_numbering": false,
      "hotkeys": {
        "equation": "Ctrl-E",
        "itemize": "Ctrl-I"
      },
      "LaTeX_envs_menu_present": true,
      "autocomplete": true,
      "autoclose": false,
      "eqNumInitial": 1,
      "bibliofile": "biblio.bib",
      "latex_user_defs": false,
      "current_citInitial": 1,
      "eqLabelWithNumbers": true,
      "labels_anchors": false,
      "cite_by": "apalike",
      "user_envs_cfg": false
    },
    "toc": {
      "toc_position": {
        "height": "calc(100% - 180px)",
        "left": "10px",
        "top": "150px",
        "width": "165px"
      },
      "skip_h1_title": false,
      "number_sections": true,
      "title_cell": "Table of Contents",
      "toc_window_display": true,
      "base_numbering": 1,
      "toc_section_display": true,
      "title_sidebar": "Contents",
      "toc_cell": false,
      "nav_menu": {},
      "sideBar": true
    },
    "varInspector": {
      "cols": {
        "lenName": 16,
        "lenType": 16,
        "lenVar": 40
      },
      "kernels_config": {
        "python": {
          "delete_cmd_postfix": "",
          "delete_cmd_prefix": "del ",
          "library": "var_list.py",
          "varRefreshCmd": "print(var_dic_list())"
        },
        "r": {
          "delete_cmd_postfix": ") ",
          "delete_cmd_prefix": "rm(",
          "library": "var_list.r",
          "varRefreshCmd": "cat(var_dic_list()) "
        }
      },
      "position": {
        "height": "320.545px",
        "left": "1045.82px",
        "right": "20px",
        "top": "120px",
        "width": "330.545px"
      },
      "types_to_exclude": [
        "module",
        "function",
        "builtin_function_or_method",
        "instance",
        "_Feature"
      ],
      "window_display": false
    },
    "kernel_info": {
      "name": "python3"
    },
    "nteract": {
      "version": "0.14.3"
    }
  },
  "nbformat": 4,
  "nbformat_minor": 2
}