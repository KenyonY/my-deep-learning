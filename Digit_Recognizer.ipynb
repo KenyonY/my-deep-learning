{
  "nbformat": 4,
  "nbformat_minor": 0,
  "metadata": {
    "colab": {
      "name": "Digit Recognizer.ipynb",
      "version": "0.3.2",
      "provenance": [],
      "toc_visible": true,
      "include_colab_link": true
    },
    "language_info": {
      "codemirror_mode": {
        "name": "ipython",
        "version": 3
      },
      "file_extension": ".py",
      "mimetype": "text/x-python",
      "name": "python",
      "nbconvert_exporter": "python",
      "pygments_lexer": "ipython3",
      "version": "3.7.2"
    },
    "kernelspec": {
      "name": "python3",
      "display_name": "Python 3"
    },
    "accelerator": "GPU"
  },
  "cells": [
    {
      "cell_type": "markdown",
      "metadata": {
        "id": "view-in-github",
        "colab_type": "text"
      },
      "source": [
        "<a href=\"https://colab.research.google.com/github/beidongjiedeguang/my-machine-learning/blob/master/Digit_Recognizer.ipynb\" target=\"_parent\"><img src=\"https://colab.research.google.com/assets/colab-badge.svg\" alt=\"Open In Colab\"/></a>"
      ]
    },
    {
      "metadata": {
        "id": "MPCeXkygl5_4",
        "colab_type": "code",
        "colab": {}
      },
      "cell_type": "code",
      "source": [
        "!pip install -U -q kaggle"
      ],
      "execution_count": 0,
      "outputs": []
    },
    {
      "metadata": {
        "id": "Vatp1SMbmZ5v",
        "colab_type": "text"
      },
      "cell_type": "markdown",
      "source": [
        "https://albahnsen.com/2018/07/22/how-to-download-kaggle-data-into-google-colab/"
      ]
    },
    {
      "metadata": {
        "id": "dIcn2TzVkSQ6",
        "colab_type": "code",
        "outputId": "725338c3-4146-432e-ff20-7cb479d829a2",
        "colab": {
          "base_uri": "https://localhost:8080/",
          "height": 168
        }
      },
      "cell_type": "code",
      "source": [
        "\n",
        "!mkdir -p ~/.kaggle\n",
        "\n",
        "!echo '{\"username\":\"kunyuanyao\",\"key\":\"a2eca6702732598d05dfb812823e9670\"}' > ~/.kaggle/kaggle.json\n",
        "!chmod 600 ~/.kaggle/kaggle.json\n",
        "\n",
        "!mkdir -p data\n",
        "!kaggle competitions download -c digit-recognizer"
      ],
      "execution_count": 2,
      "outputs": [
        {
          "output_type": "stream",
          "text": [
            "Downloading train.csv to /content\n",
            " 81% 59.0M/73.2M [00:00<00:00, 152MB/s]\n",
            "100% 73.2M/73.2M [00:00<00:00, 184MB/s]\n",
            "Downloading test.csv to /content\n",
            " 74% 36.0M/48.8M [00:00<00:00, 63.1MB/s]\n",
            "100% 48.8M/48.8M [00:00<00:00, 139MB/s] \n",
            "Downloading sample_submission.csv to /content\n",
            "  0% 0.00/235k [00:00<?, ?B/s]\n",
            "100% 235k/235k [00:00<00:00, 43.9MB/s]\n"
          ],
          "name": "stdout"
        }
      ]
    },
    {
      "metadata": {
        "id": "hR-zlcCQkCP9",
        "colab_type": "code",
        "colab": {}
      },
      "cell_type": "code",
      "source": [
        "import pandas as pd\n",
        "import numpy as np\n",
        "import matplotlib.pyplot as plt\n",
        "import matplotlib.image as mpimg\n",
        "import seaborn as sns\n",
        "sns.set(style='white', context='notebook', palette='deep')\n",
        "%matplotlib inline\n",
        "\n",
        "np.random.seed(2)\n",
        "\n",
        "from sklearn.model_selection import train_test_split\n",
        "from sklearn.metrics import confusion_matrix\n",
        "import itertools\n",
        "import torch\n",
        "import torch.nn as nn\n",
        "import torch.utils.data as Data\n",
        "from torchvision import datasets, models, transforms\n",
        "import torch.nn.functional as F\n",
        "import torch.optim as optim\n",
        "import torchvision"
      ],
      "execution_count": 0,
      "outputs": []
    },
    {
      "metadata": {
        "id": "5t705ck6kCQA",
        "colab_type": "code",
        "colab": {}
      },
      "cell_type": "code",
      "source": [
        "# Load the data\n",
        "train = pd.read_csv(r\"train.csv\")\n",
        "test = pd.read_csv(r\"test.csv\")"
      ],
      "execution_count": 0,
      "outputs": []
    },
    {
      "metadata": {
        "id": "beQasc8skCQC",
        "colab_type": "code",
        "colab": {}
      },
      "cell_type": "code",
      "source": [
        "train.head()"
      ],
      "execution_count": 0,
      "outputs": []
    },
    {
      "metadata": {
        "id": "-E43ZGN0kCQI",
        "colab_type": "code",
        "colab": {}
      },
      "cell_type": "code",
      "source": [
        "Y_train = train['label']\n",
        "X_train = train.drop('label',axis=1)\n",
        "\n",
        "del train"
      ],
      "execution_count": 0,
      "outputs": []
    },
    {
      "metadata": {
        "id": "GchUsktFkCQZ",
        "colab_type": "code",
        "outputId": "7df561ab-236e-42e4-e734-8db1f7f2ac9d",
        "colab": {
          "base_uri": "https://localhost:8080/",
          "height": 235
        }
      },
      "cell_type": "code",
      "source": [
        "X_train = X_train / 255.0\n",
        "test = test / 255.0\n",
        "\n",
        "print(X_train.shape,Y_train.size(0),test.shape)\n",
        "\n",
        "\n",
        "class_num = 10\n",
        "label = torch.LongTensor(Y_train)\n",
        "print(label)\n",
        "\n",
        "# 转换为one-hot 形式:\n",
        "def one_hot_embedding(labels, num_classes):\n",
        "    \"\"\"Embedding labels to one-hot form.\n",
        "\n",
        "    Args:\n",
        "      labels: (LongTensor) class labels, sized [N,].\n",
        "      num_classes: (int) number of classes.\n",
        "\n",
        "    Returns:\n",
        "      (tensor) encoded labels, sized [N, #classes].\n",
        "    \"\"\"\n",
        "    y = torch.eye(num_classes,dtype=torch.long) \n",
        "    return y[labels] \n",
        "\n",
        "one_hot = one_hot_embedding(label, class_num)\n",
        "print(one_hot.shape)\n",
        "print(one_hot[:10,:])"
      ],
      "execution_count": 69,
      "outputs": [
        {
          "output_type": "stream",
          "text": [
            "torch.Size([42000, 1, 28, 28]) 42000 torch.Size([28000, 1, 28, 28])\n",
            "tensor([1, 0, 1,  ..., 7, 6, 9])\n",
            "torch.Size([42000, 10])\n",
            "tensor([[0, 1, 0, 0, 0, 0, 0, 0, 0, 0],\n",
            "        [1, 0, 0, 0, 0, 0, 0, 0, 0, 0],\n",
            "        [0, 1, 0, 0, 0, 0, 0, 0, 0, 0],\n",
            "        [0, 0, 0, 0, 1, 0, 0, 0, 0, 0],\n",
            "        [1, 0, 0, 0, 0, 0, 0, 0, 0, 0],\n",
            "        [1, 0, 0, 0, 0, 0, 0, 0, 0, 0],\n",
            "        [0, 0, 0, 0, 0, 0, 0, 1, 0, 0],\n",
            "        [0, 0, 0, 1, 0, 0, 0, 0, 0, 0],\n",
            "        [0, 0, 0, 0, 0, 1, 0, 0, 0, 0],\n",
            "        [0, 0, 0, 1, 0, 0, 0, 0, 0, 0]])\n"
          ],
          "name": "stdout"
        }
      ]
    },
    {
      "metadata": {
        "id": "tGNxFxFYkCQd",
        "colab_type": "code",
        "outputId": "ee89cf85-7028-4fca-aa5f-08b0839bb4a0",
        "colab": {
          "base_uri": "https://localhost:8080/",
          "height": 34
        }
      },
      "cell_type": "code",
      "source": [
        "# 转换为pytorch 读入形状 \n",
        "# Reshape image in 3 dimensions (Batch, 通道 ，height = 28px, width = 28px )\n",
        "X_train = X_train.values.reshape(-1,1,28,28)\n",
        "test = test.values.reshape(-1,1,28,28)\n",
        "\n",
        "print(X_train.shape,test.shape)"
      ],
      "execution_count": 7,
      "outputs": [
        {
          "output_type": "stream",
          "text": [
            "(42000, 1, 28, 28) (28000, 1, 28, 28)\n"
          ],
          "name": "stdout"
        }
      ]
    },
    {
      "metadata": {
        "id": "UA5Ic-JEkCQf",
        "colab_type": "code",
        "colab": {}
      },
      "cell_type": "code",
      "source": [
        "X_train,Y_train = torch.tensor(X_train, dtype = torch.float32),torch.tensor(Y_train)\n",
        "test = torch.tensor(test,dtype = torch.float32)\n",
        "# X_train= transforms.functional.to_pil_image(X_train)\n",
        "# Y_train= transforms.functional.to_pil_image(Y_train)\n",
        "# X_train,Y_train = transforms.ToTensor()(X_train), transforms.ToTensor()(Y_train)\n",
        "# test = transforms.ToTensor()(test)"
      ],
      "execution_count": 0,
      "outputs": []
    },
    {
      "metadata": {
        "id": "dchuNgFCkCQh",
        "colab_type": "text"
      },
      "cell_type": "markdown",
      "source": [
        "对已经读入的PIL.img进行变换：https://pytorch-cn.readthedocs.io/zh/latest/torchvision/torchvision-transform/ \n",
        "```python\n",
        "from torchvision import transforms  \n",
        "from PIL import Image  \n",
        "\n",
        "img = Image.open('test.jpg')  \n",
        "\n",
        "crop = transforms.Scale(12)\n",
        "croped_img=crop(img) # 裁剪\n",
        "\n",
        "img_tensor = transforms.ToTensor()(img) # 转换成tensor  \n",
        " \n",
        "亦如参考代码： 下面能做到的，上面都可以变换得到。\n",
        "transform = transforms.Compose([\n",
        "    transforms.RandomCrop(32, padding=4),  #先四周填充0，在把图像随机裁剪成32*32  \n",
        "    transforms.RandomHorizontalFlip(),  #图像一半的概率翻转，一半的概率不翻转  \n",
        "    transforms.RandomRotation((-45,45)), #随机旋转  \n",
        "    transforms.ToTensor(),  \n",
        "    transforms.Normalize((0.4914, 0.4822, 0.4465), (0.229, 0.224, 0.225)), #R,G,B每层的归一化用到的均值和方差，i.e. 第一个括号是均值，第二个是方差。\n",
        "])\n",
        "\n",
        "```\n",
        "transforms.ToPILImage 可变换会Image格式，这样才能进行上面的操作"
      ]
    },
    {
      "metadata": {
        "id": "WakWk2UfkCQh",
        "colab_type": "code",
        "colab": {}
      },
      "cell_type": "code",
      "source": [
        "BATCH_SIZE=512\n",
        "\n",
        "train_loader = Data.DataLoader(\n",
        "    dataset = Data.TensorDataset(X_train,Y_train),\n",
        "    batch_size= BATCH_SIZE, shuffle=True)\n",
        "test_loader = Data.DataLoader(\n",
        "    dataset = test,\n",
        "    batch_size= BATCH_SIZE, shuffle=True)"
      ],
      "execution_count": 0,
      "outputs": []
    },
    {
      "metadata": {
        "id": "F7P1_zQrkCQj",
        "colab_type": "code",
        "outputId": "70ca1a51-638f-4f5d-e6b0-0348dbd28027",
        "colab": {
          "base_uri": "https://localhost:8080/",
          "height": 50
        }
      },
      "cell_type": "code",
      "source": [
        "i=next(iter(train_loader))\n",
        "\n",
        "print(i[0][2,0,:,:].dtype)\n",
        "print(i[1].dtype)"
      ],
      "execution_count": 10,
      "outputs": [
        {
          "output_type": "stream",
          "text": [
            "torch.float32\n",
            "torch.int64\n"
          ],
          "name": "stdout"
        }
      ]
    },
    {
      "metadata": {
        "id": "worg3pkySjvJ",
        "colab_type": "code",
        "outputId": "8ccaedb8-85eb-471a-e5cc-4a3c09d99e29",
        "colab": {
          "base_uri": "https://localhost:8080/",
          "height": 151
        }
      },
      "cell_type": "code",
      "source": [
        "print(i[0].shape)\n",
        "temp0 = torchvision.utils.make_grid(i[0][:8,:,:,:])\n",
        "print(temp0.shape)\n",
        "temp0=temp0.numpy().transpose((1,2,0))\n",
        "print(temp0.shape)\n",
        "\n",
        "plt.imshow(temp0)\n",
        "plt.show()"
      ],
      "execution_count": 11,
      "outputs": [
        {
          "output_type": "stream",
          "text": [
            "torch.Size([512, 1, 28, 28])\n",
            "torch.Size([3, 32, 242])\n",
            "(32, 242, 3)\n"
          ],
          "name": "stdout"
        },
        {
          "output_type": "display_data",
          "data": {
            "image/png": "[encoded data removed]",
            "text/plain": [
              "<Figure size 432x288 with 1 Axes>"
            ]
          },
          "metadata": {
            "tags": []
          }
        }
      ]
    },
    {
      "metadata": {
        "id": "ahvWh32jkCQn",
        "colab_type": "code",
        "colab": {}
      },
      "cell_type": "code",
      "source": [
        "# class Net(nn.Module):\n",
        "#     def __init__(self):\n",
        "#         super().__init__()\n",
        "#         # 1,28x28\n",
        "#         self.conv1 = nn.Conv2d(1,10,5)\n",
        "# #         self.conv1 = nn.Conv2d(in_channels = 1,\n",
        "# #                                out_channels = 10,\n",
        "# #                                kernel_size = 5,\n",
        "# #                                stride=1,\n",
        "# #                                padding=0,\n",
        "# #                                bias=True) \n",
        "#         self.conv2 = nn.Conv2d(10,20,3)\n",
        "#         self.fc1 = nn.Linear(20*10*10,500) # input, output\n",
        "#         self.fc2 = nn.Linear(500,10)\n",
        "        \n",
        "#     def forward(self,x):\n",
        "#         batch_size = x.size(0)\n",
        "#         out = self.conv1(x) #24\n",
        "#         out = F.relu(out)\n",
        "#         out = F.max_pool2d(out, 2, 2)  #12\n",
        "#         out = self.conv2(out) #10\n",
        "#         out = F.relu(out)\n",
        "#         out = out.view(batch_size,-1)\n",
        "#         out = self.fc1(out)\n",
        "#         out = F.relu(out)\n",
        "#         out = self.fc2(out)\n",
        "#         out = F.log_softmax(out,dim=1)\n",
        "#         return out\n",
        "\n",
        "class Net(nn.Module):\n",
        "    def __init__(self):\n",
        "        super(Net, self).__init__()\n",
        "        self.conv1 = nn.Sequential(         # input shape (1, 28, 28)\n",
        "            nn.Conv2d(\n",
        "                in_channels=1,              # input height\n",
        "                out_channels=16,            # n_filters\n",
        "                kernel_size=5,              # filter size\n",
        "                stride=1,                   # filter movement/step\n",
        "                padding=2,                  # if want same width and length of this image after con2d, padding=(kernel_size-1)/2 if stride=1\n",
        "            ),                              # output shape (16, 28, 28)\n",
        "            nn.ReLU(),                      # activation\n",
        "            nn.MaxPool2d(kernel_size=2),    # choose max value in 2x2 area, output shape (16, 14, 14)\n",
        "        )\n",
        "        self.conv2 = nn.Sequential(         # input shape (1, 28, 28)\n",
        "            nn.Conv2d(16, 32, 5, 1, 2),     # output shape (32, 14, 14)\n",
        "            nn.ReLU(),                      # activation\n",
        "            nn.MaxPool2d(2),                # output shape (32, 7, 7)\n",
        "        )\n",
        "        self.out = nn.Linear(32 * 7 * 7, 10)   # fully connected layer, output 10 classes\n",
        "\n",
        "    def forward(self, x):\n",
        "        x = self.conv1(x)\n",
        "        x = self.conv2(x)\n",
        "        x = x.view(x.size(0), -1)           # flatten the output of conv2 to (batch_size, 32 * 7 * 7)\n",
        "        output = self.out(x)\n",
        "        return output, x    # return x for visualization"
      ],
      "execution_count": 0,
      "outputs": []
    },
    {
      "metadata": {
        "id": "1xi_CQ12kCQs",
        "colab_type": "code",
        "outputId": "8b1c7598-c040-4c66-9e6b-87448b798022",
        "colab": {
          "base_uri": "https://localhost:8080/",
          "height": 34
        }
      },
      "cell_type": "code",
      "source": [
        "DEVICE = torch.device(\"cuda\" if torch.cuda.is_available() else \"cpu\") # 让torch判断是否使用GPU\n",
        "print(DEVICE)\n"
      ],
      "execution_count": 133,
      "outputs": [
        {
          "output_type": "stream",
          "text": [
            "cuda\n"
          ],
          "name": "stdout"
        }
      ]
    },
    {
      "metadata": {
        "id": "r_BinYH6_b9s",
        "colab_type": "code",
        "colab": {}
      },
      "cell_type": "code",
      "source": [
        "model = Net()"
      ],
      "execution_count": 0,
      "outputs": []
    },
    {
      "metadata": {
        "id": "C1vjYimk9A55",
        "colab_type": "code",
        "colab": {}
      },
      "cell_type": "code",
      "source": [
        "model = models.models.vgg19(pretrain=True)\n",
        "for para in model.parameters():\n",
        "    para.requires_grad = False\n",
        "    \n",
        "print(model)\n",
        "\n",
        "model.features[0] = nn.Conv2d(1, 64, kernel_size=(3, 3), stride=(1, 1), padding=(1, 1))\n",
        "model.classifier[6] = nn.Linear(4096,10)\n",
        "print(model)"
      ],
      "execution_count": 0,
      "outputs": []
    },
    {
      "metadata": {
        "id": "QxYjJk2OmmjR",
        "colab_type": "code",
        "colab": {}
      },
      "cell_type": "code",
      "source": [
        "model = models.SqueezeNet(version=1,num_classes=10)\n",
        "print(model)\n",
        "model.features[0] = nn.Conv2d(1, 96, kernel_size=(7, 7), stride=(2, 2))"
      ],
      "execution_count": 0,
      "outputs": []
    },
    {
      "metadata": {
        "id": "WUyG-4L4Yb1c",
        "colab_type": "code",
        "colab": {}
      },
      "cell_type": "code",
      "source": [
        "model = model.to(DEVICE)\n",
        "loss_func = nn.CrossEntropyLoss()  \n",
        "optimizer = optim.SGD(model.parameters(),lr=1e-2,momentum=0.8)\n"
      ],
      "execution_count": 0,
      "outputs": []
    },
    {
      "metadata": {
        "id": "dLbyW-VqkCQu",
        "colab_type": "code",
        "outputId": "d7d7c0f8-6b1d-4fff-c486-5dcd68fe98e4",
        "colab": {
          "base_uri": "https://localhost:8080/",
          "height": 185
        }
      },
      "cell_type": "code",
      "source": [
        "EPOCHS=10\n",
        "\n",
        "for epoch in range(1, EPOCHS + 1):\n",
        "    for step, (x, y) in enumerate(train_loader):\n",
        "        b_x = x.to(DEVICE)\n",
        "        b_y = y.to(DEVICE)\n",
        "#         print(b_x.size())\n",
        "#         output = model(b_x)               #  output\n",
        "        output = model(b_x)[0]               #  output\n",
        "#         print(output.shape,b_y.shape,'\\n\\n\\n')\n",
        "\n",
        "        loss = loss_func(output, b_y)   # cross entropy loss\n",
        "        optimizer.zero_grad()           # clear gradients for this training step\n",
        "        loss.backward()                 # backpropagation, compute gradients\n",
        "        optimizer.step()                # apply gradients\n",
        "        if step % 100 == 0:\n",
        "            tx, ty =next(iter(train_loader))\n",
        "            test_x = tx.to(DEVICE)\n",
        "            test_y = ty.to(DEVICE)\n",
        "#             test_output = model(test_x)\n",
        "            test_output = model(test_x)[0]\n",
        "            pred_y = torch.max(test_output, 1)[1].data.squeeze()\n",
        "            \n",
        "            correct = pred_y.eq(test_y.view_as(pred_y)).sum().item()\n",
        "            accuracy = correct / len(test_y)\n",
        "#             accuracy = sum(pred_y == test_y) / float(test_y.size(0))\n",
        "            print('Epoch: ', epoch, '| train loss: %.4f' % loss.item(), '| test accuracy: %.2f' % accuracy)\n",
        "        "
      ],
      "execution_count": 203,
      "outputs": [
        {
          "output_type": "stream",
          "text": [
            "Epoch:  1 | train loss: 0.0205 | test accuracy: 0.99\n",
            "Epoch:  2 | train loss: 0.0118 | test accuracy: 0.99\n",
            "Epoch:  3 | train loss: 0.0240 | test accuracy: 0.99\n",
            "Epoch:  4 | train loss: 0.0812 | test accuracy: 0.93\n",
            "Epoch:  5 | train loss: 0.0279 | test accuracy: 0.99\n",
            "Epoch:  6 | train loss: 0.0148 | test accuracy: 0.99\n",
            "Epoch:  7 | train loss: 0.0152 | test accuracy: 1.00\n",
            "Epoch:  8 | train loss: 0.0104 | test accuracy: 0.99\n",
            "Epoch:  9 | train loss: 0.0302 | test accuracy: 0.99\n",
            "Epoch:  10 | train loss: 0.0346 | test accuracy: 0.99\n"
          ],
          "name": "stdout"
        }
      ]
    },
    {
      "metadata": {
        "id": "T0w4qESvkCQx",
        "colab_type": "code",
        "colab": {
          "base_uri": "https://localhost:8080/",
          "height": 235
        },
        "outputId": "d4dc2ccf-04bc-439b-fdba-0e1364b928ca"
      },
      "cell_type": "code",
      "source": [
        "import copy\n",
        "best_weight = copy.deepcopy(model.state_dict())\n",
        "print(model)"
      ],
      "execution_count": 160,
      "outputs": [
        {
          "output_type": "stream",
          "text": [
            "Net(\n",
            "  (conv1): Sequential(\n",
            "    (0): Conv2d(1, 16, kernel_size=(5, 5), stride=(1, 1), padding=(2, 2))\n",
            "    (1): ReLU()\n",
            "    (2): MaxPool2d(kernel_size=2, stride=2, padding=0, dilation=1, ceil_mode=False)\n",
            "  )\n",
            "  (conv2): Sequential(\n",
            "    (0): Conv2d(16, 32, kernel_size=(5, 5), stride=(1, 1), padding=(2, 2))\n",
            "    (1): ReLU()\n",
            "    (2): MaxPool2d(kernel_size=2, stride=2, padding=0, dilation=1, ceil_mode=False)\n",
            "  )\n",
            "  (out): Linear(in_features=1568, out_features=10, bias=True)\n",
            ")\n"
          ],
          "name": "stdout"
        }
      ]
    },
    {
      "metadata": {
        "id": "fZPLVZgEkCQz",
        "colab_type": "code",
        "colab": {}
      },
      "cell_type": "code",
      "source": [
        "device = DEVICE\n",
        "\n",
        "def imshow(inp, title=None):\n",
        "    \"\"\"Imshow for Tensor.\"\"\"\n",
        "    inp = inp.numpy().transpose((1, 2, 0))\n",
        "    mean = np.array([0.485, 0.456, 0.406])\n",
        "    std = np.array([0.229, 0.224, 0.225])\n",
        "    inp = std * inp + mean\n",
        "    inp = np.clip(inp, 0, 1)\n",
        "    plt.imshow(inp)\n",
        "    if title is not None:\n",
        "        plt.title(title)\n",
        "\n",
        "    \n",
        "def visualize_model(model, num_images=6):\n",
        "    model.eval()\n",
        "    images_so_far = 0\n",
        "    fig = plt.figure()\n",
        "\n",
        "    with torch.no_grad():\n",
        "        inputs=next(iter(test_loader))\n",
        "        inputs = inputs.to(device)\n",
        "\n",
        "        outputs = model(inputs)[0]\n",
        "        preds = torch.max(outputs, 1)[1].data.squeeze()\n",
        "        for j in range(inputs.size()[0]):\n",
        "            images_so_far += 1\n",
        "            ax = plt.subplot(num_images//2, 2, images_so_far)\n",
        "            ax.axis('off')\n",
        "            ax.set_title('predicted: {}'.format(preds[j]))\n",
        "            imshow(inputs.cpu().data[j])\n",
        "\n",
        "            if images_so_far == num_images:\n",
        "                \n",
        "                return\n"
      ],
      "execution_count": 0,
      "outputs": []
    },
    {
      "metadata": {
        "id": "8ExaOOl7Bobv",
        "colab_type": "code",
        "colab": {
          "base_uri": "https://localhost:8080/",
          "height": 284
        },
        "outputId": "9ba303eb-dc99-4514-b15b-b7ed8c3c1abc"
      },
      "cell_type": "code",
      "source": [
        "visualize_model(model)"
      ],
      "execution_count": 213,
      "outputs": [
        {
          "output_type": "display_data",
          "data": {
            "image/png": "[encoded data removed]",
            "text/plain": [
              "<Figure size 432x288 with 6 Axes>"
            ]
          },
          "metadata": {
            "tags": []
          }
        }
      ]
    },
    {
      "metadata": {
        "id": "WU6O_yYQBtHF",
        "colab_type": "code",
        "colab": {}
      },
      "cell_type": "code",
      "source": [
        "def predict_model(model,inputs):\n",
        "    model.eval()\n",
        "\n",
        "    with torch.no_grad():\n",
        "\n",
        "        inputs = inputs.to(device)\n",
        "        outputs = model(inputs)[0]\n",
        "        preds = torch.max(outputs, 1)[1].data.squeeze()\n",
        "        return preds\n",
        "\n",
        "\n"
      ],
      "execution_count": 0,
      "outputs": []
    },
    {
      "metadata": {
        "id": "m3L9GLoVN3z6",
        "colab_type": "code",
        "colab": {}
      },
      "cell_type": "code",
      "source": [
        "data = next(iter(test_loader))"
      ],
      "execution_count": 0,
      "outputs": []
    },
    {
      "metadata": {
        "id": "mjujghg3OGu-",
        "colab_type": "code",
        "colab": {
          "base_uri": "https://localhost:8080/",
          "height": 34
        },
        "outputId": "3bbf8a1d-84e2-4a45-943c-0179aefc2212"
      },
      "cell_type": "code",
      "source": [
        "data.size()"
      ],
      "execution_count": 208,
      "outputs": [
        {
          "output_type": "execute_result",
          "data": {
            "text/plain": [
              "torch.Size([512, 1, 28, 28])"
            ]
          },
          "metadata": {
            "tags": []
          },
          "execution_count": 208
        }
      ]
    },
    {
      "metadata": {
        "id": "GwTsfv1eOHvE",
        "colab_type": "code",
        "colab": {
          "base_uri": "https://localhost:8080/",
          "height": 134
        },
        "outputId": "7d45de43-d3d4-4fe3-8081-c561606e940a"
      },
      "cell_type": "code",
      "source": [
        "def \n",
        "temp0 = torchvision.utils.make_grid(data[:8,:,:,:])\n",
        "\n",
        "temp0=temp0.numpy().transpose((1,2,0))\n",
        "\n",
        "\n",
        "plt.imshow(temp0)\n",
        "plt.show()"
      ],
      "execution_count": 211,
      "outputs": [
        {
          "output_type": "stream",
          "text": [
            "torch.Size([3, 32, 242])\n",
            "(32, 242, 3)\n"
          ],
          "name": "stdout"
        },
        {
          "output_type": "display_data",
          "data": {
            "image/png": "[encoded data removed]",
            "text/plain": [
              "<Figure size 432x288 with 1 Axes>"
            ]
          },
          "metadata": {
            "tags": []
          }
        }
      ]
    },
    {
      "metadata": {
        "id": "Ib5uIF61OXIu",
        "colab_type": "code",
        "colab": {}
      },
      "cell_type": "code",
      "source": [
        ""
      ],
      "execution_count": 0,
      "outputs": []
    }
  ]
}