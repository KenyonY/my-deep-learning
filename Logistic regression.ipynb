{
 "cells": [
  {
   "cell_type": "markdown",
   "metadata": {},
   "source": [
    "# Logistic regression\n"
   ]
  },
  {
   "cell_type": "markdown",
   "metadata": {},
   "source": [
    "$$ h_\\theta = g(\\theta^Tx)\\\\\n",
    "g(z) = \\frac{1}{1+e^{-z}}\n",
    "$$\n",
    "如果$ h_\\theta \\ge 0.5$， 预测 $y=1$，i.e. $\\theta^Tx \\ge0$\n",
    "\n",
    "如果$ h_\\theta < 0.5$， 预测 $y=0$，i.e. $\\theta^Tx<0$\n"
   ]
  },
  {
   "cell_type": "code",
   "execution_count": 1,
   "metadata": {
    "collapsed": true,
    "jupyter": {
     "outputs_hidden": true
    }
   },
   "outputs": [],
   "source": [
    "from IPython.core.interactiveshell import InteractiveShell\n",
    "InteractiveShell.ast_node_interactivity = \"all\"\n",
    "%matplotlib inline"
   ]
  },
  {
   "cell_type": "code",
   "execution_count": 2,
   "metadata": {},
   "outputs": [
    {
     "data": {
      "application/vnd.jupyter.widget-view+json": {
       "model_id": "d8d3681ab23b4dc495fec83b0b5bb650",
       "version_major": 2,
       "version_minor": 0
      },
      "text/plain": [
       "VBox(children=(Figure(axes=[Axis(label='z', scale=LinearScale()), Axis(label='sigmoid(z)', orientation='vertic…"
      ]
     },
     "metadata": {},
     "output_type": "display_data"
    }
   ],
   "source": [
    "import numpy as np\n",
    "from numpy import exp\n",
    "# import matplotlib.pyplot as plt\n",
    "# import seaborn as sns\n",
    "import bqplot.pyplot as plt\n",
    "def sigmoid(z):\n",
    "    '''Sigmoid function'''\n",
    "    return 1/(1+exp(-z))\n",
    "\n",
    "z = np.linspace(-10,10,100);\n",
    "\n",
    "\n",
    "\n",
    "plt.figure(title='sigmoid plot');\n",
    "plt.plot(z,sigmoid(z));\n",
    "plt.xlabel('z');\n",
    "plt.ylabel('sigmoid(z)');\n",
    "plt.show();"
   ]
  },
  {
   "cell_type": "markdown",
   "metadata": {},
   "source": [
    "## Decision Boundary\n",
    "**Linear Decision Boundary：**\n",
    "$$ h_\\theta(x) = g(\\theta_0+\\theta_1x_1 +\\theta_2x_2)$$\n",
    "\n",
    "**No-linear Decision Boundary：**\n",
    "$$ h_\\theta(x) = g(\\theta_0+\\theta_1x_1 +\\theta_2x_2 +\\theta_3x_1^2+\\theta_4x_2^2+\\theta_5x_1x_2)$$\n"
   ]
  },
  {
   "cell_type": "markdown",
   "metadata": {},
   "source": [
    "### 生成数据"
   ]
  },
  {
   "cell_type": "code",
   "execution_count": 3,
   "metadata": {},
   "outputs": [
    {
     "name": "stdout",
     "output_type": "stream",
     "text": [
      "2.000000000000064\n",
      "0.4999999999999991\n"
     ]
    },
    {
     "data": {
      "application/vnd.jupyter.widget-view+json": {
       "model_id": "153da57be97c43619d9c466ab5807dc8",
       "version_major": 2,
       "version_minor": 0
      },
      "text/plain": [
       "Figure(animation_duration=1900, axes=[Axis(scale=LinearScale()), Axis(orientation='vertical', scale=LinearScal…"
      ]
     },
     "metadata": {},
     "output_type": "display_data"
    }
   ],
   "source": [
    "\n",
    "import numpy as np\n",
    "from random import random\n",
    "from numpy import sin,cos,pi\n",
    "import pandas as pd\n",
    "from bqplot import *\n",
    "xs = LinearScale()\n",
    "ys = LinearScale()\n",
    "\n",
    "# data_x = np.linspace()\n",
    "R =5\n",
    "N = 300\n",
    "X = np.zeros([N,2])\n",
    "for i in range(N):\n",
    "    r,theta = R,2*pi*random()\n",
    "    x1,x2 = r*cos(theta),r*sin(theta)\n",
    "    X[i,0],X[i,1] = x1,x2\n",
    "    R -=0.01\n",
    "    \n",
    "fig = plt.figure(title='test data',animation_duration=1900)\n",
    "scatter_plot1 = plt.scatter(X[:,0],X[:,1])\n",
    "\n",
    "print(R)\n",
    "R=1.5\n",
    "n = 100\n",
    "x = np.zeros([n,2])\n",
    "for i in range(n):\n",
    "    r,theta = R,2*pi*random()\n",
    "    x1,x2 = r*cos(theta),r*sin(theta)\n",
    "    x[i,0],x[i,1] = x1,x2\n",
    "    R -=0.01\n",
    "print(R)\n",
    "scatter_plot2 = plt.scatter(x[:,0],x[:,1]);\n",
    "\n",
    "scatter_plot1.colors = ['Green']\n",
    "scatter_plot2.colors = ['Red']\n",
    "fig"
   ]
  },
  {
   "cell_type": "code",
   "execution_count": 11,
   "metadata": {
    "collapsed": true,
    "jupyter": {
     "outputs_hidden": true
    }
   },
   "outputs": [],
   "source": [
    "\n",
    "scatter_plot2.x = x[:,1]\n",
    "scatter_plot2.y = x[:,0]\n",
    "scatter_plot1.x = X[:,0]\n",
    "scatter_plot1.y = X[:,1]"
   ]
  },
  {
   "cell_type": "code",
   "execution_count": 12,
   "metadata": {
    "collapsed": true,
    "jupyter": {
     "outputs_hidden": true
    }
   },
   "outputs": [],
   "source": [
    "scatter_plot1.x = X[:,1]\n",
    "scatter_plot1.y = X[:,0]\n",
    "scatter_plot2.x = x[:,0]\n",
    "scatter_plot2.y = x[:,1]"
   ]
  },
  {
   "cell_type": "markdown",
   "metadata": {},
   "source": [
    "\n",
    "我真无聊\n",
    "***"
   ]
  },
  {
   "cell_type": "markdown",
   "metadata": {},
   "source": [
    "### 拼接数据  及 导出csv文件\n"
   ]
  },
  {
   "cell_type": "code",
   "execution_count": 7,
   "metadata": {},
   "outputs": [
    {
     "data": {
      "text/html": [
       "<div>\n",
       "<style scoped>\n",
       "    .dataframe tbody tr th:only-of-type {\n",
       "        vertical-align: middle;\n",
       "    }\n",
       "\n",
       "    .dataframe tbody tr th {\n",
       "        vertical-align: top;\n",
       "    }\n",
       "\n",
       "    .dataframe thead th {\n",
       "        text-align: right;\n",
       "    }\n",
       "</style>\n",
       "<table border=\"1\" class=\"dataframe\">\n",
       "  <thead>\n",
       "    <tr style=\"text-align: right;\">\n",
       "      <th></th>\n",
       "      <th>x1</th>\n",
       "      <th>x2</th>\n",
       "      <th>y</th>\n",
       "    </tr>\n",
       "  </thead>\n",
       "  <tbody>\n",
       "    <tr>\n",
       "      <th>0</th>\n",
       "      <td>4.996796</td>\n",
       "      <td>-0.178973</td>\n",
       "      <td>1.0</td>\n",
       "    </tr>\n",
       "    <tr>\n",
       "      <th>1</th>\n",
       "      <td>0.819591</td>\n",
       "      <td>-4.922232</td>\n",
       "      <td>1.0</td>\n",
       "    </tr>\n",
       "    <tr>\n",
       "      <th>2</th>\n",
       "      <td>-3.899383</td>\n",
       "      <td>3.097614</td>\n",
       "      <td>1.0</td>\n",
       "    </tr>\n",
       "    <tr>\n",
       "      <th>3</th>\n",
       "      <td>2.402523</td>\n",
       "      <td>-4.350722</td>\n",
       "      <td>1.0</td>\n",
       "    </tr>\n",
       "    <tr>\n",
       "      <th>4</th>\n",
       "      <td>4.853696</td>\n",
       "      <td>-1.021388</td>\n",
       "      <td>1.0</td>\n",
       "    </tr>\n",
       "  </tbody>\n",
       "</table>\n",
       "</div>"
      ],
      "text/plain": [
       "         x1        x2    y\n",
       "0  4.996796 -0.178973  1.0\n",
       "1  0.819591 -4.922232  1.0\n",
       "2 -3.899383  3.097614  1.0\n",
       "3  2.402523 -4.350722  1.0\n",
       "4  4.853696 -1.021388  1.0"
      ]
     },
     "execution_count": 7,
     "metadata": {},
     "output_type": "execute_result"
    },
    {
     "data": {
      "text/html": [
       "<div>\n",
       "<style scoped>\n",
       "    .dataframe tbody tr th:only-of-type {\n",
       "        vertical-align: middle;\n",
       "    }\n",
       "\n",
       "    .dataframe tbody tr th {\n",
       "        vertical-align: top;\n",
       "    }\n",
       "\n",
       "    .dataframe thead th {\n",
       "        text-align: right;\n",
       "    }\n",
       "</style>\n",
       "<table border=\"1\" class=\"dataframe\">\n",
       "  <thead>\n",
       "    <tr style=\"text-align: right;\">\n",
       "      <th></th>\n",
       "      <th>x1</th>\n",
       "      <th>x2</th>\n",
       "      <th>y</th>\n",
       "    </tr>\n",
       "  </thead>\n",
       "  <tbody>\n",
       "    <tr>\n",
       "      <th>0</th>\n",
       "      <td>1.445318</td>\n",
       "      <td>0.401317</td>\n",
       "      <td>0.0</td>\n",
       "    </tr>\n",
       "    <tr>\n",
       "      <th>1</th>\n",
       "      <td>-0.845175</td>\n",
       "      <td>1.227102</td>\n",
       "      <td>0.0</td>\n",
       "    </tr>\n",
       "    <tr>\n",
       "      <th>2</th>\n",
       "      <td>1.142973</td>\n",
       "      <td>0.940219</td>\n",
       "      <td>0.0</td>\n",
       "    </tr>\n",
       "    <tr>\n",
       "      <th>3</th>\n",
       "      <td>1.269047</td>\n",
       "      <td>0.741903</td>\n",
       "      <td>0.0</td>\n",
       "    </tr>\n",
       "    <tr>\n",
       "      <th>4</th>\n",
       "      <td>0.352262</td>\n",
       "      <td>1.416867</td>\n",
       "      <td>0.0</td>\n",
       "    </tr>\n",
       "  </tbody>\n",
       "</table>\n",
       "</div>"
      ],
      "text/plain": [
       "         x1        x2    y\n",
       "0  1.445318  0.401317  0.0\n",
       "1 -0.845175  1.227102  0.0\n",
       "2  1.142973  0.940219  0.0\n",
       "3  1.269047  0.741903  0.0\n",
       "4  0.352262  1.416867  0.0"
      ]
     },
     "execution_count": 7,
     "metadata": {},
     "output_type": "execute_result"
    },
    {
     "data": {
      "text/plain": [
       "(400, 3)"
      ]
     },
     "execution_count": 7,
     "metadata": {},
     "output_type": "execute_result"
    },
    {
     "name": "stdout",
     "output_type": "stream",
     "text": [
      "[[-3.59333319 -0.43858477  1.        ]\n",
      " [-0.92138129 -3.71752021  1.        ]\n",
      " [-3.18455156 -1.19106312  1.        ]\n",
      " ...\n",
      " [-3.96399067  0.7799859   1.        ]\n",
      " [-1.24527563  0.19206405  0.        ]\n",
      " [ 0.42644371  0.37821391  0.        ]]\n"
     ]
    },
    {
     "data": {
      "text/html": [
       "<div>\n",
       "<style scoped>\n",
       "    .dataframe tbody tr th:only-of-type {\n",
       "        vertical-align: middle;\n",
       "    }\n",
       "\n",
       "    .dataframe tbody tr th {\n",
       "        vertical-align: top;\n",
       "    }\n",
       "\n",
       "    .dataframe thead th {\n",
       "        text-align: right;\n",
       "    }\n",
       "</style>\n",
       "<table border=\"1\" class=\"dataframe\">\n",
       "  <thead>\n",
       "    <tr style=\"text-align: right;\">\n",
       "      <th></th>\n",
       "      <th>x1</th>\n",
       "      <th>x2</th>\n",
       "      <th>y</th>\n",
       "    </tr>\n",
       "  </thead>\n",
       "  <tbody>\n",
       "    <tr>\n",
       "      <th>0</th>\n",
       "      <td>-3.593333</td>\n",
       "      <td>-0.438585</td>\n",
       "      <td>1.0</td>\n",
       "    </tr>\n",
       "    <tr>\n",
       "      <th>1</th>\n",
       "      <td>-0.921381</td>\n",
       "      <td>-3.717520</td>\n",
       "      <td>1.0</td>\n",
       "    </tr>\n",
       "    <tr>\n",
       "      <th>2</th>\n",
       "      <td>-3.184552</td>\n",
       "      <td>-1.191063</td>\n",
       "      <td>1.0</td>\n",
       "    </tr>\n",
       "    <tr>\n",
       "      <th>3</th>\n",
       "      <td>-0.257289</td>\n",
       "      <td>4.522688</td>\n",
       "      <td>1.0</td>\n",
       "    </tr>\n",
       "    <tr>\n",
       "      <th>4</th>\n",
       "      <td>-3.379796</td>\n",
       "      <td>2.940642</td>\n",
       "      <td>1.0</td>\n",
       "    </tr>\n",
       "    <tr>\n",
       "      <th>5</th>\n",
       "      <td>4.746043</td>\n",
       "      <td>-1.370647</td>\n",
       "      <td>1.0</td>\n",
       "    </tr>\n",
       "    <tr>\n",
       "      <th>6</th>\n",
       "      <td>-0.186107</td>\n",
       "      <td>4.105784</td>\n",
       "      <td>1.0</td>\n",
       "    </tr>\n",
       "    <tr>\n",
       "      <th>7</th>\n",
       "      <td>-0.198865</td>\n",
       "      <td>-3.424230</td>\n",
       "      <td>1.0</td>\n",
       "    </tr>\n",
       "    <tr>\n",
       "      <th>8</th>\n",
       "      <td>-2.313558</td>\n",
       "      <td>0.412247</td>\n",
       "      <td>1.0</td>\n",
       "    </tr>\n",
       "    <tr>\n",
       "      <th>9</th>\n",
       "      <td>4.996796</td>\n",
       "      <td>-0.178973</td>\n",
       "      <td>1.0</td>\n",
       "    </tr>\n",
       "    <tr>\n",
       "      <th>10</th>\n",
       "      <td>-1.752447</td>\n",
       "      <td>-2.422608</td>\n",
       "      <td>1.0</td>\n",
       "    </tr>\n",
       "    <tr>\n",
       "      <th>11</th>\n",
       "      <td>-3.825050</td>\n",
       "      <td>2.965568</td>\n",
       "      <td>1.0</td>\n",
       "    </tr>\n",
       "    <tr>\n",
       "      <th>12</th>\n",
       "      <td>-1.223085</td>\n",
       "      <td>1.983170</td>\n",
       "      <td>1.0</td>\n",
       "    </tr>\n",
       "    <tr>\n",
       "      <th>13</th>\n",
       "      <td>-1.707319</td>\n",
       "      <td>1.371555</td>\n",
       "      <td>1.0</td>\n",
       "    </tr>\n",
       "    <tr>\n",
       "      <th>14</th>\n",
       "      <td>1.697762</td>\n",
       "      <td>3.219814</td>\n",
       "      <td>1.0</td>\n",
       "    </tr>\n",
       "    <tr>\n",
       "      <th>15</th>\n",
       "      <td>-0.845175</td>\n",
       "      <td>1.227102</td>\n",
       "      <td>0.0</td>\n",
       "    </tr>\n",
       "    <tr>\n",
       "      <th>16</th>\n",
       "      <td>-0.825281</td>\n",
       "      <td>-3.349837</td>\n",
       "      <td>1.0</td>\n",
       "    </tr>\n",
       "    <tr>\n",
       "      <th>17</th>\n",
       "      <td>3.346123</td>\n",
       "      <td>0.161121</td>\n",
       "      <td>1.0</td>\n",
       "    </tr>\n",
       "    <tr>\n",
       "      <th>18</th>\n",
       "      <td>0.256686</td>\n",
       "      <td>-2.597347</td>\n",
       "      <td>1.0</td>\n",
       "    </tr>\n",
       "    <tr>\n",
       "      <th>19</th>\n",
       "      <td>1.118001</td>\n",
       "      <td>2.654143</td>\n",
       "      <td>1.0</td>\n",
       "    </tr>\n",
       "  </tbody>\n",
       "</table>\n",
       "</div>"
      ],
      "text/plain": [
       "          x1        x2    y\n",
       "0  -3.593333 -0.438585  1.0\n",
       "1  -0.921381 -3.717520  1.0\n",
       "2  -3.184552 -1.191063  1.0\n",
       "3  -0.257289  4.522688  1.0\n",
       "4  -3.379796  2.940642  1.0\n",
       "5   4.746043 -1.370647  1.0\n",
       "6  -0.186107  4.105784  1.0\n",
       "7  -0.198865 -3.424230  1.0\n",
       "8  -2.313558  0.412247  1.0\n",
       "9   4.996796 -0.178973  1.0\n",
       "10 -1.752447 -2.422608  1.0\n",
       "11 -3.825050  2.965568  1.0\n",
       "12 -1.223085  1.983170  1.0\n",
       "13 -1.707319  1.371555  1.0\n",
       "14  1.697762  3.219814  1.0\n",
       "15 -0.845175  1.227102  0.0\n",
       "16 -0.825281 -3.349837  1.0\n",
       "17  3.346123  0.161121  1.0\n",
       "18  0.256686 -2.597347  1.0\n",
       "19  1.118001  2.654143  1.0"
      ]
     },
     "execution_count": 7,
     "metadata": {},
     "output_type": "execute_result"
    }
   ],
   "source": [
    "\n",
    "df1 = pd.DataFrame({'x1':X[:,0],'x2':X[:,1],'y':np.linspace(1,1,len(X))});\n",
    "df1.head()\n",
    "\n",
    "df0 = pd.DataFrame({'x1':x[:,0],'x2':x[:,1],'y':np.linspace(0,0,len(x))});\n",
    "df0.head()\n",
    "\n",
    "# 拼接\n",
    "df = pd.concat([df0,df1],axis=0)\n",
    "# df.describe()\n",
    "\n",
    "df = df.to_numpy()\n",
    "np.shape(df)\n",
    "# 洗牌\n",
    "np.random.shuffle(df)\n",
    "print(df)\n",
    "\n",
    "df = pd.DataFrame({'x1':df[:,0],'x2':df[:,1],'y':df[:,2]});\n",
    "df.head(20)\n",
    "df.to_csv(\"myLogisticTestFile.csv\",index=False,sep=',')"
   ]
  },
  {
   "cell_type": "markdown",
   "metadata": {},
   "source": [
    "### Cost function\n",
    ">\n",
    ">$$\n",
    "J(\\theta) =\\frac{1}{m}\\sum_{i=1}^{m}\\frac{1}{2}(h_\\theta(x^{(i)})-y^{(i)})^2\n",
    "=\\frac{1}{m}\\sum_{i=1}^{m}Cost(h_\\theta(x^{(i)},y^{(i)}))\\\\\n",
    "Cost(h_\\theta(x),y) = \\left\\{\\begin{aligned}\n",
    " -log(h_\\theta(x))  &\\quad \\text{if}\\quad y = 1 \\\\\n",
    " -log(1 - h_\\theta(x))&\\quad \\text{if}\\quad y = 0\n",
    "\\end{aligned}\n",
    "\\right.$$\n",
    "\n",
    "\n",
    "将上面公式写成一行：\n",
    ">\n",
    ">$$\n",
    "J(\\theta) =-\\frac{1}{m}\\sum_{i=1}^{m}[y^{(i)}\\log h_\\theta(x^{(i)})+(1-y^{(i)})\\log (1-h_\\theta(x^{(i)}))]\n",
    "$$\n",
    "\n",
    "**To fit parameters $\\theta$:**\n",
    "$$ \\min_\\theta J(\\theta) $$\n",
    "\n",
    "**To make a prediction given new $x$:**\n",
    "$$\\text{Output}\\quad\n",
    "h_\\theta(x)=\\frac{1}{1+e^{-\\theta^Tx}}\n",
    "$$"
   ]
  },
  {
   "cell_type": "code",
   "execution_count": 8,
   "metadata": {
    "collapsed": true,
    "jupyter": {
     "outputs_hidden": true
    }
   },
   "outputs": [],
   "source": [
    "# 特征缩放\n",
    "def normorlize_feature(x):\n",
    "    '''沿着x读入的维度对其进行规范化'''\n",
    "    return (x - x.mean())/x.std()"
   ]
  },
  {
   "cell_type": "code",
   "execution_count": 9,
   "metadata": {
    "collapsed": true,
    "jupyter": {
     "outputs_hidden": true
    }
   },
   "outputs": [],
   "source": [
    "df = df.to_numpy()"
   ]
  },
  {
   "cell_type": "code",
   "execution_count": 72,
   "metadata": {
    "scrolled": true
   },
   "outputs": [
    {
     "data": {
      "text/plain": [
       "(400, 3)"
      ]
     },
     "execution_count": 72,
     "metadata": {},
     "output_type": "execute_result"
    },
    {
     "data": {
      "text/plain": [
       "array([[ 1.        , -1.57571641, -0.26998911],\n",
       "       [ 1.        , -0.3875004 , -1.74170244],\n",
       "       [ 1.        , -1.39393138, -0.60773057],\n",
       "       ...,\n",
       "       [ 1.        , -1.74054766,  0.27695264],\n",
       "       [ 1.        , -0.5315361 ,  0.01307052],\n",
       "       [ 1.        ,  0.21187687,  0.0966218 ]])"
      ]
     },
     "execution_count": 72,
     "metadata": {},
     "output_type": "execute_result"
    }
   ],
   "source": [
    "rows,cols=np.shape(df)\n",
    "normal_X = np.empty([rows,cols-1])\n",
    "\n",
    "\n",
    "for _ in range(cols-1):\n",
    "    normal_X[:,_] = normorlize_feature(df[:,_])\n",
    "\n",
    "normal_X = np.hstack((np.ones([rows,1]),normal_X)) # 横向拼接数据,加入X0\n",
    "np.shape(normal_X)\n",
    "normal_X"
   ]
  },
  {
   "cell_type": "code",
   "execution_count": 117,
   "metadata": {
    "scrolled": true
   },
   "outputs": [
    {
     "data": {
      "text/plain": [
       "(400, 1)"
      ]
     },
     "execution_count": 117,
     "metadata": {},
     "output_type": "execute_result"
    },
    {
     "name": "stdout",
     "output_type": "stream",
     "text": [
      "y的shape(400, 1)\n",
      "(1, 1)\n"
     ]
    },
    {
     "data": {
      "text/plain": [
       "array([[0.82939369]])"
      ]
     },
     "execution_count": 117,
     "metadata": {},
     "output_type": "execute_result"
    }
   ],
   "source": [
    "# Linear\n",
    "def h(theta,X):\n",
    "    return sigmoid(X @ theta)\n",
    "\n",
    "theta = np.random.rand(cols,1)\n",
    "# theta\n",
    "# h(theta,normal_X)\n",
    "\n",
    "# Non_linear\n",
    "# def h(theta,X):\n",
    "#     pass\n",
    "\n",
    "\n",
    "# y 是最后一列\n",
    "y=df[:,cols-1].reshape(rows,1);\n",
    "\n",
    "def cost_func(theta,X,y):\n",
    "    \"\"\" Cost function 内部的求和在这里被我用向量点积替换\"\"\"\n",
    "    print(np.shape(y.T @ np.log(h(theta,X))))\n",
    "    return -(y.T @ np.log(h(theta,X)) + (1-y).T@ np.log(1-h(theta,X)))/len(y)\n",
    "\n",
    "cost_func(theta,normal_X,y)"
   ]
  },
  {
   "cell_type": "markdown",
   "metadata": {},
   "source": [
    "### Gradient Descent\n",
    ">$$\n",
    "J(\\theta) =-\\frac{1}{m}\\sum_{i=1}^{m}[y^{(i)}\\log h_\\theta(x^{(i)})+(1-y^{(i)})\\log (1-h_\\theta(x^{(i)}))]\n",
    "$$\n",
    "\n",
    "Want $ \\min_\\theta J(\\theta) $：\n",
    "\n",
    "Repeat{$$\n",
    "\\theta_j := \\theta_j - \\alpha \\sum_{i=1}^{m}(h_\\theta(x^{(i)})-y^{(i)})x_j^{(i)}\\\\\n",
    "\\text{(simultaneously update all $\\theta_j$)}\n",
    "$$}\n",
    "\n",
    "**Algorithm looks identical to linear regression!**\n"
   ]
  },
  {
   "cell_type": "code",
   "execution_count": null,
   "metadata": {
    "collapsed": true,
    "jupyter": {
     "outputs_hidden": true
    }
   },
   "outputs": [],
   "source": []
  },
  {
   "cell_type": "markdown",
   "metadata": {},
   "source": [
    "\n"
   ]
  }
 ],
 "metadata": {
  "kernel_info": {
   "name": "node_nteract"
  },
  "kernelspec": {
   "display_name": "Python 3",
   "language": "python",
   "name": "python3"
  },
  "language_info": {
   "codemirror_mode": {
    "name": "ipython",
    "version": 3
   },
   "file_extension": ".py",
   "mimetype": "text/x-python",
   "name": "python",
   "nbconvert_exporter": "python",
   "pygments_lexer": "ipython3",
   "version": "3.7.3"
  },
  "latex_envs": {
   "LaTeX_envs_menu_present": true,
   "autoclose": false,
   "autocomplete": true,
   "bibliofile": "biblio.bib",
   "cite_by": "apalike",
   "current_citInitial": 1,
   "eqLabelWithNumbers": true,
   "eqNumInitial": 1,
   "hotkeys": {
    "equation": "Ctrl-E",
    "itemize": "Ctrl-I"
   },
   "labels_anchors": false,
   "latex_user_defs": false,
   "report_style_numbering": false,
   "user_envs_cfg": false
  },
  "nbTranslate": {
   "displayLangs": [
    "*"
   ],
   "hotkey": "alt-t",
   "langInMainMenu": true,
   "sourceLang": "en",
   "targetLang": "fr",
   "useGoogleTranslate": true
  },
  "nteract": {
   "version": "nteract-on-jupyter@2.0.5"
  },
  "toc": {
   "base_numbering": 1,
   "nav_menu": {},
   "number_sections": true,
   "sideBar": true,
   "skip_h1_title": false,
   "title_cell": "Table of Contents",
   "title_sidebar": "Contents",
   "toc_cell": false,
   "toc_position": {},
   "toc_section_display": true,
   "toc_window_display": true
  },
  "varInspector": {
   "cols": {
    "lenName": 16,
    "lenType": 16,
    "lenVar": 40
   },
   "kernels_config": {
    "python": {
     "delete_cmd_postfix": "",
     "delete_cmd_prefix": "del ",
     "library": "var_list.py",
     "varRefreshCmd": "print(var_dic_list())"
    },
    "r": {
     "delete_cmd_postfix": ") ",
     "delete_cmd_prefix": "rm(",
     "library": "var_list.r",
     "varRefreshCmd": "cat(var_dic_list()) "
    }
   },
   "types_to_exclude": [
    "module",
    "function",
    "builtin_function_or_method",
    "instance",
    "_Feature"
   ],
   "window_display": false
  }
 },
 "nbformat": 4,
 "nbformat_minor": 4
}
