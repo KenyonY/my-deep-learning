{
 "cells": [
  {
   "cell_type": "code",
   "execution_count": 2,
   "metadata": {},
   "outputs": [],
   "source": [
    "# 指定CPU跑\n",
    "import os\n",
    "os.environ[\"CUDA_DEVICE_ORDER\"] = \"PCI_BUS_ID\"  \n",
    "os.environ[\"CUDA_VISIBLE_DEVICES\"] = \"-1\""
   ]
  },
  {
   "cell_type": "code",
   "execution_count": 28,
   "metadata": {},
   "outputs": [
    {
     "data": {
      "text/plain": [
       "'1.16.4'"
      ]
     },
     "execution_count": 28,
     "metadata": {},
     "output_type": "execute_result"
    }
   ],
   "source": [
    "import numpy as np\n",
    "np.__version__"
   ]
  },
  {
   "cell_type": "code",
   "execution_count": 1,
   "metadata": {},
   "outputs": [],
   "source": [
    "import tensorflow as tf\n",
    "import numpy as np\n",
    "rng = np.random"
   ]
  },
  {
   "cell_type": "markdown",
   "metadata": {
    "toc-hr-collapsed": false
   },
   "source": [
    "# 使用TensorFlow通过回归验证通用近似定理\n",
    "***\n",
    "神经网络中，我们把神经元看作网络节点，在节点处通常是使用一个非线性函数$\\sigma()$去作用到输入信号上面。~~而在不同层之间的神经元之间会相互连接.~~ 而第n层神经元与第n+1层神经元连接（单向），而这种连接在神经网络中以权重w进行表示。  \n",
    "那么**信号由第n层到第n+1层中的第i个神经元**，便可以表示成如下(其中m表示此批次的样本数)：\n",
    "$$\n",
    "x_i^{(n+1)} = \\sigma(\\sum_m{w^{(n)}_m x^{(n)}_m + b^{(n)}})\n",
    "$$\n",
    "从上面的公式也可以看出，n+1层的神经元通常会与上一层的每个神经元存在联系（全连接时），而在单层神经元之间彼此通常是没有直接连接的。那么如果我们能证明这一层的神经元之间是相互正交的，那么我们就证明了这一层神经元可以拟合得到任意函数。  \n",
    "证明：  \n",
    "\n",
    "pass"
   ]
  },
  {
   "cell_type": "markdown",
   "metadata": {},
   "source": [
    "## 自定义模型实现："
   ]
  },
  {
   "cell_type": "markdown",
   "metadata": {},
   "source": [
    "### 批操作生成函数"
   ]
  },
  {
   "cell_type": "markdown",
   "metadata": {},
   "source": [
    "对输入数据应保持形状为(m,num_feature)， 这样输入神经网络后便可以以矩阵相乘的形式得到最后为(m, num_class)的结果，即  \n",
    "(m, num_feature)* (num_feature, hidden1)* (hidden1, hidden2)* ... * (hiddenN, num_classis)"
   ]
  },
  {
   "cell_type": "code",
   "execution_count": 2,
   "metadata": {},
   "outputs": [
    {
     "data": {
      "text/plain": [
       "True"
      ]
     },
     "execution_count": 2,
     "metadata": {},
     "output_type": "execute_result"
    }
   ],
   "source": [
    "tf.test.is_gpu_available()"
   ]
  },
  {
   "cell_type": "code",
   "execution_count": 2,
   "metadata": {},
   "outputs": [],
   "source": [
    "# 批操作\n",
    "x_data = np.linspace(0,10,100)\n",
    "\n",
    "def genData(x_data,batch_size=100):\n",
    "    L = len(x_data)\n",
    "    idx = np.arange(0,L)\n",
    "    count=0\n",
    "    while True: # 让其一轮结束后开始新一轮\n",
    "#         count += 1\n",
    "        np.random.shuffle(idx)\n",
    "        batchs = L//batch_size\n",
    "        for i in range(batchs):\n",
    "#             print(count)\n",
    "            x = x_data[idx][i*batch_size:(i+1)*batch_size].reshape(batch_size,-1)\n",
    "            yield x,tf.constant(np.sin(x))"
   ]
  },
  {
   "cell_type": "code",
   "execution_count": 3,
   "metadata": {},
   "outputs": [],
   "source": [
    "g = genData(x_data)"
   ]
  },
  {
   "cell_type": "code",
   "execution_count": 4,
   "metadata": {},
   "outputs": [
    {
     "data": {
      "text/plain": [
       "((100, 1), TensorShape([100, 1]))"
      ]
     },
     "execution_count": 4,
     "metadata": {},
     "output_type": "execute_result"
    }
   ],
   "source": [
    "X,Y = next(g) \n",
    "X.shape,Y.shape"
   ]
  },
  {
   "cell_type": "code",
   "execution_count": 5,
   "metadata": {},
   "outputs": [
    {
     "name": "stdout",
     "output_type": "stream",
     "text": [
      "(100, 1)\n",
      "(100, 1)\n"
     ]
    }
   ],
   "source": [
    "\n",
    "# Y = np.square(X)\n",
    "\n",
    "print(Y.shape)\n",
    "print(X.shape)"
   ]
  },
  {
   "cell_type": "code",
   "execution_count": 6,
   "metadata": {},
   "outputs": [
    {
     "data": {
      "text/latex": [
       "$\\displaystyle \\left( 100, \\  1\\right)$"
      ],
      "text/plain": [
       "(100, 1)"
      ]
     },
     "execution_count": 6,
     "metadata": {},
     "output_type": "execute_result"
    }
   ],
   "source": [
    "X.shape"
   ]
  },
  {
   "cell_type": "code",
   "execution_count": 7,
   "metadata": {
    "scrolled": true
   },
   "outputs": [
    {
     "name": "stdout",
     "output_type": "stream",
     "text": [
      "第0，1维度\n",
      " [[-0.46156968 -0.38617585  0.02612892]\n",
      " [ 1.29932291 -0.22075114 -1.37407067]\n",
      " [ 0.32501346 -0.07029827 -0.40819744]\n",
      " [ 0.05007202 -0.49081395 -0.78309403]\n",
      " [-1.46938048  1.41040868  0.37193681]]\n",
      "第1，2维度\n",
      " [[-1.75709161  1.29932291 -1.05641929]\n",
      " [-0.81077518 -0.22075114  2.14160903]\n",
      " [ 1.13261512 -1.37407067  0.53375016]]\n",
      "第0，2维度\n",
      " [[-1.2439628  -0.38617585 -1.25766687]\n",
      " [-0.81077518 -0.22075114  2.14160903]\n",
      " [-0.11821836 -0.07029827  0.50179183]\n",
      " [ 0.06718565 -0.49081395 -0.93250218]\n",
      " [-0.33880966  1.41040868 -0.50949529]]\n"
     ]
    }
   ],
   "source": [
    "# tf.Variable(rng.randn(50,3))@tf.Variable(rng.randn(3,3))+ tf.Variable(rng.randn(50,3))\n",
    "a = rng.randn(5,3,3)\n",
    "print('第0，1维度\\n',a[:,:,1]) # 返回 5*3\n",
    "print('第1，2维度\\n',a[1,:,:]) # 返回3*3\n",
    "print('第0，2维度\\n',a[:,1,:]) # 5*3"
   ]
  },
  {
   "cell_type": "code",
   "execution_count": 8,
   "metadata": {},
   "outputs": [
    {
     "data": {
      "text/plain": [
       "array([[-0.33080786,  1.46880034, -0.57774505],\n",
       "       [ 1.63946408,  0.18678567,  1.87831592],\n",
       "       [-0.39426823,  0.02738337,  2.64734079],\n",
       "       [ 0.81100893, -0.42243035, -2.03840511],\n",
       "       [ 0.45872657,  0.31576853, -1.00427967]])"
      ]
     },
     "execution_count": 8,
     "metadata": {},
     "output_type": "execute_result"
    }
   ],
   "source": [
    "rng.randn(5,3)"
   ]
  },
  {
   "cell_type": "code",
   "execution_count": 9,
   "metadata": {},
   "outputs": [
    {
     "data": {
      "text/plain": [
       "<tf.Tensor: id=89, shape=(), dtype=float64, numpy=1.4319681110850533>"
      ]
     },
     "execution_count": 9,
     "metadata": {},
     "output_type": "execute_result"
    }
   ],
   "source": [
    "class Model:\n",
    "    def __init__(self, input_shape=[50,1],num_layers = 2):\n",
    "        '''input_shape = [batch_size, feature_size]'''\n",
    "       \n",
    "        self.batch_size, self.num_feature = input_shape[0], input_shape[1]\n",
    "        self.num_layers = num_layers\n",
    "\n",
    "        hidden1, hidden2 = 100,100 # 单个隐藏层神经元个数\n",
    "        out_put = 1\n",
    "        self.w0 = tf.Variable(rng.randn(self.num_feature, hidden1), name = 'weight0')\n",
    "        self.b0 = tf.Variable(rng.randn(self.batch_size, hidden1), name = 'bias0')\n",
    "        \n",
    "        self.w1 = tf.Variable(rng.randn(hidden1, hidden2, num_layers), name = 'weight1')\n",
    "        self.b1 = tf.Variable(rng.randn(self.batch_size, hidden2, num_layers), name = 'bias1')\n",
    "        \n",
    "        self.w2 = tf.Variable(rng.randn(hidden2, out_put), name = 'weight2')\n",
    "        self.b2 = tf.Variable(rng.randn(self.batch_size, out_put), name = 'bias2')\n",
    "        \n",
    "        self.wp = tf.Variable(rng.randn(out_put, out_put), name = 'weight_predict')\n",
    "        self.bp = tf.Variable(rng.randn(self.batch_size, out_put), name = 'weight_predict')\n",
    "        \n",
    "\n",
    "\n",
    "    def __call__(self,X):\n",
    "        \n",
    "#         out = tf.nn.sigmoid(X@ self.w0 + self.b0) # 输入层\n",
    "        out = tf.nn.sigmoid(tf.multiply(X, self.w0)+ self.b0) # 输入层\n",
    "        for i in range(self.num_layers):\n",
    "             out = tf.nn.sigmoid(out @ self.w1[:,:,i] + self.b1[:,:,i])# 隐藏层\n",
    "    \n",
    "        out = tf.nn.sigmoid(out@self.w2+self.b2)# 输出层的前一层\n",
    "        out = out @ self.wp + self.bp # 输出层(预测层)\n",
    "        return out\n",
    "        \n",
    "def lossfunc(OUT,Y):\n",
    "    return tf.reduce_mean(tf.square(OUT-Y)) \n",
    "\n",
    "model = Model(input_shape=[100,1], num_layers=1)\n",
    "pred = model(X)\n",
    "# print(pred)\n",
    "loss = lossfunc(pred,Y)\n",
    "loss"
   ]
  },
  {
   "cell_type": "code",
   "execution_count": 10,
   "metadata": {},
   "outputs": [],
   "source": [
    "# Stochastic Gradient Descent Optimizer.\n",
    "learning_rate = 1\n",
    "# optimizer = tf.optimizers.Adadelta(learning_rate)\n",
    "optimizer = tf.optimizers.Adadelta(learning_rate)"
   ]
  },
  {
   "cell_type": "code",
   "execution_count": 11,
   "metadata": {},
   "outputs": [],
   "source": [
    "# Optimization process. \n",
    "def run_optimization():\n",
    "    # 将导数的计算封装在 GradientTape 中\n",
    "    with tf.GradientTape() as g:\n",
    "        loss = lossfunc(model(X),Y)\n",
    "        \n",
    "    # 计算loss对W和b的导数：\n",
    "    gradients = g.gradient(loss, [model.w0, model.b0,model.w1, model.b1,model.w2, model.b2, model.wp, model.bp])\n",
    "    # 根据梯度更新W,b\n",
    "    optimizer.apply_gradients(zip(gradients,[model.w0, model.b0,model.w1, model.b1,model.w2, model.b2, model.wp, model.bp]))"
   ]
  },
  {
   "cell_type": "code",
   "execution_count": 14,
   "metadata": {},
   "outputs": [
    {
     "name": "stdout",
     "output_type": "stream",
     "text": [
      "step: 100, loss: 0.306129454708784\n",
      "step: 200, loss: 0.2609610680851435\n",
      "step: 300, loss: 0.2712667273082127\n",
      "step: 400, loss: 0.20745436860377298\n",
      "step: 500, loss: 0.2164233143520166\n",
      "step: 600, loss: 0.18715962492142166\n",
      "step: 700, loss: 0.15119821589828547\n",
      "step: 800, loss: 0.16999068044360402\n",
      "step: 900, loss: 0.1973691871379388\n",
      "step: 1000, loss: 0.15589553711896403\n"
     ]
    }
   ],
   "source": [
    "# Run training for the given number of steps.\n",
    "training_steps = 1000\n",
    "display_step=100\n",
    "\n",
    "writer = tf.summary.create_file_writer(\"./mylogs\")\n",
    "with writer.as_default(): # 这是为了后面的tf.summary.scalar()\n",
    "    for step in range(1, training_steps + 1):\n",
    "        X,Y = next(genData(x_data))\n",
    "\n",
    "        # Run the optimization to update W and b values.\n",
    "        run_optimization()\n",
    "\n",
    "        tf.summary.scalar('loss',loss, step=step)\n",
    "        writer.flush()\n",
    "        if step % display_step == 0:\n",
    "            pred = model(X)\n",
    "            loss = lossfunc(pred,Y)\n",
    "            print(\"step: {}, loss: {}\".format(step, loss))\n"
   ]
  },
  {
   "cell_type": "markdown",
   "metadata": {},
   "source": [
    "tensorboard --logdir=C:\\Users\\beidongjiedeguang\\OneDrive\\a_github\\tensorflow从0开始\\mylogs  \n",
    "赋值上面命令到命令行  \n",
    "\n",
    "http://localhost:6006/#scalars"
   ]
  },
  {
   "cell_type": "code",
   "execution_count": 13,
   "metadata": {},
   "outputs": [
    {
     "data": {
      "image/png": "[encoded data removed]",
      "text/plain": [
       "<Figure size 432x288 with 1 Axes>"
      ]
     },
     "metadata": {
      "image/png": {
       "height": 246,
       "width": 374
      },
      "needs_background": "light"
     },
     "output_type": "display_data"
    }
   ],
   "source": [
    "import matplotlib.pyplot as plt\n",
    "# Graphic display\n",
    "plt.scatter(X, Y,label='original')\n",
    "plt.scatter(X.reshape(1,-1), model(X).numpy().reshape(1,-1),label='fitted')\n",
    "plt.legend()\n",
    "plt.show()"
   ]
  },
  {
   "cell_type": "code",
   "execution_count": 14,
   "metadata": {},
   "outputs": [
    {
     "data": {
      "text/plain": [
       "<tf.Variable 'weight:0' shape=(3, 1) dtype=float64, numpy=\n",
       "array([[-0.10421957],\n",
       "       [ 0.34857553],\n",
       "       [-1.63328154]])>"
      ]
     },
     "execution_count": 14,
     "metadata": {},
     "output_type": "execute_result"
    }
   ],
   "source": [
    "model.w"
   ]
  },
  {
   "cell_type": "code",
   "execution_count": 15,
   "metadata": {},
   "outputs": [
    {
     "data": {
      "text/plain": [
       "<tf.Variable 'bias:0' shape=(3, 1) dtype=float64, numpy=\n",
       "array([[-0.49231938],\n",
       "       [ 0.24034195],\n",
       "       [ 1.21735975]])>"
      ]
     },
     "execution_count": 15,
     "metadata": {},
     "output_type": "execute_result"
    }
   ],
   "source": [
    "model.b"
   ]
  },
  {
   "cell_type": "code",
   "execution_count": 103,
   "metadata": {},
   "outputs": [
    {
     "name": "stdout",
     "output_type": "stream",
     "text": [
      "(50, 1)\n",
      "(50, 1)\n",
      "(50, 1)\n"
     ]
    }
   ],
   "source": [
    "print(X.shape)\n",
    "X.sort(axis = 0)\n",
    "print(X.shape)\n",
    "print(model(X).shape)\n"
   ]
  },
  {
   "cell_type": "code",
   "execution_count": null,
   "metadata": {},
   "outputs": [],
   "source": [
    "test_x = np.linspace(0,2*np.pi,50)\n",
    "test_x= np.reshape(test_x,[50,1])\n",
    "plt.scatter(test_x,model(test_x).numpy(),c='y',marker= 'o')\n",
    "plt.scatter(test_x,(np.sin(test_x)+1)/2, c='b', marker= '*')"
   ]
  },
  {
   "cell_type": "markdown",
   "metadata": {},
   "source": [
    "## 使用tf.keras API实现"
   ]
  },
  {
   "cell_type": "code",
   "execution_count": 398,
   "metadata": {},
   "outputs": [],
   "source": [
    "\n",
    "from tensorflow.keras import Input,Model\n",
    "from tensorflow.keras import layers\n",
    "from tensorflow.keras.layers import Flatten,Dense,Dropout,Conv2D"
   ]
  },
  {
   "cell_type": "code",
   "execution_count": null,
   "metadata": {},
   "outputs": [],
   "source": [
    "def GenerateData(datasize = 100):\n",
    "    trainX = np.linspace(-1, 1, datasize)\n",
    "    trainY = 2* trainX + rng.randn()"
   ]
  },
  {
   "cell_type": "code",
   "execution_count": 368,
   "metadata": {},
   "outputs": [],
   "source": [
    "def GenerateData(datasize = 100 ):\n",
    "    train_X = np.linspace(-1, 1, datasize)   #train_X为-1到1之间连续的100个浮点数\n",
    "    train_Y = 2 * train_X + np.random.randn(*train_X.shape) * 0.3 # y=2x，但是加入了噪声\n",
    "    yield train_X, train_Y   #以生成器的方式返回"
   ]
  },
  {
   "cell_type": "code",
   "execution_count": 372,
   "metadata": {},
   "outputs": [],
   "source": [
    "train_data = next(GenerateData())"
   ]
  },
  {
   "cell_type": "code",
   "execution_count": 385,
   "metadata": {},
   "outputs": [],
   "source": [
    "inputs = tf.keras.Input(shape=(1,))\n",
    "dense = tf.keras.layers.Dense(1)\n",
    "outputs = dense(inputs)\n",
    "print(inputs)\n",
    "print(dense)\n",
    "print(outputs)"
   ]
  },
  {
   "cell_type": "code",
   "execution_count": null,
   "metadata": {},
   "outputs": [],
   "source": [
    "model = tf.keras.Model(inputs=inputs, outputs=outputs)"
   ]
  },
  {
   "cell_type": "code",
   "execution_count": null,
   "metadata": {},
   "outputs": [],
   "source": []
  },
  {
   "cell_type": "code",
   "execution_count": null,
   "metadata": {},
   "outputs": [],
   "source": []
  },
  {
   "cell_type": "code",
   "execution_count": null,
   "metadata": {},
   "outputs": [],
   "source": []
  },
  {
   "cell_type": "code",
   "execution_count": null,
   "metadata": {},
   "outputs": [],
   "source": []
  },
  {
   "cell_type": "code",
   "execution_count": 376,
   "metadata": {},
   "outputs": [],
   "source": [
    "x = tf.keras.Input(shape=(32,10))# 这里shape给出的是input的特征形状，得到的x的shape其实=[batch,shape]\n",
    "y = tf.square(x)"
   ]
  },
  {
   "cell_type": "code",
   "execution_count": 377,
   "metadata": {},
   "outputs": [
    {
     "data": {
      "text/plain": [
       "<tf.Tensor 'input_2:0' shape=(None, 32, 10) dtype=float32>"
      ]
     },
     "execution_count": 377,
     "metadata": {},
     "output_type": "execute_result"
    }
   ],
   "source": [
    "x"
   ]
  },
  {
   "cell_type": "code",
   "execution_count": null,
   "metadata": {},
   "outputs": [],
   "source": []
  }
 ],
 "metadata": {
  "kernelspec": {
   "display_name": "Python [conda env:tf2]",
   "language": "python",
   "name": "conda-env-tf2-py"
  },
  "language_info": {
   "codemirror_mode": {
    "name": "ipython",
    "version": 3
   },
   "file_extension": ".py",
   "mimetype": "text/x-python",
   "name": "python",
   "nbconvert_exporter": "python",
   "pygments_lexer": "ipython3",
   "version": "3.6.8"
  },
  "latex_envs": {
   "LaTeX_envs_menu_present": true,
   "autoclose": false,
   "autocomplete": true,
   "bibliofile": "biblio.bib",
   "cite_by": "apalike",
   "current_citInitial": 1,
   "eqLabelWithNumbers": true,
   "eqNumInitial": 1,
   "hotkeys": {
    "equation": "Ctrl-E",
    "itemize": "Ctrl-I"
   },
   "labels_anchors": false,
   "latex_user_defs": false,
   "report_style_numbering": false,
   "user_envs_cfg": false
  },
  "toc": {
   "base_numbering": 1,
   "nav_menu": {},
   "number_sections": true,
   "sideBar": true,
   "skip_h1_title": false,
   "title_cell": "Table of Contents",
   "title_sidebar": "Contents",
   "toc_cell": false,
   "toc_position": {
    "height": "calc(100% - 180px)",
    "left": "10px",
    "top": "150px",
    "width": "220.036px"
   },
   "toc_section_display": true,
   "toc_window_display": false
  },
  "varInspector": {
   "cols": {
    "lenName": 16,
    "lenType": 16,
    "lenVar": 40
   },
   "kernels_config": {
    "python": {
     "delete_cmd_postfix": "",
     "delete_cmd_prefix": "del ",
     "library": "var_list.py",
     "varRefreshCmd": "print(var_dic_list())"
    },
    "r": {
     "delete_cmd_postfix": ") ",
     "delete_cmd_prefix": "rm(",
     "library": "var_list.r",
     "varRefreshCmd": "cat(var_dic_list()) "
    }
   },
   "types_to_exclude": [
    "module",
    "function",
    "builtin_function_or_method",
    "instance",
    "_Feature"
   ],
   "window_display": false
  }
 },
 "nbformat": 4,
 "nbformat_minor": 4
}
