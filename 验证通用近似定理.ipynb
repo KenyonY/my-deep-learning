{
 "cells": [
  {
   "cell_type": "code",
   "execution_count": 3,
   "metadata": {},
   "outputs": [],
   "source": [
    "# 指定CPU跑\n",
    "import os\n",
    "os.environ[\"CUDA_DEVICE_ORDER\"] = \"PCI_BUS_ID\"  \n",
    "os.environ[\"CUDA_VISIBLE_DEVICES\"] = \"-1\""
   ]
  },
  {
   "cell_type": "code",
   "execution_count": 2,
   "metadata": {},
   "outputs": [
    {
     "data": {
      "text/plain": [
       "'1.16.4'"
      ]
     },
     "execution_count": 2,
     "metadata": {},
     "output_type": "execute_result"
    }
   ],
   "source": [
    "import numpy as np\n",
    "np.__version__"
   ]
  },
  {
   "cell_type": "code",
   "execution_count": 3,
   "metadata": {},
   "outputs": [],
   "source": [
    "import tensorflow as tf\n",
    "import numpy as np\n",
    "rng = np.random"
   ]
  },
  {
   "cell_type": "markdown",
   "metadata": {
    "toc-hr-collapsed": false
   },
   "source": [
    "# 使用TensorFlow通过回归验证通用近似定理\n",
    "***\n",
    "神经网络中，我们把神经元看作网络节点，在节点处通常是使用一个非线性函数$\\sigma()$去作用到输入信号上面。~~而在不同层之间的神经元之间会相互连接.~~ 而第n层神经元与第n+1层神经元连接（单向），而这种连接在神经网络中以权重w进行表示。  \n",
    "那么**信号由第n层到第n+1层中的第i个神经元**，便可以表示成如下(其中m表示此批次的样本数)：\n",
    "$$\n",
    "x_i^{(n+1)} = \\sigma(\\sum_m{w^{(n)}_m x^{(n)}_m + b^{(n)}})\n",
    "$$\n",
    "从上面的公式也可以看出，n+1层的神经元通常会与上一层的每个神经元存在联系（全连接时），而在单层神经元之间彼此通常是没有直接连接的。那么如果我们能证明这一层的神经元之间是相互正交的，那么我们就证明了这一层神经元可以拟合得到任意函数。  \n",
    "证明：  \n",
    "\n",
    "pass"
   ]
  },
  {
   "cell_type": "markdown",
   "metadata": {},
   "source": [
    "## 自定义模型实现："
   ]
  },
  {
   "cell_type": "markdown",
   "metadata": {},
   "source": [
    "### 批操作生成函数"
   ]
  },
  {
   "cell_type": "markdown",
   "metadata": {},
   "source": [
    "对输入数据应保持形状为(m,num_feature)， 这样输入神经网络后便可以以矩阵相乘的形式得到最后为(m, num_class)的结果，即  \n",
    "(m, num_feature)* (num_feature, hidden1)* (hidden1, hidden2)* ... * (hiddenN, num_classis)"
   ]
  },
  {
   "cell_type": "code",
   "execution_count": 4,
   "metadata": {},
   "outputs": [
    {
     "data": {
      "text/plain": [
       "False"
      ]
     },
     "execution_count": 4,
     "metadata": {},
     "output_type": "execute_result"
    }
   ],
   "source": [
    "tf.test.is_gpu_available()"
   ]
  },
  {
   "cell_type": "code",
   "execution_count": 3,
   "metadata": {},
   "outputs": [],
   "source": [
    "# 批操作\n",
    "x_data = np.linspace(0,10,100)\n",
    "\n",
    "def genData(x_data,batch_size=100):\n",
    "    L = len(x_data)\n",
    "    idx = np.arange(0,L)\n",
    "    count=0\n",
    "    while True: # 让其一轮结束后开始新一轮\n",
    "#         count += 1\n",
    "        np.random.shuffle(idx)\n",
    "        batchs = L//batch_size\n",
    "        for i in range(batchs):\n",
    "#             print(count)\n",
    "            x = x_data[idx][i*batch_size:(i+1)*batch_size].reshape(batch_size,-1)\n",
    "            yield x,tf.constant(np.sin(x))"
   ]
  },
  {
   "cell_type": "code",
   "execution_count": 6,
   "metadata": {},
   "outputs": [],
   "source": [
    "g = genData(x_data)"
   ]
  },
  {
   "cell_type": "code",
   "execution_count": 7,
   "metadata": {},
   "outputs": [
    {
     "data": {
      "text/plain": [
       "((100, 1), TensorShape([100, 1]))"
      ]
     },
     "execution_count": 7,
     "metadata": {},
     "output_type": "execute_result"
    }
   ],
   "source": [
    "X,Y = next(g) \n",
    "X.shape,Y.shape"
   ]
  },
  {
   "cell_type": "code",
   "execution_count": 8,
   "metadata": {},
   "outputs": [
    {
     "name": "stdout",
     "output_type": "stream",
     "text": [
      "(100, 1)\n",
      "(100, 1)\n"
     ]
    }
   ],
   "source": [
    "\n",
    "# Y = np.square(X)\n",
    "\n",
    "print(Y.shape)\n",
    "print(X.shape)"
   ]
  },
  {
   "cell_type": "code",
   "execution_count": 9,
   "metadata": {},
   "outputs": [
    {
     "data": {
      "text/latex": [
       "$\\displaystyle \\left( 100, \\  1\\right)$"
      ],
      "text/plain": [
       "(100, 1)"
      ]
     },
     "execution_count": 9,
     "metadata": {},
     "output_type": "execute_result"
    }
   ],
   "source": [
    "X.shape"
   ]
  },
  {
   "cell_type": "code",
   "execution_count": 10,
   "metadata": {
    "scrolled": true
   },
   "outputs": [
    {
     "name": "stdout",
     "output_type": "stream",
     "text": [
      "第0，1维度\n",
      " [[-0.58638221 -0.01802664  1.3274935 ]\n",
      " [ 0.06534366 -0.5106564  -0.62715093]\n",
      " [ 0.21885714 -1.17719677  1.61712266]\n",
      " [-1.09317682  2.15310861 -0.56109088]\n",
      " [ 1.45745612 -0.6004262   0.06508442]]\n",
      "第1，2维度\n",
      " [[-1.07476851  0.06534366 -0.26949314]\n",
      " [ 0.42723793 -0.5106564   0.22627798]\n",
      " [-1.13780956 -0.62715093 -0.50887072]]\n",
      "第0，2维度\n",
      " [[-0.07069851 -0.01802664  0.41047456]\n",
      " [ 0.42723793 -0.5106564   0.22627798]\n",
      " [-1.07836664 -1.17719677  0.9416182 ]\n",
      " [ 0.55339523  2.15310861  0.98638119]\n",
      " [-0.95294742 -0.6004262   0.64514993]]\n"
     ]
    }
   ],
   "source": [
    "# tf.Variable(rng.randn(50,3))@tf.Variable(rng.randn(3,3))+ tf.Variable(rng.randn(50,3))\n",
    "a = rng.randn(5,3,3)\n",
    "print('第0，1维度\\n',a[:,:,1]) # 返回 5*3\n",
    "print('第1，2维度\\n',a[1,:,:]) # 返回3*3\n",
    "print('第0，2维度\\n',a[:,1,:]) # 5*3"
   ]
  },
  {
   "cell_type": "code",
   "execution_count": 11,
   "metadata": {},
   "outputs": [
    {
     "data": {
      "text/plain": [
       "array([[ 0.50213929, -0.00956805,  0.18688086],\n",
       "       [-0.37085639,  0.70381832, -2.36162379],\n",
       "       [ 1.67522528,  1.3705796 ,  1.26411949],\n",
       "       [ 0.21607177,  1.85404719, -0.25178061],\n",
       "       [ 0.21163474, -1.3341773 ,  0.06740531]])"
      ]
     },
     "execution_count": 11,
     "metadata": {},
     "output_type": "execute_result"
    }
   ],
   "source": [
    "rng.randn(5,3)"
   ]
  },
  {
   "cell_type": "code",
   "execution_count": 96,
   "metadata": {},
   "outputs": [
    {
     "ename": "NameError",
     "evalue": "name 'rng' is not defined",
     "output_type": "error",
     "traceback": [
      "\u001b[0;31m---------------------------------------------------------------------------\u001b[0m",
      "\u001b[0;31mNameError\u001b[0m                                 Traceback (most recent call last)",
      "\u001b[0;32m<ipython-input-96-5c4461809e3b>\u001b[0m in \u001b[0;36m<module>\u001b[0;34m\u001b[0m\n\u001b[1;32m     37\u001b[0m     \u001b[0;32mreturn\u001b[0m \u001b[0mtf\u001b[0m\u001b[0;34m.\u001b[0m\u001b[0mreduce_mean\u001b[0m\u001b[0;34m(\u001b[0m\u001b[0mtf\u001b[0m\u001b[0;34m.\u001b[0m\u001b[0msquare\u001b[0m\u001b[0;34m(\u001b[0m\u001b[0mOUT\u001b[0m\u001b[0;34m-\u001b[0m\u001b[0mY\u001b[0m\u001b[0;34m)\u001b[0m\u001b[0;34m)\u001b[0m\u001b[0;34m\u001b[0m\u001b[0;34m\u001b[0m\u001b[0m\n\u001b[1;32m     38\u001b[0m \u001b[0;34m\u001b[0m\u001b[0m\n\u001b[0;32m---> 39\u001b[0;31m \u001b[0mmodel\u001b[0m \u001b[0;34m=\u001b[0m \u001b[0mModel\u001b[0m\u001b[0;34m(\u001b[0m\u001b[0minput_shape\u001b[0m\u001b[0;34m=\u001b[0m\u001b[0;34m[\u001b[0m\u001b[0;36m100\u001b[0m\u001b[0;34m,\u001b[0m\u001b[0;36m1\u001b[0m\u001b[0;34m]\u001b[0m\u001b[0;34m,\u001b[0m \u001b[0mnum_layers\u001b[0m\u001b[0;34m=\u001b[0m\u001b[0;36m1\u001b[0m\u001b[0;34m)\u001b[0m\u001b[0;34m\u001b[0m\u001b[0;34m\u001b[0m\u001b[0m\n\u001b[0m\u001b[1;32m     40\u001b[0m \u001b[0mpred\u001b[0m \u001b[0;34m=\u001b[0m \u001b[0mmodel\u001b[0m\u001b[0;34m(\u001b[0m\u001b[0mX\u001b[0m\u001b[0;34m)\u001b[0m\u001b[0;34m\u001b[0m\u001b[0;34m\u001b[0m\u001b[0m\n\u001b[1;32m     41\u001b[0m \u001b[0;31m# print(pred)\u001b[0m\u001b[0;34m\u001b[0m\u001b[0;34m\u001b[0m\u001b[0;34m\u001b[0m\u001b[0m\n",
      "\u001b[0;32m<ipython-input-96-5c4461809e3b>\u001b[0m in \u001b[0;36m__init__\u001b[0;34m(self, input_shape, num_layers)\u001b[0m\n\u001b[1;32m      9\u001b[0m         \u001b[0mhidden1\u001b[0m\u001b[0;34m,\u001b[0m \u001b[0mhidden2\u001b[0m \u001b[0;34m=\u001b[0m \u001b[0;36m100\u001b[0m\u001b[0;34m,\u001b[0m\u001b[0;36m100\u001b[0m \u001b[0;31m# 单个隐藏层神经元个数\u001b[0m\u001b[0;34m\u001b[0m\u001b[0;34m\u001b[0m\u001b[0m\n\u001b[1;32m     10\u001b[0m         \u001b[0mout_put\u001b[0m \u001b[0;34m=\u001b[0m \u001b[0;36m1\u001b[0m\u001b[0;34m\u001b[0m\u001b[0;34m\u001b[0m\u001b[0m\n\u001b[0;32m---> 11\u001b[0;31m         \u001b[0mself\u001b[0m\u001b[0;34m.\u001b[0m\u001b[0mw0\u001b[0m \u001b[0;34m=\u001b[0m \u001b[0mtf\u001b[0m\u001b[0;34m.\u001b[0m\u001b[0mVariable\u001b[0m\u001b[0;34m(\u001b[0m\u001b[0mrng\u001b[0m\u001b[0;34m.\u001b[0m\u001b[0mrandn\u001b[0m\u001b[0;34m(\u001b[0m\u001b[0mself\u001b[0m\u001b[0;34m.\u001b[0m\u001b[0mnum_feature\u001b[0m\u001b[0;34m,\u001b[0m \u001b[0mhidden1\u001b[0m\u001b[0;34m)\u001b[0m\u001b[0;34m,\u001b[0m \u001b[0mname\u001b[0m \u001b[0;34m=\u001b[0m \u001b[0;34m'weight0'\u001b[0m\u001b[0;34m)\u001b[0m\u001b[0;34m\u001b[0m\u001b[0;34m\u001b[0m\u001b[0m\n\u001b[0m\u001b[1;32m     12\u001b[0m         \u001b[0mself\u001b[0m\u001b[0;34m.\u001b[0m\u001b[0mb0\u001b[0m \u001b[0;34m=\u001b[0m \u001b[0mtf\u001b[0m\u001b[0;34m.\u001b[0m\u001b[0mVariable\u001b[0m\u001b[0;34m(\u001b[0m\u001b[0mrng\u001b[0m\u001b[0;34m.\u001b[0m\u001b[0mrandn\u001b[0m\u001b[0;34m(\u001b[0m\u001b[0mself\u001b[0m\u001b[0;34m.\u001b[0m\u001b[0mbatch_size\u001b[0m\u001b[0;34m,\u001b[0m \u001b[0mhidden1\u001b[0m\u001b[0;34m)\u001b[0m\u001b[0;34m,\u001b[0m \u001b[0mname\u001b[0m \u001b[0;34m=\u001b[0m \u001b[0;34m'bias0'\u001b[0m\u001b[0;34m)\u001b[0m\u001b[0;34m\u001b[0m\u001b[0;34m\u001b[0m\u001b[0m\n\u001b[1;32m     13\u001b[0m \u001b[0;34m\u001b[0m\u001b[0m\n",
      "\u001b[0;31mNameError\u001b[0m: name 'rng' is not defined"
     ]
    }
   ],
   "source": [
    "class Model:\n",
    "    def __init__(self, input_shape=[50,1],num_layers = 2):\n",
    "        '''input_shape = [batch_size, feature_size]'''\n",
    "        # 把这里的input_shape　使用类似placeholder的方式先不要确定。在后面model(X)的时候读取Ｘ的shape去得到它的input_shape\n",
    "        \n",
    "        self.batch_size, self.num_feature = input_shape[0], input_shape[1]\n",
    "        self.num_layers = num_layers\n",
    "\n",
    "        hidden1, hidden2 = 100,100 # 单个隐藏层神经元个数\n",
    "        out_put = 1\n",
    "        self.w0 = tf.Variable(rng.randn(self.num_feature, hidden1), name = 'weight0')\n",
    "        self.b0 = tf.Variable(rng.randn(self.batch_size, hidden1), name = 'bias0')\n",
    "        \n",
    "        self.w1 = tf.Variable(rng.randn(hidden1, hidden2, num_layers), name = 'weight1')\n",
    "        self.b1 = tf.Variable(rng.randn(self.batch_size, hidden2, num_layers), name = 'bias1')\n",
    "        \n",
    "        self.w2 = tf.Variable(rng.randn(hidden2, out_put), name = 'weight2')\n",
    "        self.b2 = tf.Variable(rng.randn(self.batch_size, out_put), name = 'bias2')\n",
    "        \n",
    "        self.wp = tf.Variable(rng.randn(out_put, out_put), name = 'weight_predict')\n",
    "        self.bp = tf.Variable(rng.randn(self.batch_size, out_put), name = 'weight_predict')\n",
    "        \n",
    "\n",
    "\n",
    "    def __call__(self,X):\n",
    "        \n",
    "#         out = tf.nn.sigmoid(X@ self.w0 + self.b0) # 输入层\n",
    "        out = tf.nn.sigmoid(tf.multiply(X, self.w0)+ self.b0) # 输入层\n",
    "        for i in range(self.num_layers):\n",
    "             out = tf.nn.sigmoid(out @ self.w1[:,:,i] + self.b1[:,:,i])# 隐藏层\n",
    "    \n",
    "        out = tf.nn.sigmoid(out@self.w2+self.b2)# 输出层的前一层\n",
    "        out = out @ self.wp + self.bp # 输出层(预测层)\n",
    "        return out\n",
    "        \n",
    "def lossfunc(OUT,Y):\n",
    "    return tf.reduce_mean(tf.square(OUT-Y)) \n",
    "\n",
    "model = Model(input_shape=[100,1], num_layers=1)\n",
    "pred = model(X)\n",
    "# print(pred)\n",
    "loss = lossfunc(pred,Y)\n",
    "loss"
   ]
  },
  {
   "cell_type": "code",
   "execution_count": 76,
   "metadata": {},
   "outputs": [],
   "source": [
    "# Stochastic Gradient Descent Optimizer.\n",
    "learning_rate = 0.001\n",
    "optimizer = tf.optimizers.Adam(learning_rate)\n",
    "# optimizer = tf.optimizers.Adadelta(learning_rate)"
   ]
  },
  {
   "cell_type": "code",
   "execution_count": 77,
   "metadata": {},
   "outputs": [],
   "source": [
    "# Optimization process. \n",
    "def run_optimization():\n",
    "    # 将导数的计算封装在 GradientTape 中\n",
    "    with tf.GradientTape() as g:\n",
    "        loss = lossfunc(model(X),Y)\n",
    "        \n",
    "    # 计算loss对W和b的导数：\n",
    "    gradients = g.gradient(loss, [model.w0, model.b0,model.w1, model.b1,model.w2, model.b2, model.wp, model.bp])\n",
    "    # 根据梯度更新W,b\n",
    "    optimizer.apply_gradients(zip(gradients,[model.w0, model.b0,model.w1, model.b1,model.w2, model.b2, model.wp, model.bp]))"
   ]
  },
  {
   "cell_type": "code",
   "execution_count": 80,
   "metadata": {},
   "outputs": [
    {
     "name": "stdout",
     "output_type": "stream",
     "text": [
      "step: 100, loss: 0.00117307620983857\n",
      "step: 200, loss: 0.0009990457613347026\n",
      "step: 300, loss: 0.0010238994134092335\n",
      "step: 400, loss: 0.0007634541326075061\n",
      "step: 500, loss: 0.0008129119032125112\n",
      "step: 600, loss: 0.0007374496176335957\n",
      "step: 700, loss: 0.0009564018323063162\n",
      "step: 800, loss: 0.0006023833242273554\n",
      "step: 900, loss: 0.0008636779349048798\n",
      "step: 1000, loss: 0.0005595083645531978\n"
     ]
    }
   ],
   "source": [
    "# Run training for the given number of steps.\n",
    "training_steps = 1000\n",
    "display_step=100\n",
    "\n",
    "writer = tf.summary.create_file_writer(\"./mylogs\")\n",
    "with writer.as_default(): # 这是为了后面的tf.summary.scalar()\n",
    "    for step in range(1, training_steps + 1):\n",
    "        X,Y = next(genData(x_data))\n",
    "\n",
    "        # Run the optimization to update W and b values.\n",
    "        run_optimization()\n",
    "\n",
    "        tf.summary.scalar('loss',loss, step=step)\n",
    "        writer.flush()\n",
    "        if step % display_step == 0:\n",
    "            pred = model(X)\n",
    "            loss = lossfunc(pred,Y)\n",
    "            print(\"step: {}, loss: {}\".format(step, loss))\n"
   ]
  },
  {
   "cell_type": "markdown",
   "metadata": {},
   "source": [
    "tensorboard --logdir=C:\\Users\\beidongjiedeguang\\OneDrive\\a_github\\tensorflow从0开始\\mylogs  \n",
    "tensorboard --logdir=mylogs    \n",
    "赋值上面命令到命令行  \n",
    "\n",
    "http://localhost:6006/#scalars"
   ]
  },
  {
   "cell_type": "code",
   "execution_count": 85,
   "metadata": {},
   "outputs": [
    {
     "data": {
      "image/png": "[encoded data removed]",
      "text/plain": [
       "<Figure size 576x360 with 1 Axes>"
      ]
     },
     "metadata": {
      "image/png": {
       "height": 301,
       "width": 501
      },
      "needs_background": "light"
     },
     "output_type": "display_data"
    }
   ],
   "source": [
    "fig = plt.figure(figsize=(8,5))\n",
    "plt.scatter(X, Y,label='original')\n",
    "plt.scatter(X, model(X),label='fitted')\n",
    "plt.legend()\n",
    "\n",
    "plt.show()"
   ]
  },
  {
   "cell_type": "code",
   "execution_count": 216,
   "metadata": {},
   "outputs": [
    {
     "data": {
      "image/png": "[encoded data removed]",
      "text/plain": [
       "<Figure size 432x288 with 1 Axes>"
      ]
     },
     "metadata": {
      "image/png": {
       "height": 248,
       "width": 382
      },
      "needs_background": "light"
     },
     "output_type": "display_data"
    }
   ],
   "source": [
    "test_x = np.linspace(-10,20,100).reshape(-1,1) # 训练集范围如上图，是从0~10\n",
    "plt.plot(test_x,model(test_x))\n",
    "plt.show()"
   ]
  },
  {
   "cell_type": "markdown",
   "metadata": {},
   "source": [
    "可以看到，在0~10的范围内拟合得十分不错，并且超过10的一定范围内的预测也基本是正确的。"
   ]
  },
  {
   "cell_type": "markdown",
   "metadata": {},
   "source": [
    "## 使用tf.keras API实现"
   ]
  },
  {
   "cell_type": "code",
   "execution_count": 97,
   "metadata": {},
   "outputs": [
    {
     "data": {
      "text/plain": [
       "False"
      ]
     },
     "execution_count": 97,
     "metadata": {},
     "output_type": "execute_result"
    }
   ],
   "source": [
    "import tensorflow as tf\n",
    "import numpy as np\n",
    "tf.test.is_gpu_available()\n",
    "from tensorflow.keras import Input,Model\n",
    "from tensorflow.keras import layers\n",
    "from tensorflow.keras.layers import Flatten,Dense,Dropout,Conv2D"
   ]
  },
  {
   "cell_type": "code",
   "execution_count": 98,
   "metadata": {},
   "outputs": [],
   "source": [
    "def GenerateData(datasize = 200 ):\n",
    "    train_X = np.linspace(0, 10, datasize)   #train_X为-1到1之间连续的100个浮点数\n",
    "    train_Y = np.sin(train_X)\n",
    "    yield train_X, train_Y   #以生成器的方式返回"
   ]
  },
  {
   "cell_type": "code",
   "execution_count": 99,
   "metadata": {},
   "outputs": [
    {
     "data": {
      "image/png": "[encoded data removed]",
      "text/plain": [
       "<Figure size 432x288 with 1 Axes>"
      ]
     },
     "metadata": {
      "image/png": {
       "height": 244,
       "width": 382
      },
      "needs_background": "light"
     },
     "output_type": "display_data"
    }
   ],
   "source": [
    "train_data = next(GenerateData())\n",
    "plt.plot(train_data[0],train_data[1]);"
   ]
  },
  {
   "cell_type": "code",
   "execution_count": 100,
   "metadata": {},
   "outputs": [
    {
     "data": {
      "text/plain": [
       "TensorShape([200, 1])"
      ]
     },
     "execution_count": 100,
     "metadata": {},
     "output_type": "execute_result"
    },
    {
     "data": {
      "text/plain": [
       "TensorShape([200, 1])"
      ]
     },
     "execution_count": 100,
     "metadata": {},
     "output_type": "execute_result"
    }
   ],
   "source": [
    "class MyModel(Model):\n",
    "    def __init__(self):\n",
    "        super(MyModel, self).__init__()\n",
    "        self.fc1 = Dense(100, activation='sigmoid', input_shape=(1,)) # 默认use_bias=True\n",
    "        self.fc2 = Dense(100, activation='sigmoid')\n",
    "        self.out = Dense(1)\n",
    "    \n",
    "    def call(self, x):\n",
    "        x = self.fc1(x)\n",
    "        x = self.fc2(x)\n",
    "        x = self.out(x)\n",
    "        return x\n",
    "\n",
    "\n",
    "my_model = MyModel()  \n",
    "my_model0 = MyModel()\n",
    "\n",
    "my_model(train_data[0].reshape(-1,1)).shape\n",
    "my_model0(train_data[0].reshape(-1,1)).shape"
   ]
  },
  {
   "cell_type": "markdown",
   "metadata": {},
   "source": [
    "**对上述Model使用tf.keras.models.Sequential()实现：**"
   ]
  },
  {
   "cell_type": "code",
   "execution_count": 101,
   "metadata": {},
   "outputs": [],
   "source": [
    "# 使用Sequential的第一种方式\n",
    "Net1 = tf.keras.models.Sequential()\n",
    "Net1.add(Dense(100,activation='sigmoid', input_shape=(1,)))\n",
    "Net1.add(Dense(100,activation='sigmoid'))\n",
    "Net1.add(Dense(1))"
   ]
  },
  {
   "cell_type": "code",
   "execution_count": 102,
   "metadata": {},
   "outputs": [],
   "source": [
    "# 使用Sequential的第2种方式\n",
    "Net2 = tf.keras.models.Sequential([\n",
    "    Dense(100,activation='sigmoid', input_shape=(1,)),\n",
    "    Dense(100,activation='sigmoid'),\n",
    "    Dense(1)\n",
    "])"
   ]
  },
  {
   "cell_type": "code",
   "execution_count": 103,
   "metadata": {},
   "outputs": [
    {
     "name": "stdout",
     "output_type": "stream",
     "text": [
      "Model: \"my_model_6\"\n",
      "_________________________________________________________________\n",
      "Layer (type)                 Output Shape              Param #   \n",
      "=================================================================\n",
      "dense_33 (Dense)             multiple                  200       \n",
      "_________________________________________________________________\n",
      "dense_34 (Dense)             multiple                  10100     \n",
      "_________________________________________________________________\n",
      "dense_35 (Dense)             multiple                  101       \n",
      "=================================================================\n",
      "Total params: 10,401\n",
      "Trainable params: 10,401\n",
      "Non-trainable params: 0\n",
      "_________________________________________________________________\n",
      "Model: \"sequential_5\"\n",
      "_________________________________________________________________\n",
      "Layer (type)                 Output Shape              Param #   \n",
      "=================================================================\n",
      "dense_39 (Dense)             (None, 100)               200       \n",
      "_________________________________________________________________\n",
      "dense_40 (Dense)             (None, 100)               10100     \n",
      "_________________________________________________________________\n",
      "dense_41 (Dense)             (None, 1)                 101       \n",
      "=================================================================\n",
      "Total params: 10,401\n",
      "Trainable params: 10,401\n",
      "Non-trainable params: 0\n",
      "_________________________________________________________________\n",
      "Model: \"sequential_6\"\n",
      "_________________________________________________________________\n",
      "Layer (type)                 Output Shape              Param #   \n",
      "=================================================================\n",
      "dense_42 (Dense)             (None, 100)               200       \n",
      "_________________________________________________________________\n",
      "dense_43 (Dense)             (None, 100)               10100     \n",
      "_________________________________________________________________\n",
      "dense_44 (Dense)             (None, 1)                 101       \n",
      "=================================================================\n",
      "Total params: 10,401\n",
      "Trainable params: 10,401\n",
      "Non-trainable params: 0\n",
      "_________________________________________________________________\n"
     ]
    }
   ],
   "source": [
    "my_model.summary()\n",
    "Net1.summary()\n",
    "Net2.summary()"
   ]
  },
  {
   "cell_type": "code",
   "execution_count": 104,
   "metadata": {},
   "outputs": [
    {
     "data": {
      "text/plain": [
       "TensorShape([1, 100])"
      ]
     },
     "execution_count": 104,
     "metadata": {},
     "output_type": "execute_result"
    },
    {
     "data": {
      "text/plain": [
       "TensorShape([100])"
      ]
     },
     "execution_count": 104,
     "metadata": {},
     "output_type": "execute_result"
    },
    {
     "data": {
      "text/plain": [
       "TensorShape([100, 100])"
      ]
     },
     "execution_count": 104,
     "metadata": {},
     "output_type": "execute_result"
    },
    {
     "data": {
      "text/plain": [
       "TensorShape([100])"
      ]
     },
     "execution_count": 104,
     "metadata": {},
     "output_type": "execute_result"
    },
    {
     "data": {
      "text/plain": [
       "TensorShape([100, 1])"
      ]
     },
     "execution_count": 104,
     "metadata": {},
     "output_type": "execute_result"
    },
    {
     "data": {
      "text/plain": [
       "TensorShape([1])"
      ]
     },
     "execution_count": 104,
     "metadata": {},
     "output_type": "execute_result"
    }
   ],
   "source": [
    "my_model.weights[0].shape # w1\n",
    "my_model.weights[1].shape # b1\n",
    "my_model.weights[2].shape # w2\n",
    "my_model.weights[3].shape # b2\n",
    "Net1.weights[4].shape # w3\n",
    "Net2.weights[5].shape # b3"
   ]
  },
  {
   "cell_type": "code",
   "execution_count": 105,
   "metadata": {},
   "outputs": [],
   "source": [
    "# Model.compile()实现反向传播\n",
    "my_model.compile(loss='mse', optimizer='Adam')\n",
    "Net1.compile(loss='mse', optimizer='Adam')"
   ]
  },
  {
   "cell_type": "markdown",
   "metadata": {},
   "source": [
    "### 可使用两种方式训练模型："
   ]
  },
  {
   "cell_type": "code",
   "execution_count": 106,
   "metadata": {},
   "outputs": [
    {
     "name": "stdout",
     "output_type": "stream",
     "text": [
      "loss: 0.8482454861969745\n",
      "loss: 0.43497593321694694\n",
      "loss: 0.4239112966108769\n",
      "loss: 0.3952007607794235\n",
      "loss: 0.3556255932042404\n",
      "loss: 0.3323177061107708\n",
      "loss: 0.319232927182166\n",
      "loss: 0.30353702152931417\n",
      "loss: 0.27012858146600593\n",
      "loss: 0.20736853114773113\n",
      "loss: 0.16420794234172495\n",
      "loss: 0.14566930691447852\n",
      "loss: 0.13555056186256992\n",
      "loss: 0.1281527292518395\n",
      "loss: 0.12196063063151799\n",
      "loss: 0.11621325877901673\n",
      "loss: 0.1099436562273625\n",
      "loss: 0.10224502039934104\n",
      "loss: 0.09221372399013393\n",
      "loss: 0.07874262477155114\n",
      "loss: 0.06496093907175828\n"
     ]
    }
   ],
   "source": [
    "# 使用集成度较低的 Model.train_on_batch方法，自行设定batch数据　和　ｅpochs\n",
    "for step in range(2001):\n",
    "    train_data = next(GenerateData())\n",
    "    cost = my_model.train_on_batch(train_data[0].reshape(-1,1), train_data[1].reshape(-1,1))\n",
    "    if step%100==0:\n",
    "        print(f'loss: {cost}')"
   ]
  },
  {
   "cell_type": "code",
   "execution_count": 107,
   "metadata": {},
   "outputs": [
    {
     "name": "stdout",
     "output_type": "stream",
     "text": [
      "Train on 200 samples\n",
      "Epoch 1/10\n",
      "200/200 [==============================] - 0s 564us/sample - loss: 0.0725\n",
      "Epoch 2/10\n",
      "200/200 [==============================] - 0s 35us/sample - loss: 0.0787\n",
      "Epoch 3/10\n",
      "200/200 [==============================] - 0s 32us/sample - loss: 0.0817\n",
      "Epoch 4/10\n",
      "200/200 [==============================] - 0s 33us/sample - loss: 0.0807\n",
      "Epoch 5/10\n",
      "200/200 [==============================] - 0s 45us/sample - loss: 0.0906\n",
      "Epoch 6/10\n",
      "200/200 [==============================] - 0s 42us/sample - loss: 0.0839\n",
      "Epoch 7/10\n",
      "200/200 [==============================] - 0s 41us/sample - loss: 0.0906\n",
      "Epoch 8/10\n",
      "200/200 [==============================] - 0s 31us/sample - loss: 0.0918\n",
      "Epoch 9/10\n",
      "200/200 [==============================] - 0s 40us/sample - loss: 0.0995\n",
      "Epoch 10/10\n",
      "200/200 [==============================] - 0s 41us/sample - loss: 0.0790\n"
     ]
    },
    {
     "data": {
      "text/plain": [
       "<tensorflow.python.keras.callbacks.History at 0x7fcbee1e6c88>"
      ]
     },
     "execution_count": 107,
     "metadata": {},
     "output_type": "execute_result"
    },
    {
     "name": "stdout",
     "output_type": "stream",
     "text": [
      "Train on 200 samples\n",
      "Epoch 1/10\n",
      "200/200 [==============================] - 0s 474us/sample - loss: 0.4569\n",
      "Epoch 2/10\n",
      "200/200 [==============================] - 0s 33us/sample - loss: 0.4604\n",
      "Epoch 3/10\n",
      "200/200 [==============================] - 0s 37us/sample - loss: 0.4449\n",
      "Epoch 4/10\n",
      "200/200 [==============================] - 0s 50us/sample - loss: 0.4465\n",
      "Epoch 5/10\n",
      "200/200 [==============================] - 0s 37us/sample - loss: 0.4487\n",
      "Epoch 6/10\n",
      "200/200 [==============================] - 0s 37us/sample - loss: 0.4404\n",
      "Epoch 7/10\n",
      "200/200 [==============================] - 0s 45us/sample - loss: 0.4406\n",
      "Epoch 8/10\n",
      "200/200 [==============================] - 0s 32us/sample - loss: 0.4418\n",
      "Epoch 9/10\n",
      "200/200 [==============================] - 0s 46us/sample - loss: 0.4390\n",
      "Epoch 10/10\n",
      "200/200 [==============================] - 0s 37us/sample - loss: 0.4379\n"
     ]
    },
    {
     "data": {
      "text/plain": [
       "<tensorflow.python.keras.callbacks.History at 0x7fcbee660c50>"
      ]
     },
     "execution_count": 107,
     "metadata": {},
     "output_type": "execute_result"
    }
   ],
   "source": [
    "# 使用集成度较高的fit()方法，直接指定batch_size, epochs等参数\n",
    "my_model.fit(x = train_data[0].reshape(-1,1), y=train_data[1].reshape(-1,1), batch_size=100, epochs=10)\n",
    "Net1.fit(x = train_data[0].reshape(-1,1), y=train_data[1].reshape(-1,1), batch_size=100, epochs=10)"
   ]
  },
  {
   "cell_type": "markdown",
   "metadata": {},
   "source": [
    "### 对模型进行测试评估与预测："
   ]
  },
  {
   "cell_type": "code",
   "execution_count": 108,
   "metadata": {},
   "outputs": [],
   "source": [
    "train_data = next(GenerateData())\n",
    "test_x, test_y = train_data[0].reshape(-1,1), train_data[1].reshape(-1,1)"
   ]
  },
  {
   "cell_type": "code",
   "execution_count": 109,
   "metadata": {
    "collapsed": true,
    "jupyter": {
     "outputs_hidden": true
    }
   },
   "outputs": [
    {
     "name": "stdout",
     "output_type": "stream",
     "text": [
      "200/200 [==============================] - 0s 260us/sample - loss: 0.0850\n"
     ]
    },
    {
     "data": {
      "text/latex": [
       "$\\displaystyle 0.08499659580251137$"
      ],
      "text/plain": [
       "0.08499659580251137"
      ]
     },
     "execution_count": 109,
     "metadata": {},
     "output_type": "execute_result"
    },
    {
     "data": {
      "text/plain": [
       "array([[ 0.29130901],\n",
       "       [ 0.32622964],\n",
       "       [ 0.36091462],\n",
       "       [ 0.39533443],\n",
       "       [ 0.42946023],\n",
       "       [ 0.46326382],\n",
       "       [ 0.4967177 ],\n",
       "       [ 0.52979505],\n",
       "       [ 0.56246957],\n",
       "       [ 0.59471547],\n",
       "       [ 0.62650727],\n",
       "       [ 0.65781945],\n",
       "       [ 0.68862627],\n",
       "       [ 0.71890133],\n",
       "       [ 0.74861714],\n",
       "       [ 0.77774441],\n",
       "       [ 0.80625163],\n",
       "       [ 0.83410412],\n",
       "       [ 0.86126331],\n",
       "       [ 0.88768569],\n",
       "       [ 0.91332191],\n",
       "       [ 0.93811544],\n",
       "       [ 0.96200166],\n",
       "       [ 0.98490653],\n",
       "       [ 1.00674536],\n",
       "       [ 1.02742174],\n",
       "       [ 1.04682648],\n",
       "       [ 1.06483678],\n",
       "       [ 1.08131572],\n",
       "       [ 1.09611196],\n",
       "       [ 1.10906036],\n",
       "       [ 1.11998283],\n",
       "       [ 1.12869019],\n",
       "       [ 1.13498492],\n",
       "       [ 1.13866489],\n",
       "       [ 1.13952826],\n",
       "       [ 1.13737943],\n",
       "       [ 1.13203603],\n",
       "       [ 1.12333676],\n",
       "       [ 1.11114971],\n",
       "       [ 1.09538097],\n",
       "       [ 1.07598237],\n",
       "       [ 1.0529585 ],\n",
       "       [ 1.02637167],\n",
       "       [ 0.99634456],\n",
       "       [ 0.96305983],\n",
       "       [ 0.92675654],\n",
       "       [ 0.88772332],\n",
       "       [ 0.8462886 ],\n",
       "       [ 0.80280845],\n",
       "       [ 0.75765294],\n",
       "       [ 0.71119181],\n",
       "       [ 0.66378046],\n",
       "       [ 0.61574699],\n",
       "       [ 0.56738078],\n",
       "       [ 0.51892328],\n",
       "       [ 0.47056064],\n",
       "       [ 0.42242022],\n",
       "       [ 0.37456738],\n",
       "       [ 0.32700788],\n",
       "       [ 0.27969282],\n",
       "       [ 0.23252798],\n",
       "       [ 0.18538768],\n",
       "       [ 0.13813284],\n",
       "       [ 0.09063228],\n",
       "       [ 0.04278551],\n",
       "       [-0.00545554],\n",
       "       [-0.05406842],\n",
       "       [-0.1029483 ],\n",
       "       [-0.151904  ],\n",
       "       [-0.20066334],\n",
       "       [-0.24888836],\n",
       "       [-0.29620096],\n",
       "       [-0.34221834],\n",
       "       [-0.38659549],\n",
       "       [-0.42906906],\n",
       "       [-0.4694936 ],\n",
       "       [-0.50786137],\n",
       "       [-0.54430021],\n",
       "       [-0.57904919],\n",
       "       [-0.61242055],\n",
       "       [-0.64475159],\n",
       "       [-0.67635376],\n",
       "       [-0.70745184],\n",
       "       [-0.73811603],\n",
       "       [-0.76818195],\n",
       "       [-0.79718695],\n",
       "       [-0.82434595],\n",
       "       [-0.84860581],\n",
       "       [-0.86877629],\n",
       "       [-0.88371528],\n",
       "       [-0.89251064],\n",
       "       [-0.89460501],\n",
       "       [-0.88983931],\n",
       "       [-0.87841811],\n",
       "       [-0.86082538],\n",
       "       [-0.83772439],\n",
       "       [-0.80986325],\n",
       "       [-0.77800417],\n",
       "       [-0.7428727 ],\n",
       "       [-0.70513212],\n",
       "       [-0.66536857],\n",
       "       [-0.62409186],\n",
       "       [-0.58173667],\n",
       "       [-0.53867288],\n",
       "       [-0.49521069],\n",
       "       [-0.45161212],\n",
       "       [-0.40809536],\n",
       "       [-0.3648447 ],\n",
       "       [-0.32201301],\n",
       "       [-0.27972971],\n",
       "       [-0.23810157],\n",
       "       [-0.19721876],\n",
       "       [-0.15715629],\n",
       "       [-0.11797516],\n",
       "       [-0.07972676],\n",
       "       [-0.04245148],\n",
       "       [-0.00618287],\n",
       "       [ 0.02905417],\n",
       "       [ 0.06323964],\n",
       "       [ 0.0963604 ],\n",
       "       [ 0.12840687],\n",
       "       [ 0.15937492],\n",
       "       [ 0.18926297],\n",
       "       [ 0.21807384],\n",
       "       [ 0.24581211],\n",
       "       [ 0.27248588],\n",
       "       [ 0.29810439],\n",
       "       [ 0.32267975],\n",
       "       [ 0.34622469],\n",
       "       [ 0.36875426],\n",
       "       [ 0.39028375],\n",
       "       [ 0.41083029],\n",
       "       [ 0.43041119],\n",
       "       [ 0.44904443],\n",
       "       [ 0.46674907],\n",
       "       [ 0.48354385],\n",
       "       [ 0.49944849],\n",
       "       [ 0.51448229],\n",
       "       [ 0.52866525],\n",
       "       [ 0.54201688],\n",
       "       [ 0.55455722],\n",
       "       [ 0.56630572],\n",
       "       [ 0.57728222],\n",
       "       [ 0.58750597],\n",
       "       [ 0.59699641],\n",
       "       [ 0.60577243],\n",
       "       [ 0.61385301],\n",
       "       [ 0.62125655],\n",
       "       [ 0.62800146],\n",
       "       [ 0.63410561],\n",
       "       [ 0.63958677],\n",
       "       [ 0.64446222],\n",
       "       [ 0.64874909],\n",
       "       [ 0.65246401],\n",
       "       [ 0.65562342],\n",
       "       [ 0.65824336],\n",
       "       [ 0.6603395 ],\n",
       "       [ 0.66192729],\n",
       "       [ 0.66302172],\n",
       "       [ 0.66363754],\n",
       "       [ 0.66378913],\n",
       "       [ 0.66349054],\n",
       "       [ 0.66275551],\n",
       "       [ 0.66159747],\n",
       "       [ 0.66002951],\n",
       "       [ 0.65806444],\n",
       "       [ 0.6557147 ],\n",
       "       [ 0.65299255],\n",
       "       [ 0.64990985],\n",
       "       [ 0.6464782 ],\n",
       "       [ 0.64270885],\n",
       "       [ 0.63861298],\n",
       "       [ 0.63420128],\n",
       "       [ 0.62948426],\n",
       "       [ 0.62447206],\n",
       "       [ 0.61917484],\n",
       "       [ 0.61360223],\n",
       "       [ 0.60776362],\n",
       "       [ 0.60166845],\n",
       "       [ 0.59532564],\n",
       "       [ 0.58874395],\n",
       "       [ 0.5819318 ],\n",
       "       [ 0.57489779],\n",
       "       [ 0.5676499 ],\n",
       "       [ 0.56019604],\n",
       "       [ 0.55254377],\n",
       "       [ 0.54470088],\n",
       "       [ 0.53667453],\n",
       "       [ 0.52847184],\n",
       "       [ 0.52009958],\n",
       "       [ 0.51156481],\n",
       "       [ 0.50287395],\n",
       "       [ 0.49403339],\n",
       "       [ 0.4850492 ],\n",
       "       [ 0.47592776],\n",
       "       [ 0.46667483],\n",
       "       [ 0.45729613],\n",
       "       [ 0.44779708],\n",
       "       [ 0.43818348]])"
      ]
     },
     "execution_count": 109,
     "metadata": {},
     "output_type": "execute_result"
    }
   ],
   "source": [
    "# 使用Model.evaluate()方法进行评估，返回 loss\n",
    "cost = my_model.evaluate(test_x, test_y)\n",
    "cost\n",
    "\n",
    "# 使用Model.predict()方法进行预测,返回预测值\n",
    "my_model.predict(test_x) # 它等价于　my_model(test_x).numpy()"
   ]
  },
  {
   "cell_type": "code",
   "execution_count": 110,
   "metadata": {},
   "outputs": [
    {
     "data": {
      "image/png": "[encoded data removed]",
      "text/plain": [
       "<Figure size 432x288 with 1 Axes>"
      ]
     },
     "metadata": {
      "image/png": {
       "height": 244,
       "width": 376
      },
      "needs_background": "light"
     },
     "output_type": "display_data"
    }
   ],
   "source": [
    "Tx = np.linspace(0,10,100).reshape(100,1)\n",
    "plt.scatter(train_data[0],train_data[1], label = 'original');\n",
    "\n",
    "# plt.scatter(Tx,my_model(Tx), label='fitted'); # 与下面等价\n",
    "plt.scatter(Tx,my_model.predict(Tx), label='fitted');\n",
    "plt.legend();"
   ]
  },
  {
   "cell_type": "code",
   "execution_count": 111,
   "metadata": {},
   "outputs": [
    {
     "data": {
      "image/png": "[encoded data removed]",
      "text/plain": [
       "<Figure size 432x288 with 1 Axes>"
      ]
     },
     "metadata": {
      "image/png": {
       "height": 244,
       "width": 376
      },
      "needs_background": "light"
     },
     "output_type": "display_data"
    }
   ],
   "source": [
    "Tx = np.linspace(-10,20,200).reshape(200,1)\n",
    "plt.scatter(Tx,my_model(Tx), label='fitted');\n",
    "plt.legend();"
   ]
  },
  {
   "cell_type": "code",
   "execution_count": 112,
   "metadata": {},
   "outputs": [],
   "source": [
    "# x = tf.keras.Input(shape=(32,10))# 这里shape给出的是input的特征形状，得到的x的shape其实=[batch,shape]\n",
    "# y = tf.square(x)\n",
    "# x"
   ]
  },
  {
   "cell_type": "markdown",
   "metadata": {},
   "source": [
    "### 保存模型与加载模型\n",
    "* 使用Model.save()方法保存， 通过tf.keras.models.load_model 加载模型\n",
    "* 使用Model.save_weights()保存， 通过已经定义好的模型使用Model.load_weights()导入，这个已经定义好的模型结构需要与之想匹配，所以可以考虑在初始训练模型之前，做一个模型的备份。\n"
   ]
  },
  {
   "cell_type": "code",
   "execution_count": 113,
   "metadata": {},
   "outputs": [],
   "source": [
    "my_model.save_weights('my_model.h5') # my_model只能通过save_weights保存，表示值保存了权重，但模型是没有保存的\n",
    "Net1.save('Net1.h5') # 而从Sequensial建立的网络可以直接通过save保存，保存的是图+权重\n",
    "\n",
    "del my_model\n",
    "del Net1"
   ]
  },
  {
   "cell_type": "code",
   "execution_count": 114,
   "metadata": {},
   "outputs": [],
   "source": [
    "from tensorflow.keras.models import load_model\n",
    "# my_model0就是没有训练的MyModel()的一个实例\n",
    "my_model0 = my_model0.load_weights('my_model.h5') # 保存的权重，必须用一个已经定义了的模型使用Model.load_weights()进行导入\n",
    "Net1 = load_model('Net1.h5') "
   ]
  },
  {
   "cell_type": "code",
   "execution_count": null,
   "metadata": {},
   "outputs": [],
   "source": []
  }
 ],
 "metadata": {
  "kernelspec": {
   "display_name": "Python [conda env:tf2]",
   "language": "python",
   "name": "conda-env-tf2-py"
  },
  "language_info": {
   "codemirror_mode": {
    "name": "ipython",
    "version": 3
   },
   "file_extension": ".py",
   "mimetype": "text/x-python",
   "name": "python",
   "nbconvert_exporter": "python",
   "pygments_lexer": "ipython3",
   "version": "3.6.9"
  },
  "latex_envs": {
   "LaTeX_envs_menu_present": true,
   "autoclose": false,
   "autocomplete": true,
   "bibliofile": "biblio.bib",
   "cite_by": "apalike",
   "current_citInitial": 1,
   "eqLabelWithNumbers": true,
   "eqNumInitial": 1,
   "hotkeys": {
    "equation": "Ctrl-E",
    "itemize": "Ctrl-I"
   },
   "labels_anchors": false,
   "latex_user_defs": false,
   "report_style_numbering": false,
   "user_envs_cfg": false
  },
  "toc": {
   "base_numbering": 1,
   "nav_menu": {},
   "number_sections": true,
   "sideBar": true,
   "skip_h1_title": false,
   "title_cell": "Table of Contents",
   "title_sidebar": "Contents",
   "toc_cell": false,
   "toc_position": {
    "height": "calc(100% - 180px)",
    "left": "10px",
    "top": "150px",
    "width": "220.036px"
   },
   "toc_section_display": true,
   "toc_window_display": false
  },
  "varInspector": {
   "cols": {
    "lenName": 16,
    "lenType": 16,
    "lenVar": 40
   },
   "kernels_config": {
    "python": {
     "delete_cmd_postfix": "",
     "delete_cmd_prefix": "del ",
     "library": "var_list.py",
     "varRefreshCmd": "print(var_dic_list())"
    },
    "r": {
     "delete_cmd_postfix": ") ",
     "delete_cmd_prefix": "rm(",
     "library": "var_list.r",
     "varRefreshCmd": "cat(var_dic_list()) "
    }
   },
   "types_to_exclude": [
    "module",
    "function",
    "builtin_function_or_method",
    "instance",
    "_Feature"
   ],
   "window_display": false
  }
 },
 "nbformat": 4,
 "nbformat_minor": 4
}
