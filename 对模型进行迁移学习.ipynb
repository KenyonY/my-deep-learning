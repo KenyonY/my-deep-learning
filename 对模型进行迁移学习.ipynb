{
  "nbformat": 4,
  "nbformat_minor": 0,
  "metadata": {
    "colab": {
      "name": "对模型进行迁移学习.ipynb",
      "version": "0.3.2",
      "provenance": [],
      "collapsed_sections": [],
      "include_colab_link": true
    },
    "kernelspec": {
      "name": "python3",
      "display_name": "Python 3"
    },
    "accelerator": "GPU"
  },
  "cells": [
    {
      "cell_type": "markdown",
      "metadata": {
        "id": "view-in-github",
        "colab_type": "text"
      },
      "source": [
        "<a href=\"https://colab.research.google.com/github/beidongjiedeguang/my-machine-learning/blob/master/%E5%AF%B9%E6%A8%A1%E5%9E%8B%E8%BF%9B%E8%A1%8C%E8%BF%81%E7%A7%BB%E5%AD%A6%E4%B9%A0.ipynb\" target=\"_parent\"><img src=\"https://colab.research.google.com/assets/colab-badge.svg\" alt=\"Open In Colab\"/></a>"
      ]
    },
    {
      "cell_type": "code",
      "metadata": {
        "id": "izLrvZUifpCc",
        "colab_type": "code",
        "colab": {}
      },
      "source": [
        "from IPython.core.interactiveshell import InteractiveShell\n",
        "InteractiveShell.ast_node_interactivity = \"all\""
      ],
      "execution_count": 0,
      "outputs": []
    },
    {
      "cell_type": "code",
      "metadata": {
        "id": "ymSeCsnxcV46",
        "colab_type": "code",
        "colab": {}
      },
      "source": [
        "import torch\n",
        "import torch.nn as nn\n",
        "\n",
        "import torch.optim as optim\n",
        "from torch.optim import lr_scheduler\n",
        "import numpy as np\n",
        "\n",
        "import torchvision\n",
        "from torchvision import datasets, models, transforms\n",
        "import torchvision.models as models\n",
        "\n",
        "import matplotlib.pyplot as plt\n",
        "import time\n",
        "import os\n",
        "import copy\n",
        "\n",
        "plt.ion()   # interactive mode"
      ],
      "execution_count": 0,
      "outputs": []
    },
    {
      "cell_type": "code",
      "metadata": {
        "id": "ZHvIBoPZdmeL",
        "colab_type": "code",
        "colab": {}
      },
      "source": [
        "# 下载zip文件\n",
        "import requests\n",
        "url = 'https://download.pytorch.org/tutorial/hymenoptera_data.zip'\n",
        "r = requests.get(url)\n",
        "with open (\"hymenoptera_data.zip\", \"wb\") as code:\n",
        "    code.write(r.content)\n",
        "!unzip hymenoptera_data.zip"
      ],
      "execution_count": 0,
      "outputs": []
    },
    {
      "cell_type": "code",
      "metadata": {
        "id": "zC0CtfmUciQK",
        "colab_type": "code",
        "colab": {}
      },
      "source": [
        "# Data augmentation and normalization for training\n",
        "# Just normalization for validation\n",
        "# 'train'和 'val' 是hymenoptera_data目录下的子目录名\n",
        "data_transforms = {\n",
        "    'train': transforms.Compose([\n",
        "        transforms.RandomResizedCrop(224),# Resize \n",
        "        transforms.RandomHorizontalFlip(),# 随机水平翻转\n",
        "        transforms.ToTensor(),\n",
        "        transforms.Normalize([0.485, 0.456, 0.406], [0.229, 0.224, 0.225]) # Normalize(mean,std),这里的mean 和std应该是由图像信息计算得到，而不应是直接写出来\n",
        "    ]),\n",
        "    'val': transforms.Compose([\n",
        "        transforms.Resize(256), #Resize\n",
        "        transforms.CenterCrop(224),# 以中心为参考点，进行裁剪\n",
        "        transforms.ToTensor(),\n",
        "        transforms.Normalize([0.485, 0.456, 0.406], [0.229, 0.224, 0.225])\n",
        "    ]),\n",
        "}\n",
        "\n",
        "# 文件所在祖父目录\n",
        "data_dir = './hymenoptera_data'\n",
        "image_datasets = {x: datasets.ImageFolder(os.path.join(data_dir, x),\n",
        "                                          data_transforms[x])\n",
        "                  for x in ['train', 'val']}# 文件所在父目录\n",
        "# ImageFolder返回：（sample，target）其中target是目标类的class_index。\n",
        "\n",
        "dataloaders = {x: torch.utils.data.DataLoader(image_datasets[x], batch_size=4,\n",
        "                                             shuffle=True, num_workers=4)\n",
        "              for x in ['train', 'val']}\n",
        "dataset_sizes = {x: len(image_datasets[x]) for x in ['train', 'val']}\n",
        "\n",
        "class_names = image_datasets['train'].classes # 返回'train'目录下的子目录名\n",
        "\n",
        "device = torch.device(\"cuda:0\" if torch.cuda.is_available() else \"cpu\")"
      ],
      "execution_count": 0,
      "outputs": []
    },
    {
      "cell_type": "code",
      "metadata": {
        "id": "UxV-oTcNciVl",
        "colab_type": "code",
        "outputId": "1ab7eeca-1e33-4196-e4e0-3801a14f85a2",
        "colab": {
          "base_uri": "https://localhost:8080/",
          "height": 34
        }
      },
      "source": [
        "dataset_sizes\n",
        "class_names "
      ],
      "execution_count": 0,
      "outputs": [
        {
          "output_type": "execute_result",
          "data": {
            "text/plain": [
              "{'train': 244, 'val': 153}"
            ]
          },
          "metadata": {
            "tags": []
          },
          "execution_count": 16
        },
        {
          "output_type": "execute_result",
          "data": {
            "text/plain": [
              "['ants', 'bees']"
            ]
          },
          "metadata": {
            "tags": []
          },
          "execution_count": 16
        }
      ]
    },
    {
      "cell_type": "code",
      "metadata": {
        "id": "1XgSxszvx0QP",
        "colab_type": "code",
        "outputId": "882af6ae-93a1-4f2a-b1fe-a8578d6b5c6f",
        "colab": {
          "base_uri": "https://localhost:8080/",
          "height": 34
        }
      },
      "source": [
        "next(iter(dataloaders['train']))[0].shape\n",
        "next(iter(dataloaders['train']))[1].shape\n",
        "next(iter(dataloaders['val']))[0].shape\n",
        "next(iter(dataloaders['val']))[1].shape"
      ],
      "execution_count": 0,
      "outputs": [
        {
          "output_type": "execute_result",
          "data": {
            "text/plain": [
              "torch.Size([4, 3, 224, 224])"
            ]
          },
          "metadata": {
            "tags": []
          },
          "execution_count": 17
        },
        {
          "output_type": "execute_result",
          "data": {
            "text/plain": [
              "torch.Size([4])"
            ]
          },
          "metadata": {
            "tags": []
          },
          "execution_count": 17
        },
        {
          "output_type": "execute_result",
          "data": {
            "text/plain": [
              "torch.Size([4, 3, 224, 224])"
            ]
          },
          "metadata": {
            "tags": []
          },
          "execution_count": 17
        },
        {
          "output_type": "execute_result",
          "data": {
            "text/plain": [
              "torch.Size([4])"
            ]
          },
          "metadata": {
            "tags": []
          },
          "execution_count": 17
        }
      ]
    },
    {
      "cell_type": "code",
      "metadata": {
        "id": "W2Cfr-dQ3qbk",
        "colab_type": "code",
        "outputId": "c3697095-2ea5-4b57-c9d4-c920e1234d04",
        "colab": {
          "base_uri": "https://localhost:8080/",
          "height": 34
        }
      },
      "source": [
        "next(iter(dataloaders['train']))[1]\n",
        "# 其中，0应该是ants,  1是bees ，因为目录中ants排在前面"
      ],
      "execution_count": 0,
      "outputs": [
        {
          "output_type": "execute_result",
          "data": {
            "text/plain": [
              "tensor([0, 0, 0, 1])"
            ]
          },
          "metadata": {
            "tags": []
          },
          "execution_count": 18
        }
      ]
    },
    {
      "cell_type": "code",
      "metadata": {
        "id": "PmS4YkQYciYN",
        "colab_type": "code",
        "outputId": "06a64661-3652-444f-cbd4-324357963017",
        "colab": {
          "base_uri": "https://localhost:8080/",
          "height": 148
        }
      },
      "source": [
        "# 查看图片\n",
        "\n",
        "def imshow(inp, title=None):\n",
        "    \"\"\"Imshow for Tensor.\"\"\"\n",
        "    # 输入的inp 是一个经过make_grid处理过的三维张量（C,H,W),而matplotlib只认识（H，W,C)格式\n",
        "    inp = inp.numpy().transpose((1, 2, 0)) # change (c,h,w) to (h,w,c)\n",
        "    mean = np.array([0.485, 0.456, 0.406])\n",
        "    std = np.array([0.229, 0.224, 0.225])\n",
        "    inp = std * inp + mean #           这个操作相当于解压，因为之前Normalized操作是将图像范围 (img-mean)/std\n",
        "    inp = np.clip(inp, 0, 1)\n",
        "    plt.imshow(inp)\n",
        "    if title is not None:\n",
        "        plt.title(title)\n",
        "#     plt.pause(0.001)  # pause a bit so that plots are updated\n",
        "\n",
        "\n",
        "# Get a batch of training data\n",
        "inputs, classes = next(iter(dataloaders['train']))\n",
        "\n",
        "# Make a grid from batch,这里inputs 是个4维张量，我们要可视化它的话，需要将它第0维度以grid排列，默认一行8个\n",
        "out = torchvision.utils.make_grid(inputs)\n",
        "\n",
        "imshow(out, title=[class_names[x] for x in classes])"
      ],
      "execution_count": 0,
      "outputs": [
        {
          "output_type": "display_data",
          "data": {
            "image/png": "[encoded data removed]",
            "text/plain": [
              "<Figure size 432x288 with 1 Axes>"
            ]
          },
          "metadata": {
            "tags": []
          }
        }
      ]
    },
    {
      "cell_type": "markdown",
      "metadata": {
        "id": "Ch4ZkIfz1qSz",
        "colab_type": "text"
      },
      "source": [
        "## 训练模型\n",
        "现在，让我们编写一个通用函数来训练模型。在这里，我们将说明：\n",
        "\n",
        "安排学习率\n",
        "保存最好的模型\n",
        "在下面，参数scheduler是来自的LR调度程序对象` torch.optim.lr_scheduler`。"
      ]
    },
    {
      "cell_type": "code",
      "metadata": {
        "id": "P3-b2PpJcifV",
        "colab_type": "code",
        "colab": {}
      },
      "source": [
        "\n",
        "def train_model(model, criterion, optimizer, scheduler, num_epochs=25):\n",
        "    since = time.time()\n",
        "\n",
        "    best_model_wts = copy.deepcopy(model.state_dict())\n",
        "    best_acc = 0.0\n",
        "\n",
        "    for epoch in range(num_epochs):\n",
        "        print('Epoch {}/{}'.format(epoch, num_epochs - 1))\n",
        "        print('-' * 10)\n",
        "\n",
        "        # Each epoch has a training and validation phase\n",
        "        for phase in ['train', 'val']:\n",
        "            if phase == 'train':\n",
        "                scheduler.step() # adjust Learning Rate，调节学习速率\n",
        "                model.train()  # Set model to training mode\n",
        "            else:\n",
        "                model.eval()   # Set model to evaluate mode\n",
        "\n",
        "            running_loss = 0.0\n",
        "            running_corrects = 0\n",
        "\n",
        "            # Iterate over data.\n",
        "            for inputs, labels in dataloaders[phase]:\n",
        "                inputs = inputs.to(device)\n",
        "                labels = labels.to(device)\n",
        "\n",
        "                # zero the parameter gradients\n",
        "                optimizer.zero_grad()\n",
        "\n",
        "                # forward\n",
        "                # track history if only in train\n",
        "                # 当phase=='train'时为正，表示对张量应用了requires_grad=True, 其测试集中，不追踪张量梯度，这可以节省很多时间\n",
        "                with torch.set_grad_enabled(phase == 'train'):\n",
        "                    outputs = model(inputs)\n",
        "                    _, preds = torch.max(outputs, 1)\n",
        "                    ############################################################\n",
        "                    print(outputs.shape,labels.shape)\n",
        "                    print(outputs)\n",
        "                    print(labels)\n",
        "                    ############################################################\n",
        "                    loss = criterion(outputs, labels)\n",
        "\n",
        "                    # backward + optimize only if in training phase\n",
        "                    if phase == 'train':\n",
        "                        loss.backward()\n",
        "                        optimizer.step()\n",
        "\n",
        "                # statistics\n",
        "                running_loss += loss.item() * inputs.size(0)\n",
        "                running_corrects += torch.sum(preds == labels.data)\n",
        "\n",
        "            epoch_loss = running_loss / dataset_sizes[phase]\n",
        "            epoch_acc = running_corrects.double() / dataset_sizes[phase]\n",
        "\n",
        "            print('{} Loss: {:.4f} Acc: {:.4f}'.format(\n",
        "                phase, epoch_loss, epoch_acc))\n",
        "\n",
        "            # deep copy the model\n",
        "            if phase == 'val' and epoch_acc > best_acc:\n",
        "                best_acc = epoch_acc\n",
        "                best_model_wts = copy.deepcopy(model.state_dict())\n",
        "\n",
        "        print()\n",
        "\n",
        "    time_elapsed = time.time() - since\n",
        "    print('Training complete in {:.0f}m {:.0f}s'.format(\n",
        "        time_elapsed // 60, time_elapsed % 60))\n",
        "    print('Best val Acc: {:4f}'.format(best_acc))\n",
        "\n",
        "    # load best model weights\n",
        "    model.load_state_dict(best_model_wts)\n",
        "    return model"
      ],
      "execution_count": 0,
      "outputs": []
    },
    {
      "cell_type": "code",
      "metadata": {
        "id": "B7Mm73hPg05B",
        "colab_type": "code",
        "colab": {}
      },
      "source": [
        "model = models.vgg16(pretrained=True)\n",
        "print(model)"
      ],
      "execution_count": 0,
      "outputs": []
    },
    {
      "cell_type": "code",
      "metadata": {
        "id": "pI5boouCNgh9",
        "colab_type": "code",
        "colab": {}
      },
      "source": [
        "model = models.vgg19(pretrained=True)\n",
        "print(model)"
      ],
      "execution_count": 0,
      "outputs": []
    },
    {
      "cell_type": "code",
      "metadata": {
        "id": "rBWiSqUyNl3S",
        "colab_type": "code",
        "colab": {}
      },
      "source": [
        "model = models.resnet50(pretrained=True)\n",
        "# print(model)\n",
        "for para in model.parameters():\n",
        "    para.requires_grad = False\n",
        "    \n",
        "# model.conv1 = torch.nn.Conv2d(1,64, kernel_size=(7, 7), stride=(2, 2), padding=(3, 3), bias=False)\n",
        "model.fc = torch.nn.Linear(2048,2)\n",
        "print(model)"
      ],
      "execution_count": 0,
      "outputs": []
    },
    {
      "cell_type": "code",
      "metadata": {
        "id": "3M78A76-ciak",
        "colab_type": "code",
        "colab": {}
      },
      "source": [
        "# 由于vgg16最后的全连接层输出为1000，我们需要对其进行修改，而对其它的层保持不变，\n",
        "# 也就是让其它层不参与梯度更新，只更新最后一层\n",
        "\n",
        "# 首先让所有参数的requires_grad 至于0\n",
        "for para in model.parameters():\n",
        "    para.requires_grad = False\n",
        "    \n",
        "model.classifier = torch.nn.Sequential(\n",
        "    torch.nn.Linear(in_features=25088, out_features=4096, bias=True),\n",
        "    torch.nn.ReLU(),\n",
        "    torch.nn.Dropout(p=0.5),\n",
        "    torch.nn.Linear(in_features=4096, out_features=4096, bias=True),\n",
        "    torch.nn.ReLU(),\n",
        "    torch.nn.Dropout(p=0.5),\n",
        "    torch.nn.Linear(in_features=4096, out_features=2, bias=True) # 只改变了这一全连接层，同时，它的requires_grad 会被置于 True\n",
        "  )\n",
        "print(model)"
      ],
      "execution_count": 0,
      "outputs": []
    },
    {
      "cell_type": "code",
      "metadata": {
        "id": "xxf7z_Eucic6",
        "colab_type": "code",
        "colab": {}
      },
      "source": [
        "model = model.to(device)\n",
        "\n",
        "criterion = nn.CrossEntropyLoss()\n",
        "\n",
        "# Observe that all parameters are being optimized\n",
        "optimizer = optim.Adam(model.classifier.parameters(),lr = 1e-6)# 内部的参数替换为.classifier.parameters()\n",
        "# optimizer = optim.Adam(model.fc.parameters(),lr = 1e-6)# 内部的参数替换为.classifier.parameters()\n",
        "# Decay LR by a factor of 0.1 every 7 epochs\n",
        "exp_lr_scheduler = lr_scheduler.StepLR(optimizer, step_size=7, gamma=1)# 调节学习速率，经过每个step变为之前的gamma倍\n",
        "\n",
        "# lr_scheduler.StepLR 参考文档：\n",
        "# https://pytorch.org/docs/stable/optim.html?highlight=lr_scheduler#torch.optim.lr_scheduler.StepLR\n"
      ],
      "execution_count": 0,
      "outputs": []
    },
    {
      "cell_type": "code",
      "metadata": {
        "id": "h5vCeFBG1pQk",
        "colab_type": "code",
        "outputId": "26ac7b53-ce26-43e7-bf4b-955ec716169f",
        "colab": {
          "base_uri": "https://localhost:8080/",
          "height": 4775
        }
      },
      "source": [
        "model = train_model(model, criterion, optimizer, exp_lr_scheduler, num_epochs=10)"
      ],
      "execution_count": 0,
      "outputs": [
        {
          "output_type": "stream",
          "text": [
            "Epoch 0/9\n",
            "----------\n",
            "torch.Size([4, 2]) torch.Size([4])\n",
            "tensor([[-0.0810,  0.6625],\n",
            "        [-0.4868,  0.3630],\n",
            "        [-0.7228,  1.3376],\n",
            "        [ 0.9664, -1.0160]], device='cuda:0', grad_fn=<AddmmBackward>)\n",
            "tensor([1, 1, 1, 0], device='cuda:0')\n",
            "torch.Size([4, 2]) torch.Size([4])\n",
            "tensor([[ 0.4993, -0.9809],\n",
            "        [-0.5593,  0.6837],\n",
            "        [ 0.2663, -0.0457],\n",
            "        [-0.3143,  0.6873]], device='cuda:0', grad_fn=<AddmmBackward>)\n",
            "tensor([0, 1, 0, 1], device='cuda:0')\n",
            "torch.Size([4, 2]) torch.Size([4])\n",
            "tensor([[ 1.4663, -1.1864],\n",
            "        [ 0.5189, -0.8902],\n",
            "        [-0.1263,  0.2863],\n",
            "        [ 0.1506,  0.0351]], device='cuda:0', grad_fn=<AddmmBackward>)\n",
            "tensor([0, 0, 1, 1], device='cuda:0')\n",
            "torch.Size([4, 2]) torch.Size([4])\n",
            "tensor([[ 0.1133, -0.1467],\n",
            "        [ 0.2012, -0.1329],\n",
            "        [ 0.4293, -0.0611],\n",
            "        [-0.3951,  0.9412]], device='cuda:0', grad_fn=<AddmmBackward>)\n",
            "tensor([0, 0, 0, 1], device='cuda:0')\n",
            "torch.Size([4, 2]) torch.Size([4])\n",
            "tensor([[-0.2456,  0.5311],\n",
            "        [-0.0978, -0.1727],\n",
            "        [-0.0136,  0.0246],\n",
            "        [-0.5766,  0.7773]], device='cuda:0', grad_fn=<AddmmBackward>)\n",
            "tensor([1, 0, 0, 1], device='cuda:0')\n",
            "torch.Size([4, 2]) torch.Size([4])\n",
            "tensor([[ 0.8616, -0.5905],\n",
            "        [ 0.4121, -0.4637],\n",
            "        [ 0.5308, -1.0682],\n",
            "        [-0.6433,  0.4814]], device='cuda:0', grad_fn=<AddmmBackward>)\n",
            "tensor([0, 0, 0, 1], device='cuda:0')\n",
            "torch.Size([4, 2]) torch.Size([4])\n",
            "tensor([[ 0.5775, -0.3727],\n",
            "        [ 0.9468, -0.7360],\n",
            "        [ 0.3389, -0.5076],\n",
            "        [ 0.5726, -0.0723]], device='cuda:0', grad_fn=<AddmmBackward>)\n",
            "tensor([0, 0, 0, 0], device='cuda:0')\n",
            "torch.Size([4, 2]) torch.Size([4])\n",
            "tensor([[-0.2744,  0.3894],\n",
            "        [ 0.6490, -0.6588],\n",
            "        [-0.3150,  0.3328],\n",
            "        [-0.3060,  0.6384]], device='cuda:0', grad_fn=<AddmmBackward>)\n",
            "tensor([1, 0, 1, 1], device='cuda:0')\n",
            "torch.Size([4, 2]) torch.Size([4])\n",
            "tensor([[ 0.0482, -0.2627],\n",
            "        [-0.8861,  0.6807],\n",
            "        [-1.0377,  1.2042],\n",
            "        [-0.8450,  0.6951]], device='cuda:0', grad_fn=<AddmmBackward>)\n",
            "tensor([0, 1, 1, 1], device='cuda:0')\n",
            "torch.Size([4, 2]) torch.Size([4])\n",
            "tensor([[-0.2135,  0.4879],\n",
            "        [-0.0819,  0.0481],\n",
            "        [-0.1571,  1.1644],\n",
            "        [-0.5440,  0.4398]], device='cuda:0', grad_fn=<AddmmBackward>)\n",
            "tensor([1, 1, 1, 1], device='cuda:0')\n",
            "torch.Size([4, 2]) torch.Size([4])\n",
            "tensor([[-0.4661,  0.5770],\n",
            "        [ 0.8186, -0.3995],\n",
            "        [-0.7688,  0.7056],\n",
            "        [-0.3902,  0.9933]], device='cuda:0', grad_fn=<AddmmBackward>)\n",
            "tensor([1, 0, 1, 1], device='cuda:0')\n",
            "torch.Size([4, 2]) torch.Size([4])\n",
            "tensor([[-0.4219,  0.6509],\n",
            "        [-0.0716,  0.3097],\n",
            "        [ 0.1342,  0.0364],\n",
            "        [ 0.3797, -0.4493]], device='cuda:0', grad_fn=<AddmmBackward>)\n",
            "tensor([1, 1, 1, 0], device='cuda:0')\n",
            "torch.Size([4, 2]) torch.Size([4])\n",
            "tensor([[ 0.3172, -0.1136],\n",
            "        [ 0.0836, -0.0489],\n",
            "        [ 0.1252, -0.0169],\n",
            "        [-0.3319,  0.3509]], device='cuda:0', grad_fn=<AddmmBackward>)\n",
            "tensor([0, 0, 1, 1], device='cuda:0')\n",
            "torch.Size([4, 2]) torch.Size([4])\n",
            "tensor([[-0.0520,  0.3332],\n",
            "        [ 0.3493, -0.1649],\n",
            "        [ 0.2643, -0.7292],\n",
            "        [-0.3599,  0.7982]], device='cuda:0', grad_fn=<AddmmBackward>)\n",
            "tensor([1, 0, 0, 1], device='cuda:0')\n",
            "torch.Size([4, 2]) torch.Size([4])\n",
            "tensor([[ 0.2499,  0.3345],\n",
            "        [ 0.4975, -0.4579],\n",
            "        [-0.3717,  0.4683],\n",
            "        [ 0.1767, -0.2257]], device='cuda:0', grad_fn=<AddmmBackward>)\n",
            "tensor([1, 0, 1, 1], device='cuda:0')\n",
            "torch.Size([4, 2]) torch.Size([4])\n",
            "tensor([[ 0.0857,  0.0142],\n",
            "        [ 0.0709,  0.1521],\n",
            "        [ 1.1476, -1.3911],\n",
            "        [ 0.1857, -0.0060]], device='cuda:0', grad_fn=<AddmmBackward>)\n",
            "tensor([0, 0, 0, 0], device='cuda:0')\n",
            "torch.Size([4, 2]) torch.Size([4])\n",
            "tensor([[ 0.6370, -0.4606],\n",
            "        [ 0.0166,  0.3770],\n",
            "        [ 0.1966,  0.8572],\n",
            "        [ 0.1227,  0.1637]], device='cuda:0', grad_fn=<AddmmBackward>)\n",
            "tensor([0, 1, 1, 1], device='cuda:0')\n",
            "torch.Size([4, 2]) torch.Size([4])\n",
            "tensor([[-0.8754,  0.4511],\n",
            "        [ 0.3488,  0.0099],\n",
            "        [-0.5310,  0.4866],\n",
            "        [-0.7125,  0.4043]], device='cuda:0', grad_fn=<AddmmBackward>)\n",
            "tensor([1, 0, 1, 1], device='cuda:0')\n",
            "torch.Size([4, 2]) torch.Size([4])\n",
            "tensor([[-0.0113,  0.0185],\n",
            "        [ 0.1100, -0.0844],\n",
            "        [ 0.1581, -0.0543],\n",
            "        [-0.4216,  0.1960]], device='cuda:0', grad_fn=<AddmmBackward>)\n",
            "tensor([0, 1, 0, 0], device='cuda:0')\n",
            "torch.Size([4, 2]) torch.Size([4])\n",
            "tensor([[ 0.6741, -0.6439],\n",
            "        [-0.4420,  0.2490],\n",
            "        [ 0.4345, -0.1030],\n",
            "        [ 0.4972, -0.3255]], device='cuda:0', grad_fn=<AddmmBackward>)\n",
            "tensor([0, 1, 0, 0], device='cuda:0')\n",
            "torch.Size([4, 2]) torch.Size([4])\n",
            "tensor([[-0.2394,  0.6173],\n",
            "        [-0.6511,  0.5335],\n",
            "        [-0.1455,  0.1538],\n",
            "        [-0.4555,  0.8815]], device='cuda:0', grad_fn=<AddmmBackward>)\n",
            "tensor([1, 1, 0, 1], device='cuda:0')\n",
            "torch.Size([4, 2]) torch.Size([4])\n",
            "tensor([[ 1.0227, -0.7148],\n",
            "        [-1.1690,  0.5866],\n",
            "        [-1.0339,  0.7513],\n",
            "        [ 0.7293,  0.1244]], device='cuda:0', grad_fn=<AddmmBackward>)\n",
            "tensor([0, 1, 1, 0], device='cuda:0')\n",
            "torch.Size([4, 2]) torch.Size([4])\n",
            "tensor([[-0.3353,  0.8231],\n",
            "        [ 0.4404, -0.2604],\n",
            "        [ 0.4240, -0.6837],\n",
            "        [-0.1042,  0.1962]], device='cuda:0', grad_fn=<AddmmBackward>)\n",
            "tensor([1, 0, 0, 1], device='cuda:0')\n",
            "torch.Size([4, 2]) torch.Size([4])\n",
            "tensor([[-0.4405,  0.8301],\n",
            "        [-1.2184,  1.3522],\n",
            "        [ 0.8688, -1.0190],\n",
            "        [-1.4103,  1.0837]], device='cuda:0', grad_fn=<AddmmBackward>)\n",
            "tensor([1, 1, 0, 1], device='cuda:0')\n",
            "torch.Size([4, 2]) torch.Size([4])\n",
            "tensor([[-0.0918, -0.0558],\n",
            "        [-0.0984,  0.5164],\n",
            "        [ 0.5150, -0.4120],\n",
            "        [-0.5973,  0.7443]], device='cuda:0', grad_fn=<AddmmBackward>)\n",
            "tensor([1, 1, 0, 1], device='cuda:0')\n",
            "torch.Size([4, 2]) torch.Size([4])\n",
            "tensor([[ 0.4471, -0.5371],\n",
            "        [ 0.0469, -0.0720],\n",
            "        [-0.5955,  0.5570],\n",
            "        [-0.4343,  0.7759]], device='cuda:0', grad_fn=<AddmmBackward>)\n",
            "tensor([0, 1, 1, 1], device='cuda:0')\n",
            "torch.Size([4, 2]) torch.Size([4])\n",
            "tensor([[ 0.0396,  0.6370],\n",
            "        [-0.3498,  0.4332],\n",
            "        [ 0.6226, -0.6894],\n",
            "        [ 0.0700, -0.0199]], device='cuda:0', grad_fn=<AddmmBackward>)\n",
            "tensor([1, 1, 0, 1], device='cuda:0')\n",
            "torch.Size([4, 2]) torch.Size([4])\n",
            "tensor([[-0.2851, -0.0547],\n",
            "        [ 0.6351, -0.6396],\n",
            "        [ 0.1949, -0.3212],\n",
            "        [-0.1686, -0.1817]], device='cuda:0', grad_fn=<AddmmBackward>)\n",
            "tensor([1, 0, 0, 0], device='cuda:0')\n",
            "torch.Size([4, 2]) torch.Size([4])\n",
            "tensor([[ 0.2261,  0.2400],\n",
            "        [-0.9193, -0.1063],\n",
            "        [ 0.2939, -0.3767],\n",
            "        [-0.0244,  0.0815]], device='cuda:0', grad_fn=<AddmmBackward>)\n",
            "tensor([0, 1, 0, 1], device='cuda:0')\n",
            "torch.Size([4, 2]) torch.Size([4])\n",
            "tensor([[ 0.7799, -0.7771],\n",
            "        [-0.3364, -0.1829],\n",
            "        [ 0.5526, -0.5257],\n",
            "        [-0.0830, -0.0495]], device='cuda:0', grad_fn=<AddmmBackward>)\n",
            "tensor([0, 0, 0, 0], device='cuda:0')\n",
            "torch.Size([4, 2]) torch.Size([4])\n",
            "tensor([[ 0.3224, -0.5084],\n",
            "        [ 1.0328, -0.8768],\n",
            "        [-0.1647,  0.4810],\n",
            "        [-0.1168, -0.5011]], device='cuda:0', grad_fn=<AddmmBackward>)\n",
            "tensor([0, 0, 1, 0], device='cuda:0')\n",
            "torch.Size([4, 2]) torch.Size([4])\n",
            "tensor([[ 0.0644, -0.2876],\n",
            "        [-0.0625,  0.5095],\n",
            "        [-0.1680,  0.1510],\n",
            "        [ 0.3914, -0.6123]], device='cuda:0', grad_fn=<AddmmBackward>)\n",
            "tensor([0, 1, 0, 0], device='cuda:0')\n",
            "torch.Size([4, 2]) torch.Size([4])\n",
            "tensor([[ 0.7034, -0.4195],\n",
            "        [ 0.1739, -0.2454],\n",
            "        [-0.5428,  0.7249],\n",
            "        [ 0.2691,  0.0220]], device='cuda:0', grad_fn=<AddmmBackward>)\n",
            "tensor([0, 0, 1, 0], device='cuda:0')\n",
            "torch.Size([4, 2]) torch.Size([4])\n",
            "tensor([[-0.3076,  0.6855],\n",
            "        [-0.3583,  0.2314],\n",
            "        [ 0.5243, -0.2949],\n",
            "        [-0.1472,  0.0484]], device='cuda:0', grad_fn=<AddmmBackward>)\n",
            "tensor([1, 0, 0, 1], device='cuda:0')\n",
            "torch.Size([4, 2]) torch.Size([4])\n",
            "tensor([[-0.0024, -0.0811],\n",
            "        [-0.5525,  0.0722],\n",
            "        [-0.1068, -0.0661],\n",
            "        [-0.7940,  0.6422]], device='cuda:0', grad_fn=<AddmmBackward>)\n",
            "tensor([0, 1, 0, 1], device='cuda:0')\n",
            "torch.Size([4, 2]) torch.Size([4])\n",
            "tensor([[ 0.0407,  0.1440],\n",
            "        [-0.3251,  0.1964],\n",
            "        [-0.5636,  0.4193],\n",
            "        [-0.1810,  0.1423]], device='cuda:0', grad_fn=<AddmmBackward>)\n",
            "tensor([1, 1, 1, 0], device='cuda:0')\n",
            "torch.Size([4, 2]) torch.Size([4])\n",
            "tensor([[-0.4488,  0.5761],\n",
            "        [-0.8718,  0.6146],\n",
            "        [ 0.6121, -0.1391],\n",
            "        [ 0.0773, -0.0149]], device='cuda:0', grad_fn=<AddmmBackward>)\n",
            "tensor([1, 1, 0, 0], device='cuda:0')\n",
            "torch.Size([4, 2]) torch.Size([4])\n",
            "tensor([[-0.8240,  0.7917],\n",
            "        [-0.2737, -0.0937],\n",
            "        [ 0.7759, -0.5380],\n",
            "        [ 0.1689, -0.1507]], device='cuda:0', grad_fn=<AddmmBackward>)\n",
            "tensor([1, 1, 0, 0], device='cuda:0')\n",
            "torch.Size([4, 2]) torch.Size([4])\n",
            "tensor([[ 0.8118, -0.8225],\n",
            "        [ 0.5074, -0.4364],\n",
            "        [ 0.6181, -0.3891],\n",
            "        [-0.4971,  0.5525]], device='cuda:0', grad_fn=<AddmmBackward>)\n",
            "tensor([0, 0, 0, 1], device='cuda:0')\n",
            "torch.Size([4, 2]) torch.Size([4])\n",
            "tensor([[ 0.1536, -0.0053],\n",
            "        [-0.2548,  0.2407],\n",
            "        [ 0.5763, -0.5198],\n",
            "        [-0.0082, -0.1374]], device='cuda:0', grad_fn=<AddmmBackward>)\n",
            "tensor([0, 1, 0, 0], device='cuda:0')\n",
            "torch.Size([4, 2]) torch.Size([4])\n",
            "tensor([[-0.2421, -0.0331],\n",
            "        [-0.0521,  0.6413],\n",
            "        [-0.1614,  0.3224],\n",
            "        [-0.5180,  0.8202]], device='cuda:0', grad_fn=<AddmmBackward>)\n",
            "tensor([1, 1, 1, 1], device='cuda:0')\n",
            "torch.Size([4, 2]) torch.Size([4])\n",
            "tensor([[ 0.8273, -0.0601],\n",
            "        [ 0.7797, -0.6117],\n",
            "        [ 0.0848,  0.1931],\n",
            "        [-0.4656,  0.7102]], device='cuda:0', grad_fn=<AddmmBackward>)\n",
            "tensor([0, 0, 0, 1], device='cuda:0')\n",
            "torch.Size([4, 2]) torch.Size([4])\n",
            "tensor([[ 1.0565, -0.6755],\n",
            "        [ 0.3808, -0.8171],\n",
            "        [-0.3813,  1.1511],\n",
            "        [ 0.0340,  0.6470]], device='cuda:0', grad_fn=<AddmmBackward>)\n",
            "tensor([0, 0, 1, 1], device='cuda:0')\n",
            "torch.Size([4, 2]) torch.Size([4])\n",
            "tensor([[-0.3238,  0.4466],\n",
            "        [ 0.6638, -0.5286],\n",
            "        [ 0.8188, -1.3196],\n",
            "        [-1.0728,  1.0319]], device='cuda:0', grad_fn=<AddmmBackward>)\n",
            "tensor([1, 0, 0, 1], device='cuda:0')\n"
          ],
          "name": "stdout"
        },
        {
          "output_type": "error",
          "ename": "KeyboardInterrupt",
          "evalue": "ignored",
          "traceback": [
            "\u001b[0;31m---------------------------------------------------------------------------\u001b[0m",
            "\u001b[0;31mKeyboardInterrupt\u001b[0m                         Traceback (most recent call last)",
            "\u001b[0;32m<ipython-input-19-e5411bff776f>\u001b[0m in \u001b[0;36m<module>\u001b[0;34m()\u001b[0m\n\u001b[0;32m----> 1\u001b[0;31m \u001b[0mmodel\u001b[0m \u001b[0;34m=\u001b[0m \u001b[0mtrain_model\u001b[0m\u001b[0;34m(\u001b[0m\u001b[0mmodel\u001b[0m\u001b[0;34m,\u001b[0m \u001b[0mcriterion\u001b[0m\u001b[0;34m,\u001b[0m \u001b[0moptimizer\u001b[0m\u001b[0;34m,\u001b[0m \u001b[0mexp_lr_scheduler\u001b[0m\u001b[0;34m,\u001b[0m \u001b[0mnum_epochs\u001b[0m\u001b[0;34m=\u001b[0m\u001b[0;36m10\u001b[0m\u001b[0;34m)\u001b[0m\u001b[0;34m\u001b[0m\u001b[0;34m\u001b[0m\u001b[0m\n\u001b[0m",
            "\u001b[0;32m<ipython-input-18-0ecad343e310>\u001b[0m in \u001b[0;36mtrain_model\u001b[0;34m(model, criterion, optimizer, scheduler, num_epochs)\u001b[0m\n\u001b[1;32m     45\u001b[0m                     \u001b[0;32mif\u001b[0m \u001b[0mphase\u001b[0m \u001b[0;34m==\u001b[0m \u001b[0;34m'train'\u001b[0m\u001b[0;34m:\u001b[0m\u001b[0;34m\u001b[0m\u001b[0;34m\u001b[0m\u001b[0m\n\u001b[1;32m     46\u001b[0m                         \u001b[0mloss\u001b[0m\u001b[0;34m.\u001b[0m\u001b[0mbackward\u001b[0m\u001b[0;34m(\u001b[0m\u001b[0;34m)\u001b[0m\u001b[0;34m\u001b[0m\u001b[0;34m\u001b[0m\u001b[0m\n\u001b[0;32m---> 47\u001b[0;31m                         \u001b[0moptimizer\u001b[0m\u001b[0;34m.\u001b[0m\u001b[0mstep\u001b[0m\u001b[0;34m(\u001b[0m\u001b[0;34m)\u001b[0m\u001b[0;34m\u001b[0m\u001b[0;34m\u001b[0m\u001b[0m\n\u001b[0m\u001b[1;32m     48\u001b[0m \u001b[0;34m\u001b[0m\u001b[0m\n\u001b[1;32m     49\u001b[0m                 \u001b[0;31m# statistics\u001b[0m\u001b[0;34m\u001b[0m\u001b[0;34m\u001b[0m\u001b[0;34m\u001b[0m\u001b[0m\n",
            "\u001b[0;32m/usr/local/lib/python3.6/dist-packages/torch/optim/adam.py\u001b[0m in \u001b[0;36mstep\u001b[0;34m(self, closure)\u001b[0m\n\u001b[1;32m     91\u001b[0m \u001b[0;34m\u001b[0m\u001b[0m\n\u001b[1;32m     92\u001b[0m                 \u001b[0;31m# Decay the first and second moment running average coefficient\u001b[0m\u001b[0;34m\u001b[0m\u001b[0;34m\u001b[0m\u001b[0;34m\u001b[0m\u001b[0m\n\u001b[0;32m---> 93\u001b[0;31m                 \u001b[0mexp_avg\u001b[0m\u001b[0;34m.\u001b[0m\u001b[0mmul_\u001b[0m\u001b[0;34m(\u001b[0m\u001b[0mbeta1\u001b[0m\u001b[0;34m)\u001b[0m\u001b[0;34m.\u001b[0m\u001b[0madd_\u001b[0m\u001b[0;34m(\u001b[0m\u001b[0;36m1\u001b[0m \u001b[0;34m-\u001b[0m \u001b[0mbeta1\u001b[0m\u001b[0;34m,\u001b[0m \u001b[0mgrad\u001b[0m\u001b[0;34m)\u001b[0m\u001b[0;34m\u001b[0m\u001b[0;34m\u001b[0m\u001b[0m\n\u001b[0m\u001b[1;32m     94\u001b[0m                 \u001b[0mexp_avg_sq\u001b[0m\u001b[0;34m.\u001b[0m\u001b[0mmul_\u001b[0m\u001b[0;34m(\u001b[0m\u001b[0mbeta2\u001b[0m\u001b[0;34m)\u001b[0m\u001b[0;34m.\u001b[0m\u001b[0maddcmul_\u001b[0m\u001b[0;34m(\u001b[0m\u001b[0;36m1\u001b[0m \u001b[0;34m-\u001b[0m \u001b[0mbeta2\u001b[0m\u001b[0;34m,\u001b[0m \u001b[0mgrad\u001b[0m\u001b[0;34m,\u001b[0m \u001b[0mgrad\u001b[0m\u001b[0;34m)\u001b[0m\u001b[0;34m\u001b[0m\u001b[0;34m\u001b[0m\u001b[0m\n\u001b[1;32m     95\u001b[0m                 \u001b[0;32mif\u001b[0m \u001b[0mamsgrad\u001b[0m\u001b[0;34m:\u001b[0m\u001b[0;34m\u001b[0m\u001b[0;34m\u001b[0m\u001b[0m\n",
            "\u001b[0;31mKeyboardInterrupt\u001b[0m: "
          ]
        }
      ]
    },
    {
      "cell_type": "code",
      "metadata": {
        "id": "WrB-08G5cih1",
        "colab_type": "code",
        "colab": {}
      },
      "source": [
        ""
      ],
      "execution_count": 0,
      "outputs": []
    }
  ]
}