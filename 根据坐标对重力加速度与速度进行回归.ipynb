{
 "cells": [
  {
   "cell_type": "markdown",
   "metadata": {},
   "source": [
    "# from g and v0 generate coordinate\n",
    "$ x = v_0 \\cdot t$  \n",
    "$ y = \\frac{1}{2}gt^2$"
   ]
  },
  {
   "cell_type": "code",
   "execution_count": 7,
   "metadata": {},
   "outputs": [],
   "source": [
    "import numpy as np\n",
    "def generate_y(g):\n",
    "    length = 100\n",
    "    t = np.linspace(0,10,length,dtype=np.float32)\n",
    "    y = 1/2 * g * (t**2)\n",
    "    return y.reshape(1,length,1), np.array(g).reshape(1,1)"
   ]
  },
  {
   "cell_type": "code",
   "execution_count": 9,
   "metadata": {},
   "outputs": [],
   "source": [
    "def generateData(batch):\n",
    "    '''\n",
    "    - return Y.shape = (batch, W, channel=1), G.shape=(batch, 1)\n",
    "    '''\n",
    "    \n",
    "    g = 8+ np.random.rand()*2 \n",
    "    Y,G = generate_y(g)\n",
    "    i = 1\n",
    "    while True:\n",
    "        g = 8+ np.random.rand()*2 \n",
    "        y,g = generate_y(g)\n",
    "        Y = np.concatenate((Y,y),axis=0)\n",
    "        G = np.concatenate((G,g),axis=0)\n",
    "        i += 1\n",
    "        if i % batch == 0:\n",
    "            yield Y,G\n",
    "            g = 8+ np.random.rand()*2 \n",
    "            Y,G = generate_y(g)\n",
    "            i = 1\n"
   ]
  },
  {
   "cell_type": "code",
   "execution_count": 40,
   "metadata": {},
   "outputs": [
    {
     "data": {
      "text/latex": [
       "$\\displaystyle \\left( 50, \\  100, \\  1\\right)$"
      ],
      "text/plain": [
       "(50, 100, 1)"
      ]
     },
     "execution_count": 40,
     "metadata": {},
     "output_type": "execute_result"
    }
   ],
   "source": [
    "batch = 50\n",
    "data = generateData(batch)\n",
    "next(data)[0].shape"
   ]
  },
  {
   "cell_type": "code",
   "execution_count": 231,
   "metadata": {},
   "outputs": [
    {
     "data": {
      "text/plain": [
       "[<matplotlib.lines.Line2D at 0x132dbf69710>]"
      ]
     },
     "execution_count": 231,
     "metadata": {},
     "output_type": "execute_result"
    },
    {
     "data": {
      "image/png": "[encoded data removed]",
      "text/plain": [
       "<Figure size 432x288 with 1 Axes>"
      ]
     },
     "metadata": {
      "image/png": {
       "height": 246,
       "width": 370
      },
      "needs_background": "light"
     },
     "output_type": "display_data"
    }
   ],
   "source": [
    "plt.plot(np.linspace(0,10,100),next(data)[0][0])"
   ]
  },
  {
   "cell_type": "code",
   "execution_count": 11,
   "metadata": {},
   "outputs": [],
   "source": [
    "import tensorflow as tf\n",
    "import numpy as np\n",
    "# tf.test.is_gpu_available()\n",
    "from tensorflow.keras import Input,Model\n",
    "from tensorflow.keras import layers\n",
    "from tensorflow.keras.layers import Flatten,Dense,Dropout,Conv2D,Conv1D"
   ]
  },
  {
   "cell_type": "markdown",
   "metadata": {},
   "source": [
    "Conv1D\n",
    "https://blog.csdn.net/VeritasCN/article/details/90050584"
   ]
  },
  {
   "cell_type": "markdown",
   "metadata": {},
   "source": [
    "a = np.arange(10).reshape(1,10,1).astype(np.float32) # （B, W, C)\n",
    "conv1d = Conv1D(1,3,padding='same',input_shape=(None,))# (n_kernels, kernel_size)\n",
    "\n",
    "conv1d(a)"
   ]
  },
  {
   "cell_type": "code",
   "execution_count": 103,
   "metadata": {},
   "outputs": [],
   "source": [
    "class MyModel(tf.keras.Model):\n",
    "    def __init__(self):\n",
    "        super(MyModel, self).__init__()\n",
    "        self.conv1 = Conv1D(1, 3, strides=2, padding='same', input_shape=(100,))\n",
    "        self.conv2 = Conv1D(1, 3, strides=2, padding='same')\n",
    "        self.flatten = Flatten()\n",
    "        self.fc1 = Dense(100, activation='relu') # 默认use_bias=True, \n",
    "        self.fc2 = Dense(100, activation='relu')\n",
    "        self.fc3 = Dense(100, activation='relu')\n",
    "        \n",
    "        self.out = Dense(1)\n",
    "    \n",
    "    def call(self, x):\n",
    "\n",
    "        x = self.conv1(x)\n",
    "        x = self.conv2(x)\n",
    "        x = self.flatten(x)\n",
    "        x = self.fc1(x)\n",
    "        x = self.fc2(x)\n",
    "        x = self.fc3(x)\n",
    "        x = self.out(x)\n",
    "        return x\n",
    "\n",
    "\n",
    "my_model = MyModel()  "
   ]
  },
  {
   "cell_type": "code",
   "execution_count": 104,
   "metadata": {},
   "outputs": [],
   "source": [
    "batch = 50\n",
    "data = generateData(batch)"
   ]
  },
  {
   "cell_type": "code",
   "execution_count": 105,
   "metadata": {},
   "outputs": [
    {
     "data": {
      "text/latex": [
       "$\\displaystyle \\left( 50, \\  1\\right)$"
      ],
      "text/plain": [
       "(50, 1)"
      ]
     },
     "execution_count": 105,
     "metadata": {},
     "output_type": "execute_result"
    }
   ],
   "source": [
    "next(data)[1].shape"
   ]
  },
  {
   "cell_type": "code",
   "execution_count": 106,
   "metadata": {},
   "outputs": [
    {
     "name": "stdout",
     "output_type": "stream",
     "text": [
      "x.shape: (50, 100, 1)\n"
     ]
    },
    {
     "data": {
      "text/plain": [
       "TensorShape([50, 1])"
      ]
     },
     "execution_count": 106,
     "metadata": {},
     "output_type": "execute_result"
    }
   ],
   "source": [
    "x = next(data)[0]\n",
    "print('x.shape:',x.shape)\n",
    "my_model(x).shape"
   ]
  },
  {
   "cell_type": "code",
   "execution_count": 107,
   "metadata": {},
   "outputs": [
    {
     "name": "stdout",
     "output_type": "stream",
     "text": [
      "Model: \"my_model_4\"\n",
      "_________________________________________________________________\n",
      "Layer (type)                 Output Shape              Param #   \n",
      "=================================================================\n",
      "conv1d_9 (Conv1D)            multiple                  4         \n",
      "_________________________________________________________________\n",
      "conv1d_10 (Conv1D)           multiple                  4         \n",
      "_________________________________________________________________\n",
      "flatten_4 (Flatten)          multiple                  0         \n",
      "_________________________________________________________________\n",
      "dense_11 (Dense)             multiple                  2600      \n",
      "_________________________________________________________________\n",
      "dense_12 (Dense)             multiple                  10100     \n",
      "_________________________________________________________________\n",
      "dense_13 (Dense)             multiple                  10100     \n",
      "_________________________________________________________________\n",
      "dense_14 (Dense)             multiple                  101       \n",
      "=================================================================\n",
      "Total params: 22,909\n",
      "Trainable params: 22,909\n",
      "Non-trainable params: 0\n",
      "_________________________________________________________________\n"
     ]
    }
   ],
   "source": [
    "my_model.summary()"
   ]
  },
  {
   "cell_type": "code",
   "execution_count": 108,
   "metadata": {},
   "outputs": [],
   "source": [
    "my_model.compile(loss='mse', optimizer='Adam')"
   ]
  },
  {
   "cell_type": "code",
   "execution_count": 109,
   "metadata": {},
   "outputs": [
    {
     "name": "stdout",
     "output_type": "stream",
     "text": [
      "loss: 2919.152099609375\n",
      "loss: 0.019801896065473557\n",
      "loss: 7.749268888801453e-07\n",
      "loss: 9.745544815586982e-08\n",
      "loss: 1.1928631238333764e-07\n"
     ]
    }
   ],
   "source": [
    "# 使用集成度较低的 Model.train_on_batch方法，自行设定batch数据　和　ｅpochs\n",
    "for step in range(500):\n",
    "    train_data = next(data)\n",
    "    cost = my_model.train_on_batch(train_data[0], train_data[1])\n",
    "    if step%100==0:\n",
    "        print(f'loss: {cost}')"
   ]
  },
  {
   "cell_type": "code",
   "execution_count": 113,
   "metadata": {},
   "outputs": [
    {
     "name": "stdout",
     "output_type": "stream",
     "text": [
      "True: [9.33175174] predict: [[9.331847]]\n"
     ]
    }
   ],
   "source": [
    "test_data = next(data)\n",
    "tx = test_data[0]\n",
    "ty = test_data[1]\n",
    "test_x=tx[0].reshape(1,100,1)\n",
    "\n",
    "print('True:',ty[0],\n",
    "      'predict:',my_model.predict(test_x))"
   ]
  },
  {
   "cell_type": "code",
   "execution_count": null,
   "metadata": {},
   "outputs": [],
   "source": []
  },
  {
   "cell_type": "code",
   "execution_count": null,
   "metadata": {},
   "outputs": [],
   "source": []
  },
  {
   "cell_type": "code",
   "execution_count": null,
   "metadata": {},
   "outputs": [],
   "source": []
  }
 ],
 "metadata": {
  "kernelspec": {
   "display_name": "Python [conda env:tf2]",
   "language": "python",
   "name": "conda-env-tf2-py"
  },
  "language_info": {
   "codemirror_mode": {
    "name": "ipython",
    "version": 3
   },
   "file_extension": ".py",
   "mimetype": "text/x-python",
   "name": "python",
   "nbconvert_exporter": "python",
   "pygments_lexer": "ipython3",
   "version": "3.6.8"
  }
 },
 "nbformat": 4,
 "nbformat_minor": 4
}
