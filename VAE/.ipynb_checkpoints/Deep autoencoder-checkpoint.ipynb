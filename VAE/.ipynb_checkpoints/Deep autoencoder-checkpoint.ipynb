{
 "cells": [
  {
   "cell_type": "code",
   "execution_count": 1,
   "metadata": {},
   "outputs": [
    {
     "name": "stdout",
     "output_type": "stream",
     "text": [
      "(60000, 784)\n",
      "(10000, 784)\n"
     ]
    }
   ],
   "source": [
    "import numpy as np\n",
    "\n",
    "# tensorflow2.0\n",
    "import tensorflow as tf\n",
    "from tensorflow.keras import Input,Model\n",
    "from tensorflow.keras import layers\n",
    "from tensorflow.keras.layers import Flatten,Dense,Dropout,Conv2D\n",
    "from tensorflow.keras.datasets import mnist\n",
    "from tensorflow.keras import regularizers\n",
    "(x_train, _), (x_test, _) = mnist.load_data()\n",
    "x_train = x_train.astype('float32') / 255.\n",
    "x_test = x_test.astype('float32') / 255.\n",
    "x_train = x_train.reshape((len(x_train), np.prod(x_train.shape[1:])))\n",
    "x_test = x_test.reshape((len(x_test), np.prod(x_test.shape[1:])))\n",
    "print( x_train.shape)\n",
    "print( x_test.shape)"
   ]
  },
  {
   "cell_type": "code",
   "execution_count": 11,
   "metadata": {},
   "outputs": [],
   "source": [
    "input_img = Input(shape=(784,))\n",
    "\n",
    "dim = 256\n",
    "encoded = Dense(dim, activation='relu')(input_img)\n",
    "encoded = Dense(dim/2, activation='relu')(encoded)\n",
    "encoded = Dense(dim/4, activation='relu')(encoded)\n",
    "\n",
    "decoded = Dense(dim/2, activation='relu')(encoded)\n",
    "decoded = Dense(dim, activation='relu')(decoded)\n",
    "decoded = Dense(784, activation='sigmoid')(decoded)"
   ]
  },
  {
   "cell_type": "code",
   "execution_count": 12,
   "metadata": {},
   "outputs": [
    {
     "name": "stdout",
     "output_type": "stream",
     "text": [
      "Train on 60000 samples, validate on 10000 samples\n",
      "Epoch 1/10\n",
      "60000/60000 [==============================] - 2s 26us/sample - loss: 0.2155 - val_loss: 0.1398\n",
      "Epoch 2/10\n",
      "60000/60000 [==============================] - 1s 19us/sample - loss: 0.1262 - val_loss: 0.1145\n",
      "Epoch 3/10\n",
      "60000/60000 [==============================] - 1s 19us/sample - loss: 0.1098 - val_loss: 0.1038\n",
      "Epoch 4/10\n",
      "60000/60000 [==============================] - 1s 18us/sample - loss: 0.1020 - val_loss: 0.0980\n",
      "Epoch 5/10\n",
      "60000/60000 [==============================] - 1s 19us/sample - loss: 0.0973 - val_loss: 0.0943\n",
      "Epoch 6/10\n",
      "60000/60000 [==============================] - 1s 19us/sample - loss: 0.0938 - val_loss: 0.0912\n",
      "Epoch 7/10\n",
      "60000/60000 [==============================] - 1s 19us/sample - loss: 0.0911 - val_loss: 0.0896\n",
      "Epoch 8/10\n",
      "60000/60000 [==============================] - 1s 19us/sample - loss: 0.0890 - val_loss: 0.0876\n",
      "Epoch 9/10\n",
      "60000/60000 [==============================] - 1s 18us/sample - loss: 0.0873 - val_loss: 0.0867\n",
      "Epoch 10/10\n",
      "60000/60000 [==============================] - 1s 19us/sample - loss: 0.0858 - val_loss: 0.0844\n"
     ]
    },
    {
     "data": {
      "text/plain": [
       "<tensorflow.python.keras.callbacks.History at 0x216ba068148>"
      ]
     },
     "execution_count": 12,
     "metadata": {},
     "output_type": "execute_result"
    }
   ],
   "source": [
    "autoencoder = Model(input_img, decoded)\n",
    "autoencoder.compile(optimizer=tf.keras.optimizers.Adam(), loss='binary_crossentropy')\n",
    "\n",
    "autoencoder.fit(x_train, x_train,\n",
    "                epochs=10,\n",
    "                batch_size=256,\n",
    "                shuffle=True,\n",
    "                validation_data=(x_test, x_test))"
   ]
  },
  {
   "cell_type": "code",
   "execution_count": 13,
   "metadata": {},
   "outputs": [],
   "source": [
    "decoded_imgs = autoencoder.predict(x_test)"
   ]
  },
  {
   "cell_type": "code",
   "execution_count": 14,
   "metadata": {
    "collapsed": true,
    "jupyter": {
     "outputs_hidden": true
    }
   },
   "outputs": [
    {
     "data": {
      "image/png": "[encoded data removed]",
      "text/plain": [
       "<Figure size 1440x288 with 20 Axes>"
      ]
     },
     "metadata": {
      "image/png": {
       "height": 227,
       "width": 1130
      },
      "needs_background": "light"
     },
     "output_type": "display_data"
    }
   ],
   "source": [
    "import matplotlib.pyplot as plt\n",
    "\n",
    "n = 10  # how many digits we will display\n",
    "plt.figure(figsize=(20, 4))\n",
    "for i in range(n):\n",
    "    # display original\n",
    "    ax = plt.subplot(2, n, i + 1)\n",
    "    loc = i + 20\n",
    "    plt.imshow(x_test[loc].reshape(28, 28))\n",
    "    plt.gray()\n",
    "    ax.get_xaxis().set_visible(False)\n",
    "    ax.get_yaxis().set_visible(False)\n",
    "\n",
    "    # display reconstruction\n",
    "    ax = plt.subplot(2, n, i + 1 + n)\n",
    "    plt.imshow(decoded_imgs[loc].reshape(28, 28))\n",
    "    plt.gray()\n",
    "    ax.get_xaxis().set_visible(False)\n",
    "    ax.get_yaxis().set_visible(False)\n",
    "plt.show()"
   ]
  },
  {
   "cell_type": "code",
   "execution_count": null,
   "metadata": {},
   "outputs": [],
   "source": []
  },
  {
   "cell_type": "code",
   "execution_count": null,
   "metadata": {},
   "outputs": [],
   "source": []
  },
  {
   "cell_type": "code",
   "execution_count": null,
   "metadata": {},
   "outputs": [],
   "source": []
  },
  {
   "cell_type": "code",
   "execution_count": 1,
   "metadata": {},
   "outputs": [],
   "source": [
    "# 用类封装形式"
   ]
  },
  {
   "cell_type": "code",
   "execution_count": 2,
   "metadata": {},
   "outputs": [],
   "source": [
    "dim = 256\n",
    "w,h = 28,28\n",
    "\n",
    "class Encoder(tf.keras.Model):\n",
    "    def __init__(self, w, h):\n",
    "        super().__init__()\n",
    "        global dim\n",
    "        \n",
    "        self.fc1 = Dense(dim, activation='relu', input_shape=(w*h,) )\n",
    "#                          activity_regularizer=regularizers.l1(10e-5), # 在encoder上添加L1稀疏约束，可以对比添加与不添加的区别\n",
    "                         \n",
    "        self.fc2 = Dense(dim/2, activation='relu')\n",
    "        self.fc3 = Dense(dim/4, activation='relu')\n",
    "    def call(self,x):\n",
    "        x = self.fc1(x)\n",
    "        x = self.fc2(x)\n",
    "        x = self.fc3(x)\n",
    "        return x\n",
    "\n",
    "class Decoder(tf.keras.Model):\n",
    "    def __init__(self, w, h):\n",
    "        super().__init__()\n",
    "        global dim\n",
    "        Out_dim = w*h\n",
    "\n",
    "        self.fc1 = Dense(dim/2, activation='relu', input_shape=(dim,) )\n",
    "#                          activity_regularizer=regularizers.l1(10e-5), # 在encoder上添加L1稀疏约束，可以对比添加与不添加的区别\n",
    "        self.fc2 = Dense(dim, activation='relu')\n",
    "        self.fc3 = Dense(Out_dim, activation='sigmoid')\n",
    "        \n",
    "    def call(self,x):\n",
    "        x = self.fc1(x)\n",
    "        x = self.fc2(x)\n",
    "        x = self.fc3(x)\n",
    "        return x"
   ]
  },
  {
   "cell_type": "code",
   "execution_count": 3,
   "metadata": {},
   "outputs": [
    {
     "name": "stdout",
     "output_type": "stream",
     "text": [
      "Model: \"encoder\"\n",
      "_________________________________________________________________\n",
      "Layer (type)                 Output Shape              Param #   \n",
      "=================================================================\n",
      "dense (Dense)                (None, 256)               200960    \n",
      "_________________________________________________________________\n",
      "dense_1 (Dense)              (None, 128)               32896     \n",
      "_________________________________________________________________\n",
      "dense_2 (Dense)              (None, 64)                8256      \n",
      "=================================================================\n",
      "Total params: 242,112\n",
      "Trainable params: 242,112\n",
      "Non-trainable params: 0\n",
      "_________________________________________________________________\n",
      "Model: \"decoder\"\n",
      "_________________________________________________________________\n",
      "Layer (type)                 Output Shape              Param #   \n",
      "=================================================================\n",
      "dense_3 (Dense)              (None, 128)               8320      \n",
      "_________________________________________________________________\n",
      "dense_4 (Dense)              (None, 256)               33024     \n",
      "_________________________________________________________________\n",
      "dense_5 (Dense)              (None, 784)               201488    \n",
      "=================================================================\n",
      "Total params: 242,832\n",
      "Trainable params: 242,832\n",
      "Non-trainable params: 0\n",
      "_________________________________________________________________\n",
      "Model: \"model\"\n",
      "_________________________________________________________________\n",
      "Layer (type)                 Output Shape              Param #   \n",
      "=================================================================\n",
      "input_1 (InputLayer)         [(None, 784)]             0         \n",
      "_________________________________________________________________\n",
      "encoder (Encoder)            (None, 64)                242112    \n",
      "_________________________________________________________________\n",
      "decoder (Decoder)            (None, 784)               242832    \n",
      "=================================================================\n",
      "Total params: 484,944\n",
      "Trainable params: 484,944\n",
      "Non-trainable params: 0\n",
      "_________________________________________________________________\n"
     ]
    }
   ],
   "source": [
    "\n",
    "input_img = Input(shape=(w*h),)\n",
    "encoder = Encoder(w,h)\n",
    "encoded = encoder(input_img)\n",
    "decoder = Decoder(w,h)\n",
    "decoded = decoder(encoded)\n",
    "\n",
    "autoencoder = Model(input_img, decoded)\n",
    "autoencoder(input_img)\n",
    "\n",
    "encoder.summary()\n",
    "decoder.summary()\n",
    "autoencoder.summary()"
   ]
  },
  {
   "cell_type": "code",
   "execution_count": 4,
   "metadata": {},
   "outputs": [
    {
     "name": "stdout",
     "output_type": "stream",
     "text": [
      "Train on 60000 samples, validate on 10000 samples\n",
      "Epoch 1/10\n",
      "60000/60000 [==============================] - 2s 33us/sample - loss: 0.2232 - val_loss: 0.1437\n",
      "Epoch 2/10\n",
      "60000/60000 [==============================] - 1s 18us/sample - loss: 0.1272 - val_loss: 0.1136\n",
      "Epoch 3/10\n",
      "60000/60000 [==============================] - 1s 18us/sample - loss: 0.1092 - val_loss: 0.1036\n",
      "Epoch 4/10\n",
      "60000/60000 [==============================] - 1s 18us/sample - loss: 0.1014 - val_loss: 0.0973\n",
      "Epoch 5/10\n",
      "60000/60000 [==============================] - 1s 18us/sample - loss: 0.0969 - val_loss: 0.0942\n",
      "Epoch 6/10\n",
      "60000/60000 [==============================] - 1s 18us/sample - loss: 0.0937 - val_loss: 0.0916\n",
      "Epoch 7/10\n",
      "60000/60000 [==============================] - 1s 18us/sample - loss: 0.0910 - val_loss: 0.0896\n",
      "Epoch 8/10\n",
      "60000/60000 [==============================] - 1s 18us/sample - loss: 0.0889 - val_loss: 0.0874\n",
      "Epoch 9/10\n",
      "60000/60000 [==============================] - 1s 19us/sample - loss: 0.0873 - val_loss: 0.0857\n",
      "Epoch 10/10\n",
      "60000/60000 [==============================] - 1s 19us/sample - loss: 0.0859 - val_loss: 0.0848\n"
     ]
    },
    {
     "data": {
      "text/plain": [
       "<tensorflow.python.keras.callbacks.History at 0x24927e10c08>"
      ]
     },
     "execution_count": 4,
     "metadata": {},
     "output_type": "execute_result"
    }
   ],
   "source": [
    "autoencoder.compile(optimizer=tf.keras.optimizers.Adam(), loss='binary_crossentropy')\n",
    "\n",
    "autoencoder.fit(x_train, x_train,\n",
    "                epochs=10,\n",
    "                batch_size=256,\n",
    "                shuffle=True,\n",
    "                validation_data=(x_test, x_test))"
   ]
  },
  {
   "cell_type": "code",
   "execution_count": 5,
   "metadata": {},
   "outputs": [],
   "source": [
    "decoded_imgs = autoencoder.predict(x_test)"
   ]
  },
  {
   "cell_type": "code",
   "execution_count": 6,
   "metadata": {},
   "outputs": [
    {
     "data": {
      "image/png": "[encoded data removed]",
      "text/plain": [
       "<Figure size 1440x288 with 20 Axes>"
      ]
     },
     "metadata": {
      "image/png": {
       "height": 227,
       "width": 1130
      },
      "needs_background": "light"
     },
     "output_type": "display_data"
    }
   ],
   "source": [
    "import matplotlib.pyplot as plt\n",
    "\n",
    "n = 10  # how many digits we will display\n",
    "plt.figure(figsize=(20, 4))\n",
    "for i in range(n):\n",
    "    # display original\n",
    "    ax = plt.subplot(2, n, i + 1)\n",
    "    loc = i + 20\n",
    "    plt.imshow(x_test[loc].reshape(28, 28))\n",
    "    plt.gray()\n",
    "    ax.get_xaxis().set_visible(False)\n",
    "    ax.get_yaxis().set_visible(False)\n",
    "\n",
    "    # display reconstruction\n",
    "    ax = plt.subplot(2, n, i + 1 + n)\n",
    "    plt.imshow(decoded_imgs[loc].reshape(28, 28))\n",
    "    plt.gray()\n",
    "    ax.get_xaxis().set_visible(False)\n",
    "    ax.get_yaxis().set_visible(False)\n",
    "plt.show()"
   ]
  },
  {
   "cell_type": "code",
   "execution_count": 18,
   "metadata": {},
   "outputs": [],
   "source": [
    "# encode and decode some digits\n",
    "# note that we take them from the *test* set\n",
    "encoded_imgs = encoder.predict(x_test)\n",
    "decoded_imgs = decoder(encoded_imgs).numpy()"
   ]
  },
  {
   "cell_type": "code",
   "execution_count": 15,
   "metadata": {},
   "outputs": [
    {
     "data": {
      "text/latex": [
       "$\\displaystyle \\left( 10000, \\  64\\right)$"
      ],
      "text/plain": [
       "(10000, 64)"
      ]
     },
     "execution_count": 15,
     "metadata": {},
     "output_type": "execute_result"
    }
   ],
   "source": [
    "encoded_imgs.shape"
   ]
  },
  {
   "cell_type": "code",
   "execution_count": null,
   "metadata": {},
   "outputs": [],
   "source": [
    "# We can also have a look at the 64-dimensional encoded representations. \n",
    "# These representations are 8x4x4, so we reshape them to 4x16 in order to be able to display them as grayscale images."
   ]
  },
  {
   "cell_type": "code",
   "execution_count": 16,
   "metadata": {},
   "outputs": [
    {
     "data": {
      "image/png": "[encoded data removed]",
      "text/plain": [
       "<Figure size 1440x576 with 10 Axes>"
      ]
     },
     "metadata": {
      "image/png": {
       "height": 212,
       "width": 1085
      },
      "needs_background": "light"
     },
     "output_type": "display_data"
    }
   ],
   "source": [
    "n = 10\n",
    "plt.figure(figsize=(20, 8))\n",
    "for i in range(n):\n",
    "    ax = plt.subplot(2, n, i+1)\n",
    "    plt.imshow(encoded_imgs[i].reshape(4, 4 * 4).T)\n",
    "    plt.gray()\n",
    "    ax.get_xaxis().set_visible(False)\n",
    "    ax.get_yaxis().set_visible(False)\n",
    "plt.show()"
   ]
  },
  {
   "cell_type": "code",
   "execution_count": null,
   "metadata": {},
   "outputs": [],
   "source": []
  }
 ],
 "metadata": {
  "kernelspec": {
   "display_name": "Python [conda env:tf2]",
   "language": "python",
   "name": "conda-env-tf2-py"
  },
  "language_info": {
   "codemirror_mode": {
    "name": "ipython",
    "version": 3
   },
   "file_extension": ".py",
   "mimetype": "text/x-python",
   "name": "python",
   "nbconvert_exporter": "python",
   "pygments_lexer": "ipython3",
   "version": "3.7.4"
  },
  "toc": {
   "base_numbering": 1,
   "nav_menu": {},
   "number_sections": true,
   "sideBar": true,
   "skip_h1_title": false,
   "title_cell": "Table of Contents",
   "title_sidebar": "Contents",
   "toc_cell": false,
   "toc_position": {},
   "toc_section_display": true,
   "toc_window_display": false
  },
  "varInspector": {
   "cols": {
    "lenName": 16,
    "lenType": 16,
    "lenVar": 40
   },
   "kernels_config": {
    "python": {
     "delete_cmd_postfix": "",
     "delete_cmd_prefix": "del ",
     "library": "var_list.py",
     "varRefreshCmd": "print(var_dic_list())"
    },
    "r": {
     "delete_cmd_postfix": ") ",
     "delete_cmd_prefix": "rm(",
     "library": "var_list.r",
     "varRefreshCmd": "cat(var_dic_list()) "
    }
   },
   "types_to_exclude": [
    "module",
    "function",
    "builtin_function_or_method",
    "instance",
    "_Feature"
   ],
   "window_display": false
  }
 },
 "nbformat": 4,
 "nbformat_minor": 4
}
