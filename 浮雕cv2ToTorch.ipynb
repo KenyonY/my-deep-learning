{
 "cells": [
  {
   "cell_type": "code",
   "execution_count": 383,
   "metadata": {},
   "outputs": [],
   "source": [
    "import numpy as np\n",
    "import cv2\n",
    "import torch\n",
    "import kornia\n",
    "import time\n",
    "\n",
    "# device = torch.device(\"cpu\")\n",
    "# device\n",
    "# 直接设置默认tensor_type为 cuda\n",
    "torch.set_default_tensor_type('torch.cuda.FloatTensor')\n",
    "# torch.set_default_tensor_type('torch.FloatTensor')"
   ]
  },
  {
   "cell_type": "markdown",
   "metadata": {},
   "source": [
    "# 浮雕 emboss"
   ]
  },
  {
   "cell_type": "code",
   "execution_count": 395,
   "metadata": {},
   "outputs": [],
   "source": [
    "# device = torch.device(\"cuda:0\" if torch.cuda.is_available() else \"cpu\")\n",
    "def _emboss(img, intensity = 0.6):\n",
    "    '''input: \n",
    "        img: 3D BGRA tensor (H, W, channel) dtype:torch.float32,range: 0.~255.  (暂未更改成：shape:(batch, channel, H, W))\n",
    "        The intensity of emboss\n",
    "        \n",
    "        output: (H,W,channel) BGRA tensor, range 0.~1.\n",
    "    '''\n",
    "    h,w,_ = img.shape\n",
    "    img = img # Normalize\n",
    "    b,g,r,a = img.split(1, 2)\n",
    "    img = torch.cat((r,g,b),2)\n",
    "#     t0 = time.time() # ---------------------------\n",
    "#     print(img.shape)\n",
    "    img = img.cpu().numpy().astype('uint8')\n",
    "    HSV = cv2.cvtColor(img,cv2.COLOR_RGB2HSV)\n",
    "    HSV = torch.tensor(HSV)\n",
    "    HSV = HSV[None,...].permute(0,3,1,2)\n",
    "#     HSV=kornia.color.rgb_to_hsv(img[None,...].permute(0,3,1,2))\n",
    "#     t1 = time.time()# ---------------------------\n",
    "#     delta_t = 1e3*(t1-t0)\n",
    "#     print(f'rgb_to_hsv time: {delta_t}')\n",
    "    H,S,V = HSV.split(1,1)\n",
    "\n",
    "    # Apply the convolution kernel to channel L： \n",
    "    p, q, s,t = 0.,0., intensity ,0.  \n",
    "    # p,q,s control the intensity of the relief in three directions\n",
    "    # The value of matrix center controls the overall brightness, here sets 1.0\n",
    "    kernel = np.array([[-q, -s,  t],\n",
    "                       [-p, 1.0, p],\n",
    "                       [-t,  s,  q]], dtype=np.float32)\n",
    "    \n",
    "    kernel = torch.tensor(kernel,dtype=torch.float32)\n",
    "    kernel = kernel[None,None,...]\n",
    "#     t0 = time.time()# ---------------------------\n",
    "    V = V.type(torch.float32)\n",
    "    V = torch.conv2d(V, kernel, padding=1)\n",
    "    V = torch.clamp(V,0,255)\n",
    "    V = V.type(torch.uint8)\n",
    "#     t1 = time.time()# ---------------------------\n",
    "#     delta_t = 1e3*(t1-t0)\n",
    "#     print(f'conv2d time: {delta_t}')\n",
    "    \n",
    "    # Merge each channel\n",
    "#     HSV = torch.cat((H,S,V),1)\n",
    "    HSV = torch.cat((H,S,V),1)\n",
    "#     t0 = time.time()# ---------------------------\n",
    "    HSV = HSV[-1,...].permute(1,2,0).cpu().numpy()\n",
    "#     print(HSV.dtype,HSV.shape)\n",
    "    RGB = cv2.cvtColor(HSV,cv2.COLOR_HSV2RGB)\n",
    "    RGB = torch.tensor(RGB)\n",
    "    RGB = RGB[None,...].permute(0,3,1,2)\n",
    "\n",
    "#     t1 = time.time()# ---------------------------\n",
    "#     delta_t = 1e3*(t1-t0)\n",
    "#     print(f'hsv_to_rgb time: {delta_t}')\n",
    "    RGB = RGB[-1,...].permute(1,2,0)\n",
    "    \n",
    "    # The following is to keep the output in BGRA format ,may reduce efficiency\n",
    "    BGR = RGB\n",
    "    BGR[:,:,[0,2]] = RGB[:,:,[2,0]]\n",
    "\n",
    "    return torch.cat((BGR,a),2)"
   ]
  },
  {
   "cell_type": "code",
   "execution_count": 396,
   "metadata": {},
   "outputs": [
    {
     "name": "stdout",
     "output_type": "stream",
     "text": [
      "image1.shape:torch.Size([910, 1000, 4])\n"
     ]
    }
   ],
   "source": [
    "image1 = cv2.imread('gongfuxiongmao.png',cv2.IMREAD_UNCHANGED)\n",
    "# image1 = cv2.cvtColor(image1, cv2.COLOR_BGR2BGRA)\n",
    "image1 = torch.tensor(image1,dtype=torch.uint8)\n",
    "\n",
    "print(f'image1.shape:{image1.shape}')"
   ]
  },
  {
   "cell_type": "code",
   "execution_count": 408,
   "metadata": {},
   "outputs": [],
   "source": [
    "torch.set_default_tensor_type('torch.cuda.FloatTensor')\n",
    "# torch.set_default_tensor_type('torch.FloatTensor')\n",
    "image1 = cv2.imread('gongfuxiongmao.png',cv2.IMREAD_UNCHANGED)\n",
    "image1 = torch.tensor(image1,dtype=torch.uint8)"
   ]
  },
  {
   "cell_type": "code",
   "execution_count": 398,
   "metadata": {},
   "outputs": [
    {
     "name": "stdout",
     "output_type": "stream",
     "text": [
      "13.1 ms ± 295 µs per loop (mean ± std. dev. of 7 runs, 100 loops each)\n"
     ]
    }
   ],
   "source": [
    "%%timeit\n",
    "res = _emboss(image1,intensity=1)"
   ]
  },
  {
   "cell_type": "markdown",
   "metadata": {},
   "source": [
    "gpu上要比cpu上快10倍."
   ]
  },
  {
   "cell_type": "code",
   "execution_count": 411,
   "metadata": {},
   "outputs": [],
   "source": [
    "image3 = _emboss(image1,intensity=1.5)\n",
    "# plt.figure(figsize=(10,10))\n",
    "# plt.imshow(image3.cpu());plt.show()\n",
    "\n",
    "cv2.imshow('',image3.cpu().numpy())\n",
    "cv2.waitKey(0)\n",
    "cv2.destroyAllWindows()"
   ]
  },
  {
   "cell_type": "code",
   "execution_count": 298,
   "metadata": {},
   "outputs": [
    {
     "data": {
      "text/plain": [
       "torch.Size([910, 1000, 4])"
      ]
     },
     "execution_count": 298,
     "metadata": {},
     "output_type": "execute_result"
    }
   ],
   "source": [
    "image3.shape"
   ]
  },
  {
   "cell_type": "code",
   "execution_count": 378,
   "metadata": {},
   "outputs": [],
   "source": [
    "def cv_emboss(img, intensity = 0.6):\n",
    "    '''input: \n",
    "        img: 4D BGRA\n",
    "        The intensity of emboss\n",
    "    '''\n",
    "    import numpy as np\n",
    "    _,_,_,a = cv2.split(img)\n",
    "\n",
    "    img = cv2.cvtColor(img,cv2.COLOR_BGRA2RGB)\n",
    "    t0 = time.time()\n",
    "    (H,L,S) = cv2.split(cv2.cvtColor(img,cv2.COLOR_RGB2HLS))\n",
    "    t1 = time.time()\n",
    "    delta_t = 1e3*(t1-t0)\n",
    "    print(f'rgb_to_hsv time: {delta_t}')\n",
    "    # Normalisation：For HSV, Hue range is [0,179], Saturation range is [0,255] and Value range is [0,255].\n",
    "    H,L,S = H/179., L/255., S/255.\n",
    "#     H,L,S = H, L, S\n",
    "    # Apply the convolution kernel to channel L： \n",
    "    p, q, s,t = 0.,0., intensity ,0.  \n",
    "    # p,q,s control the intensity of the relief in three directions\n",
    "    # The value of matrix center controls the overall brightness, here sets 1.0\n",
    "    kernel = np.array([[-q, -s,  t],\n",
    "                       [-p, 1.0, p],\n",
    "                       [-t,  s,  q]], dtype=np.float32)\n",
    "    t0 = time.time()\n",
    "    L = cv2.filter2D(L, -1, kernel)\n",
    "    t1 = time.time()\n",
    "    delta_t = 1e3*(t1-t0)\n",
    "    print(f'fileter2D time: {delta_t}')\n",
    "    t0 = time.time()\n",
    "    L = np.clip(L,0,1)\n",
    "    H,L,S = H*179., L*255., S*255.\n",
    "    t1 = time.time()\n",
    "    delta_t = 1e3*(t1-t0)\n",
    "    print(f'clip time + /255:{delta_t}')\n",
    "    H,L,S = H.astype('uint8'),L.astype('uint8'),S.astype('uint8')\n",
    "    #-------------------------------------------------------------------\n",
    "    # If in the previous step makes the brightness too large, please re-limit the brightness here\n",
    "    # H,L,S = H, Gamma_trans(L, 255, 1.2), Gamma_trans(S, 255, 1) \n",
    "    # H,L,S = H, MaxMinNormal(L, 1, 150), MaxMinNormal(S, 0,255)\n",
    "    #-------------------------------------------------------------------\n",
    "    # Merge each channel\n",
    "    t0 = time.time()\n",
    "    res = cv2.merge((H,L,S))\n",
    "    res = cv2.cvtColor(res, cv2.COLOR_HLS2RGB)\n",
    "    res = cv2.cvtColor(res, cv2.COLOR_RGB2BGRA)\n",
    "\n",
    "    res[:,:,-1] = a\n",
    "    t1 = time.time()\n",
    "    delta_t = 1e3*(t1-t0)\n",
    "    print(f'hsv_to_rgb time: {delta_t}')\n",
    "    return res"
   ]
  },
  {
   "cell_type": "code",
   "execution_count": 405,
   "metadata": {},
   "outputs": [
    {
     "name": "stdout",
     "output_type": "stream",
     "text": [
      "rgb_to_hsv time: 2.9914379119873047\n",
      "fileter2D time: 4.98652458190918\n",
      "clip time + /255:15.955924987792969\n",
      "hsv_to_rgb time: 4.98652458190918\n",
      "Wall time: 54.8 ms\n"
     ]
    }
   ],
   "source": [
    "image1 = cv2.imread('gongfuxiongmao.png',cv2.IMREAD_UNCHANGED)\n",
    "%time res = cv_emboss(image1, 2.5)"
   ]
  },
  {
   "cell_type": "code",
   "execution_count": 406,
   "metadata": {},
   "outputs": [],
   "source": [
    "\n",
    "cv2.imshow('',res)\n",
    "cv2.waitKey(0)\n",
    "cv2.destroyAllWindows()"
   ]
  },
  {
   "cell_type": "code",
   "execution_count": null,
   "metadata": {},
   "outputs": [],
   "source": []
  }
 ],
 "metadata": {
  "kernelspec": {
   "display_name": "Python [conda env:torch1]",
   "language": "python",
   "name": "conda-env-torch1-py"
  },
  "language_info": {
   "codemirror_mode": {
    "name": "ipython",
    "version": 3
   },
   "file_extension": ".py",
   "mimetype": "text/x-python",
   "name": "python",
   "nbconvert_exporter": "python",
   "pygments_lexer": "ipython3",
   "version": "3.7.4"
  }
 },
 "nbformat": 4,
 "nbformat_minor": 4
}
